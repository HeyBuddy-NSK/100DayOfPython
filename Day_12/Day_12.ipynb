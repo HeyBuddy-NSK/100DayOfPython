{
 "cells": [
  {
   "cell_type": "markdown",
   "id": "8a767f90",
   "metadata": {},
   "source": [
    "# Day 12 (PyPDF and PILLOW)\n",
    "\n",
    "### Practicing python from basics"
   ]
  },
  {
   "cell_type": "markdown",
   "id": "e47d47c3",
   "metadata": {},
   "source": [
    "### Extracting metadata of a pdf"
   ]
  },
  {
   "cell_type": "code",
   "execution_count": 6,
   "id": "4e55e47b",
   "metadata": {},
   "outputs": [
    {
     "name": "stdout",
     "output_type": "stream",
     "text": [
      "5\n",
      "None\n",
      "LaTeX with hyperref\n",
      "MiKTeX-dvipdfmx (20231124)\n",
      "None\n",
      "None\n"
     ]
    }
   ],
   "source": [
    "# importing the module\n",
    "from pypdf import PdfReader\n",
    "\n",
    "# creating the reader object to read pdf\n",
    "reader = PdfReader(\"input/Day_9.pdf\")\n",
    "\n",
    "# reading metadata from pdf\n",
    "meta = reader.metadata\n",
    "\n",
    "# printing number of pages from pdf\n",
    "print(len(reader.pages))\n",
    "\n",
    "# printing the metadata\n",
    "# sometimes this data is not available so it can print None.\n",
    "print(meta.author)\n",
    "print(meta.creator)\n",
    "print(meta.producer)\n",
    "print(meta.subject)\n",
    "print(meta.title)"
   ]
  },
  {
   "cell_type": "markdown",
   "id": "4210cd9f",
   "metadata": {},
   "source": [
    "### Reducing PDF size (By reducing image size in page)"
   ]
  },
  {
   "cell_type": "code",
   "execution_count": 20,
   "id": "f7f507ad",
   "metadata": {},
   "outputs": [
    {
     "name": "stdout",
     "output_type": "stream",
     "text": [
      "Filesize before compression is :: 2.055771 bytes\n"
     ]
    }
   ],
   "source": [
    "# importing os module\n",
    "import os\n",
    "\n",
    "filesize = os.path.getsize(\"input/day_9_1.pdf\")\n",
    "print(f\"Filesize before compression is :: {filesize/1000000} bytes\")"
   ]
  },
  {
   "cell_type": "code",
   "execution_count": 15,
   "id": "3ce6306e",
   "metadata": {},
   "outputs": [
    {
     "name": "stdout",
     "output_type": "stream",
     "text": [
      " Reducing file size\n",
      "File Size reduced\n"
     ]
    }
   ],
   "source": [
    "from pypdf import PdfReader, PdfWriter\n",
    "\n",
    "reader = PdfReader(\"input/Day_9_1.pdf\")\n",
    "writer = PdfWriter()\n",
    "\n",
    "for page in reader.pages:\n",
    "    writer.add_page(page)\n",
    "\n",
    "for page in writer.pages:\n",
    "    for img in page.images:\n",
    "        img.replace(img.image, quality=25)\n",
    "    print(\"\\r Reducing file size\",end='')\n",
    "\n",
    "print(\"\\nFile Size reduced\")\n",
    "with open(\"output/after_reduce.pdf\", \"wb\") as f:\n",
    "    writer.write(f)"
   ]
  },
  {
   "cell_type": "code",
   "execution_count": 19,
   "id": "3a6c6144",
   "metadata": {},
   "outputs": [
    {
     "name": "stdout",
     "output_type": "stream",
     "text": [
      "Filesize after compression/ reducing is :: 1.589743 Mb\n"
     ]
    }
   ],
   "source": [
    "filesize = os.path.getsize(\"output/after_reduce.pdf\")\n",
    "print(f\"Filesize after compression/ reducing is :: {filesize/1000000} Mb\")"
   ]
  },
  {
   "cell_type": "markdown",
   "id": "16f93ddb",
   "metadata": {},
   "source": [
    "### Encrypting a PDF (or Adding a password to open the pdf)"
   ]
  },
  {
   "cell_type": "code",
   "execution_count": 1,
   "id": "88cb3bc2",
   "metadata": {},
   "outputs": [
    {
     "name": "stdout",
     "output_type": "stream",
     "text": [
      "PDF Encrypted successfully\n"
     ]
    }
   ],
   "source": [
    "# importing a module\n",
    "from pypdf import PdfReader, PdfWriter\n",
    "\n",
    "reader = PdfReader(\"input/image-pdf-sample.pdf\")\n",
    "writer = PdfWriter(clone_from=reader)\n",
    "\n",
    "# Adding a password to the new PDF using Secure algorithm\n",
    "writer.encrypt(\"welcome@pypdf\", algorithm=\"AES-256\")\n",
    "\n",
    "# Saving the new PDF to a file\n",
    "with open(\"output/encrypted-pdf.pdf\", \"wb\") as f:\n",
    "    writer.write(f)\n",
    "    \n",
    "print(\"PDF Encrypted successfully\")"
   ]
  },
  {
   "cell_type": "markdown",
   "id": "745a31e3",
   "metadata": {},
   "source": [
    "### Decrypting the pdf (or Removing the password)"
   ]
  },
  {
   "cell_type": "code",
   "execution_count": 3,
   "id": "28c1563f",
   "metadata": {},
   "outputs": [
    {
     "name": "stdout",
     "output_type": "stream",
     "text": [
      "PDf Decrypted successfully\n"
     ]
    }
   ],
   "source": [
    "# importing modules\n",
    "from pypdf import PdfReader, PdfWriter\n",
    "\n",
    "# creating reader object to read the pdf\n",
    "reader = PdfReader(\"output/encrypted-pdf.pdf\")\n",
    "\n",
    "# checking if the file is encrypted of not\n",
    "if reader.is_encrypted:\n",
    "    reader.decrypt(\"welcome@pypdf\")\n",
    "\n",
    "# Writing decrypted file to the writer object\n",
    "writer = PdfWriter(clone_from=reader)\n",
    "\n",
    "# Saving the new PDF to a file\n",
    "with open(\"output/decrypted-pdf.pdf\", \"wb\") as f:\n",
    "    writer.write(f)\n",
    "    \n",
    "# message\n",
    "print(\"PDf Decrypted successfully\")"
   ]
  },
  {
   "cell_type": "markdown",
   "id": "93d5356b",
   "metadata": {},
   "source": [
    "### Converting images to pdf"
   ]
  },
  {
   "cell_type": "code",
   "execution_count": 45,
   "id": "a829e73b",
   "metadata": {},
   "outputs": [
    {
     "name": "stdout",
     "output_type": "stream",
     "text": [
      "converting images to pdf in progress ........\n",
      "Conversion complete : file saved to output/img_to_pdf.pdf\n"
     ]
    }
   ],
   "source": [
    "# importing modules\n",
    "import os\n",
    "from PIL import Image\n",
    "\n",
    "# defining function to create pdf using images\n",
    "def image_to_pdf(img_folder, out_pdf):\n",
    "    \n",
    "    # creating image list\n",
    "    img_list = []\n",
    "    \n",
    "    # reading all images\n",
    "    for img_file in sorted(os.listdir(img_folder)):\n",
    "        \n",
    "        # checking file type for only images\n",
    "        if img_file.endswith(('.png', '.jpg', '.jpeg', '.gif', '.bmp')):\n",
    "            \n",
    "            # reading images using pillow\n",
    "            img = Image.open(os.path.join(img_folder, img_file))\n",
    "            \n",
    "            # appending all images to list\n",
    "            img_list.append(img)\n",
    "    \n",
    "    # getting any one image from list to save images\n",
    "    img1 = img_list.pop(0)\n",
    "    \n",
    "    # saving images as pdf\n",
    "    img1.save(out_pdf,save_all=True,append_images = img_list)\n",
    "        \n",
    "\n",
    "        \n",
    "## calling function\n",
    "print(\"converting images to pdf in progress ........\")\n",
    "img_folder_path = 'imgs'\n",
    "output_file = 'output/img_to_pdf.pdf'\n",
    "\n",
    "## calling\n",
    "image_to_pdf(img_folder_path,output_file)\n",
    "\n",
    "print(f\"Conversion complete : file saved to {output_file}\")"
   ]
  }
 ],
 "metadata": {
  "kernelspec": {
   "display_name": "Python 3 (ipykernel)",
   "language": "python",
   "name": "python3"
  },
  "language_info": {
   "codemirror_mode": {
    "name": "ipython",
    "version": 3
   },
   "file_extension": ".py",
   "mimetype": "text/x-python",
   "name": "python",
   "nbconvert_exporter": "python",
   "pygments_lexer": "ipython3",
   "version": "3.11.7"
  }
 },
 "nbformat": 4,
 "nbformat_minor": 5
}
