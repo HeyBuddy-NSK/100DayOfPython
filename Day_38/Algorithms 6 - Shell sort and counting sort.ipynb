{
 "cells": [
  {
   "cell_type": "markdown",
   "id": "d34db875",
   "metadata": {},
   "source": [
    "# Day 38\n",
    "**Practicing Python from Basics**"
   ]
  },
  {
   "cell_type": "markdown",
   "id": "3db61f94",
   "metadata": {},
   "source": [
    "# Shell sort\n",
    "\n",
    "Shell Sort is a better version of Insertion Sort that lets you swap elements that are far apart. The array is sorted in several steps using gaps that get smaller each time. In the last step, it uses a gap of 1, which turns it into an Insertion Sort.\n",
    "\n",
    "- **Complexity**: \n",
    "\n",
    "  - Best-case: O(n log n) depending on the gap sequence\n",
    "  \n",
    "  - Worst-case: O(n^2) (with poor gap sequence)\n",
    "  \n",
    "- **Best for**: Medium-sized datasets where a faster alternative to Insertion Sort is needed.\n",
    "\n",
    "- **Pros**: \n",
    "\n",
    "  - More efficient than Insertion Sort for medium-sized arrays.\n",
    "  \n",
    "  - Simple to implement.\n",
    "  \n",
    "- **Cons**: \n",
    "\n",
    "  - Complexity depends heavily on the gap sequence chosen.\n",
    "  \n",
    "  - Not stable (does not maintain the relative order of equal elements)."
   ]
  },
  {
   "cell_type": "markdown",
   "id": "2e6e3c78",
   "metadata": {},
   "source": [
    "**_for detailed explanation visit here : https://www.geeksforgeeks.org/shellsort/_**"
   ]
  },
  {
   "cell_type": "markdown",
   "id": "5b6be214",
   "metadata": {},
   "source": [
    "## Implementation"
   ]
  },
  {
   "cell_type": "code",
   "execution_count": 1,
   "id": "2d6ebb6a",
   "metadata": {},
   "outputs": [],
   "source": [
    "def shell_sort(arr):\n",
    "    n = len(arr)\n",
    "    gap = len(arr)//2\n",
    "    \n",
    "    while gap>0:\n",
    "        for i in range(gap,n):\n",
    "            temp = arr[i]\n",
    "            j = i\n",
    "            while j >= gap and arr[j-gap]>temp:\n",
    "                arr[j] = arr[j-gap]\n",
    "                j -= gap\n",
    "            arr[j] = temp\n",
    "        gap //= 2\n",
    "        \n",
    "    return arr"
   ]
  },
  {
   "cell_type": "markdown",
   "id": "fb2efc00",
   "metadata": {},
   "source": [
    "## Calling shell_sort() to sort example list"
   ]
  },
  {
   "cell_type": "code",
   "execution_count": 3,
   "id": "f263be73",
   "metadata": {},
   "outputs": [
    {
     "name": "stdout",
     "output_type": "stream",
     "text": [
      "Sorted list: [2, 3, 12, 34, 54]\n"
     ]
    }
   ],
   "source": [
    "ex_list = [12, 34, 54, 2, 3]\n",
    "sorted_list = shell_sort(ex_list)\n",
    "print(\"Sorted list:\", sorted_list)"
   ]
  },
  {
   "cell_type": "markdown",
   "id": "e42ed90b",
   "metadata": {},
   "source": [
    "## using `%%time` to check how much time it takes"
   ]
  },
  {
   "cell_type": "code",
   "execution_count": 4,
   "id": "e702fd50",
   "metadata": {},
   "outputs": [
    {
     "name": "stdout",
     "output_type": "stream",
     "text": [
      "sorted list : [1, 2, 3, 4, 5, 6, 7, 8, 9, 10, 11, 12, 13, 14, 15, 16, 17, 18, 19, 20, 21, 22, 23, 24, 25, 26, 27, 28, 29, 30, 31, 32, 33, 34, 35, 36, 37, 38, 39, 40, 41, 42, 43, 44, 45, 46, 47, 48, 49, 50, 51, 52, 53, 54, 55, 56, 57, 58, 59, 60, 61, 62, 63, 64, 65, 66, 67, 68, 69, 70, 71, 72, 73, 74, 75, 76, 77, 78, 79, 80, 81, 82, 83, 84, 85, 86, 87, 88, 89, 90, 91, 92, 93, 94, 95, 96, 97, 98, 99]\n",
      "CPU times: total: 0 ns\n",
      "Wall time: 1.07 ms\n"
     ]
    }
   ],
   "source": [
    "%%time \n",
    "ex_list = [\n",
    "    53, 29, 77, 12, 34, 85, 42, 66, 23, 90, 55, 31, 48, 62, 75, 3, 9, 21, 39, 78, \n",
    "    49, 14, 28, 44, 50, 70, 82, 94, 18, 24, 67, 81, 2, 35, 61, 47, 8, 91, 40, 72, \n",
    "    99, 19, 38, 51, 63, 76, 88, 5, 13, 30, 59, 79, 93, 7, 26, 41, 69, 80, 54, 1, \n",
    "    32, 56, 74, 86, 92, 16, 36, 46, 68, 84, 95, 6, 27, 45, 52, 60, 73, 87, 98, 10, \n",
    "    20, 33, 64, 71, 83, 96, 15, 25, 37, 43, 57, 65, 89, 97, 4, 17, 22, 11, 58\n",
    "]\n",
    "\n",
    "sorted_list = shell_sort(ex_list)\n",
    "print(F\"sorted list : {sorted_list}\")"
   ]
  },
  {
   "cell_type": "markdown",
   "id": "f4678d57",
   "metadata": {},
   "source": [
    "# Counting sort\n",
    "\n",
    "Counting Sort is a non-comparative integer sorting algorithm. It works by counting the number of objects that have distinct key values (kind of hashing). The counts are then used to place the elements in the correct position.\n",
    "\n",
    "- **Complexity**: \n",
    "\n",
    "  - Best, average, and worst-case: O(n + k), where `n` is the number of elements in the input array and `k` is the range of the input.\n",
    "  \n",
    "- **Best for**: Small range of integers.\n",
    "\n",
    "- **Pros**: \n",
    "\n",
    "  - Linear time complexity for small range of integers.\n",
    "  \n",
    "  - Stable (maintains the relative order of equal elements).\n",
    "  \n",
    "- **Cons**: \n",
    "\n",
    "  - Not suitable for large ranges of integers.\n",
    "  \n",
    "  - Requires extra space proportional to the range of the input.\n",
    "  \n"
   ]
  },
  {
   "cell_type": "markdown",
   "id": "c5343677",
   "metadata": {},
   "source": [
    "## Implementation"
   ]
  },
  {
   "cell_type": "code",
   "execution_count": 5,
   "id": "9c37af3f",
   "metadata": {},
   "outputs": [],
   "source": [
    "def counting_sort(arr):\n",
    "    max_val = max(arr)\n",
    "    m = max_val+1\n",
    "    count = [0]*m\n",
    "    \n",
    "    for a in arr:\n",
    "        count[a]+=1\n",
    "    i = 0\n",
    "    for a in range(m):\n",
    "        for c in range(count[a]):\n",
    "            arr[i] = a\n",
    "            i +=1\n",
    "    return arr"
   ]
  },
  {
   "cell_type": "markdown",
   "id": "2a4e8ce1",
   "metadata": {},
   "source": [
    "## Calling counting_sort to sort exampe list"
   ]
  },
  {
   "cell_type": "code",
   "execution_count": 6,
   "id": "7af2fb2a",
   "metadata": {},
   "outputs": [
    {
     "name": "stdout",
     "output_type": "stream",
     "text": [
      "Sorted list: [2, 3, 12, 34, 54]\n"
     ]
    }
   ],
   "source": [
    "ex_list = [12, 34, 54, 2, 3]\n",
    "sorted_list = counting_sort(ex_list)\n",
    "print(\"Sorted list:\", sorted_list)"
   ]
  },
  {
   "cell_type": "markdown",
   "id": "11174a50",
   "metadata": {},
   "source": [
    "## using %%time to check how much time it takes"
   ]
  },
  {
   "cell_type": "code",
   "execution_count": 7,
   "id": "d24d00c1",
   "metadata": {},
   "outputs": [
    {
     "name": "stdout",
     "output_type": "stream",
     "text": [
      "sorted list : [1, 2, 3, 4, 5, 6, 7, 8, 9, 10, 11, 12, 13, 14, 15, 16, 17, 18, 19, 20, 21, 22, 23, 24, 25, 26, 27, 28, 29, 30, 31, 32, 33, 34, 35, 36, 37, 38, 39, 40, 41, 42, 43, 44, 45, 46, 47, 48, 49, 50, 51, 52, 53, 54, 55, 56, 57, 58, 59, 60, 61, 62, 63, 64, 65, 66, 67, 68, 69, 70, 71, 72, 73, 74, 75, 76, 77, 78, 79, 80, 81, 82, 83, 84, 85, 86, 87, 88, 89, 90, 91, 92, 93, 94, 95, 96, 97, 98, 99]\n",
      "CPU times: total: 0 ns\n",
      "Wall time: 0 ns\n"
     ]
    }
   ],
   "source": [
    "%%time \n",
    "ex_list = [\n",
    "    53, 29, 77, 12, 34, 85, 42, 66, 23, 90, 55, 31, 48, 62, 75, 3, 9, 21, 39, 78, \n",
    "    49, 14, 28, 44, 50, 70, 82, 94, 18, 24, 67, 81, 2, 35, 61, 47, 8, 91, 40, 72, \n",
    "    99, 19, 38, 51, 63, 76, 88, 5, 13, 30, 59, 79, 93, 7, 26, 41, 69, 80, 54, 1, \n",
    "    32, 56, 74, 86, 92, 16, 36, 46, 68, 84, 95, 6, 27, 45, 52, 60, 73, 87, 98, 10, \n",
    "    20, 33, 64, 71, 83, 96, 15, 25, 37, 43, 57, 65, 89, 97, 4, 17, 22, 11, 58\n",
    "]\n",
    "\n",
    "sorted_list = counting_sort(ex_list)\n",
    "print(F\"sorted list : {sorted_list}\")"
   ]
  }
 ],
 "metadata": {
  "kernelspec": {
   "display_name": "Python 3 (ipykernel)",
   "language": "python",
   "name": "python3"
  },
  "language_info": {
   "codemirror_mode": {
    "name": "ipython",
    "version": 3
   },
   "file_extension": ".py",
   "mimetype": "text/x-python",
   "name": "python",
   "nbconvert_exporter": "python",
   "pygments_lexer": "ipython3",
   "version": "3.11.7"
  }
 },
 "nbformat": 4,
 "nbformat_minor": 5
}
