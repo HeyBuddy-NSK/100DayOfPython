{
 "cells": [
  {
   "cell_type": "markdown",
   "metadata": {},
   "source": [
    "# Day 7\n",
    "\n",
    "## Practicing Python from Basics"
   ]
  },
  {
   "cell_type": "markdown",
   "metadata": {},
   "source": [
    "### Exception Handling"
   ]
  },
  {
   "cell_type": "markdown",
   "metadata": {
    "vscode": {
     "languageId": "plaintext"
    }
   },
   "source": [
    "**Handling Exceptions with try-except Blocks:**\n",
    "\n",
    "1.  Write a Python program that prompts the user to enter two numbers, divides the first number by the second number, and handles the `ZeroDivisionError` exception.\n"
   ]
  },
  {
   "cell_type": "code",
   "execution_count": 4,
   "metadata": {},
   "outputs": [
    {
     "name": "stdout",
     "output_type": "stream",
     "text": [
      "Number can't be divide by zero.\n"
     ]
    }
   ],
   "source": [
    "num1 = eval(input(\"Enter number 1 :: \"))\n",
    "num2 = eval(input(\"Enter number 2 :: \"))\n",
    "\n",
    "try:\n",
    "    div = num1/num2\n",
    "    print(div)\n",
    "except ZeroDivisionError:\n",
    "    print(\"Number can't be divide by zero.\")"
   ]
  },
  {
   "cell_type": "markdown",
   "metadata": {},
   "source": [
    "2.  Write a Python program that asks the user to enter a number and calculates the square root of that number using the `math.sqrt()` function. Handle the `ValueError` exception that might occur if the user enters a negative number.\n"
   ]
  },
  {
   "cell_type": "code",
   "execution_count": 7,
   "metadata": {},
   "outputs": [
    {
     "name": "stdout",
     "output_type": "stream",
     "text": [
      "Please enter positive Number!.\n"
     ]
    }
   ],
   "source": [
    "import math\n",
    "num = eval(input(\"Enter a number :: \"))\n",
    "\n",
    "try:\n",
    "    sqrt = math.sqrt(num)\n",
    "    print(f\"Square root of given number :: {sqrt}\")\n",
    "\n",
    "except ValueError:\n",
    "    print(\"Please enter positive Number!.\")"
   ]
  },
  {
   "cell_type": "markdown",
   "metadata": {},
   "source": [
    "3.  Write a Python program that reads a list of numbers from a file (whose name is provided by the user), calculates the average, and handles any exceptions that might occur during the file reading or calculation process."
   ]
  },
  {
   "cell_type": "code",
   "execution_count": 21,
   "metadata": {},
   "outputs": [
    {
     "name": "stdout",
     "output_type": "stream",
     "text": [
      "Average :: 15.846153846153847\n"
     ]
    }
   ],
   "source": [
    "def calculate_avg(numbers):\n",
    "    try:\n",
    "        avg = sum(numbers) / len(numbers)\n",
    "        return avg\n",
    "    except ZeroDivisionError:\n",
    "        return \"Can not calculate average of an empty list.\"\n",
    "    except Exception as e:\n",
    "        return f\"Error : {e}\"\n",
    "    \n",
    "if __name__ == \"__main__\":\n",
    "    file_name = input(\"Enter a file name containing numbers :: \")\n",
    "\n",
    "    try:\n",
    "        with open(file_name,'r') as num_file:\n",
    "            numbers = [eval(line.strip()) for line in num_file.readlines()]\n",
    "            average = calculate_avg(numbers)\n",
    "            print(f\"Average :: {average}\")\n",
    "\n",
    "    except FileNotFoundError:\n",
    "        print(f\"Error : file {file_name} not found\")\n",
    "    \n",
    "    except ValueError:\n",
    "        print(f\"File contains invalid Data. Please provide file name containing numbers.\")\n",
    "    \n",
    "    except Exception as e:\n",
    "        print(f\"Unexpected error occured :: {e}\")"
   ]
  },
  {
   "cell_type": "markdown",
   "metadata": {},
   "source": [
    "**Handling Specific Exceptions:**\n",
    "\n",
    "4.  Write a Python program that prompts the user to enter a file name and then attempts to open the file for reading. Handle the `FileNotFoundError` exception with a custom error message."
   ]
  },
  {
   "cell_type": "code",
   "execution_count": 22,
   "metadata": {},
   "outputs": [
    {
     "name": "stdout",
     "output_type": "stream",
     "text": [
      "Please provide valid file name\n"
     ]
    }
   ],
   "source": [
    "new_file = input(\"Enter a file name :: \")\n",
    "\n",
    "try:\n",
    "    nfile = open(new_file,'r')\n",
    "    nfile.close()\n",
    "\n",
    "except FileNotFoundError:\n",
    "    print(\"Please provide valid file name\")"
   ]
  },
  {
   "cell_type": "markdown",
   "metadata": {},
   "source": [
    "5.  Write a Python program that asks the user to enter a string and converts it to an integer using the `int()` function. Handle the `ValueError` exception with a custom error message."
   ]
  },
  {
   "cell_type": "code",
   "execution_count": 25,
   "metadata": {},
   "outputs": [
    {
     "name": "stdout",
     "output_type": "stream",
     "text": [
      "Error : Cannot convert String value to integer.\n"
     ]
    }
   ],
   "source": [
    "st = input(\"Enter a string :: \")\n",
    "\n",
    "try:\n",
    "    # trying to convert string to int\n",
    "    int_st = int(st)\n",
    "    print(int_st)\n",
    "except ValueError:\n",
    "    print(\"Error : Cannot convert String value to integer.\")"
   ]
  },
  {
   "cell_type": "markdown",
   "metadata": {},
   "source": [
    "**Using finally Block:**\n",
    "\n",
    "6.  Write a Python program that prompts the user to enter a file name and then attempts to open the file for reading. Use a `finally` block to ensure that the file is closed regardless of whether an exception occurs."
   ]
  },
  {
   "cell_type": "code",
   "execution_count": 32,
   "metadata": {},
   "outputs": [
    {
     "name": "stdout",
     "output_type": "stream",
     "text": [
      "file closed!.\n"
     ]
    }
   ],
   "source": [
    "last_file = input(\"Enter a file name :: \")\n",
    "\n",
    "lfile = None\n",
    "\n",
    "try:\n",
    "    lfile = open(last_file,'r')\n",
    "    content = lfile.read()\n",
    "except FileNotFoundError:\n",
    "    print(\"Error : please enter valid file name.\")\n",
    "\n",
    "except Exception as e:\n",
    "    print(\"Error : An unexcepted error occured.\")\n",
    "finally:\n",
    "    if lfile is not None:\n",
    "        lfile.close()\n",
    "        print('file closed!.')\n"
   ]
  },
  {
   "cell_type": "markdown",
   "metadata": {},
   "source": [
    "7.  Write a Python program that asks the user to enter two numbers and divides the first number by the second number. Use a `finally` block to print a message indicating the end of the program."
   ]
  },
  {
   "cell_type": "code",
   "execution_count": 33,
   "metadata": {},
   "outputs": [
    {
     "name": "stdout",
     "output_type": "stream",
     "text": [
      "Division is :: 0.2857142857142857\n",
      "Program Complete.\n"
     ]
    }
   ],
   "source": [
    "n1 = eval(input(\"Enter number 1 :: \"))\n",
    "n2 = eval(input(\"Enter number 2 :: \"))\n",
    "\n",
    "try:\n",
    "    div = n1/n2\n",
    "    print(f\"Division is :: {div}\")\n",
    "\n",
    "except ZeroDivisionError:\n",
    "    print(\"Number can't be divide by zero.\")\n",
    "\n",
    "except ValueError:\n",
    "    print(\"Please enter valid numbers\")\n",
    "\n",
    "finally:\n",
    "    print(\"Program Complete.\")"
   ]
  }
 ],
 "metadata": {
  "kernelspec": {
   "display_name": "Python 3",
   "language": "python",
   "name": "python3"
  },
  "language_info": {
   "codemirror_mode": {
    "name": "ipython",
    "version": 3
   },
   "file_extension": ".py",
   "mimetype": "text/x-python",
   "name": "python",
   "nbconvert_exporter": "python",
   "pygments_lexer": "ipython3",
   "version": "3.10.3"
  }
 },
 "nbformat": 4,
 "nbformat_minor": 2
}
