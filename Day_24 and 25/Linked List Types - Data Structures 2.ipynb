{
 "cells": [
  {
   "cell_type": "markdown",
   "id": "ce231cfe",
   "metadata": {},
   "source": [
    "# Day 24 - Day 25\n",
    "\n",
    "**Practicing Python From Basics**"
   ]
  },
  {
   "cell_type": "markdown",
   "id": "5e5cdfa6",
   "metadata": {},
   "source": [
    "# Linked List"
   ]
  },
  {
   "cell_type": "markdown",
   "id": "2241a94a",
   "metadata": {},
   "source": [
    "## Types of Linked List\n",
    "\n",
    "1. Singly Linked List\n",
    "2. Doubly Linked List\n",
    "3. Circular Linked List\n",
    "4. Circular Doubly Linked List"
   ]
  },
  {
   "cell_type": "markdown",
   "id": "efb1b41b",
   "metadata": {},
   "source": [
    "## Singly Linked List"
   ]
  },
  {
   "cell_type": "markdown",
   "id": "7b7fd291",
   "metadata": {},
   "source": [
    "- Each node points to the next node.\n",
    "- The last node points to `None`."
   ]
  },
  {
   "cell_type": "markdown",
   "id": "f9c2c5e1",
   "metadata": {},
   "source": [
    "### Implementation"
   ]
  },
  {
   "cell_type": "code",
   "execution_count": 36,
   "id": "db11a49b",
   "metadata": {},
   "outputs": [],
   "source": [
    "# for creating nodes with data and link to next node\n",
    "class Node:\n",
    "    def __init__(self,data):\n",
    "        self.data = data\n",
    "        self.next = None\n",
    "        \n",
    "# singly linked list class\n",
    "class SinglyLinkedList:\n",
    "    def __init__(self):\n",
    "        self.head = None\n",
    "    \n",
    "    # for adding data at the end of list\n",
    "    def append(self,data):\n",
    "        new_node = Node(data)\n",
    "        if not self.head:\n",
    "            self.head = new_node\n",
    "            return\n",
    "        last_node = self.head\n",
    "        while last_node.next:\n",
    "            last_node = last_node.next\n",
    "            \n",
    "        last_node.next = new_node\n",
    "        return\n",
    "    \n",
    "    # for adding data/node at the start of the list\n",
    "    def add_at_start(self,data):\n",
    "        new_node = Node(data)\n",
    "        new_node.next = self.head\n",
    "        self.head = new_node\n",
    "    \n",
    "    # for deleting the node by value.\n",
    "    def delete_with_value(self,data):\n",
    "        msg = None\n",
    "        if not self.head:\n",
    "            return \"list is empty.\"\n",
    "        \n",
    "        if self.head.data == data:\n",
    "            self.head = self.head.next\n",
    "            return f\"Node With value {data} deleted successfully.\"\n",
    "        \n",
    "        current_node = self.head\n",
    "        prev_node = None\n",
    "        while current_node.next:\n",
    "            if current_node.data == data:\n",
    "                msg = f\"Node with value {data} Deleted successfully\"\n",
    "                break\n",
    "            prev_node = current_node\n",
    "            current_node = current_node.next\n",
    "            \n",
    "        if current_node is None:\n",
    "            return \"Data not found in list.\"\n",
    "        \n",
    "        prev_node.next = current_node.next\n",
    "        \n",
    "        # clearing temporary \n",
    "        current_node = None\n",
    "        \n",
    "        return msg\n",
    "    \n",
    "    # for printing list.\n",
    "    def print_list(self):\n",
    "        current_node = self.head\n",
    "        while current_node:\n",
    "            print(f\"{current_node.data}\",end=\"->\")\n",
    "            current_node = current_node.next\n",
    "        \n",
    "        print(\"None\")\n",
    "        \n",
    "    def search(self,data):\n",
    "        if self.head and self.head.data == data:\n",
    "            return \"Your data is in the head!.\"\n",
    "        count = 0\n",
    "        current_node = self.head\n",
    "        while current_node:\n",
    "            count = count+1\n",
    "            if current_node.data == data:\n",
    "                return f\"Your data is in the {count} node.\"\n",
    "            current_node = current_node.next\n",
    "            \n",
    "        return f\"Your data is not in the List.\"\n",
    "    \n",
    "    def get_lenght(self):\n",
    "        if self.head and self.head.next == None:\n",
    "            return 1\n",
    "        \n",
    "        current_node = self.head\n",
    "        length = 0\n",
    "        while current_node:\n",
    "            length += 1\n",
    "            current_node = current_node.next\n",
    "            \n",
    "        return length"
   ]
  },
  {
   "cell_type": "markdown",
   "id": "fd95afcb",
   "metadata": {},
   "source": [
    "### Creating object for list"
   ]
  },
  {
   "cell_type": "code",
   "execution_count": 38,
   "id": "654e9535",
   "metadata": {},
   "outputs": [],
   "source": [
    "sll = SinglyLinkedList()"
   ]
  },
  {
   "cell_type": "markdown",
   "id": "c7f0cbc0",
   "metadata": {},
   "source": [
    "### Adding data to the end of list"
   ]
  },
  {
   "cell_type": "code",
   "execution_count": 39,
   "id": "94375839",
   "metadata": {},
   "outputs": [],
   "source": [
    "sll.append(1)"
   ]
  },
  {
   "cell_type": "code",
   "execution_count": 40,
   "id": "9bd7e978",
   "metadata": {},
   "outputs": [],
   "source": [
    "sll.append(2)\n",
    "sll.append(3)\n",
    "sll.append(4)"
   ]
  },
  {
   "cell_type": "markdown",
   "id": "bf4c5a70",
   "metadata": {},
   "source": [
    "### Printing the list"
   ]
  },
  {
   "cell_type": "code",
   "execution_count": 41,
   "id": "7daa7126",
   "metadata": {},
   "outputs": [
    {
     "name": "stdout",
     "output_type": "stream",
     "text": [
      "1->2->3->4->None\n"
     ]
    }
   ],
   "source": [
    "sll.print_list()"
   ]
  },
  {
   "cell_type": "markdown",
   "id": "36ba686b",
   "metadata": {},
   "source": [
    "### Adding data to the start of the list"
   ]
  },
  {
   "cell_type": "code",
   "execution_count": 42,
   "id": "a5a112d5",
   "metadata": {},
   "outputs": [],
   "source": [
    "sll.add_at_start(0)\n",
    "sll.add_at_start(-1)\n",
    "sll.add_at_start(-2)\n",
    "sll.add_at_start(-3)\n",
    "sll.add_at_start(-4)"
   ]
  },
  {
   "cell_type": "markdown",
   "id": "20e306d0",
   "metadata": {},
   "source": [
    "### Printing the list"
   ]
  },
  {
   "cell_type": "code",
   "execution_count": 43,
   "id": "4a3545c4",
   "metadata": {},
   "outputs": [
    {
     "name": "stdout",
     "output_type": "stream",
     "text": [
      "-4->-3->-2->-1->0->1->2->3->4->None\n"
     ]
    }
   ],
   "source": [
    "sll.print_list()"
   ]
  },
  {
   "cell_type": "markdown",
   "id": "72418b9f",
   "metadata": {},
   "source": [
    "### Deleting from the list"
   ]
  },
  {
   "cell_type": "code",
   "execution_count": 44,
   "id": "3e61c32c",
   "metadata": {},
   "outputs": [
    {
     "name": "stdout",
     "output_type": "stream",
     "text": [
      "Node With value -4 deleted successfully.\n"
     ]
    }
   ],
   "source": [
    "print(sll.delete_with_value(-4))"
   ]
  },
  {
   "cell_type": "code",
   "execution_count": 45,
   "id": "9a87e0bd",
   "metadata": {},
   "outputs": [
    {
     "data": {
      "text/plain": [
       "'Node With value -3 deleted successfully.'"
      ]
     },
     "execution_count": 45,
     "metadata": {},
     "output_type": "execute_result"
    }
   ],
   "source": [
    "sll.delete_with_value(-3)"
   ]
  },
  {
   "cell_type": "markdown",
   "id": "1bb99603",
   "metadata": {},
   "source": [
    "### printing list"
   ]
  },
  {
   "cell_type": "code",
   "execution_count": 46,
   "id": "4495fa1d",
   "metadata": {},
   "outputs": [
    {
     "name": "stdout",
     "output_type": "stream",
     "text": [
      "-2->-1->0->1->2->3->4->None\n"
     ]
    }
   ],
   "source": [
    "sll.print_list()"
   ]
  },
  {
   "cell_type": "markdown",
   "id": "dfd61009",
   "metadata": {},
   "source": [
    "### Searching for the data in list"
   ]
  },
  {
   "cell_type": "code",
   "execution_count": 47,
   "id": "7d5cf2d3",
   "metadata": {},
   "outputs": [
    {
     "data": {
      "text/plain": [
       "'Your data is not in the List.'"
      ]
     },
     "execution_count": 47,
     "metadata": {},
     "output_type": "execute_result"
    }
   ],
   "source": [
    "key = -4\n",
    "sll.search(key)"
   ]
  },
  {
   "cell_type": "code",
   "execution_count": 48,
   "id": "d93f5116",
   "metadata": {},
   "outputs": [
    {
     "data": {
      "text/plain": [
       "'Your data is in the 3 node.'"
      ]
     },
     "execution_count": 48,
     "metadata": {},
     "output_type": "execute_result"
    }
   ],
   "source": [
    "key = 0\n",
    "sll.search(key)"
   ]
  },
  {
   "cell_type": "markdown",
   "id": "5f2d7466",
   "metadata": {},
   "source": [
    "### Getting length of the list"
   ]
  },
  {
   "cell_type": "code",
   "execution_count": 49,
   "id": "071e48cb",
   "metadata": {},
   "outputs": [
    {
     "data": {
      "text/plain": [
       "7"
      ]
     },
     "execution_count": 49,
     "metadata": {},
     "output_type": "execute_result"
    }
   ],
   "source": [
    "sll.get_lenght()"
   ]
  },
  {
   "cell_type": "markdown",
   "id": "861b380e",
   "metadata": {},
   "source": [
    "## Doubly Linked List"
   ]
  },
  {
   "cell_type": "markdown",
   "id": "b709a2f5",
   "metadata": {},
   "source": [
    "- Each node has two pointers: one to the next node and another to the previous node.\n",
    "- The first node's previous pointer and the last node's next pointer point to `None`."
   ]
  },
  {
   "cell_type": "code",
   "execution_count": 50,
   "id": "fcc3cf3a",
   "metadata": {},
   "outputs": [],
   "source": [
    "# For creating node \n",
    "class Node:\n",
    "    def __init__(self,data):\n",
    "        self.data = data\n",
    "        self.next = None\n",
    "        self.prev = None"
   ]
  },
  {
   "cell_type": "code",
   "execution_count": 63,
   "id": "5dfd5594",
   "metadata": {},
   "outputs": [],
   "source": [
    "class DoublyLinkedList:\n",
    "    def __init__(self):\n",
    "        self.head = None\n",
    "        \n",
    "    def append(self,data):\n",
    "        new_node = Node(data)\n",
    "        \n",
    "        if not self.head:\n",
    "            self.head = new_node\n",
    "            return\n",
    "        \n",
    "        last_node = self.head\n",
    "        while last_node.next:\n",
    "            last_node = last_node.next\n",
    "            \n",
    "        last_node.next = new_node\n",
    "        new_node.prev = last_node\n",
    "        return\n",
    "    \n",
    "    def add_at_start(self,data):\n",
    "        new_node = Node(data)\n",
    "        \n",
    "        if not self.head:\n",
    "            self.head = new_node\n",
    "            return\n",
    "        \n",
    "        self.head.prev = new_node\n",
    "        new_node.next = self.head\n",
    "        self.head = new_node\n",
    "        return\n",
    "    \n",
    "    def delete_by_value(self,data):\n",
    "        if not self.head:\n",
    "            return \"List is empty.\"\n",
    "        \n",
    "        if self.head.data == data:\n",
    "            self.head = self.head.next\n",
    "            return \"Node deleted successfully.\"\n",
    "        \n",
    "        current_node = self.head\n",
    "        \n",
    "        while current_node:\n",
    "            if current_node.data == data:\n",
    "                if current_node.prev:\n",
    "                    current_node.prev.next = current_node.next\n",
    "                if current_node.next:\n",
    "                    current_node.next.prev = current_node.prev\n",
    "                \n",
    "                return \"Node deleted successfully.\"\n",
    "            current_node = current_node.next\n",
    "            \n",
    "        return \"sorry node with given data not found.\"\n",
    "    \n",
    "    def print_list(self):\n",
    "        current_node = self.head\n",
    "        while current_node:\n",
    "            print(current_node.data,end=\"<->\")\n",
    "            current_node = current_node.next\n",
    "            \n",
    "        print(\"None\")"
   ]
  },
  {
   "cell_type": "markdown",
   "id": "f573a019",
   "metadata": {},
   "source": [
    "### Creating Object for Doubly Linked List"
   ]
  },
  {
   "cell_type": "code",
   "execution_count": 64,
   "id": "4aaf26b4",
   "metadata": {},
   "outputs": [],
   "source": [
    "dll = DoublyLinkedList()"
   ]
  },
  {
   "cell_type": "markdown",
   "id": "59853aad",
   "metadata": {},
   "source": [
    "### Adding data to the last"
   ]
  },
  {
   "cell_type": "code",
   "execution_count": 65,
   "id": "3ba12ae3",
   "metadata": {},
   "outputs": [],
   "source": [
    "dll.append(4)\n",
    "dll.append(5)\n",
    "dll.append(6)"
   ]
  },
  {
   "cell_type": "markdown",
   "id": "467e4891",
   "metadata": {},
   "source": [
    "### printing list"
   ]
  },
  {
   "cell_type": "code",
   "execution_count": 66,
   "id": "13138645",
   "metadata": {},
   "outputs": [
    {
     "name": "stdout",
     "output_type": "stream",
     "text": [
      "4<->5<->6<->None\n"
     ]
    }
   ],
   "source": [
    "dll.print_list()"
   ]
  },
  {
   "cell_type": "markdown",
   "id": "d0b9cb03",
   "metadata": {},
   "source": [
    "### Adding data to the start"
   ]
  },
  {
   "cell_type": "code",
   "execution_count": 67,
   "id": "4723a140",
   "metadata": {},
   "outputs": [],
   "source": [
    "dll.add_at_start(0)\n",
    "dll.add_at_start(3)\n",
    "dll.add_at_start(2)\n",
    "dll.add_at_start(1)"
   ]
  },
  {
   "cell_type": "markdown",
   "id": "3a7980e6",
   "metadata": {},
   "source": [
    "### Printing list"
   ]
  },
  {
   "cell_type": "code",
   "execution_count": 68,
   "id": "19e920f5",
   "metadata": {},
   "outputs": [
    {
     "name": "stdout",
     "output_type": "stream",
     "text": [
      "1<->2<->3<->0<->4<->5<->6<->None\n"
     ]
    }
   ],
   "source": [
    "dll.print_list()"
   ]
  },
  {
   "cell_type": "markdown",
   "id": "9dc9c116",
   "metadata": {},
   "source": [
    "### Deleting node with value"
   ]
  },
  {
   "cell_type": "code",
   "execution_count": 69,
   "id": "f6a57c75",
   "metadata": {},
   "outputs": [
    {
     "data": {
      "text/plain": [
       "'Node deleted successfully.'"
      ]
     },
     "execution_count": 69,
     "metadata": {},
     "output_type": "execute_result"
    }
   ],
   "source": [
    "dll.delete_by_value(5)"
   ]
  },
  {
   "cell_type": "markdown",
   "id": "04cd514a",
   "metadata": {},
   "source": [
    "### Printing list"
   ]
  },
  {
   "cell_type": "code",
   "execution_count": 70,
   "id": "0db05a9b",
   "metadata": {},
   "outputs": [
    {
     "name": "stdout",
     "output_type": "stream",
     "text": [
      "1<->2<->3<->0<->4<->6<->None\n"
     ]
    }
   ],
   "source": [
    "dll.print_list()"
   ]
  },
  {
   "cell_type": "markdown",
   "id": "4a94d3cb",
   "metadata": {},
   "source": [
    "## Circular Singly Linked List"
   ]
  },
  {
   "cell_type": "markdown",
   "id": "7aaf2913",
   "metadata": {},
   "source": [
    "- Similar to a singly linked list, but the last node points back to the first node instead of `None`."
   ]
  },
  {
   "cell_type": "code",
   "execution_count": 147,
   "id": "b410daf1",
   "metadata": {},
   "outputs": [],
   "source": [
    "# for creating nodes with data and link to next node\n",
    "class Node:\n",
    "    def __init__(self,data):\n",
    "        self.data = data\n",
    "        self.next = None\n",
    "\n",
    "class CircularSinglyLinkedList:\n",
    "    def __init__(self):\n",
    "        self.head = None\n",
    "        \n",
    "    def append(self, data):\n",
    "        new_node = Node(data) \n",
    "        if not self.head:\n",
    "            self.head = new_node\n",
    "            self.head.next = self.head\n",
    "            return\n",
    "        \n",
    "        last_node = self.head\n",
    "        while True:\n",
    "            last_node = last_node.next\n",
    "            if last_node.next == self.head:\n",
    "                break\n",
    "        \n",
    "        last_node.next = new_node\n",
    "        new_node.next = self.head\n",
    "        \n",
    "        return\n",
    "    \n",
    "    def add_at_start(self,data):\n",
    "        new_node = Node(data)\n",
    "        \n",
    "        if not self.head:\n",
    "            self.head = new_node\n",
    "            self.head.next = self.head\n",
    "            return\n",
    "        # for last node \n",
    "        last_node = self.head\n",
    "        while last_node.next != self.head:\n",
    "            last_node = last_node.next\n",
    "\n",
    "        last_node.next = new_node\n",
    "        new_node.next = self.head\n",
    "        self.head = new_node\n",
    "        \n",
    "        return\n",
    "    \n",
    "    def delete_with_value(self,data):\n",
    "        if not self.head:\n",
    "            return 'List is empty.'\n",
    "        \n",
    "        if self.head.data==data and self.head.next == self.head:\n",
    "            self.head = None\n",
    "            return \"Last node deleted.\"\n",
    "        \n",
    "        current_node = self.head\n",
    "        prev = None\n",
    "        \n",
    "        while True:\n",
    "            if current_node.data == data:\n",
    "                if prev:\n",
    "                    prev.next = current_node.next\n",
    "                else:\n",
    "                    while current_node.next!= self.head:\n",
    "                        current_node = current_node.next\n",
    "                        \n",
    "                    current_node.next = self.head.next\n",
    "                    self.head = self.head.next\n",
    "                return f\"Node with value {data} deleted successfully.\"\n",
    "            \n",
    "            prev, current_node = current_node, current_node.next\n",
    "            \n",
    "            if current_node == self.head:\n",
    "                break\n",
    "                \n",
    "        return \"Data not found in the list.\"\n",
    "        \n",
    "    \n",
    "    def print_list(self):\n",
    "        if not self.head:\n",
    "            return \"List is empty\"\n",
    "        \n",
    "        temp = self.head\n",
    "        while True:\n",
    "            print(temp.data,end=\"->\")\n",
    "            temp = temp.next\n",
    "            if temp == self.head:\n",
    "                break\n",
    "            \n",
    "                \n",
    "        "
   ]
  },
  {
   "cell_type": "markdown",
   "id": "e98c1f34",
   "metadata": {},
   "source": [
    "### Creating object for singly linked list"
   ]
  },
  {
   "cell_type": "code",
   "execution_count": 148,
   "id": "fb3a7363",
   "metadata": {},
   "outputs": [],
   "source": [
    "csll = CircularSinglyLinkedList()"
   ]
  },
  {
   "cell_type": "markdown",
   "id": "a5d4aef3",
   "metadata": {},
   "source": [
    "### Adding data"
   ]
  },
  {
   "cell_type": "code",
   "execution_count": 149,
   "id": "9f97f01b",
   "metadata": {},
   "outputs": [],
   "source": [
    "csll.append(5)\n",
    "csll.append(6)\n",
    "csll.append(7)"
   ]
  },
  {
   "cell_type": "markdown",
   "id": "049bfe34",
   "metadata": {},
   "source": [
    "### Printing"
   ]
  },
  {
   "cell_type": "code",
   "execution_count": 150,
   "id": "67c5d047",
   "metadata": {},
   "outputs": [
    {
     "name": "stdout",
     "output_type": "stream",
     "text": [
      "5->6->7->"
     ]
    }
   ],
   "source": [
    "csll.print_list()"
   ]
  },
  {
   "cell_type": "markdown",
   "id": "8b0ea29e",
   "metadata": {},
   "source": [
    "### Adding at start"
   ]
  },
  {
   "cell_type": "code",
   "execution_count": 151,
   "id": "c1cd3409",
   "metadata": {},
   "outputs": [],
   "source": [
    "csll.add_at_start(1)"
   ]
  },
  {
   "cell_type": "code",
   "execution_count": 152,
   "id": "5e06a7f1",
   "metadata": {},
   "outputs": [],
   "source": [
    "csll.add_at_start(2)"
   ]
  },
  {
   "cell_type": "code",
   "execution_count": 153,
   "id": "3c549c4b",
   "metadata": {},
   "outputs": [],
   "source": [
    "csll.add_at_start(1)\n",
    "csll.add_at_start(2)\n",
    "csll.add_at_start(3)"
   ]
  },
  {
   "cell_type": "markdown",
   "id": "1a6e9363",
   "metadata": {},
   "source": [
    "### Printing"
   ]
  },
  {
   "cell_type": "code",
   "execution_count": 154,
   "id": "3b9708be",
   "metadata": {
    "scrolled": false
   },
   "outputs": [
    {
     "name": "stdout",
     "output_type": "stream",
     "text": [
      "3->2->1->2->1->5->6->7->"
     ]
    }
   ],
   "source": [
    "csll.print_list()"
   ]
  },
  {
   "cell_type": "markdown",
   "id": "ea48e82b",
   "metadata": {},
   "source": [
    "### Deleting "
   ]
  },
  {
   "cell_type": "code",
   "execution_count": 155,
   "id": "0e9c5cc0",
   "metadata": {},
   "outputs": [
    {
     "data": {
      "text/plain": [
       "'Node with value 7 deleted successfully.'"
      ]
     },
     "execution_count": 155,
     "metadata": {},
     "output_type": "execute_result"
    }
   ],
   "source": [
    "csll.delete_with_value(7)"
   ]
  },
  {
   "cell_type": "markdown",
   "id": "3f8123a6",
   "metadata": {},
   "source": [
    "### Printing"
   ]
  },
  {
   "cell_type": "code",
   "execution_count": 156,
   "id": "cb6fd498",
   "metadata": {},
   "outputs": [
    {
     "name": "stdout",
     "output_type": "stream",
     "text": [
      "3->2->1->2->1->5->6->"
     ]
    }
   ],
   "source": [
    "csll.print_list()"
   ]
  },
  {
   "cell_type": "markdown",
   "id": "29525c68",
   "metadata": {},
   "source": [
    "## Circular Doubly Linked List"
   ]
  },
  {
   "cell_type": "markdown",
   "id": "224a3100",
   "metadata": {},
   "source": [
    "- Similar to a doubly linked list, but the last node's next pointer points to the first node, and the first node's previous pointer points to the last node."
   ]
  },
  {
   "cell_type": "markdown",
   "id": "f7071857",
   "metadata": {},
   "source": [
    "### Implementation"
   ]
  },
  {
   "cell_type": "code",
   "execution_count": 157,
   "id": "a057d736",
   "metadata": {},
   "outputs": [],
   "source": [
    "# For node creation\n",
    "class Node:\n",
    "    def __init__(self,data):\n",
    "        self.data = data\n",
    "        self.next = None\n",
    "        self.prev = None"
   ]
  },
  {
   "cell_type": "code",
   "execution_count": 170,
   "id": "b42a683d",
   "metadata": {},
   "outputs": [],
   "source": [
    "# Linked list class\n",
    "\n",
    "class CircularDoublyLinkedList:\n",
    "    def __init__(self):\n",
    "        self.head = None\n",
    "        \n",
    "    def append(self, data):\n",
    "        new_node = Node(data)\n",
    "        if not self.head:\n",
    "            self.head = new_node\n",
    "            self.head.next = self.head\n",
    "            self.head.prev = self.head\n",
    "            return\n",
    "        \n",
    "        last_node = self.head.prev\n",
    "        last_node.next = new_node\n",
    "        new_node.prev = last_node\n",
    "        new_node.next = self.head\n",
    "        self.head.prev = new_node\n",
    "        \n",
    "        return\n",
    "    \n",
    "    def delete_with_value(self,data):\n",
    "        if not self.head:\n",
    "            return \"list is empty\"\n",
    "        \n",
    "        current_node = self.head\n",
    "        while True:\n",
    "            if current_node.data == data:\n",
    "                if current_node.next == self.head and current_node.prev == self.head:\n",
    "                    self.head = None\n",
    "                    \n",
    "                else:\n",
    "                    if current_node == self.head:\n",
    "                        self.head = current_node.next\n",
    "                    current_node.prev.next = current_node.next\n",
    "                    current_node.next.prev = current_node.prev\n",
    "                        \n",
    "                return \"Node Deleted.\"\n",
    "            \n",
    "            current_node = current_node.next\n",
    "            if current_node == self.head:\n",
    "                break\n",
    "                \n",
    "    \n",
    "    def print_list(self):\n",
    "        if not self.head:\n",
    "            return \"List is empty.\"\n",
    "        \n",
    "        current_node = self.head\n",
    "        while True:\n",
    "            print(current_node.data, end = \"<->\")\n",
    "            current_node = current_node.next\n",
    "            if current_node==self.head:\n",
    "                break\n",
    "                \n",
    "        print(\"Circular\")"
   ]
  },
  {
   "cell_type": "markdown",
   "id": "b0c02468",
   "metadata": {},
   "source": [
    "### Creating object"
   ]
  },
  {
   "cell_type": "code",
   "execution_count": 171,
   "id": "411a041d",
   "metadata": {},
   "outputs": [],
   "source": [
    "cdll = CircularDoublyLinkedList()"
   ]
  },
  {
   "cell_type": "markdown",
   "id": "0a0ce333",
   "metadata": {},
   "source": [
    "### Adding data"
   ]
  },
  {
   "cell_type": "code",
   "execution_count": 172,
   "id": "3b20d6cc",
   "metadata": {},
   "outputs": [],
   "source": [
    "cdll.append(1)\n",
    "cdll.append(3)\n",
    "cdll.append(5)\n",
    "cdll.append(7)"
   ]
  },
  {
   "cell_type": "markdown",
   "id": "2678dbf4",
   "metadata": {},
   "source": [
    "### Printing List"
   ]
  },
  {
   "cell_type": "code",
   "execution_count": 173,
   "id": "d3b3bc9b",
   "metadata": {},
   "outputs": [
    {
     "name": "stdout",
     "output_type": "stream",
     "text": [
      "1<->3<->5<->7<->Circular\n"
     ]
    }
   ],
   "source": [
    "cdll.print_list()"
   ]
  },
  {
   "cell_type": "markdown",
   "id": "90da9ce9",
   "metadata": {},
   "source": [
    "### Deleting "
   ]
  },
  {
   "cell_type": "code",
   "execution_count": 174,
   "id": "52b5f186",
   "metadata": {},
   "outputs": [
    {
     "data": {
      "text/plain": [
       "'Node Deleted.'"
      ]
     },
     "execution_count": 174,
     "metadata": {},
     "output_type": "execute_result"
    }
   ],
   "source": [
    "cdll.delete_with_value(3)"
   ]
  },
  {
   "cell_type": "markdown",
   "id": "9376bdd8",
   "metadata": {},
   "source": [
    "### Printing"
   ]
  },
  {
   "cell_type": "code",
   "execution_count": 175,
   "id": "85df5431",
   "metadata": {},
   "outputs": [
    {
     "name": "stdout",
     "output_type": "stream",
     "text": [
      "1<->5<->7<->Circular\n"
     ]
    }
   ],
   "source": [
    "cdll.print_list()"
   ]
  }
 ],
 "metadata": {
  "kernelspec": {
   "display_name": "Python 3 (ipykernel)",
   "language": "python",
   "name": "python3"
  },
  "language_info": {
   "codemirror_mode": {
    "name": "ipython",
    "version": 3
   },
   "file_extension": ".py",
   "mimetype": "text/x-python",
   "name": "python",
   "nbconvert_exporter": "python",
   "pygments_lexer": "ipython3",
   "version": "3.11.7"
  }
 },
 "nbformat": 4,
 "nbformat_minor": 5
}
