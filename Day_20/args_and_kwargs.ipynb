{
 "cells": [
  {
   "cell_type": "markdown",
   "metadata": {},
   "source": [
    "# Day 20\n",
    "\n",
    "**Practicing Python From basics**"
   ]
  },
  {
   "cell_type": "markdown",
   "metadata": {},
   "source": [
    "# *args and **KWargs (arguments and keyword arguments)"
   ]
  },
  {
   "cell_type": "markdown",
   "metadata": {},
   "source": [
    "## `*args`\n",
    "- `*args` is used in function definition to pass a variable number of non-keyword arguments to a function.\n",
    "- It allows us to handle function that take varying number of arguments."
   ]
  },
  {
   "cell_type": "markdown",
   "metadata": {},
   "source": [
    "### Example"
   ]
  },
  {
   "cell_type": "code",
   "execution_count": 2,
   "metadata": {},
   "outputs": [],
   "source": [
    "# defining function with *args to get any number of arguments\n",
    "def print_all(*args):\n",
    "    for arg in args:\n",
    "        print(arg)\n"
   ]
  },
  {
   "cell_type": "markdown",
   "metadata": {},
   "source": [
    "- The `*args` parameter collects additional positional arguments as a tuple.\n",
    "- The name `args` is a convention; you can use any name (e.g., `*variables`)."
   ]
  },
  {
   "cell_type": "code",
   "execution_count": 3,
   "metadata": {},
   "outputs": [
    {
     "name": "stdout",
     "output_type": "stream",
     "text": [
      "nsk\n",
      "practicing\n",
      "python\n"
     ]
    }
   ],
   "source": [
    "# calling function\n",
    "print_all(\"nsk\",'practicing','python')"
   ]
  },
  {
   "cell_type": "markdown",
   "metadata": {},
   "source": [
    "## `**kwargs`\n",
    "- `**kwargs` is used in function definition to handle variable number of keyword argument.\n",
    "- It allows us to handle variable number of named arguments while calling a function."
   ]
  },
  {
   "cell_type": "code",
   "execution_count": 4,
   "metadata": {},
   "outputs": [],
   "source": [
    "# defining a function with **kwargs to get any number of keyword arguments.\n",
    "def print_key_value(**kwargs):\n",
    "    for key, value in kwargs.items():\n",
    "        print(f\"{key} : {value}\")"
   ]
  },
  {
   "cell_type": "markdown",
   "metadata": {},
   "source": [
    "- The `**kwargs` parameter collects additional keyword arguments as a dictionary.\n",
    "- The name `kwargs` is a convention; you can use any name (e.g., `**options`)."
   ]
  },
  {
   "cell_type": "code",
   "execution_count": 13,
   "metadata": {},
   "outputs": [
    {
     "name": "stdout",
     "output_type": "stream",
     "text": [
      "name : nsk\n",
      "age : 22\n",
      "city : bengaluru\n"
     ]
    }
   ],
   "source": [
    "# calling function\n",
    "print_key_value(name='nsk',age='22',city='bengaluru')"
   ]
  },
  {
   "cell_type": "markdown",
   "metadata": {},
   "source": [
    "## Combining `*args` and `**kwargs`"
   ]
  },
  {
   "cell_type": "markdown",
   "metadata": {},
   "source": [
    "- You can use both `*args` and `**kwargs` in the same function.\n",
    "- The order of parameters should be: formal parameters, `*args`, and then `**kwargs`."
   ]
  },
  {
   "cell_type": "code",
   "execution_count": 10,
   "metadata": {},
   "outputs": [
    {
     "name": "stdout",
     "output_type": "stream",
     "text": [
      "|-----------------------Normal Arguments-------------------|\n",
      "\n",
      "1\n",
      "2\n",
      "\n",
      "|----------------------arguments from *args-----------------|\n",
      "\n",
      "*args1\n",
      "*args2\n",
      "\n",
      "|---------------------arguments from **kwargs---------------|\n",
      "\n",
      "kwa1 : k_norm\n",
      "kwa2 : k_mid\n",
      "kwa3 : k_high\n"
     ]
    }
   ],
   "source": [
    "# defining function to get any number of normal, non-keyword and  keyword arguments.\n",
    "def combined_example(arg1, arg2, *args, **kwargs):\n",
    "    print(\"|-----------------------Normal Arguments-------------------|\\n\")\n",
    "    print(arg1)\n",
    "    print(arg2)\n",
    "\n",
    "    print(\"\\n|----------------------arguments from *args-----------------|\\n\")\n",
    "    for arg in args:\n",
    "        print(arg)\n",
    "\n",
    "    print(\"\\n|---------------------arguments from **kwargs---------------|\\n\")\n",
    "    for key, value in kwargs.items():\n",
    "        print(f\"{key} : {value}\")\n",
    "\n",
    "# calling function\n",
    "combined_example(1,2,'*args1','*args2',kwa1='k_norm',kwa2='k_mid',kwa3='k_high')"
   ]
  },
  {
   "cell_type": "markdown",
   "metadata": {},
   "source": [
    "## Exercises"
   ]
  },
  {
   "cell_type": "markdown",
   "metadata": {},
   "source": [
    "### Exercise 1: Sum of Arbitrary Numbers\n",
    "\n",
    "**Objective**: Write a function that takes any number of numerical arguments and returns their sum."
   ]
  },
  {
   "cell_type": "code",
   "execution_count": 12,
   "metadata": {},
   "outputs": [
    {
     "name": "stdout",
     "output_type": "stream",
     "text": [
      "sum1 : 26\n",
      "sum2 : 89\n"
     ]
    }
   ],
   "source": [
    "# defining a function get any number of arguments\n",
    "def any_sum(*args):\n",
    "\n",
    "    # returning sum of arguments\n",
    "    return sum(args)\n",
    "\n",
    "# calling function\n",
    "sum1 = any_sum(1,3,4,2,6,2,8)\n",
    "print(f\"sum1 : {sum1}\")\n",
    "\n",
    "# calling function with different values.\n",
    "sum2 = any_sum(11,12,14,21,18,13)\n",
    "print(f\"sum2 : {sum2}\")"
   ]
  },
  {
   "cell_type": "markdown",
   "metadata": {},
   "source": [
    "### Exercise 2: Greeting Message\n",
    "\n",
    "**Objective**: Write a function that accepts a name and an arbitrary number of keyword arguments representing attributes (like age, location) and prints a greeting message."
   ]
  },
  {
   "cell_type": "code",
   "execution_count": 14,
   "metadata": {},
   "outputs": [
    {
     "name": "stdout",
     "output_type": "stream",
     "text": [
      "Hello, nsk!.\n",
      "your age is 22.\n",
      "your location is bengaluru.\n"
     ]
    }
   ],
   "source": [
    "# defining function to get one normal and any number of keyword arguments.\n",
    "def greetings(name,**kwargs):\n",
    "    print(f\"Hello, {name}!.\")\n",
    "    for key, value in kwargs.items():\n",
    "        print(F\"your {key} is {value}.\")\n",
    "\n",
    "# defining variables\n",
    "name = 'nsk'\n",
    "age = '22'\n",
    "location = 'bengaluru'\n",
    "\n",
    "# calling function\n",
    "greetings(name,age=age,location=location)"
   ]
  },
  {
   "cell_type": "markdown",
   "metadata": {},
   "source": [
    "### Exercise 3: Combine and Print\n",
    "\n",
    "**Objective**: Write a function that takes one positional argument, any number of additional positional arguments, and any number of keyword arguments, and prints them all in a structured format.\n"
   ]
  },
  {
   "cell_type": "code",
   "execution_count": 17,
   "metadata": {},
   "outputs": [
    {
     "name": "stdout",
     "output_type": "stream",
     "text": [
      "|-----------------------Normal Arguments-------------------|\n",
      "\n",
      "nsk\n",
      "\n",
      "|----------------------arguments from *args-----------------|\n",
      "\n",
      "working\n",
      "developer\n",
      "\n",
      "|---------------------arguments from **kwargs---------------|\n",
      "\n",
      "age : 22\n",
      "location : bengaluru\n",
      "language : python\n"
     ]
    }
   ],
   "source": [
    "# defining function to get any variable.\n",
    "def combine_all(name,*args,**kwargs):\n",
    "    print(\"|-----------------------Normal Arguments-------------------|\\n\")\n",
    "    print(name)\n",
    "\n",
    "    print(\"\\n|----------------------arguments from *args-----------------|\\n\")\n",
    "    for arg in args:\n",
    "        print(arg)\n",
    "\n",
    "    print(\"\\n|---------------------arguments from **kwargs---------------|\\n\")\n",
    "    for key, value in kwargs.items():\n",
    "        print(f\"{key} : {value}\")\n",
    "\n",
    "# defining variables.\n",
    "name = 'nsk'\n",
    "work_status = 'working'\n",
    "position = 'developer'\n",
    "age = '22'\n",
    "location = 'bengaluru'\n",
    "language = 'python'\n",
    "\n",
    "# calling function\n",
    "combine_all(name,work_status,position,age=age,location=location,language=language)"
   ]
  }
 ],
 "metadata": {
  "kernelspec": {
   "display_name": "Python 3",
   "language": "python",
   "name": "python3"
  },
  "language_info": {
   "codemirror_mode": {
    "name": "ipython",
    "version": 3
   },
   "file_extension": ".py",
   "mimetype": "text/x-python",
   "name": "python",
   "nbconvert_exporter": "python",
   "pygments_lexer": "ipython3",
   "version": "3.10.3"
  }
 },
 "nbformat": 4,
 "nbformat_minor": 2
}
