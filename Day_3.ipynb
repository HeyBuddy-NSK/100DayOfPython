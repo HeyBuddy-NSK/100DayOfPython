{
 "cells": [
  {
   "cell_type": "markdown",
   "metadata": {},
   "source": [
    "# Day 3\n",
    "\n",
    "## Practicing Python From Basics"
   ]
  },
  {
   "cell_type": "markdown",
   "metadata": {},
   "source": [
    "### Importing Modules:\n",
    "\n",
    "1.  Write a Python program to use the math module to calculate the square root of a number entered by the user."
   ]
  },
  {
   "cell_type": "code",
   "execution_count": 6,
   "metadata": {},
   "outputs": [
    {
     "name": "stdout",
     "output_type": "stream",
     "text": [
      "Square root of number 9 is :: 3.0\n"
     ]
    }
   ],
   "source": [
    "import math\n",
    "num = eval(input(\"Enter a number\"))\n",
    "\n",
    "sqrt = math.sqrt(num)\n",
    "print(f\"Square root of number {num} is :: {sqrt}\")"
   ]
  },
  {
   "cell_type": "markdown",
   "metadata": {},
   "source": [
    "2.  Write a Python program to generate a random number between a specified range using the random module."
   ]
  },
  {
   "cell_type": "code",
   "execution_count": 14,
   "metadata": {},
   "outputs": [
    {
     "name": "stdout",
     "output_type": "stream",
     "text": [
      "Random number between 1 and 56 is :: 48\n"
     ]
    }
   ],
   "source": [
    "import random\n",
    "\n",
    "a, b = (int(n) for n in input(\"enter a range to print random number :: \").split())\n",
    "\n",
    "print(f\"Random number between {a} and {b} is :: {random.randint(a, b)}\")"
   ]
  },
  {
   "cell_type": "markdown",
   "metadata": {},
   "source": [
    "3.  Write a Python program to use the datetime module to print the current date and time."
   ]
  },
  {
   "cell_type": "code",
   "execution_count": 21,
   "metadata": {},
   "outputs": [
    {
     "name": "stdout",
     "output_type": "stream",
     "text": [
      "2024-05-03 14:00:39.027486\n"
     ]
    }
   ],
   "source": [
    "import datetime\n",
    "\n",
    "today = datetime.datetime.now()\n",
    "print(today)"
   ]
  },
  {
   "cell_type": "markdown",
   "metadata": {},
   "source": [
    "4.  Write a Python program to use the os module to list all files in a directory."
   ]
  },
  {
   "cell_type": "code",
   "execution_count": 24,
   "metadata": {},
   "outputs": [
    {
     "name": "stdout",
     "output_type": "stream",
     "text": [
      "Files in current folder are :: \n",
      "\n",
      "Day_2.ipynb\n",
      "Day_3.ipynb\n"
     ]
    }
   ],
   "source": [
    "import os\n",
    "\n",
    "print(\"Files in current folder are :: \\n\")\n",
    "for file in os.listdir():\n",
    "    print(file)"
   ]
  },
  {
   "cell_type": "markdown",
   "metadata": {},
   "source": [
    "5.  Write a Python program to use the sys module to get the command line arguments passed to the script."
   ]
  },
  {
   "cell_type": "code",
   "execution_count": 27,
   "metadata": {},
   "outputs": [
    {
     "data": {
      "text/plain": [
       "'C:\\\\Users\\\\nkendre\\\\AppData\\\\Roaming\\\\Python\\\\Python310\\\\site-packages\\\\ipykernel_launcher.py'"
      ]
     },
     "execution_count": 27,
     "metadata": {},
     "output_type": "execute_result"
    }
   ],
   "source": [
    "import sys\n",
    "sys.argv[0]"
   ]
  },
  {
   "cell_type": "markdown",
   "metadata": {},
   "source": [
    "### Creating Lists, Accessing Elements, List Methods, List Comprehensions:\n",
    "\n",
    "1.  Create a list containing the names of five fruits. Print the third fruit in the list.\n"
   ]
  },
  {
   "cell_type": "code",
   "execution_count": 28,
   "metadata": {},
   "outputs": [
    {
     "name": "stdout",
     "output_type": "stream",
     "text": [
      "Third fruit in list is :: orange\n"
     ]
    }
   ],
   "source": [
    "fruits = ['mango','apple','orange','banana','pear']\n",
    "\n",
    "print(f'Third fruit in list is :: {fruits[2]}')"
   ]
  },
  {
   "cell_type": "markdown",
   "metadata": {},
   "source": [
    "2.  Create a list of numbers from 1 to 10. Print the sum of all numbers in the list."
   ]
  },
  {
   "cell_type": "code",
   "execution_count": 32,
   "metadata": {},
   "outputs": [
    {
     "name": "stdout",
     "output_type": "stream",
     "text": [
      "Sum of all numbers in list is ::  55\n"
     ]
    }
   ],
   "source": [
    "nums = [1,2,3,4,5,6,7,8,9,10]\n",
    "\n",
    "sum1 = 0\n",
    "for n in nums:\n",
    "    sum1 = sum1+n\n",
    "\n",
    "print(\"Sum of all numbers in list is :: \",sum1)"
   ]
  },
  {
   "cell_type": "markdown",
   "metadata": {},
   "source": [
    "3.  Create a list of even numbers from 1 to 20 using list comprehension. Print the list."
   ]
  },
  {
   "cell_type": "code",
   "execution_count": 33,
   "metadata": {},
   "outputs": [
    {
     "name": "stdout",
     "output_type": "stream",
     "text": [
      "List of even numbers between 1 to 20 is :: \n",
      "\n",
      " [2, 4, 6, 8, 10, 12, 14, 16, 18]\n"
     ]
    }
   ],
   "source": [
    "even_list = [n for n in range(1,20) if n%2 == 0] # using list compehension\n",
    "\n",
    "print(\"List of even numbers between 1 to 20 is :: \\n\\n\",even_list)"
   ]
  },
  {
   "cell_type": "markdown",
   "metadata": {},
   "source": [
    "4.  Create a list of squares of numbers from 1 to 5 using list comprehension. Print the list."
   ]
  },
  {
   "cell_type": "code",
   "execution_count": 34,
   "metadata": {},
   "outputs": [
    {
     "name": "stdout",
     "output_type": "stream",
     "text": [
      "List of squares between 1 to 5 is :: \n",
      "\n",
      " [1, 4, 9, 16]\n"
     ]
    }
   ],
   "source": [
    "sqr_list = [n**2 for n in range(1,5)]\n",
    "\n",
    "print(\"List of squares between 1 to 5 is :: \\n\\n\",sqr_list)"
   ]
  },
  {
   "cell_type": "markdown",
   "metadata": {},
   "source": [
    "5.  Create a list of strings. Use the `append()` method to add a new string to the list. Print the updated list."
   ]
  },
  {
   "cell_type": "code",
   "execution_count": 35,
   "metadata": {},
   "outputs": [
    {
     "name": "stdout",
     "output_type": "stream",
     "text": [
      "List before append ::  ['nk', 'pk', 'ak']\n",
      "List after append ::  ['nk', 'pk', 'ak', 'sk']\n"
     ]
    }
   ],
   "source": [
    "str_list = [\"nk\",'pk','ak']\n",
    "print(\"List before append :: \",str_list)\n",
    "\n",
    "str_list.append('sk')\n",
    "print(\"List after append :: \",str_list)"
   ]
  },
  {
   "cell_type": "markdown",
   "metadata": {},
   "source": [
    "6.  Create a list and remove an element using the `remove()` method. Print the updated list."
   ]
  },
  {
   "cell_type": "code",
   "execution_count": 39,
   "metadata": {},
   "outputs": [
    {
     "name": "stdout",
     "output_type": "stream",
     "text": [
      "List before remove() ::  ['nk', 'pk', 'ak', 'sk']\n",
      "List after remove() ::  ['nk', 'pk', 'sk']\n"
     ]
    }
   ],
   "source": [
    "print(\"List before remove() :: \",str_list)\n",
    "\n",
    "str_list.remove('ak')\n",
    "print(\"List after remove() :: \",str_list)"
   ]
  },
  {
   "cell_type": "markdown",
   "metadata": {},
   "source": [
    "7.  Create a list and sort it in descending order using the `sort()` method. Print the sorted list."
   ]
  },
  {
   "cell_type": "code",
   "execution_count": 44,
   "metadata": {},
   "outputs": [
    {
     "name": "stdout",
     "output_type": "stream",
     "text": [
      "List before sort() ::  [1, 2, 3, 4, 5, 6, 7, 8, 9, 10]\n",
      "List after sort() ::  [10, 9, 8, 7, 6, 5, 4, 3, 2, 1]\n"
     ]
    }
   ],
   "source": [
    "print(\"List before sort() :: \",nums)\n",
    "nums.sort(reverse=True)\n",
    "print(\"List after sort() :: \",nums)"
   ]
  },
  {
   "cell_type": "markdown",
   "metadata": {},
   "source": [
    "8.  Create a list and use the `count()` method to count the number of occurrences of a specific element."
   ]
  },
  {
   "cell_type": "code",
   "execution_count": 46,
   "metadata": {},
   "outputs": [
    {
     "name": "stdout",
     "output_type": "stream",
     "text": [
      "Occurances of 1 in above list are ::  4\n"
     ]
    }
   ],
   "source": [
    "oc_list = [1,2,3,1,6,1,9,1,5]\n",
    "\n",
    "one_count = oc_list.count(1)\n",
    "\n",
    "print(\"Occurances of 1 in above list are :: \", one_count)"
   ]
  },
  {
   "cell_type": "markdown",
   "metadata": {},
   "source": [
    "9.  Create a list and check if a certain element exists in the list using the `in` keyword."
   ]
  },
  {
   "cell_type": "code",
   "execution_count": 49,
   "metadata": {},
   "outputs": [
    {
     "name": "stdout",
     "output_type": "stream",
     "text": [
      "Checking if ak in list str_list ::  False\n",
      "Checking if pk in str_list ::  True\n"
     ]
    }
   ],
   "source": [
    "print(\"Checking if ak in list str_list :: \", 'ak' in str_list)\n",
    "print(\"Checking if pk in str_list :: \", 'pk' in str_list)"
   ]
  },
  {
   "cell_type": "markdown",
   "metadata": {},
   "source": [
    "10.  Create a list of numbers. Use list slicing to print the first three elements of the list.\n"
   ]
  },
  {
   "cell_type": "code",
   "execution_count": 51,
   "metadata": {},
   "outputs": [
    {
     "name": "stdout",
     "output_type": "stream",
     "text": [
      "Whole List ::  [10, 9, 8, 7, 6, 5, 4, 3, 2, 1]\n",
      "First 3 numbers from list ::  [10, 9, 8]\n"
     ]
    }
   ],
   "source": [
    "print(\"Whole List :: \",nums)\n",
    "print(\"First 3 numbers from list :: \", nums[:3])"
   ]
  }
 ],
 "metadata": {
  "kernelspec": {
   "display_name": "Python 3",
   "language": "python",
   "name": "python3"
  },
  "language_info": {
   "codemirror_mode": {
    "name": "ipython",
    "version": 3
   },
   "file_extension": ".py",
   "mimetype": "text/x-python",
   "name": "python",
   "nbconvert_exporter": "python",
   "pygments_lexer": "ipython3",
   "version": "3.10.3"
  }
 },
 "nbformat": 4,
 "nbformat_minor": 2
}
