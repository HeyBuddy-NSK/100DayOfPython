{
 "cells": [
  {
   "cell_type": "markdown",
   "id": "a7874084",
   "metadata": {},
   "source": [
    "# Day 21\n",
    "\n",
    "**Practicing Python from Basics**"
   ]
  },
  {
   "cell_type": "markdown",
   "id": "1a2b6212",
   "metadata": {},
   "source": [
    "# Python Inner Functions and Decorators"
   ]
  },
  {
   "cell_type": "markdown",
   "id": "3d232599",
   "metadata": {},
   "source": [
    "## Inner Functions"
   ]
  },
  {
   "cell_type": "markdown",
   "id": "26f2ce50",
   "metadata": {},
   "source": [
    "- An inner function is simply a function defined inside another function. Inner functions can access variables from the enclosing scope.\n",
    "- Also we can call it nested function."
   ]
  },
  {
   "cell_type": "markdown",
   "id": "ae9a2265",
   "metadata": {},
   "source": [
    "### Example"
   ]
  },
  {
   "cell_type": "code",
   "execution_count": 5,
   "id": "3a9c5aea",
   "metadata": {},
   "outputs": [
    {
     "name": "stdout",
     "output_type": "stream",
     "text": [
      "Result of adding 3 and 4 is : 7\n"
     ]
    }
   ],
   "source": [
    "def outer_function(num1,num2):\n",
    "    def inner_function():\n",
    "        result = num1 + num2\n",
    "        print(f\"Result of adding {num1} and {num2} is : {result}\")\n",
    "\n",
    "    \n",
    "    inner_function()\n",
    "\n",
    "\n",
    "# calling\n",
    "outer_function(3,4)\n",
    "        "
   ]
  },
  {
   "cell_type": "markdown",
   "id": "a1e6f0e1",
   "metadata": {},
   "source": [
    "#### Returning Inner Functions\n",
    "we can also return an inner function from an outer function. This is a key concept in understanding decorators."
   ]
  },
  {
   "cell_type": "code",
   "execution_count": 6,
   "id": "f85552b0",
   "metadata": {},
   "outputs": [
    {
     "name": "stdout",
     "output_type": "stream",
     "text": [
      "Result of adding 4 and 5 is : 9\n"
     ]
    }
   ],
   "source": [
    "def outer_function(num1,num2):\n",
    "    def inner_function():\n",
    "        result = num1+num2\n",
    "        print(F\"Result of adding {num1} and {num2} is : {result}\")\n",
    "    \n",
    "    return inner_function\n",
    "\n",
    "# calling \n",
    "in_func = outer_function(4,5)\n",
    "\n",
    "# calling returned function\n",
    "in_func()"
   ]
  },
  {
   "cell_type": "markdown",
   "id": "582dd514",
   "metadata": {},
   "source": [
    "#### Function as an argument\n",
    "\n",
    "We can pass a function as an argument to another function in Python. "
   ]
  },
  {
   "cell_type": "code",
   "execution_count": 7,
   "id": "03128249",
   "metadata": {},
   "outputs": [
    {
     "name": "stdout",
     "output_type": "stream",
     "text": [
      "22\n"
     ]
    }
   ],
   "source": [
    "def addition(num1,num2):\n",
    "    return num1+num2\n",
    "\n",
    "def calculate(function,num1,num2):\n",
    "    return function(num1,num2)\n",
    "\n",
    "# variables\n",
    "num1 = 5\n",
    "num2 = 17\n",
    "\n",
    "# calling\n",
    "result = calculate(addition,num1,num2)\n",
    "\n",
    "# printing\n",
    "print(result)"
   ]
  },
  {
   "cell_type": "markdown",
   "id": "9e8a5d17",
   "metadata": {},
   "source": [
    "## Python Decorators"
   ]
  },
  {
   "cell_type": "markdown",
   "id": "42eb1d34",
   "metadata": {},
   "source": [
    "- A decorator is a function that wraps another function to extend its behavior without modifying its structure. \n",
    "- The inner function concept is used to achieve this.\n",
    "\n",
    "**Simply, A Python decorator is a function that takes in a function and returns it by adding some functionality.**"
   ]
  },
  {
   "cell_type": "markdown",
   "id": "bbd3c459",
   "metadata": {},
   "source": [
    "### Examples"
   ]
  },
  {
   "cell_type": "markdown",
   "id": "c1bfd592",
   "metadata": {},
   "source": [
    "#### Simple and Basic\n",
    "\n",
    "Basically decorator is function inside function."
   ]
  },
  {
   "cell_type": "code",
   "execution_count": 11,
   "id": "664899d2",
   "metadata": {},
   "outputs": [
    {
     "name": "stdout",
     "output_type": "stream",
     "text": [
      "I am decorated!.\n",
      "I am going get decorated.\n"
     ]
    }
   ],
   "source": [
    "# defining decorator\n",
    "def deco_func(func):\n",
    "    \n",
    "    # inner function\n",
    "    def inner_func():\n",
    "        print(\"I am decorated!.\")\n",
    "        \n",
    "        # calling passed function to outer function..\n",
    "        func()\n",
    "    \n",
    "    return inner_func\n",
    "\n",
    "# demo function\n",
    "def non_deco():\n",
    "    print(\"I am going get decorated.\")\n",
    "    \n",
    "# calling \n",
    "deco = deco_func(non_deco)\n",
    "\n",
    "# calling returned function.\n",
    "deco()\n"
   ]
  },
  {
   "cell_type": "markdown",
   "id": "3ea8e0eb",
   "metadata": {},
   "source": [
    "### Using @ symbol / property for \n",
    "\n",
    " - Instead of manually assigning the decorated function, Python provides a shorthand using the @ symbol."
   ]
  },
  {
   "cell_type": "code",
   "execution_count": 12,
   "id": "d319c9a1",
   "metadata": {},
   "outputs": [
    {
     "name": "stdout",
     "output_type": "stream",
     "text": [
      "I am decorated!.\n",
      "I am going get decorated.\n"
     ]
    }
   ],
   "source": [
    "# defining decorator\n",
    "def deco_func(func):\n",
    "    \n",
    "    # inner function\n",
    "    def inner_func():\n",
    "        print(\"I am decorated!.\")\n",
    "        \n",
    "        # calling passed function to outer function..\n",
    "        func()\n",
    "    \n",
    "    return inner_func\n",
    "\n",
    "@deco_func\n",
    "def non_deco():\n",
    "    print(\"I am going get decorated.\")\n",
    "    \n",
    "    \n",
    "# calling\n",
    "non_deco() # it will perform all the process we di previouslly."
   ]
  },
  {
   "cell_type": "markdown",
   "id": "b4c75b81",
   "metadata": {},
   "source": [
    "### Decorating with parameters."
   ]
  },
  {
   "cell_type": "code",
   "execution_count": 15,
   "id": "3bfa7f7d",
   "metadata": {},
   "outputs": [
    {
     "name": "stdout",
     "output_type": "stream",
     "text": [
      "Result of division is :: \n",
      "2.5\n",
      "Result of division is :: \n",
      "Cannot divide by zero.\n"
     ]
    }
   ],
   "source": [
    "# defining decorator.\n",
    "def divide(func):\n",
    "    def inner_func(num1,num2):\n",
    "        print(\"Result of division is :: \")\n",
    "        if num2 == 0:\n",
    "            print(\"Cannot divide by zero.\")\n",
    "            return\n",
    "        \n",
    "        return func(num1,num2)\n",
    "    return inner_func\n",
    "\n",
    "\n",
    "# defining functio too divide.\n",
    "@divide\n",
    "def div(num1,num2):\n",
    "    print(num1/num2)\n",
    "    \n",
    "div(5,2)\n",
    "div(1,0)\n",
    "        "
   ]
  },
  {
   "cell_type": "markdown",
   "id": "779de05a",
   "metadata": {},
   "source": [
    "### `*args` and `**kwargs` with decorators for using any number of variables."
   ]
  },
  {
   "cell_type": "code",
   "execution_count": 21,
   "id": "c08ec03d",
   "metadata": {},
   "outputs": [
    {
     "name": "stdout",
     "output_type": "stream",
     "text": [
      "Introduction : \n",
      "He/she is nsk and he/she is from Bengaluru.\n",
      "Introduction : \n",
      "He/she is psk and he/she is from Delhi.\n"
     ]
    }
   ],
   "source": [
    "# defining decorator\n",
    "def decorator(func):\n",
    "    def inner_func(*args, **kwargs):\n",
    "        print(\"Introduction : \")\n",
    "        return func(*args, **kwargs)\n",
    "    \n",
    "    return inner_func\n",
    "\n",
    "\n",
    "# defining function\n",
    "@decorator\n",
    "def intro(name,location):\n",
    "    print(f\"He/she is {name} and he/she is from {location}.\")\n",
    "\n",
    "intro('nsk','Bengaluru')\n",
    "\n",
    "intro(\"psk\",'Delhi')\n",
    "        "
   ]
  },
  {
   "cell_type": "markdown",
   "id": "0651eaa7",
   "metadata": {},
   "source": [
    "### Chaining decorators "
   ]
  },
  {
   "cell_type": "code",
   "execution_count": 23,
   "id": "c5a150be",
   "metadata": {},
   "outputs": [
    {
     "name": "stdout",
     "output_type": "stream",
     "text": [
      "-----------------\n",
      "*****************\n",
      "hey, welcome!.\n",
      "*****************\n",
      "-----------------\n"
     ]
    }
   ],
   "source": [
    "# defining decorator for printing pattern with msg\n",
    "def dash(func):\n",
    "    def pattern(msg):\n",
    "        print('-'*17)\n",
    "        func(msg)\n",
    "        print('-'*17)\n",
    "        \n",
    "    return pattern\n",
    "\n",
    "# defining another decorator for pattern.\n",
    "def star(func):\n",
    "    def pattern(msg):\n",
    "        print('*'*17)\n",
    "        func(msg)\n",
    "        print('*'*17)\n",
    "        \n",
    "    return pattern\n",
    "\n",
    "@dash\n",
    "@star\n",
    "# defining function\n",
    "def call_ord(msg):\n",
    "    print(msg)\n",
    "    \n",
    "    \n",
    "call_ord(\"hey, welcome!.\")"
   ]
  },
  {
   "cell_type": "markdown",
   "id": "8c30fa0e",
   "metadata": {},
   "source": [
    "**The syntax**"
   ]
  },
  {
   "cell_type": "code",
   "execution_count": 27,
   "id": "38f92a14",
   "metadata": {},
   "outputs": [
    {
     "name": "stdout",
     "output_type": "stream",
     "text": [
      "-----------------\n",
      "*****************\n",
      "welcome!.\n",
      "*****************\n",
      "-----------------\n"
     ]
    }
   ],
   "source": [
    "@dash\n",
    "@star\n",
    "# defining function\n",
    "def call_ord(msg):\n",
    "    print(msg)\n",
    "    \n",
    "call_ord('welcome!.')"
   ]
  },
  {
   "cell_type": "markdown",
   "id": "06c731bd",
   "metadata": {},
   "source": [
    "**is equivalent to**"
   ]
  },
  {
   "cell_type": "code",
   "execution_count": 30,
   "id": "4833825e",
   "metadata": {},
   "outputs": [
    {
     "name": "stdout",
     "output_type": "stream",
     "text": [
      "-----------------\n",
      "*****************\n",
      "Welcome!.\n",
      "*****************\n",
      "-----------------\n"
     ]
    }
   ],
   "source": [
    "result = dash(star(call_ord(\"Welcome!.\")))"
   ]
  },
  {
   "cell_type": "markdown",
   "id": "5689f77d",
   "metadata": {},
   "source": [
    "### we can print"
   ]
  },
  {
   "cell_type": "code",
   "execution_count": 31,
   "id": "07708038",
   "metadata": {},
   "outputs": [
    {
     "name": "stdout",
     "output_type": "stream",
     "text": [
      "*****************\n",
      "-----------------\n",
      "welcome!.\n",
      "-----------------\n",
      "*****************\n"
     ]
    }
   ],
   "source": [
    "@star\n",
    "@dash\n",
    "# defining function\n",
    "def call_ord(msg):\n",
    "    print(msg)\n",
    "    \n",
    "call_ord('welcome!.')"
   ]
  },
  {
   "cell_type": "markdown",
   "id": "a2c3746c",
   "metadata": {},
   "source": [
    "**Thank You!.**"
   ]
  }
 ],
 "metadata": {
  "kernelspec": {
   "display_name": "Python 3 (ipykernel)",
   "language": "python",
   "name": "python3"
  },
  "language_info": {
   "codemirror_mode": {
    "name": "ipython",
    "version": 3
   },
   "file_extension": ".py",
   "mimetype": "text/x-python",
   "name": "python",
   "nbconvert_exporter": "python",
   "pygments_lexer": "ipython3",
   "version": "3.11.7"
  }
 },
 "nbformat": 4,
 "nbformat_minor": 5
}
