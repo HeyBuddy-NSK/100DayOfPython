{
 "cells": [
  {
   "cell_type": "markdown",
   "id": "8657e1f9",
   "metadata": {},
   "source": [
    "# Day 30\n",
    "**Practicing Python From Basics**"
   ]
  },
  {
   "cell_type": "markdown",
   "id": "405ebb22",
   "metadata": {},
   "source": [
    "# Recursion"
   ]
  },
  {
   "cell_type": "markdown",
   "id": "f2f4ae26",
   "metadata": {},
   "source": [
    "- Recursion is a programming technique where a function calls itself in order to solve a problem. \n",
    "- The recursive approach breaks a problem down into smaller, more manageable sub-problems of the same type."
   ]
  },
  {
   "cell_type": "markdown",
   "id": "6a56580e",
   "metadata": {},
   "source": [
    "## Components of Recursion:\n",
    "\n",
    "\n",
    "1. **Base Case:**\n",
    "\n",
    "   - The condition under which the recursion terminates.\n",
    "   - It prevents infinite recursion by providing a simple, non-recursive solution to the smallest instance of the problem.\n",
    "   \n",
    "2. **Recursive Case:**\n",
    "   - The part of the function where the function calls itself with a modified argument, gradually approaching the base case."
   ]
  },
  {
   "cell_type": "markdown",
   "id": "3a216d28",
   "metadata": {},
   "source": [
    "## Types of Recursion:\n",
    "\n",
    "1. **Direct Recursion:**\n",
    "   - A function calls itself directly.\n",
    "   \n",
    "2. **Indirect Recursion:**\n",
    "   - A function calls another function, which in turn calls the original function."
   ]
  },
  {
   "cell_type": "markdown",
   "id": "f35db4f5",
   "metadata": {},
   "source": [
    "## Example (Direct Recursion)\n",
    "\n",
    "**Factorial Function:**"
   ]
  },
  {
   "cell_type": "code",
   "execution_count": 2,
   "id": "3ebd27b5",
   "metadata": {},
   "outputs": [],
   "source": [
    "def factorial(number):\n",
    "    # base case\n",
    "    if number == 1 or number == 0:\n",
    "        return 1\n",
    "    else:\n",
    "        # Recursive case\n",
    "        return number*factorial(number-1)"
   ]
  },
  {
   "cell_type": "markdown",
   "id": "535668d9",
   "metadata": {},
   "source": [
    "**Factorial of 5**"
   ]
  },
  {
   "cell_type": "code",
   "execution_count": 4,
   "id": "b6fb08bb",
   "metadata": {},
   "outputs": [
    {
     "name": "stdout",
     "output_type": "stream",
     "text": [
      "factorial of 5 is : 120\n"
     ]
    }
   ],
   "source": [
    "fact = factorial(5)\n",
    "print(f\"factorial of 5 is : {fact}\")"
   ]
  },
  {
   "cell_type": "markdown",
   "id": "ea4f2eb8",
   "metadata": {},
   "source": [
    "- Here, `factorial(5)` calls `factorial(4)`, which calls `factorial(3)`, and so on, until it reaches `factorial(1)`."
   ]
  },
  {
   "cell_type": "markdown",
   "id": "562f1de8",
   "metadata": {},
   "source": [
    "## Example (Indirect Recursion)"
   ]
  },
  {
   "cell_type": "code",
   "execution_count": 15,
   "id": "c54f3173",
   "metadata": {},
   "outputs": [],
   "source": [
    "# variable to count how many times function called\n",
    "function_call_count = 0\n",
    "\n",
    "def functionA():\n",
    "    # Telling function's local space that i am using global variable.\n",
    "    global function_call_count \n",
    "    \n",
    "    # Counting function call\n",
    "    function_call_count += 1\n",
    "    print(\"Printing from functionA().\")\n",
    "    \n",
    "    # Base case to break the function call otherwise it will go infinitely calling functions.\n",
    "    if function_call_count == 5:\n",
    "        return\n",
    "    \n",
    "    # function call\n",
    "    functionB()\n",
    "    \n",
    "def functionB():\n",
    "    print(\"Printing from functionB().\")\n",
    "    \n",
    "    # Function call\n",
    "    functionA()\n"
   ]
  },
  {
   "cell_type": "code",
   "execution_count": 16,
   "id": "e10c2f12",
   "metadata": {},
   "outputs": [
    {
     "name": "stdout",
     "output_type": "stream",
     "text": [
      "Printing from functionA().\n",
      "Printing from functionB().\n",
      "Printing from functionA().\n",
      "Printing from functionB().\n",
      "Printing from functionA().\n",
      "Printing from functionB().\n",
      "Printing from functionA().\n",
      "Printing from functionB().\n",
      "Printing from functionA().\n"
     ]
    }
   ],
   "source": [
    "# Calling functionA()\n",
    "functionA()"
   ]
  },
  {
   "cell_type": "markdown",
   "id": "89cb2dbb",
   "metadata": {},
   "source": [
    "## Advantages of Recursion:\n",
    "\n",
    "- Simplifies the code for problems that can naturally be divided into similar sub-problems, like tree traversals, and certain mathematical computations (e.g., Fibonacci sequence).\n",
    "- Provides a clear and straightforward approach to solve problems like backtracking and divide-and-conquer algorithms.\n"
   ]
  },
  {
   "cell_type": "markdown",
   "id": "6ed704b0",
   "metadata": {},
   "source": [
    "## Disadvantages of Recursion:\n",
    "\n",
    "- Can lead to high memory usage due to the depth of the call stack, especially if the recursion depth is large.\n",
    "- May result in slower performance compared to iterative solutions because of the overhead of multiple function calls.\n",
    "- Risk of stack overflow if the base case is not properly defined or if the problem size is too large."
   ]
  },
  {
   "cell_type": "markdown",
   "id": "822baa3e",
   "metadata": {},
   "source": [
    "# Tail Recursion:\n",
    "\n",
    "- A special form of recursion where the recursive call is the last operation in the function.\n",
    "\n",
    "- Tail recursion can be optimized by the compiler to avoid increasing the call stack, converting the recursion into iteration internally.\n"
   ]
  },
  {
   "cell_type": "markdown",
   "id": "20d6e798",
   "metadata": {},
   "source": [
    "## Example"
   ]
  },
  {
   "cell_type": "code",
   "execution_count": 18,
   "id": "3cae362d",
   "metadata": {},
   "outputs": [],
   "source": [
    "def tail_recursive_factorial(number, result = 1):\n",
    "    if number == 1 or number == 0:\n",
    "        return result\n",
    "    \n",
    "    # Recursive case (only recursive case)\n",
    "    return tail_recursive_factorial(number-1, result*number)"
   ]
  },
  {
   "cell_type": "code",
   "execution_count": 19,
   "id": "50cefed4",
   "metadata": {},
   "outputs": [
    {
     "name": "stdout",
     "output_type": "stream",
     "text": [
      "CPU times: total: 0 ns\n",
      "Wall time: 0 ns\n"
     ]
    },
    {
     "data": {
      "text/plain": [
       "120"
      ]
     },
     "execution_count": 19,
     "metadata": {},
     "output_type": "execute_result"
    }
   ],
   "source": [
    "%%time\n",
    "tail_recursive_factorial(5)"
   ]
  },
  {
   "cell_type": "markdown",
   "id": "efd15d3f",
   "metadata": {},
   "source": [
    "# Conclusion\n",
    "\n",
    "- Recursion is a powerful tool in programming, enabling elegant solutions for complex problems by breaking them down into simpler sub-problems. \n",
    "- However, it requires careful implementation to manage memory and performance effectively."
   ]
  }
 ],
 "metadata": {
  "kernelspec": {
   "display_name": "Python 3 (ipykernel)",
   "language": "python",
   "name": "python3"
  },
  "language_info": {
   "codemirror_mode": {
    "name": "ipython",
    "version": 3
   },
   "file_extension": ".py",
   "mimetype": "text/x-python",
   "name": "python",
   "nbconvert_exporter": "python",
   "pygments_lexer": "ipython3",
   "version": "3.11.7"
  }
 },
 "nbformat": 4,
 "nbformat_minor": 5
}
