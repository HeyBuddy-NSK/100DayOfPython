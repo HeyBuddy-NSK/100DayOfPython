{
 "cells": [
  {
   "cell_type": "markdown",
   "metadata": {},
   "source": [
    "# Day 8\n",
    "\n",
    "## Practicing python from basics"
   ]
  },
  {
   "cell_type": "markdown",
   "metadata": {},
   "source": [
    "### Python Modules\n",
    "\n",
    "**These exercises cover some of Python modules, including `sys`, `collections`, and `statistics`, which are commonly used in various programming tasks.**"
   ]
  },
  {
   "cell_type": "markdown",
   "metadata": {},
   "source": [
    "**OS Module**"
   ]
  },
  {
   "cell_type": "markdown",
   "metadata": {},
   "source": [
    "a. Write a Python script that lists all files in a specified directory."
   ]
  },
  {
   "cell_type": "code",
   "execution_count": 4,
   "metadata": {},
   "outputs": [
    {
     "name": "stdout",
     "output_type": "stream",
     "text": [
      "******************All Files in current directory*******************\n",
      ".git\n",
      ".gitignore\n",
      ".ipynb_checkpoints\n",
      "Day_1.ipynb\n",
      "Day_2.ipynb\n",
      "Day_3.ipynb\n",
      "Day_4.ipynb\n",
      "Day_5.ipynb\n",
      "Day_6.ipynb\n",
      "Day_7.5.ipynb\n",
      "Day_7.ipynb\n",
      "Day_8.ipynb\n",
      "README.md\n",
      "series.txt\n"
     ]
    }
   ],
   "source": [
    "# importing os module\n",
    "import os\n",
    "\n",
    "# calling listdir() function to list all files in current directory\n",
    "dir_list = os.listdir()\n",
    "\n",
    "# printing all files from current directory\n",
    "print(\"******************All Files in current directory*******************\")\n",
    "for dir in dir_list:\n",
    "    print(dir)"
   ]
  },
  {
   "cell_type": "code",
   "execution_count": 8,
   "metadata": {},
   "outputs": [
    {
     "name": "stdout",
     "output_type": "stream",
     "text": [
      "*****************All Files in given directory********************\n",
      "class_demo.py\n",
      "cmd_line_args.py\n",
      "demo.py\n",
      "github\n",
      "github cop\n",
      "lexico_next_permutation.py\n",
      "lord_ganesha.py\n",
      "note.py\n",
      "pyauto.py\n",
      "reader\n",
      "refresh.py\n",
      "sample_lord_ganesh.py\n",
      "sys_path_test\n",
      "words.py\n",
      "words_module.py\n",
      "__pycache__\n"
     ]
    }
   ],
   "source": [
    "# importing os module\n",
    "import os\n",
    "\n",
    "# Defining function to list files\n",
    "def specific_dir_list(path):    \n",
    "\n",
    "    # collecting all files from directory\n",
    "    all_files = os.listdir(path)\n",
    "\n",
    "    # Printing all files from directory\n",
    "    print(\"*****************All Files in given directory********************\")\n",
    "    for file in all_files:\n",
    "        print(file)\n",
    "\n",
    "# Path to specific directory\n",
    "path = \"C:/users/nkendre/Documents/practice\"\n",
    "\n",
    "# calling function to get files / passing path to the function.\n",
    "specific_dir_list(path)"
   ]
  },
  {
   "cell_type": "markdown",
   "metadata": {},
   "source": [
    "b. Create a program that checks if a file exists in a given path using the `os.path` module."
   ]
  },
  {
   "cell_type": "code",
   "execution_count": 13,
   "metadata": {},
   "outputs": [
    {
     "name": "stdout",
     "output_type": "stream",
     "text": [
      "Hurray! C:/users/nkendre/Documents/practice Exists.\n",
      "Error : C:/users/nkendre/Documents/practice1 does not exist.\n"
     ]
    }
   ],
   "source": [
    "# importing os module\n",
    "import os\n",
    "\n",
    "# creating variables\n",
    "path = \"C:/users/nkendre/Documents/practice\"\n",
    "path1 = \"C:/users/nkendre/Documents/practice1\"\n",
    "\n",
    "# Checking if path exists\n",
    "def check_path(path_val):\n",
    "    \"\"\"\n",
    "    os.path.exists() return boolean value True or False.\n",
    "    if path exists, then True\n",
    "    if not, then False.\n",
    "\n",
    "    \"\"\"\n",
    "    path_ex = os.path.exists(path_val)\n",
    "\n",
    "    # print\n",
    "    if path_ex:\n",
    "        print(f\"Hurray! {path_val} Exists.\")\n",
    "    else:\n",
    "        print(f\"Error : {path_val} does not exist.\")\n",
    "\n",
    "\n",
    "    \n",
    "check_path(path)\n",
    "check_path(path1)\n"
   ]
  },
  {
   "cell_type": "markdown",
   "metadata": {},
   "source": [
    "c. Write a script that creates a new directory and then deletes it."
   ]
  },
  {
   "cell_type": "code",
   "execution_count": 17,
   "metadata": {},
   "outputs": [
    {
     "name": "stdout",
     "output_type": "stream",
     "text": [
      "nsk - Directory created successfully\n",
      "nsk - Directory Deleted Successfully\n"
     ]
    }
   ],
   "source": [
    "# importing os module\n",
    "import os\n",
    "\n",
    "# creating a function to delete a directory\n",
    "def delete_dir(name_path):\n",
    "\n",
    "    # calling rmdir() function to delete a directory\n",
    "    os.rmdir(name_path)\n",
    "\n",
    "    # printing the message\n",
    "    print(f\"{name_path} - Directory Deleted Successfully\")\n",
    "\n",
    "# creating a function to create a directory\n",
    "def create_dir(name_path):\n",
    "\n",
    "    # calling mkdir() function to create a directory\n",
    "    os.mkdir(name_path)\n",
    "\n",
    "    # printing the message\n",
    "    print(f\"{name_path} - Directory created successfully\")\n",
    "\n",
    "    # calling function to delete the directory\n",
    "    delete_dir(name_path)\n",
    "\n",
    "\n",
    "\n",
    "## calling function to create a directory.\n",
    "create_dir('nsk')\n"
   ]
  },
  {
   "cell_type": "markdown",
   "metadata": {},
   "source": [
    "**Time Module**"
   ]
  },
  {
   "cell_type": "markdown",
   "metadata": {},
   "source": [
    "a. Develop a stopwatch program that records the time elapsed between pressing start and stop."
   ]
  },
  {
   "cell_type": "code",
   "execution_count": 21,
   "metadata": {},
   "outputs": [
    {
     "name": "stdout",
     "output_type": "stream",
     "text": [
      "Elapsed time :: 6.280593395233154\n"
     ]
    }
   ],
   "source": [
    "# importing time module\n",
    "import time\n",
    "\n",
    "# creating stopwatch.\n",
    "def stopwatch():\n",
    "    input(\"Press enter to start the stopwatch.\")\n",
    "    start_time = time.time()\n",
    "\n",
    "    input(\"Press Enter to stop the stopwatch.\")\n",
    "    end_time = time.time()\n",
    "    \n",
    "    elapsed_time = end_time-start_time\n",
    "\n",
    "    return elapsed_time\n",
    "    \n",
    "\n",
    "\n",
    "elapsed = stopwatch()\n",
    "\n",
    "print(f\"Elapsed time :: {elapsed}\")"
   ]
  },
  {
   "cell_type": "markdown",
   "metadata": {},
   "source": [
    "b. Create a digital clock that updates every second using the `time` module."
   ]
  },
  {
   "cell_type": "code",
   "execution_count": 29,
   "metadata": {},
   "outputs": [
    {
     "name": "stdout",
     "output_type": "stream",
     "text": [
      " 14 : 53 : 25"
     ]
    },
    {
     "ename": "KeyboardInterrupt",
     "evalue": "",
     "output_type": "error",
     "traceback": [
      "\u001b[1;31m---------------------------------------------------------------------------\u001b[0m",
      "\u001b[1;31mKeyboardInterrupt\u001b[0m                         Traceback (most recent call last)",
      "Cell \u001b[1;32mIn[29], line 19\u001b[0m\n\u001b[0;32m     14\u001b[0m         \u001b[38;5;28mprint\u001b[39m(\u001b[38;5;124mf\u001b[39m\u001b[38;5;124m\"\u001b[39m\u001b[38;5;130;01m\\r\u001b[39;00m\u001b[38;5;124m \u001b[39m\u001b[38;5;132;01m{\u001b[39;00mhour\u001b[38;5;132;01m}\u001b[39;00m\u001b[38;5;124m : \u001b[39m\u001b[38;5;132;01m{\u001b[39;00mminute\u001b[38;5;132;01m}\u001b[39;00m\u001b[38;5;124m : \u001b[39m\u001b[38;5;132;01m{\u001b[39;00mseconds\u001b[38;5;132;01m}\u001b[39;00m\u001b[38;5;124m\"\u001b[39m,end\u001b[38;5;241m=\u001b[39m\u001b[38;5;124m'\u001b[39m\u001b[38;5;124m'\u001b[39m,flush\u001b[38;5;241m=\u001b[39m\u001b[38;5;28;01mTrue\u001b[39;00m) \u001b[38;5;66;03m# here flush removes previous output of print\u001b[39;00m\n\u001b[0;32m     16\u001b[0m         time\u001b[38;5;241m.\u001b[39msleep(\u001b[38;5;241m1\u001b[39m)\n\u001b[1;32m---> 19\u001b[0m \u001b[43mdigital_clock\u001b[49m\u001b[43m(\u001b[49m\u001b[43m)\u001b[49m\n",
      "Cell \u001b[1;32mIn[29], line 16\u001b[0m, in \u001b[0;36mdigital_clock\u001b[1;34m()\u001b[0m\n\u001b[0;32m     12\u001b[0m seconds \u001b[38;5;241m=\u001b[39m current_time\u001b[38;5;241m.\u001b[39mtm_sec\n\u001b[0;32m     14\u001b[0m \u001b[38;5;28mprint\u001b[39m(\u001b[38;5;124mf\u001b[39m\u001b[38;5;124m\"\u001b[39m\u001b[38;5;130;01m\\r\u001b[39;00m\u001b[38;5;124m \u001b[39m\u001b[38;5;132;01m{\u001b[39;00mhour\u001b[38;5;132;01m}\u001b[39;00m\u001b[38;5;124m : \u001b[39m\u001b[38;5;132;01m{\u001b[39;00mminute\u001b[38;5;132;01m}\u001b[39;00m\u001b[38;5;124m : \u001b[39m\u001b[38;5;132;01m{\u001b[39;00mseconds\u001b[38;5;132;01m}\u001b[39;00m\u001b[38;5;124m\"\u001b[39m,end\u001b[38;5;241m=\u001b[39m\u001b[38;5;124m'\u001b[39m\u001b[38;5;124m'\u001b[39m,flush\u001b[38;5;241m=\u001b[39m\u001b[38;5;28;01mTrue\u001b[39;00m) \u001b[38;5;66;03m# here flush removes previous output of print\u001b[39;00m\n\u001b[1;32m---> 16\u001b[0m \u001b[43mtime\u001b[49m\u001b[38;5;241;43m.\u001b[39;49m\u001b[43msleep\u001b[49m\u001b[43m(\u001b[49m\u001b[38;5;241;43m1\u001b[39;49m\u001b[43m)\u001b[49m\n",
      "\u001b[1;31mKeyboardInterrupt\u001b[0m: "
     ]
    }
   ],
   "source": [
    "# importing time module\n",
    "import time\n",
    "\n",
    "# creating digital clock function\n",
    "def digital_clock():\n",
    "\n",
    "    # infinite loop to print time continuously\n",
    "    while True:\n",
    "        \n",
    "        # getting current time from time.localtime() module\n",
    "        # here localtime() is for our country time.\n",
    "        current_time = time.localtime()\n",
    "\n",
    "        # getting hours from our current time.\n",
    "        hour = current_time.tm_hour\n",
    "\n",
    "        # getting minutes from our current time.\n",
    "        minute = current_time.tm_min\n",
    "\n",
    "        # getting seconds from our current time.\n",
    "        seconds = current_time.tm_sec\n",
    "\n",
    "        # printing time in clock format.\n",
    "        print(f\"\\r {hour} : {minute} : {seconds}\",end='',flush=True) # here flush removes previous output of print\n",
    "\n",
    "        # sleep is to get time as our clock. like interval of 1 second.\n",
    "        time.sleep(1)\n",
    "\n",
    "# calling digital clock function\n",
    "digital_clock()"
   ]
  },
  {
   "cell_type": "markdown",
   "metadata": {},
   "source": [
    "2. c. Write a script that calculates the execution time of a function using the `time` module."
   ]
  },
  {
   "cell_type": "code",
   "execution_count": 30,
   "metadata": {},
   "outputs": [
    {
     "name": "stdout",
     "output_type": "stream",
     "text": [
      "Function took 3.00 seconds to execute\n"
     ]
    }
   ],
   "source": [
    "# importing time module\n",
    "import time \n",
    "\n",
    "# creating demo function to calculate execution time.\n",
    "def time_func():\n",
    "\n",
    "    # using time.sleep() for process in function.\n",
    "    time.sleep(3)\n",
    "\n",
    "\n",
    "start_time = time.time()\n",
    "time_func()\n",
    "end_time = time.time()\n",
    "\n",
    "exec_time = end_time-start_time\n",
    "\n",
    "print(f\"Function took {exec_time:.2f} seconds to execute\")"
   ]
  },
  {
   "cell_type": "markdown",
   "metadata": {},
   "source": [
    "**Random Module**"
   ]
  },
  {
   "cell_type": "markdown",
   "metadata": {},
   "source": [
    "a. Generate a random password with a specified length.\n",
    "   "
   ]
  },
  {
   "cell_type": "code",
   "execution_count": 42,
   "metadata": {},
   "outputs": [
    {
     "name": "stdout",
     "output_type": "stream",
     "text": [
      "Unique Password for you :: xpolqh&88\n"
     ]
    }
   ],
   "source": [
    "import random\n",
    "alpha = 'abcdefghijklmnopqrstuvwxyz'\n",
    "special = '!@#$%^&*_'\n",
    "numbers = '1234567890'\n",
    "\n",
    "alphas = random.choices(alpha,k=6)\n",
    "spec = random.choice(special)\n",
    "nums = random.choices(numbers,k=2)\n",
    "\n",
    "password = \"\".join(alphas)+spec+\"\".join(nums)\n",
    "print(f\"Unique Password for you :: {password}\")"
   ]
  },
  {
   "cell_type": "markdown",
   "metadata": {},
   "source": [
    "b. Create a simple dice rolling game using the `random` module.\n"
   ]
  },
  {
   "cell_type": "code",
   "execution_count": 52,
   "metadata": {},
   "outputs": [
    {
     "name": "stdout",
     "output_type": "stream",
     "text": [
      "3\n"
     ]
    }
   ],
   "source": [
    "import random\n",
    "\n",
    "def roll_dice():\n",
    "    choice = random.randint(1,6)\n",
    "    return choice\n",
    "\n",
    "result = roll_dice()\n",
    "print(result)"
   ]
  },
  {
   "cell_type": "markdown",
   "metadata": {},
   "source": [
    "c. Implement a program that shuffles a deck of cards using the `random` module."
   ]
  },
  {
   "cell_type": "code",
   "execution_count": 68,
   "metadata": {},
   "outputs": [
    {
     "data": {
      "text/plain": [
       "[6, 4, 2, 3, 1, 5]"
      ]
     },
     "execution_count": 68,
     "metadata": {},
     "output_type": "execute_result"
    }
   ],
   "source": [
    "\"\"\"\n",
    "checking shuffle function from random module.\n",
    "\"\"\"\n",
    "import random\n",
    "a = [1,2,3,4,5,6]\n",
    "random.shuffle(a)\n",
    "a"
   ]
  },
  {
   "cell_type": "code",
   "execution_count": 78,
   "metadata": {},
   "outputs": [
    {
     "name": "stdout",
     "output_type": "stream",
     "text": [
      "('jack', 'hearts')\n",
      "('ace', 'clubs')\n",
      "('jack', 'diamonds')\n",
      "('7', 'diamonds')\n",
      "('jack', 'spades')\n"
     ]
    }
   ],
   "source": [
    "# importing random module\n",
    "import random\n",
    "\n",
    "# defined function to create a deck\n",
    "def create_deck():\n",
    "\n",
    "    # card faces/suits\n",
    "    faces = ['diamonds','hearts','spades','clubs']\n",
    "\n",
    "    # card ranks / numbers\n",
    "    ranks = ['ace','2','3','4','5','6','7','8','9','jack','queen','king']\n",
    "\n",
    "    # creating deck\n",
    "    deck = [(rank, face) for face in faces for rank in ranks ]\n",
    "\n",
    "    # returning deck\n",
    "    return deck\n",
    "\n",
    "# shuffling the deck\n",
    "def shuffle_deck(deck):\n",
    "\n",
    "    # calling shuffle() function \n",
    "    random.shuffle(deck)\n",
    "\n",
    "\n",
    "# creating deck\n",
    "deck = create_deck()\n",
    "\n",
    "# shuffling deck\n",
    "shuffle_deck(deck)\n",
    "\n",
    "# printing\n",
    "for card in deck[:5]:\n",
    "    print(card)"
   ]
  },
  {
   "cell_type": "markdown",
   "metadata": {},
   "source": [
    "D. Create a script that generates random numbers within a specified range using the `random` module."
   ]
  },
  {
   "cell_type": "code",
   "execution_count": 10,
   "metadata": {},
   "outputs": [
    {
     "name": "stdout",
     "output_type": "stream",
     "text": [
      "[15, 12, 19, 2, 12, 8, 2]\n"
     ]
    }
   ],
   "source": [
    "# importing random module\n",
    "import random\n",
    "\n",
    "# generating random numbers\n",
    "def gen_random(start,end,count):\n",
    "\n",
    "    # using list comprehension\n",
    "    rand_nums = [random.randint(start,end) for _ in range(count)]\n",
    "\n",
    "    return rand_nums\n",
    "\n",
    "\n",
    "# defining variables\n",
    "start = 1\n",
    "end = 20\n",
    "count =7\n",
    "\n",
    "# generating random numbers.\n",
    "rand_nums = gen_random(start,end,count)\n",
    "\n",
    "# print\n",
    "print(rand_nums)"
   ]
  },
  {
   "cell_type": "markdown",
   "metadata": {},
   "source": [
    "**Math Module:**"
   ]
  },
  {
   "cell_type": "markdown",
   "metadata": {},
   "source": [
    "a. Write a Python script that calculates the factorial of a given number using the `math` module."
   ]
  },
  {
   "cell_type": "code",
   "execution_count": 3,
   "metadata": {},
   "outputs": [
    {
     "name": "stdout",
     "output_type": "stream",
     "text": [
      "Factorial of 8 is :: 40320\n"
     ]
    }
   ],
   "source": [
    "# importing math module\n",
    "import math\n",
    "\n",
    "# getting number input from user\n",
    "number = eval(input(\"Enter a number to calculate Factorial :: \"))\n",
    "\n",
    "# calculating factorial using math module\n",
    "num_fact = math.factorial(number)\n",
    "\n",
    "# printing the result\n",
    "print(F\"Factorial of {number} is :: {num_fact}\")"
   ]
  },
  {
   "cell_type": "markdown",
   "metadata": {},
   "source": [
    "b. Develop a program that computes the square root of a number using the `math` module.\n"
   ]
  },
  {
   "cell_type": "code",
   "execution_count": 5,
   "metadata": {},
   "outputs": [
    {
     "name": "stdout",
     "output_type": "stream",
     "text": [
      "Square root of 25 is :: 5.0\n"
     ]
    }
   ],
   "source": [
    "# importing math module\n",
    "import math\n",
    "\n",
    "# getting number input from user\n",
    "number = eval(input(\"Enter a number to calculate square root :: \"))\n",
    "\n",
    "# calculating square root of entered number.\n",
    "sqrt = math.sqrt(number)\n",
    "\n",
    "# printing the result\n",
    "print(f\"Square root of {number} is :: {sqrt}\")"
   ]
  },
  {
   "cell_type": "markdown",
   "metadata": {},
   "source": [
    "c. Write a Python script that calculates the area of a circle given its radius using the `math` module's `pi` constant and `pow()` function."
   ]
  },
  {
   "cell_type": "code",
   "execution_count": 13,
   "metadata": {},
   "outputs": [
    {
     "name": "stdout",
     "output_type": "stream",
     "text": [
      "Area of circle for radius 2 is :: 12.566370614359172\n"
     ]
    }
   ],
   "source": [
    "# importing math module\n",
    "import math\n",
    "\n",
    "# defining a function to calculate the area\n",
    "def calculate_area(r):\n",
    "\n",
    "    # defining pi value\n",
    "    pi = math.pi\n",
    "\n",
    "    # calculating r square\n",
    "    r_sqr = math.pow(r,2)\n",
    "    \n",
    "    # calculating area\n",
    "    area = pi*r_sqr\n",
    "\n",
    "    # returning area\n",
    "    return area\n",
    "\n",
    "# variables\n",
    "r = 2\n",
    "\n",
    "# calling area() function to calculate area\n",
    "area = calculate_area(2)\n",
    "\n",
    "# printing\n",
    "print(f\"Area of circle for radius {r} is :: {area}\")"
   ]
  },
  {
   "cell_type": "markdown",
   "metadata": {},
   "source": [
    "d. Develop a program that computes the hypotenuse of a right-angled triangle using the `math` module's `sqrt()` function and the Pythagorean theorem."
   ]
  },
  {
   "cell_type": "code",
   "execution_count": 14,
   "metadata": {},
   "outputs": [
    {
     "name": "stdout",
     "output_type": "stream",
     "text": [
      "Hypotenuse for sides 3 and 4 is :: 5.0\n"
     ]
    }
   ],
   "source": [
    "# importing math module\n",
    "import math\n",
    "\n",
    "# defining function to calculate hypotenuse\n",
    "def calculate_hypo(side1, side2):\n",
    "    \"\"\"\n",
    "    formula for hypotenuse is -\n",
    "\n",
    "    hypotenuse = Sqrt((side1^2) + (side2^2))\n",
    "    \"\"\"\n",
    "\n",
    "    # calculating squares for sides\n",
    "    side1_sqr = math.pow(side1,2)\n",
    "    side2_sqr = math.pow(side2,2)\n",
    "\n",
    "    # calculating hypotenuse\n",
    "    hypo = math.sqrt(side1_sqr+side2_sqr)\n",
    "\n",
    "    return hypo\n",
    "\n",
    "# variables\n",
    "side1 = 3\n",
    "side2 = 4\n",
    "\n",
    "# calculating hypotenuse, calling calculate_hypo()\n",
    "hypo = calculate_hypo(side1,side2)\n",
    "\n",
    "# printing\n",
    "print(F\"Hypotenuse for sides {side1} and {side2} is :: {hypo}\")"
   ]
  },
  {
   "cell_type": "markdown",
   "metadata": {},
   "source": [
    "**Datetime Module:**"
   ]
  },
  {
   "cell_type": "markdown",
   "metadata": {},
   "source": [
    "a. Write a program that prints the current date and time."
   ]
  },
  {
   "cell_type": "code",
   "execution_count": 19,
   "metadata": {},
   "outputs": [
    {
     "name": "stdout",
     "output_type": "stream",
     "text": [
      "Current date and time :: 2024-05-08 20:33:26.288045\n"
     ]
    }
   ],
   "source": [
    "# importing datetime module\n",
    "import datetime\n",
    "\n",
    "#current date and time.\n",
    "cur_dt = datetime.datetime.now()\n",
    "\n",
    "# printing\n",
    "print(f\"Current date and time :: {cur_dt}\")"
   ]
  },
  {
   "cell_type": "markdown",
   "metadata": {},
   "source": [
    "b. Create a script that calculates the difference between two given dates using the `datetime` module."
   ]
  },
  {
   "cell_type": "code",
   "execution_count": 28,
   "metadata": {},
   "outputs": [
    {
     "name": "stdout",
     "output_type": "stream",
     "text": [
      "Difference in dates :: \n",
      "25 Years :: 2 Months :: -4 Days\n"
     ]
    }
   ],
   "source": [
    "# importing datetime module\n",
    "from datetime import datetime\n",
    "\n",
    "# dates\n",
    "date1 = '12/03/1999'\n",
    "date2 = '08/05/2024'\n",
    "\n",
    "# converting string to datetime object\n",
    "date1_obj = datetime.strptime(date1,\"%d/%m/%Y\")\n",
    "date2_obj = datetime.strptime(date2,\"%d/%m/%Y\")\n",
    "\n",
    "\n",
    "# difference between two  dates.\n",
    "years = date2_obj.year - date1_obj.year\n",
    "months  = date2_obj.month - date1_obj.month\n",
    "days = date2_obj.day - date1_obj.day\n",
    "\n",
    "# printing\n",
    "print(\"Difference in dates :: \")\n",
    "print(f\"{years} Years :: {months} Months :: {days} Days\")"
   ]
  },
  {
   "cell_type": "markdown",
   "metadata": {},
   "source": [
    "c. Develop a program that converts a timestamp to a readable date and time format."
   ]
  },
  {
   "cell_type": "code",
   "execution_count": 52,
   "metadata": {},
   "outputs": [
    {
     "name": "stdout",
     "output_type": "stream",
     "text": [
      "Readable format of timestamp 1715192329.7759538 is :: 2024-05-08 23:48:49.775954\n"
     ]
    }
   ],
   "source": [
    "# importing necessary modules\n",
    "import time\n",
    "from datetime import datetime\n",
    "\n",
    "# using time module to get current timestamp\n",
    "timestamp = time.time() # it gives seconds passed since 1970-01-01\n",
    "\n",
    "# now converting timestamp to readable format\n",
    "read = datetime.fromtimestamp(timestamp)\n",
    "\n",
    "print(f\"Readable format of timestamp {timestamp} is :: {read}\")"
   ]
  },
  {
   "cell_type": "markdown",
   "metadata": {
    "vscode": {
     "languageId": "plaintext"
    }
   },
   "source": [
    "\n",
    "**Sys Module:**"
   ]
  },
  {
   "cell_type": "markdown",
   "metadata": {},
   "source": [
    "a. Write a Python script that prints command line arguments passed to it using the `sys` module."
   ]
  },
  {
   "cell_type": "code",
   "execution_count": 53,
   "metadata": {},
   "outputs": [
    {
     "name": "stdout",
     "output_type": "stream",
     "text": [
      "C:\\Users\\nkendre\\AppData\\Roaming\\Python\\Python310\\site-packages\\ipykernel_launcher.py\n",
      "--f=c:\\Users\\nkendre\\AppData\\Roaming\\jupyter\\runtime\\kernel-v2-12544X1qz5kaxY40a.json\n"
     ]
    }
   ],
   "source": [
    "# importing sys module\n",
    "import sys\n",
    "\n",
    "# printing command line arguments\n",
    "for arg in sys.argv:\n",
    "    print(arg)\n",
    "\n",
    "\n",
    "\"\"\"\n",
    "sys.argv gets command line arguments and we can use them.\n",
    "in output these are the default command line arguments.\n",
    "\"\"\""
   ]
  },
  {
   "cell_type": "markdown",
   "metadata": {},
   "source": [
    "b. Create a program that exits with a custom error message and a specified exit code using the `sys` module."
   ]
  },
  {
   "cell_type": "code",
   "execution_count": 54,
   "metadata": {},
   "outputs": [
    {
     "name": "stdout",
     "output_type": "stream",
     "text": [
      "Error : Exited from the program.\n"
     ]
    },
    {
     "ename": "SystemExit",
     "evalue": "1",
     "output_type": "error",
     "traceback": [
      "An exception has occurred, use %tb to see the full traceback.\n",
      "\u001b[1;31mSystemExit\u001b[0m\u001b[1;31m:\u001b[0m 1\n"
     ]
    },
    {
     "name": "stderr",
     "output_type": "stream",
     "text": [
      "C:\\Users\\nkendre\\AppData\\Roaming\\Python\\Python310\\site-packages\\IPython\\core\\interactiveshell.py:3513: UserWarning: To exit: use 'exit', 'quit', or Ctrl-D.\n",
      "  warn(\"To exit: use 'exit', 'quit', or Ctrl-D.\", stacklevel=1)\n"
     ]
    }
   ],
   "source": [
    "import sys\n",
    "\n",
    "def error_exit(error_message,exit_code):\n",
    "    print(f\"Error : {error_message}\")\n",
    "    sys.exit(exit_code)\n",
    "\n",
    "error_message = \"Exited from the program.\"\n",
    "exit_code = 1\n",
    "error_exit(error_message, exit_code)"
   ]
  },
  {
   "cell_type": "markdown",
   "metadata": {},
   "source": [
    "**Collections Module:**"
   ]
  },
  {
   "cell_type": "markdown",
   "metadata": {},
   "source": [
    "a. Write a script that counts the frequency of elements in a list using the `collections.Counter` class."
   ]
  },
  {
   "cell_type": "code",
   "execution_count": 66,
   "metadata": {},
   "outputs": [
    {
     "name": "stdout",
     "output_type": "stream",
     "text": [
      "element :: frequency\n",
      "1 :: 4\n",
      "2 :: 4\n",
      "3 :: 1\n",
      "5 :: 2\n",
      "6 :: 2\n",
      "7 :: 1\n",
      "4 :: 1\n"
     ]
    }
   ],
   "source": [
    "# importing collections module\n",
    "import collections\n",
    "\n",
    "# created list of numbers\n",
    "lst = [1,1,2,3,5,1,2,6,5,1,7,2,2,4,6]\n",
    "\n",
    "# counting no of times 1 occured in the list\n",
    "count = collections.Counter(lst)\n",
    "\n",
    "# printing frequency of elements\n",
    "print(f\"element :: frequency\")\n",
    "for element, freq in count.items():\n",
    "    print(f\"{element} :: {freq}\")"
   ]
  },
  {
   "cell_type": "markdown",
   "metadata": {},
   "source": [
    "b. Create a program that finds the most common element in a list using the `collections.Counter` class."
   ]
  },
  {
   "cell_type": "code",
   "execution_count": 71,
   "metadata": {},
   "outputs": [
    {
     "name": "stdout",
     "output_type": "stream",
     "text": [
      "most common element in the list is :: 7\n"
     ]
    }
   ],
   "source": [
    "# importing module\n",
    "import collections\n",
    "\n",
    "# list \n",
    "lst = [1,1,2,3,5,1,7,2,2,4,6,7,1,7,7,3,7,2,4,5,7]\n",
    "\n",
    "# using counter class\n",
    "count = collections.Counter(lst)\n",
    "\n",
    "# most common\n",
    "most_common_list = count.most_common()\n",
    "most_common = most_common_list[0][0]\n",
    "\n",
    "# print\n",
    "print(f\"most common element in the list is :: {most_common}\")\n"
   ]
  },
  {
   "cell_type": "code",
   "execution_count": 73,
   "metadata": {},
   "outputs": [
    {
     "name": "stdout",
     "output_type": "stream",
     "text": [
      "most common element is : 7\n"
     ]
    }
   ],
   "source": [
    "# another method for calculating most common element\n",
    "import statistics\n",
    "\n",
    "# most common\n",
    "most_common = statistics.mode(lst)\n",
    "print(f\"most common element is : {most_common}\")"
   ]
  },
  {
   "cell_type": "markdown",
   "metadata": {},
   "source": [
    "**Statistics Module:**"
   ]
  },
  {
   "cell_type": "markdown",
   "metadata": {},
   "source": [
    "a. Develop a script that calculates the mean, median, and mode of a list of numbers using the `statistics` module."
   ]
  },
  {
   "cell_type": "code",
   "execution_count": 74,
   "metadata": {},
   "outputs": [
    {
     "name": "stdout",
     "output_type": "stream",
     "text": [
      "mean :: 4\n",
      "median :: 4\n",
      "mode :: 7\n"
     ]
    }
   ],
   "source": [
    "# importing statistics module.\n",
    "import statistics\n",
    "\n",
    "# list\n",
    "lst_m = [1,1,2,3,5,1,7,2,2,4,6,7,1,7,7,3,7,2,4,5,7]\n",
    "\n",
    "# calculating mean\n",
    "mean = statistics.mean(lst_m)\n",
    "\n",
    "# calculating median\n",
    "median = statistics.median(lst_m)\n",
    "\n",
    "# calculating mode\n",
    "mode = statistics.mode(lst_m)\n",
    "\n",
    "# printing\n",
    "print(f\"mean :: {mean}\\nmedian :: {median}\\nmode :: {mode}\")"
   ]
  },
  {
   "cell_type": "markdown",
   "metadata": {},
   "source": [
    "b. Write a program that calculates the standard deviation of a list of numbers using the `statistics` module."
   ]
  },
  {
   "cell_type": "code",
   "execution_count": 77,
   "metadata": {},
   "outputs": [
    {
     "name": "stdout",
     "output_type": "stream",
     "text": [
      "standard deviation of given list is : 2.3874672772626644\n"
     ]
    }
   ],
   "source": [
    "# importing module\n",
    "import statistics\n",
    "\n",
    "# list\n",
    "lst_d = [1,1,2,3,5,1,7,2,2,4,6,7,1,7,7,3,7,2,4,5,7]\n",
    "\n",
    "# calculating standard deviation\n",
    "sd = statistics.stdev(lst_d)\n",
    "\n",
    "# printing\n",
    "print(f\"standard deviation of given list is : {sd}\")"
   ]
  }
 ],
 "metadata": {
  "kernelspec": {
   "display_name": "Python 3",
   "language": "python",
   "name": "python3"
  },
  "language_info": {
   "codemirror_mode": {
    "name": "ipython",
    "version": 3
   },
   "file_extension": ".py",
   "mimetype": "text/x-python",
   "name": "python",
   "nbconvert_exporter": "python",
   "pygments_lexer": "ipython3",
   "version": "3.10.3"
  }
 },
 "nbformat": 4,
 "nbformat_minor": 2
}
