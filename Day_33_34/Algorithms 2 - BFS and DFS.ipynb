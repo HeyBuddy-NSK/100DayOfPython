{
 "cells": [
  {
   "cell_type": "markdown",
   "id": "61fffad5",
   "metadata": {},
   "source": [
    "# Day 33 and 34\n",
    "\n",
    "**Practicing Python From Basics**"
   ]
  },
  {
   "cell_type": "markdown",
   "id": "2a2be6c5",
   "metadata": {},
   "source": [
    "# Breadth-First Search (BFS)\n",
    "\n",
    "Breadth-First Search (BFS) is a graph traversal algorithm that explores all the neighbors of a node before moving on to their neighbors. It uses a queue to keep track of the next node to visit.\n",
    "\n",
    "## Characteristics\n",
    "- **Traversal Type**: Level-order\n",
    "- **Data Structure Used**: Queue\n",
    "- **Complexity**: O(V + E), where V is the number of vertices and E is the number of edges\n",
    "- **Applications**: Shortest path in unweighted graphs, level-order traversal\n"
   ]
  },
  {
   "cell_type": "markdown",
   "id": "53244a86",
   "metadata": {},
   "source": [
    "## Implementation"
   ]
  },
  {
   "cell_type": "code",
   "execution_count": 6,
   "id": "1b0d9990",
   "metadata": {},
   "outputs": [],
   "source": [
    "def bfs(graph, start):\n",
    "    visited = set()\n",
    "    queue = [start]\n",
    "    \n",
    "    while queue:\n",
    "        vertex = queue.pop(0)\n",
    "        if vertex not in visited:\n",
    "            print(vertex,end=' ')\n",
    "            visited.add(vertex)\n",
    "            queue.extend(neighbor for neighbor in graph[vertex] if neighbor not in visited)"
   ]
  },
  {
   "cell_type": "markdown",
   "id": "75ef9645",
   "metadata": {},
   "source": [
    "## Creating example graph"
   ]
  },
  {
   "cell_type": "code",
   "execution_count": 7,
   "id": "d54067be",
   "metadata": {},
   "outputs": [],
   "source": [
    "graph = {\n",
    "    'A': ['B', 'C'],\n",
    "    'B': ['A', 'D', 'E'],\n",
    "    'C': ['A', 'F'],\n",
    "    'D': ['B'],\n",
    "    'E': ['B', 'F'],\n",
    "    'F': ['C', 'E']\n",
    "}"
   ]
  },
  {
   "cell_type": "markdown",
   "id": "525e5c08",
   "metadata": {},
   "source": [
    "## Calling BFS"
   ]
  },
  {
   "cell_type": "code",
   "execution_count": 8,
   "id": "cf79600a",
   "metadata": {},
   "outputs": [
    {
     "name": "stdout",
     "output_type": "stream",
     "text": [
      "A B C D E F "
     ]
    }
   ],
   "source": [
    "bfs(graph,'A')"
   ]
  },
  {
   "cell_type": "markdown",
   "id": "e04b8755",
   "metadata": {},
   "source": [
    "### Explanation\n",
    "- **Graph Representation**: The graph is represented as an adjacency list using a dictionary where keys are nodes and values are lists of adjacent nodes.\n",
    "- **Visited Set**: Keeps track of the nodes that have been visited to avoid processing a node more than once.\n",
    "- **Queue List**: Manages the nodes to be visited next. Nodes are added to the end (enqueue) and removed from the front (dequeue)."
   ]
  },
  {
   "cell_type": "markdown",
   "id": "08f0e38c",
   "metadata": {},
   "source": [
    "# Depth-First Search (DFS)\n",
    "\n",
    "Depth-First Search (DFS) is a graph traversal algorithm used to explore nodes and edges of a graph systematically. It starts at a given node and explores as far as possible along each branch before backtracking. DFS can be implemented using recursion (implicitly using the call stack) or using an explicit stack.\n",
    "\n",
    "## Characteristics\n",
    "- **Traversal Type**: Depth-first\n",
    "- **Data Structure Used**: Stack (explicitly or via recursion)\n",
    "- **Complexity**: O(V + E), where V is the number of vertices and E is the number of edges\n",
    "- **Applications**: Pathfinding, cycle detection, topological sorting, solving puzzles (e.g., mazes)\n",
    "\n",
    "## Algorithm Steps\n",
    "1. Start from the root node.\n",
    "2. Mark the current node as visited.\n",
    "3. Explore each adjacent node that has not been visited, recursively applying DFS."
   ]
  },
  {
   "cell_type": "markdown",
   "id": "54b568b9",
   "metadata": {},
   "source": [
    "## Implementation (Recursive)"
   ]
  },
  {
   "cell_type": "code",
   "execution_count": 28,
   "id": "cc26d88b",
   "metadata": {},
   "outputs": [],
   "source": [
    "def dfs_recursive(graph, vertex, visited=None):\n",
    "    if  visited is None:\n",
    "        visited = set()\n",
    "    \n",
    "    visited.add(vertex)\n",
    "    print(vertex,end=' ')\n",
    "    \n",
    "    for neighbor in sorted(graph[vertex]): # Sorting neighbors for consistent output\n",
    "        if neighbor not in visited:\n",
    "            dfs_recursive(graph,neighbor,visited)\n",
    "            \n",
    "    return visited"
   ]
  },
  {
   "cell_type": "markdown",
   "id": "75e80819",
   "metadata": {},
   "source": [
    "## creating example graph"
   ]
  },
  {
   "cell_type": "code",
   "execution_count": 17,
   "id": "1b779959",
   "metadata": {},
   "outputs": [],
   "source": [
    "graph = {\n",
    "    'A': {'B', 'C'},\n",
    "    'B': {'A', 'D', 'E'},\n",
    "    'C': {'A', 'F'},\n",
    "    'D': {'B'},\n",
    "    'E': {'B', 'F'},\n",
    "    'F': {'C', 'E'}\n",
    "}"
   ]
  },
  {
   "cell_type": "markdown",
   "id": "c511ec4c",
   "metadata": {},
   "source": [
    "## Calling dfs_recursive()"
   ]
  },
  {
   "cell_type": "code",
   "execution_count": 29,
   "id": "c1ccd06d",
   "metadata": {},
   "outputs": [
    {
     "name": "stdout",
     "output_type": "stream",
     "text": [
      "A B D E F C "
     ]
    }
   ],
   "source": [
    "visited_set = dfs_recursive(graph,'A')"
   ]
  },
  {
   "cell_type": "markdown",
   "id": "f83c4212",
   "metadata": {},
   "source": [
    "## Printing returned visited set"
   ]
  },
  {
   "cell_type": "code",
   "execution_count": 30,
   "id": "8878eab0",
   "metadata": {},
   "outputs": [
    {
     "data": {
      "text/plain": [
       "{'A', 'B', 'C', 'D', 'E', 'F'}"
      ]
     },
     "execution_count": 30,
     "metadata": {},
     "output_type": "execute_result"
    }
   ],
   "source": [
    "visited_set"
   ]
  },
  {
   "cell_type": "markdown",
   "id": "606c4bdb",
   "metadata": {},
   "source": [
    "## Implementation (Iterative)"
   ]
  },
  {
   "cell_type": "code",
   "execution_count": 34,
   "id": "8e76a530",
   "metadata": {},
   "outputs": [],
   "source": [
    "def dfs_iterative(graph, start):\n",
    "    visited = set()\n",
    "    stack = [start]\n",
    "    \n",
    "    while stack:\n",
    "        vertex = stack.pop()\n",
    "        if vertex not in visited:\n",
    "            print(vertex, end=' ')\n",
    "            visited.add(vertex)\n",
    "            stack.extend(graph[vertex]-visited)            "
   ]
  },
  {
   "cell_type": "markdown",
   "id": "fa740c11",
   "metadata": {},
   "source": [
    "## using previous graph"
   ]
  },
  {
   "cell_type": "code",
   "execution_count": 35,
   "id": "a8fa1df8",
   "metadata": {},
   "outputs": [
    {
     "name": "stdout",
     "output_type": "stream",
     "text": [
      "A B D E F C "
     ]
    }
   ],
   "source": [
    "dfs_iterative(graph,'A')"
   ]
  }
 ],
 "metadata": {
  "kernelspec": {
   "display_name": "Python 3 (ipykernel)",
   "language": "python",
   "name": "python3"
  },
  "language_info": {
   "codemirror_mode": {
    "name": "ipython",
    "version": 3
   },
   "file_extension": ".py",
   "mimetype": "text/x-python",
   "name": "python",
   "nbconvert_exporter": "python",
   "pygments_lexer": "ipython3",
   "version": "3.11.7"
  }
 },
 "nbformat": 4,
 "nbformat_minor": 5
}
