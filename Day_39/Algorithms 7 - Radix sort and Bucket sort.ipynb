{
 "cells": [
  {
   "cell_type": "markdown",
   "id": "7c626823",
   "metadata": {},
   "source": [
    "# Day 39\n",
    "\n",
    "**Practicing python from basics**"
   ]
  },
  {
   "cell_type": "markdown",
   "id": "7b25a2a3",
   "metadata": {},
   "source": [
    "# Radix sort\n",
    "\n",
    "Radix Sort is a non-comparative sorting algorithm that sorts numbers digit by digit, starting from the least significant digit to the most significant digit. It uses counting sort as a subroutine to sort.\n",
    "\n",
    "- **Complexity**: \n",
    "\n",
    "  - Best, average, and worst-case: O(nk), where \\(k\\) is the number of digits in the largest number.\n",
    "  \n",
    "- **Best for**: Sorting integers or strings of uniform length.\n",
    "\n",
    "- **Pros**: \n",
    "\n",
    "  - Very efficient for sorting integers.\n",
    "  \n",
    "  - Stable (maintains the relative order of equal elements).\n",
    "  \n",
    "- **Cons**: \n",
    "\n",
    "  - Limited to integers or fixed-length strings.\n",
    "  \n",
    "  - Requires additional memory for the counting sort subroutine.\n",
    "  "
   ]
  },
  {
   "cell_type": "markdown",
   "id": "b32c6279",
   "metadata": {},
   "source": [
    "## Implementation"
   ]
  },
  {
   "cell_type": "code",
   "execution_count": 1,
   "id": "f95fa16e",
   "metadata": {},
   "outputs": [],
   "source": [
    "def counting_sort(arr,exp):\n",
    "    n = len(arr)\n",
    "    output = [0]*n\n",
    "    count = [0]*10\n",
    "    \n",
    "    for i in range(n):\n",
    "        index = arr[i]//exp\n",
    "        count[index%10] += 1\n",
    "        \n",
    "    for i in range(1, 10):\n",
    "        count[i] += count[i-1]\n",
    "        \n",
    "    i = n-1\n",
    "    while i > 0:\n",
    "        index = arr[i]//exp\n",
    "        output[count[index%10] - 1] = arr[i]\n",
    "        count[index%10] -= 1\n",
    "        i -= 1\n",
    "        \n",
    "    for i in range(n):\n",
    "        arr[i] = output[i]\n",
    "        \n",
    "\n",
    "def radix_sort(arr):\n",
    "    max1 = max(arr)\n",
    "    \n",
    "    exp = 1\n",
    "    while max1//exp>0:\n",
    "        counting_sort(arr,exp)\n",
    "        exp *= 10\n",
    "        \n",
    "    return arr"
   ]
  },
  {
   "cell_type": "markdown",
   "id": "a7995e82",
   "metadata": {},
   "source": [
    "## Calling radix_sort to sort example list."
   ]
  },
  {
   "cell_type": "code",
   "execution_count": 2,
   "id": "f5706f63",
   "metadata": {},
   "outputs": [
    {
     "name": "stdout",
     "output_type": "stream",
     "text": [
      "Sorted list: [0, 2, 24, 45, 66, 75, 90, 802]\n"
     ]
    }
   ],
   "source": [
    "ex_list = [170, 45, 75, 90, 802, 24, 2, 66]\n",
    "sorted_list = radix_sort(ex_list)\n",
    "print(\"Sorted list:\", sorted_list)"
   ]
  },
  {
   "cell_type": "markdown",
   "id": "f3ddf27a",
   "metadata": {},
   "source": [
    "## using `%%time` to check how much time it takes"
   ]
  },
  {
   "cell_type": "code",
   "execution_count": 3,
   "id": "2abe0c7d",
   "metadata": {},
   "outputs": [
    {
     "name": "stdout",
     "output_type": "stream",
     "text": [
      "sorted list : [1, 2, 0, 3, 4, 5, 6, 7, 8, 9, 10, 11, 12, 13, 14, 15, 16, 17, 18, 19, 20, 21, 22, 23, 24, 25, 26, 27, 28, 29, 30, 31, 32, 33, 34, 35, 36, 37, 38, 39, 40, 41, 42, 43, 44, 45, 46, 47, 48, 49, 50, 51, 52, 54, 55, 56, 57, 58, 59, 60, 61, 62, 63, 64, 65, 66, 67, 68, 69, 70, 71, 72, 73, 74, 75, 76, 77, 78, 79, 80, 81, 82, 83, 84, 85, 86, 87, 88, 89, 0, 91, 92, 93, 94, 95, 96, 97, 98, 99]\n",
      "CPU times: total: 0 ns\n",
      "Wall time: 0 ns\n"
     ]
    }
   ],
   "source": [
    "%%time \n",
    "ex_list = [\n",
    "    53, 29, 77, 12, 34, 85, 42, 66, 23, 90, 55, 31, 48, 62, 75, 3, 9, 21, 39, 78, \n",
    "    49, 14, 28, 44, 50, 70, 82, 94, 18, 24, 67, 81, 2, 35, 61, 47, 8, 91, 40, 72, \n",
    "    99, 19, 38, 51, 63, 76, 88, 5, 13, 30, 59, 79, 93, 7, 26, 41, 69, 80, 54, 1, \n",
    "    32, 56, 74, 86, 92, 16, 36, 46, 68, 84, 95, 6, 27, 45, 52, 60, 73, 87, 98, 10, \n",
    "    20, 33, 64, 71, 83, 96, 15, 25, 37, 43, 57, 65, 89, 97, 4, 17, 22, 11, 58\n",
    "]\n",
    "\n",
    "sorted_list = radix_sort(ex_list)\n",
    "print(F\"sorted list : {sorted_list}\")"
   ]
  },
  {
   "cell_type": "markdown",
   "id": "b1e46f22",
   "metadata": {},
   "source": [
    "# Bucket sort\n",
    "\n",
    "Bucket Sort distributes the elements of an array into a number of buckets. Each bucket is then sorted individually, either using a different sorting algorithm or by recursively applying Bucket Sort.\n",
    "\n",
    "- **Complexity**: \n",
    "\n",
    "  - Best-case: O(n + k) when the elements are uniformly distributed across the buckets.\n",
    "  \n",
    "  - Worst-case: O(n^2) if all elements are placed in a single bucket.\n",
    "  \n",
    "- **Best for**: Uniformly distributed floating-point numbers.\n",
    "\n",
    "- **Pros**: \n",
    "\n",
    "  - Can be very efficient with uniformly distributed data.\n",
    "  \n",
    "  - Simple and intuitive.\n",
    "  \n",
    "- **Cons**: \n",
    "\n",
    "  - Efficiency depends on the distribution of the input.\n",
    "  \n",
    "  - Requires additional memory for buckets."
   ]
  },
  {
   "cell_type": "markdown",
   "id": "e577d3ac",
   "metadata": {},
   "source": [
    "## Implementation"
   ]
  },
  {
   "cell_type": "code",
   "execution_count": 13,
   "id": "c2b4760f",
   "metadata": {},
   "outputs": [],
   "source": [
    "def bucket_sort(arr):\n",
    "    n = len(arr)\n",
    "    min_val = min(arr)\n",
    "    max_val = max(arr)\n",
    "    bucket = []\n",
    "    \n",
    "    for i in range(n):\n",
    "        bucket.append([])\n",
    "        \n",
    "    for j in arr:\n",
    "        index_b = int( (j-min_val) / (max_val - min_val +1) * n )\n",
    "        bucket[index_b].append(j)\n",
    "        \n",
    "    for i in range(n):\n",
    "        bucket[i] = sorted(bucket[i])\n",
    "        \n",
    "    k = 0\n",
    "    for i in range(n):\n",
    "        for j in range(len(bucket[i])):\n",
    "            arr[k] = bucket[i][j]\n",
    "            k += 1\n",
    "            \n",
    "    return arr"
   ]
  },
  {
   "cell_type": "markdown",
   "id": "1856b32a",
   "metadata": {},
   "source": [
    "## Calling bucket_sort to sort example list."
   ]
  },
  {
   "cell_type": "code",
   "execution_count": 14,
   "id": "7adbbae2",
   "metadata": {},
   "outputs": [
    {
     "name": "stdout",
     "output_type": "stream",
     "text": [
      "Sorted list: [0.123, 0.343, 0.565, 0.656, 0.665, 0.897]\n"
     ]
    }
   ],
   "source": [
    "ex_list = [0.897, 0.565, 0.656, 0.123, 0.665, 0.343]\n",
    "sorted_list = bucket_sort(ex_list)\n",
    "print(\"Sorted list:\", sorted_list)"
   ]
  },
  {
   "cell_type": "markdown",
   "id": "fc2472ed",
   "metadata": {},
   "source": [
    "## using `%%time` to check how much time it takes"
   ]
  },
  {
   "cell_type": "code",
   "execution_count": 15,
   "id": "a6941ba0",
   "metadata": {},
   "outputs": [
    {
     "name": "stdout",
     "output_type": "stream",
     "text": [
      "sorted list : [1, 2, 3, 4, 5, 6, 7, 8, 9, 10, 11, 12, 13, 14, 15, 16, 17, 18, 19, 20, 21, 22, 23, 24, 25, 26, 27, 28, 29, 30, 31, 32, 33, 34, 35, 36, 37, 38, 39, 40, 41, 42, 43, 44, 45, 46, 47, 48, 49, 50, 51, 52, 53, 54, 55, 56, 57, 58, 59, 60, 61, 62, 63, 64, 65, 66, 67, 68, 69, 70, 71, 72, 73, 74, 75, 76, 77, 78, 79, 80, 81, 82, 83, 84, 85, 86, 87, 88, 89, 90, 91, 92, 93, 94, 95, 96, 97, 98, 99]\n",
      "CPU times: total: 0 ns\n",
      "Wall time: 1.43 ms\n"
     ]
    }
   ],
   "source": [
    "%%time \n",
    "ex_list = [\n",
    "    53, 29, 77, 12, 34, 85, 42, 66, 23, 90, 55, 31, 48, 62, 75, 3, 9, 21, 39, 78, \n",
    "    49, 14, 28, 44, 50, 70, 82, 94, 18, 24, 67, 81, 2, 35, 61, 47, 8, 91, 40, 72, \n",
    "    99, 19, 38, 51, 63, 76, 88, 5, 13, 30, 59, 79, 93, 7, 26, 41, 69, 80, 54, 1, \n",
    "    32, 56, 74, 86, 92, 16, 36, 46, 68, 84, 95, 6, 27, 45, 52, 60, 73, 87, 98, 10, \n",
    "    20, 33, 64, 71, 83, 96, 15, 25, 37, 43, 57, 65, 89, 97, 4, 17, 22, 11, 58\n",
    "]\n",
    "\n",
    "sorted_list = bucket_sort(ex_list)\n",
    "print(F\"sorted list : {sorted_list}\")"
   ]
  }
 ],
 "metadata": {
  "kernelspec": {
   "display_name": "Python 3 (ipykernel)",
   "language": "python",
   "name": "python3"
  },
  "language_info": {
   "codemirror_mode": {
    "name": "ipython",
    "version": 3
   },
   "file_extension": ".py",
   "mimetype": "text/x-python",
   "name": "python",
   "nbconvert_exporter": "python",
   "pygments_lexer": "ipython3",
   "version": "3.11.7"
  }
 },
 "nbformat": 4,
 "nbformat_minor": 5
}
