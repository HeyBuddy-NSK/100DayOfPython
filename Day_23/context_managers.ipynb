{
 "cells": [
  {
   "cell_type": "markdown",
   "metadata": {},
   "source": [
    "# Day 23\n",
    "\n",
    "**Practicing Python from Basics.**"
   ]
  },
  {
   "cell_type": "markdown",
   "metadata": {},
   "source": [
    "# Context Managers in Python : The with Statement"
   ]
  },
  {
   "cell_type": "markdown",
   "metadata": {},
   "source": [
    "- Context managers in python are a powerful tool for resource management, such as database connection and file operations.\n",
    "- The primary use of context managers is to ensure that resources are properly cleaned up after use, avoiding common issues like resource leaks."
   ]
  },
  {
   "cell_type": "markdown",
   "metadata": {},
   "source": [
    "## The with statement"
   ]
  },
  {
   "cell_type": "markdown",
   "metadata": {},
   "source": [
    "The with statement makes it easier to handle errors and manage resources by automatically taking care of setting things up and cleaning them in a simple and easy way."
   ]
  },
  {
   "cell_type": "markdown",
   "metadata": {},
   "source": [
    "### Use\n",
    "\n",
    "- To open file and close it automatically."
   ]
  },
  {
   "cell_type": "code",
   "execution_count": 1,
   "metadata": {},
   "outputs": [
    {
     "name": "stdout",
     "output_type": "stream",
     "text": [
      "The concept of time travel has fascinated humanity for centuries, sparking endless debates and inspiring countless stories. \n",
      "Imagine if we could journey to the past or future, witnessing pivotal moments firsthand. \n",
      "Such an ability would transform our understanding of history and shape our approach to future challenges. \n",
      "However, the paradoxes and potential consequences are mind-boggling. \n",
      "What if altering a single event in the past could ripple through time, changing the present in unforeseen ways? Despite these complexities, the allure of time travel remains strong in popular culture. \n",
      "Movies, books, and television shows often explore these themes, inviting audiences to ponder \"what if\" scenarios. \n",
      "This fascination with time travel reflects our deep curiosity about the unknown and our desire to transcend the limits of our current reality. \n",
      "While scientific theories about time travel are still speculative, the imaginative possibilities continue to captivate and inspire us. \n",
      "Whether as a metaphor for regret, a tool for learning, or simply a source of entertainment, time travel remains a powerful concept in our collective imagination.\n"
     ]
    }
   ],
   "source": [
    "with open(\"files/travel.txt\", 'r') as tfile:\n",
    "    content = tfile.read()\n",
    "    print(content)"
   ]
  },
  {
   "cell_type": "markdown",
   "metadata": {},
   "source": [
    "- Here, open returns a file object, and the with statement makes sure the file is closed properly after the code inside it runs, even if there is error."
   ]
  },
  {
   "cell_type": "markdown",
   "metadata": {},
   "source": [
    "## Working of Context manager"
   ]
  },
  {
   "cell_type": "markdown",
   "metadata": {},
   "source": [
    "A context manager in python must implement two special methods:\n",
    "1. `__enter__` : this method is executed at the start of the with block.\n",
    "2. `__exit__` : This method is executed at the end of the with block, even if an exception occurs."
   ]
  },
  {
   "cell_type": "markdown",
   "metadata": {},
   "source": [
    "## Creating Custom Context Manger"
   ]
  },
  {
   "cell_type": "code",
   "execution_count": 2,
   "metadata": {},
   "outputs": [
    {
     "name": "stdout",
     "output_type": "stream",
     "text": [
      "Entering the context.\n",
      "Inside the context\n",
      "Exiting the context.\n"
     ]
    }
   ],
   "source": [
    "class newContextManger:\n",
    "    def __enter__(self):\n",
    "        print(\"Entering the context.\")\n",
    "        return self\n",
    "    def __exit__(self, exc_type, exc_value, traceback):\n",
    "        print(\"Exiting the context.\")\n",
    "        if exc_type:\n",
    "            print(f\"An exception occured : {exc_value}\")\n",
    "    \n",
    "\n",
    "# Using with\n",
    "with newContextManger():\n",
    "    print(\"Inside the context\")"
   ]
  },
  {
   "cell_type": "markdown",
   "metadata": {},
   "source": [
    " - If an exception occurs, then `exc_type`, `exc_value`, and `traceback` from \\_\\_exit__() method, hold the exception type, value, and traceback information, respectively."
   ]
  },
  {
   "cell_type": "markdown",
   "metadata": {},
   "source": [
    "## Using `contextlib` for simpler Context Manager."
   ]
  },
  {
   "cell_type": "markdown",
   "metadata": {},
   "source": [
    "- The `contextlib` module provides utilities to create context managers more easily, especially using @contextmanager decorator."
   ]
  },
  {
   "cell_type": "code",
   "execution_count": 9,
   "metadata": {},
   "outputs": [
    {
     "name": "stdout",
     "output_type": "stream",
     "text": [
      "Entering the context\n",
      "Inside the context\n",
      "Exiting the context\n"
     ]
    }
   ],
   "source": [
    "# importing contextlib.\n",
    "from contextlib import contextmanager\n",
    "\n",
    "# defining function and using @contextmanager decorator.\n",
    "@contextmanager\n",
    "def new_context_manager():\n",
    "    print(\"Entering the context\")\n",
    "    yield\n",
    "    print(\"Exiting the context\")\n",
    "\n",
    "\n",
    "# using with\n",
    "\n",
    "with new_context_manager():\n",
    "    print(\"Inside the context\")\n",
    "    "
   ]
  },
  {
   "cell_type": "markdown",
   "metadata": {},
   "source": [
    "## Exception handling in \\_\\_exit__() method "
   ]
  },
  {
   "cell_type": "code",
   "execution_count": 6,
   "metadata": {},
   "outputs": [
    {
     "name": "stdout",
     "output_type": "stream",
     "text": [
      "Entering the context\n",
      "Handling Exception : An Error Occured.\n"
     ]
    }
   ],
   "source": [
    "class newContextManager:\n",
    "    def __enter__(self):\n",
    "        print(\"Entering the context\")\n",
    "        return self\n",
    "\n",
    "    def __exit__(self, exc_type, exc_value, traceback):\n",
    "        if exc_type:\n",
    "            print(f\"Handling Exception : {exc_value}\")\n",
    "            return True # to supress the exception\n",
    "\n",
    "\n",
    "# using\n",
    "with newContextManager():\n",
    "    raise ValueError(\"An Error Occured.\")"
   ]
  },
  {
   "cell_type": "markdown",
   "metadata": {},
   "source": [
    "## Example : File Handling (Custom)"
   ]
  },
  {
   "cell_type": "code",
   "execution_count": 7,
   "metadata": {},
   "outputs": [],
   "source": [
    "from contextlib import contextmanager\n",
    "\n",
    "# defining \n",
    "@contextmanager\n",
    "def open_file(name,mode):\n",
    "    f = open(name,mode)\n",
    "    try:\n",
    "        yield f\n",
    "    \n",
    "    finally:\n",
    "        f.close()\n",
    "    \n",
    "\n",
    "# using\n",
    "with open_file('files/hello.txt','w') as f:\n",
    "    f.write(\"hello world!.\")\n",
    "    "
   ]
  },
  {
   "cell_type": "markdown",
   "metadata": {},
   "source": [
    "- This context manager ensures that file is closed regardless of error."
   ]
  },
  {
   "cell_type": "markdown",
   "metadata": {},
   "source": [
    "## Creating one custom context manager without any library"
   ]
  },
  {
   "cell_type": "code",
   "execution_count": 23,
   "metadata": {},
   "outputs": [],
   "source": [
    "class Indenter:\n",
    "    def __init__(self):\n",
    "        self.indentation = 0\n",
    "\n",
    "    def __enter__(self):\n",
    "        self.indentation += 1\n",
    "        return self\n",
    "    \n",
    "    def __exit__(self,exc_type,exc_value,traceback):\n",
    "        self.indentation -=1 \n",
    "\n",
    "    def print(self, content):\n",
    "        print(\"    \"*self.indentation+content)"
   ]
  },
  {
   "cell_type": "markdown",
   "metadata": {},
   "source": [
    "### using above created ontext manager"
   ]
  },
  {
   "cell_type": "code",
   "execution_count": 24,
   "metadata": {},
   "outputs": [
    {
     "name": "stdout",
     "output_type": "stream",
     "text": [
      "    Hi!.\n",
      "        Hello!.\n",
      "            Welcome!.\n",
      "    Bye!.\n"
     ]
    }
   ],
   "source": [
    "with Indenter() as indent:\n",
    "    indent.print(\"Hi!.\")\n",
    "    with indent:\n",
    "        indent.print(\"Hello!.\")\n",
    "        with indent:\n",
    "            indent.print(\"Welcome!.\")\n",
    "\n",
    "    indent.print(\"Bye!.\")"
   ]
  },
  {
   "cell_type": "markdown",
   "metadata": {},
   "source": [
    "_For more detailed examples and advanced usage, you can refer to the full article on __Real Python__ : [here](https://realpython.com/python-with-statement/)_"
   ]
  }
 ],
 "metadata": {
  "kernelspec": {
   "display_name": "Python 3",
   "language": "python",
   "name": "python3"
  },
  "language_info": {
   "codemirror_mode": {
    "name": "ipython",
    "version": 3
   },
   "file_extension": ".py",
   "mimetype": "text/x-python",
   "name": "python",
   "nbconvert_exporter": "python",
   "pygments_lexer": "ipython3",
   "version": "3.10.3"
  }
 },
 "nbformat": 4,
 "nbformat_minor": 2
}
