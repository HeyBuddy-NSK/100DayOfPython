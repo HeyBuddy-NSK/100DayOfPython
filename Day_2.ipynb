{
 "cells": [
  {
   "cell_type": "markdown",
   "metadata": {},
   "source": [
    "# Day 2\n",
    "\n",
    "## Practicing python from Basics"
   ]
  },
  {
   "cell_type": "markdown",
   "metadata": {},
   "source": [
    "### Loops (for, while):\n",
    "\n",
    "1. Write a Python program to print the numbers from 1 to 10 using a for loop."
   ]
  },
  {
   "cell_type": "code",
   "execution_count": 1,
   "metadata": {},
   "outputs": [
    {
     "name": "stdout",
     "output_type": "stream",
     "text": [
      "1\n",
      "2\n",
      "3\n",
      "4\n",
      "5\n",
      "6\n",
      "7\n",
      "8\n",
      "9\n",
      "10\n"
     ]
    }
   ],
   "source": [
    "for i in range(1,11):\n",
    "    print(i)"
   ]
  },
  {
   "cell_type": "markdown",
   "metadata": {},
   "source": [
    "2. Write a Python program to find the factorial of a number using a while loop."
   ]
  },
  {
   "cell_type": "code",
   "execution_count": 2,
   "metadata": {},
   "outputs": [
    {
     "name": "stdout",
     "output_type": "stream",
     "text": [
      "120\n"
     ]
    }
   ],
   "source": [
    "num = 5\n",
    "\n",
    "temp = num # assigning temporary \n",
    "res = 1\n",
    "while num / temp != num:\n",
    "    res = res*temp\n",
    "    temp = temp - 1\n",
    "\n",
    "print(res) "
   ]
  },
  {
   "cell_type": "markdown",
   "metadata": {},
   "source": [
    "3. Write a Python program to print the Fibonacci series up to a specified number of terms using a for loop."
   ]
  },
  {
   "cell_type": "code",
   "execution_count": 9,
   "metadata": {},
   "outputs": [
    {
     "name": "stdout",
     "output_type": "stream",
     "text": [
      "\n",
      " ------------------------------ RESULT -----------------------------\n",
      "\n",
      "0\n",
      "1\n",
      "1\n",
      "2\n",
      "3\n",
      "5\n",
      "8\n"
     ]
    }
   ],
   "source": [
    "num = int(input(\"Enter a number to print Fib series :: \"))\n",
    "\n",
    "n1, n2 = 0, 1\n",
    "\n",
    "\n",
    "for n in range(num):\n",
    "    print(n1)\n",
    "    next_v = n1+n2\n",
    "    n1,n2 = n2,next_v"
   ]
  },
  {
   "cell_type": "markdown",
   "metadata": {},
   "source": [
    "4. Write a Python program to check whether a number entered by the user is prime or not using a while loop."
   ]
  },
  {
   "cell_type": "code",
   "execution_count": 18,
   "metadata": {},
   "outputs": [
    {
     "name": "stdout",
     "output_type": "stream",
     "text": [
      "\n",
      " ------------------------------ RESULT -----------------------------\n",
      "\n",
      "Given number is a prime number\n"
     ]
    }
   ],
   "source": [
    "num = int(input(\"Enter a number to check prime or not :: \"))\n",
    "\n",
    "print(\"\\n ------------------------------ RESULT -----------------------------\\n\")\n",
    "flg = False\n",
    "n = 2\n",
    "while n <= num //2:\n",
    "    if num % n == 0:\n",
    "        flg = True\n",
    "    n = n+1\n",
    "\n",
    "if flg:\n",
    "    print(\"Given number is not a prime number\")\n",
    "else :\n",
    "    print(\"Given number is a prime number\")"
   ]
  },
  {
   "cell_type": "markdown",
   "metadata": {},
   "source": [
    "5. Write a Python program to print a multiplication table of a number entered by the user using a for loop."
   ]
  },
  {
   "cell_type": "code",
   "execution_count": 21,
   "metadata": {},
   "outputs": [
    {
     "name": "stdout",
     "output_type": "stream",
     "text": [
      "\n",
      " ------------------------------ RESULT -----------------------------\n",
      "\n",
      " 12 x 1    = 12\n",
      " 12 x 2    = 24\n",
      " 12 x 3    = 36\n",
      " 12 x 4    = 48\n",
      " 12 x 5    = 60\n",
      " 12 x 6    = 72\n",
      " 12 x 7    = 84\n",
      " 12 x 8    = 96\n",
      " 12 x 9    = 108\n",
      " 12 x 10    = 120\n"
     ]
    }
   ],
   "source": [
    "num = int(input(\"Enter a number to print Multiplication table :: \"))\n",
    "\n",
    "print(\"\\n ------------------------------ RESULT -----------------------------\\n\")\n",
    "\n",
    "for n in range(1, 11):\n",
    "    print(f\" {num} x {n}    = {num*n}\")"
   ]
  },
  {
   "cell_type": "markdown",
   "metadata": {},
   "source": [
    "### Break and Continue Statements:\n",
    "\n",
    "1.  Write a Python program to find the sum of all even numbers between 1 to 50, but stop the loop if the sum exceeds 200."
   ]
  },
  {
   "cell_type": "code",
   "execution_count": 24,
   "metadata": {},
   "outputs": [
    {
     "name": "stdout",
     "output_type": "stream",
     "text": [
      "Sum of all even numbers between 1 to 50 with condition is ::  210\n"
     ]
    }
   ],
   "source": [
    "even_sum = 0\n",
    "for num in range(1, 50):\n",
    "    if even_sum > 200:\n",
    "        break\n",
    "    if num % 2 ==0 :\n",
    "        even_sum = even_sum + num\n",
    "\n",
    "print(\"Sum of all even numbers between 1 to 50 with condition is :: \", even_sum)"
   ]
  },
  {
   "cell_type": "markdown",
   "metadata": {},
   "source": [
    "2.  Write a Python program to print all the prime numbers between 1 to 100, skipping even numbers."
   ]
  },
  {
   "cell_type": "code",
   "execution_count": 32,
   "metadata": {},
   "outputs": [
    {
     "name": "stdout",
     "output_type": "stream",
     "text": [
      "\n",
      " ------------------------------ RESULT -----------------------------\n",
      "\n",
      "3\n",
      "5\n",
      "7\n",
      "11\n",
      "13\n",
      "17\n",
      "19\n",
      "23\n",
      "29\n",
      "31\n",
      "37\n",
      "41\n",
      "43\n",
      "47\n",
      "53\n",
      "59\n",
      "61\n",
      "67\n",
      "71\n",
      "73\n",
      "79\n",
      "83\n",
      "89\n",
      "97\n"
     ]
    }
   ],
   "source": [
    "print(\"\\n ------------------------------ RESULT -----------------------------\\n\")\n",
    "for num in range(2,100):\n",
    "    flg = False\n",
    "    if num % 2 == 0:\n",
    "        continue\n",
    "    \n",
    "    for n in range(2, num//2):\n",
    "        if num % n == 0:\n",
    "            flg = True\n",
    "    \n",
    "    if not flg:\n",
    "        print(num)"
   ]
  },
  {
   "cell_type": "markdown",
   "metadata": {},
   "source": [
    "3.  Write a Python program to find the first 10 numbers divisible by 3, but skip those divisible by 6."
   ]
  },
  {
   "cell_type": "code",
   "execution_count": 48,
   "metadata": {},
   "outputs": [
    {
     "name": "stdout",
     "output_type": "stream",
     "text": [
      "\n",
      " ------------------------------ RESULT -----------------------------\n",
      "\n",
      "3\n",
      "9\n",
      "15\n",
      "21\n",
      "27\n",
      "33\n",
      "39\n",
      "45\n",
      "51\n",
      "57\n"
     ]
    }
   ],
   "source": [
    "print(\"\\n ------------------------------ RESULT -----------------------------\\n\")\n",
    "count = 0\n",
    "n = 1\n",
    "while n>=1:\n",
    "    if n % 3 == 0 and n % 6 != 0:\n",
    "        print(n)\n",
    "        count = count+1\n",
    "    if count == 10:\n",
    "        break\n",
    "    n = n+1"
   ]
  },
  {
   "cell_type": "markdown",
   "metadata": {},
   "source": [
    "4.  Write a Python program to find the factorial of a number entered by the user, but if the number is negative, display an error message and stop."
   ]
  },
  {
   "cell_type": "code",
   "execution_count": 52,
   "metadata": {},
   "outputs": [
    {
     "name": "stdout",
     "output_type": "stream",
     "text": [
      "Factorial of given number is :: \n",
      "720\n"
     ]
    }
   ],
   "source": [
    "num = int(input(\"Enter a number :: \"))\n",
    "\n",
    "if num<0:\n",
    "    print(\"Please enter a positive number!\")\n",
    "else: \n",
    "    print(\"Factorial of given number is :: \")\n",
    "    res = 1\n",
    "    \n",
    "    for n in range(2, num+1):\n",
    "        res = res*n\n",
    "        \n",
    "    print(res)"
   ]
  },
  {
   "cell_type": "markdown",
   "metadata": {},
   "source": [
    "5.  Write a Python program to calculate the square of numbers from 1 to 10, but if the square is greater than 50, skip it."
   ]
  },
  {
   "cell_type": "code",
   "execution_count": 54,
   "metadata": {},
   "outputs": [
    {
     "name": "stdout",
     "output_type": "stream",
     "text": [
      "\n",
      " ------------------------------ RESULT -----------------------------\n",
      "\n",
      "1\n",
      "4\n",
      "9\n",
      "16\n",
      "25\n",
      "36\n",
      "49\n"
     ]
    }
   ],
   "source": [
    "print(\"\\n ------------------------------ RESULT -----------------------------\\n\")\n",
    "for n in range(1, 10):\n",
    "    square = n**2\n",
    "    if square > 50:\n",
    "        continue\n",
    "    else: \n",
    "        print(square)\n"
   ]
  },
  {
   "cell_type": "markdown",
   "metadata": {},
   "source": [
    "### Writing Functions, Passing Arguments, Returning Values:\n",
    "\n",
    "1.  Write a Python function to calculate the area of a circle given its radius."
   ]
  },
  {
   "cell_type": "code",
   "execution_count": 55,
   "metadata": {},
   "outputs": [
    {
     "name": "stdout",
     "output_type": "stream",
     "text": [
      "Area of circle for given radius is ::  28.26\n"
     ]
    }
   ],
   "source": [
    "def area_of_circle(r):\n",
    "    pi = 3.14\n",
    "    return pi*(r**2)\n",
    "\n",
    "r = 3\n",
    "area = area_of_circle(r)\n",
    "print(\"Area of circle for given radius is :: \",area)"
   ]
  },
  {
   "cell_type": "markdown",
   "metadata": {},
   "source": [
    "2.  Write a Python function to check whether a number is even or odd."
   ]
  },
  {
   "cell_type": "code",
   "execution_count": 57,
   "metadata": {},
   "outputs": [
    {
     "name": "stdout",
     "output_type": "stream",
     "text": [
      "Given number is even\n"
     ]
    }
   ],
   "source": [
    "def even_odd(num):\n",
    "    if num%2 == 0:\n",
    "        return \"Given number is even\"\n",
    "    else: \n",
    "        return \"Given number is odd\"\n",
    "    \n",
    "num = 6\n",
    "res = even_odd(num)\n",
    "print(res)"
   ]
  },
  {
   "cell_type": "markdown",
   "metadata": {},
   "source": [
    "3.  Write a Python function to check whether a number is prime."
   ]
  },
  {
   "cell_type": "code",
   "execution_count": 74,
   "metadata": {},
   "outputs": [
    {
     "name": "stdout",
     "output_type": "stream",
     "text": [
      "Given number is a prime number\n"
     ]
    }
   ],
   "source": [
    "def prime(num):\n",
    "    flg = False\n",
    "    for n in range(2, (num//2)+1):\n",
    "        if num % n == 0:\n",
    "            flg = True\n",
    "            break\n",
    "    if flg:\n",
    "        return \"Given number is not a prime number\"\n",
    "    else:\n",
    "        return \"Given number is a prime number\"\n",
    "    \n",
    "num = 7\n",
    "res = prime(num)\n",
    "print(res)"
   ]
  },
  {
   "cell_type": "markdown",
   "metadata": {},
   "source": [
    "4.  Write a Python function to reverse a given string."
   ]
  },
  {
   "cell_type": "code",
   "execution_count": 89,
   "metadata": {},
   "outputs": [
    {
     "name": "stdout",
     "output_type": "stream",
     "text": [
      "Reversed String for prathmesh is hsemhtarp\n"
     ]
    }
   ],
   "source": [
    "def rev_string(g_str):\n",
    "    return g_str[::-1]\n",
    "\n",
    "g_str = input(\"Enter a string :: \")\n",
    "rev_str = rev_string(g_str)\n",
    "print(f\"Reversed String for {g_str} is {rev_str}\")"
   ]
  },
  {
   "cell_type": "markdown",
   "metadata": {},
   "source": [
    "5.  Write a Python function to calculate the factorial of a number."
   ]
  },
  {
   "cell_type": "code",
   "execution_count": 90,
   "metadata": {},
   "outputs": [
    {
     "name": "stdout",
     "output_type": "stream",
     "text": [
      "Factorial of Given number is ::  120\n"
     ]
    }
   ],
   "source": [
    "def fact(num):\n",
    "    if num == 0:\n",
    "        return 1\n",
    "    \n",
    "    return num*fact(num-1)\n",
    "\n",
    "num = int(input(\"Enter a number :: \"))\n",
    "res = fact(num)\n",
    "print(f\"Factorial of Given number is :: \", res)"
   ]
  }
 ],
 "metadata": {
  "kernelspec": {
   "display_name": "Python 3",
   "language": "python",
   "name": "python3"
  },
  "language_info": {
   "codemirror_mode": {
    "name": "ipython",
    "version": 3
   },
   "file_extension": ".py",
   "mimetype": "text/x-python",
   "name": "python",
   "nbconvert_exporter": "python",
   "pygments_lexer": "ipython3",
   "version": "3.10.3"
  }
 },
 "nbformat": 4,
 "nbformat_minor": 2
}
