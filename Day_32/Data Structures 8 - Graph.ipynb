{
 "cells": [
  {
   "cell_type": "markdown",
   "id": "86f6828d",
   "metadata": {},
   "source": [
    "# Day 32\n",
    "\n",
    "**Practicing Python From Basics**"
   ]
  },
  {
   "cell_type": "markdown",
   "id": "7d5e1ff3",
   "metadata": {},
   "source": [
    "# Graph"
   ]
  },
  {
   "cell_type": "markdown",
   "id": "686e8065",
   "metadata": {},
   "source": [
    "- A graph is a data structure that consists of a set of vertices (nodes) and a set of edges (connections between nodes). \n",
    "- Graphs are used to model pairwise relations between objects. \n",
    "- They are widely used in various fields, including computer networks, social networks, biological networks, and more."
   ]
  },
  {
   "cell_type": "markdown",
   "id": "ac2b0a84",
   "metadata": {},
   "source": [
    "**For detailed explaination visit :**\n",
    "\n",
    "1. https://www.programiz.com/dsa/graph \n",
    "\n",
    "2. https://www.w3schools.com/dsa/dsa_theory_graphs.php \n",
    "\n",
    "3. https://www.geeksforgeeks.org/graph-data-structure-and-algorithms/"
   ]
  },
  {
   "cell_type": "markdown",
   "id": "efc8d831",
   "metadata": {},
   "source": [
    "## Types of Graphs\n",
    "\n",
    "- **Directed Graph (Digraph)**: Edges have a direction, indicating a one-way relationship.\n",
    "- **Undirected Graph**: Edges do not have a direction, indicating a bidirectional relationship.\n",
    "- **Weighted Graph**: Edges have weights, representing the cost or distance between nodes.\n",
    "- **Unweighted Graph**: Edges do not have weights."
   ]
  },
  {
   "cell_type": "markdown",
   "id": "00aca037",
   "metadata": {},
   "source": [
    "## Representation of Graphs\n",
    "- **Adjacency Matrix**: A 2D array where the cell at row i and column j indicates the presence (and possibly weight) of an edge between vertices i and j.\n",
    "- **Adjacency List**: An array of lists where each list contains the neighbors of a vertex."
   ]
  },
  {
   "cell_type": "markdown",
   "id": "c557e4f6",
   "metadata": {},
   "source": [
    "## Adjacency List Implementation\n",
    "The adjacency list is a space-efficient way to represent a graph, particularly when the graph is sparse (i.e., has fewer edges)."
   ]
  },
  {
   "cell_type": "code",
   "execution_count": 12,
   "id": "419e1e1b",
   "metadata": {},
   "outputs": [],
   "source": [
    "class Graph:\n",
    "    def __init__(self):\n",
    "        self.graph = {}\n",
    "    \n",
    "    def add_edge(self,u,v):\n",
    "        \n",
    "        # adding the edge from u to v\n",
    "        if u not in self.graph:\n",
    "            self.graph[u] = []\n",
    "            \n",
    "        self.graph[u].append(v)\n",
    "        \n",
    "        # adding the edge from v to u for undirected graph.\n",
    "        if v not in self.graph:\n",
    "            self.graph[v] = []\n",
    "            \n",
    "        self.graph[v].append(u)\n",
    "        \n",
    "    def print_graph(self):\n",
    "        # printing adjacency list representation\n",
    "        for node in self.graph:\n",
    "            print(f\"{node}: {self.graph[node]}\")"
   ]
  },
  {
   "cell_type": "markdown",
   "id": "8e2c0cf4",
   "metadata": {},
   "source": [
    "### Creating object for Graph"
   ]
  },
  {
   "cell_type": "code",
   "execution_count": 13,
   "id": "4eb318a8",
   "metadata": {},
   "outputs": [],
   "source": [
    "g = Graph()"
   ]
  },
  {
   "cell_type": "markdown",
   "id": "11f0059a",
   "metadata": {},
   "source": [
    "### Adding vertices and edges in graph"
   ]
  },
  {
   "cell_type": "code",
   "execution_count": 14,
   "id": "6d942cb4",
   "metadata": {},
   "outputs": [],
   "source": [
    "g.add_edge('A', 'B')\n",
    "g.add_edge('A', 'C')\n",
    "g.add_edge('B', 'D')\n",
    "g.add_edge('B', 'E')\n",
    "g.add_edge('C', 'F')"
   ]
  },
  {
   "cell_type": "markdown",
   "id": "082f6a64",
   "metadata": {},
   "source": [
    "### Printing the graph"
   ]
  },
  {
   "cell_type": "code",
   "execution_count": 15,
   "id": "7a018857",
   "metadata": {},
   "outputs": [
    {
     "name": "stdout",
     "output_type": "stream",
     "text": [
      "A: ['B', 'C']\n",
      "B: ['A', 'D', 'E']\n",
      "C: ['A', 'F']\n",
      "D: ['B']\n",
      "E: ['B']\n",
      "F: ['C']\n"
     ]
    }
   ],
   "source": [
    "g.print_graph()"
   ]
  },
  {
   "cell_type": "markdown",
   "id": "0ee1cfd8",
   "metadata": {},
   "source": [
    "- **Initialization**: A graph is initialized as an empty dictionary.\n",
    "- **Adding Edges**: The `add_edge` method adds edges between nodes. For an undirected graph, it adds an entry for both directions (u to v and v to u). For a directed graph, we don't need the second addition.\n",
    "- **Printing Graph**: The `print_graph` method iterates through the dictionary and prints each node and its list of adjacent nodes."
   ]
  },
  {
   "cell_type": "markdown",
   "id": "427dd903",
   "metadata": {},
   "source": [
    "## Adjacency Matrix Implementation\n",
    "\n",
    "The adjacency matrix is a straightforward way to represent a graph, especially useful for dense graphs (i.e., graphs with many edges)."
   ]
  },
  {
   "cell_type": "code",
   "execution_count": 16,
   "id": "3389292e",
   "metadata": {},
   "outputs": [],
   "source": [
    "class GraphMatrix:\n",
    "    def __init__(self,num_vertices):\n",
    "        self.V = num_vertices\n",
    "        \n",
    "        # creating 2D list (matrix) with zeros\n",
    "        self.graph = [[0]* num_vertices for _ in range(num_vertices)]\n",
    "        \n",
    "    def add_edge(self, u, v):\n",
    "        #adding the edge from u to v\n",
    "        self.graph[u][v] = 1\n",
    "        \n",
    "        # adding the edge from v to u for undirected graph\n",
    "        self.graph[v][u] = 1\n",
    "        \n",
    "    def print_graph(self):\n",
    "        # printing the adjacency matrix representation\n",
    "        for row in self.graph:\n",
    "            print(\" \".join(map(str, row)))        "
   ]
  },
  {
   "cell_type": "markdown",
   "id": "ef0bc337",
   "metadata": {},
   "source": [
    "### Creating object for GraphMatrix"
   ]
  },
  {
   "cell_type": "code",
   "execution_count": 17,
   "id": "fc51c855",
   "metadata": {},
   "outputs": [],
   "source": [
    "g_matrix = GraphMatrix(4) # 4 is number of vertices we will add"
   ]
  },
  {
   "cell_type": "markdown",
   "id": "7cc6d105",
   "metadata": {},
   "source": [
    "### Adding vertices and edges"
   ]
  },
  {
   "cell_type": "code",
   "execution_count": 18,
   "id": "adfc2c71",
   "metadata": {},
   "outputs": [],
   "source": [
    "g_matrix.add_edge(0, 1)\n",
    "g_matrix.add_edge(0, 2)\n",
    "g_matrix.add_edge(1, 2)\n",
    "g_matrix.add_edge(2, 3)"
   ]
  },
  {
   "cell_type": "markdown",
   "id": "91909e9b",
   "metadata": {},
   "source": [
    "### Printing the graph"
   ]
  },
  {
   "cell_type": "code",
   "execution_count": 19,
   "id": "36bbce2b",
   "metadata": {},
   "outputs": [
    {
     "name": "stdout",
     "output_type": "stream",
     "text": [
      "0 1 1 0\n",
      "1 0 1 0\n",
      "1 1 0 1\n",
      "0 0 1 0\n"
     ]
    }
   ],
   "source": [
    "g_matrix.print_graph()"
   ]
  },
  {
   "cell_type": "markdown",
   "id": "7ad10ed6",
   "metadata": {},
   "source": [
    "- **Initialization**: A graph is initialized as a 2D list (matrix) of size `num_vertices x num_vertices` with all elements set to 0. Each row and column represents a vertex.\n",
    "- **Adding Edges**: The `add_edge` method sets the value to 1 at the intersection of the row and column indices corresponding to the vertices being connected. For an undirected graph, it sets both `graph[u][v]` and `graph[v][u]` to 1. For a directed graph, we don't need the second assignment.\n",
    "- **Printing Graph**: The `print_graph` method iterates through the matrix and prints each row, showing the connections between vertices."
   ]
  }
 ],
 "metadata": {
  "kernelspec": {
   "display_name": "Python 3 (ipykernel)",
   "language": "python",
   "name": "python3"
  },
  "language_info": {
   "codemirror_mode": {
    "name": "ipython",
    "version": 3
   },
   "file_extension": ".py",
   "mimetype": "text/x-python",
   "name": "python",
   "nbconvert_exporter": "python",
   "pygments_lexer": "ipython3",
   "version": "3.11.7"
  }
 },
 "nbformat": 4,
 "nbformat_minor": 5
}
