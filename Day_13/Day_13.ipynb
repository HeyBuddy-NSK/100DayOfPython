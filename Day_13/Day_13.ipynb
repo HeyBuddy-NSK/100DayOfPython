{
 "cells": [
  {
   "cell_type": "markdown",
   "metadata": {},
   "source": [
    "# Day 13 (Learning Requests and APIs)\n",
    "\n",
    "## Practicing Python From Basics"
   ]
  },
  {
   "cell_type": "markdown",
   "metadata": {},
   "source": [
    "### Requests"
   ]
  },
  {
   "cell_type": "markdown",
   "metadata": {
    "vscode": {
     "languageId": "plaintext"
    }
   },
   "source": [
    "1. **GET Request:**\n",
    "\n",
    "   Write a Python script that sends a GET request to a website of your choice and prints the status code of the response."
   ]
  },
  {
   "cell_type": "code",
   "execution_count": 4,
   "metadata": {},
   "outputs": [
    {
     "name": "stdout",
     "output_type": "stream",
     "text": [
      "Status code for get request is :: 200\n"
     ]
    }
   ],
   "source": [
    "# importing requests library\n",
    "import requests\n",
    "\n",
    "# using get method to send get request\n",
    "res = requests.get(\"https://www.linkedin.com/\")\n",
    "\n",
    "# printing status code\n",
    "print(f\"Status code for get request is :: {res.status_code}\")\n",
    "# 200 status code means get request successfull."
   ]
  },
  {
   "cell_type": "markdown",
   "metadata": {},
   "source": [
    "2. **POST Request:**\n",
    "\n",
    "   Write a Python script that sends a POST request to a dummy API (like Reqres.in) with some data (e.g., name, email) and prints the response."
   ]
  },
  {
   "cell_type": "code",
   "execution_count": 9,
   "metadata": {},
   "outputs": [
    {
     "name": "stdout",
     "output_type": "stream",
     "text": [
      "<!DOCTYPE html>\n",
      "<html lang=\"en\">\n",
      "    <head>\n",
      "        <!-- Google Tag Manager -->\n",
      "        <script>\n",
      "            ;(function (w, d, s, l, i) {\n",
      "                w[l] = w[l] || []\n",
      "                w[l].push({\n",
      "                    'gtm.start': new Date().getTime(),\n",
      "                    event: 'gtm.js',\n",
      "                })\n",
      "                var f = d.getElementsByTagName(s)[0],\n",
      "                    j = d.createElement(s),\n",
      "                    dl = l != 'dataLayer' ? '&l=' + l : ''\n",
      "                j.async = true\n",
      " \n"
     ]
    }
   ],
   "source": [
    "# import module\n",
    "import requests\n",
    "\n",
    "# data to post\n",
    "info = {\"user\":\"nsk\"}\n",
    "\n",
    "# sending post request\n",
    "res = requests.post('https://reqres.in/',json=info)\n",
    "\n",
    "# printing text\n",
    "print(res.text[:500])"
   ]
  },
  {
   "cell_type": "markdown",
   "metadata": {},
   "source": [
    "3. **Headers and Parameters:**\n",
    "\n",
    "   Modify the previous script to include custom headers and parameters in the request. Experiment with different headers like User-Agent or custom parameters."
   ]
  },
  {
   "cell_type": "code",
   "execution_count": 28,
   "metadata": {},
   "outputs": [
    {
     "name": "stdout",
     "output_type": "stream",
     "text": [
      "<!DOCTYPE html>\n",
      "\n",
      "\n",
      "    \n",
      "    \n",
      "    \n",
      "    \n",
      "    \n",
      "    \n",
      "    \n",
      "    \n",
      "\n",
      "    \n",
      "    \n",
      "    \n",
      "    \n",
      "\n",
      "    \n",
      "    <html lang=\"en\">\n",
      "      <head>\n",
      "        <meta name=\"pageKey\" content=\"d_homepage-guest-home\">\n",
      "<!----><!---->        <meta name=\"locale\" content=\"en_US\">\n",
      "        <meta id=\"config\" data-app-version=\"2.1.1385\" data-call-tree-id=\"AAYYUhgzStOY8Bo27VV+pg==\" data-jet-tags=\"guest-homepage\" data-multiproduct-name=\"homepage-guest-frontend\" data-service-name=\"homepage-guest-frontend\" data-browser-id=\"cc8b9035-be45-4d77-805e-b63f46047921\" data-enable-page-view-heartbeat-tracking data-page-instance=\"urn:li:page:d_homepage-guest-home;IIPqTXUCRvKgt1xO/cC2lw==\" data-disable-jsbeacon-pagekey-suffix=\"false\" data-member-id=\"0\">\n",
      "\n",
      "        <link rel=\"canonical\" href=\"https://www.linkedin.com/\">\n",
      "          <link rel=\"alternate\" hreflang=\"de\" href=\"https://de.linkedin.com/\">\n",
      "          <link rel=\"alternate\" hreflang=\"en-IE\" href=\"https://ie.linkedin.com/\">\n",
      "          <link rel=\"alternate\" hreflang=\"en-US\" href=\"https://www.lin\n"
     ]
    }
   ],
   "source": [
    "# import module\n",
    "import requests\n",
    "\n",
    "# headers\n",
    "headers = {'Accept-Language':'en-US,en;q=0.9'}\n",
    "\n",
    "# sending get request\n",
    "res = requests.get(\"https://www.linkedin.com/\", headers=headers)\n",
    "\n",
    "# printing\n",
    "if res.status_code == 200:\n",
    "    print(res.text[:1000])\n"
   ]
  },
  {
   "cell_type": "markdown",
   "metadata": {},
   "source": [
    "4. **File Download:**\n",
    "\n",
    "   Write a script that downloads a file from a URL using the `requests` module and saves it to your local machine.\n"
   ]
  },
  {
   "cell_type": "code",
   "execution_count": 29,
   "metadata": {},
   "outputs": [
    {
     "name": "stdout",
     "output_type": "stream",
     "text": [
      "File downloaded successfully!.\n"
     ]
    }
   ],
   "source": [
    "import requests\n",
    "\n",
    "url = 'https://pdfobject.com/pdf/sample.pdf'\n",
    "\n",
    "\n",
    "def file_download(url):\n",
    "    \n",
    "    try:\n",
    "        res = requests.get(url)\n",
    "        if res.status_code == 200:\n",
    "            with open(\"output/sample.pdf\",'wb') as pd:\n",
    "                pd.write(res.content)\n",
    "\n",
    "            print(\"File downloaded successfully!.\")\n",
    "\n",
    "        else:\n",
    "            print(f\"Failed to download. status code : {res.status_code}\")\n",
    "        \n",
    "    except requests.exceptions.RequestException as e:\n",
    "        print(f\"Request failed: {e}\")\n",
    "\n",
    "file_download(url)"
   ]
  },
  {
   "cell_type": "markdown",
   "metadata": {
    "vscode": {
     "languageId": "plaintext"
    }
   },
   "source": [
    "### API"
   ]
  },
  {
   "cell_type": "markdown",
   "metadata": {},
   "source": [
    "<div style=\"text-align: justify\"> API or Application programming interface acts as a connecting and communicating bridge between the frontend and the database working at the backend. It is a messenger that helps us to deliver our request to the resource provider and delivers the response to the user seamlessly. </div>"
   ]
  },
  {
   "cell_type": "markdown",
   "metadata": {},
   "source": [
    "### Working with API"
   ]
  },
  {
   "cell_type": "markdown",
   "metadata": {},
   "source": [
    "### GIPHY API"
   ]
  },
  {
   "cell_type": "code",
   "execution_count": 45,
   "metadata": {},
   "outputs": [
    {
     "name": "stdout",
     "output_type": "stream",
     "text": [
      "https://media2.giphy.com/media/3oriO0OEd9QIDdllqo/giphy.gif?cid=70bfcec45fefojdsefx2spm7ugjd8c9ma2mgj997ol9p9ljm&ep=v1_gifs_search&rid=giphy.gif&ct=g\n",
      "https://media0.giphy.com/media/mlvseq9yvZhba/giphy.gif?cid=70bfcec45fefojdsefx2spm7ugjd8c9ma2mgj997ol9p9ljm&ep=v1_gifs_search&rid=giphy.gif&ct=g\n",
      "https://media0.giphy.com/media/MDJ9IbxxvDUQM/giphy.gif?cid=70bfcec45fefojdsefx2spm7ugjd8c9ma2mgj997ol9p9ljm&ep=v1_gifs_search&rid=giphy.gif&ct=g\n",
      "https://media0.giphy.com/media/8vQSQ3cNXuDGo/giphy.gif?cid=70bfcec45fefojdsefx2spm7ugjd8c9ma2mgj997ol9p9ljm&ep=v1_gifs_search&rid=giphy.gif&ct=g\n",
      "https://media1.giphy.com/media/VbnUQpnihPSIgIXuZv/giphy.gif?cid=70bfcec45fefojdsefx2spm7ugjd8c9ma2mgj997ol9p9ljm&ep=v1_gifs_search&rid=giphy.gif&ct=g\n"
     ]
    }
   ],
   "source": [
    "# importing requests\n",
    "import requests\n",
    "\n",
    "# api key\n",
    "API_KEY = 'API_KEY'\n",
    "\n",
    "# defining function to get gifs\n",
    "def search_gifs(query, api_key, limit=10):\n",
    "\n",
    "    # url for searching\n",
    "    url = 'https://api.giphy.com/v1/gifs/search'\n",
    "\n",
    "    # parameters for searching\n",
    "    params = {\n",
    "        'api_key': api_key,\n",
    "        'q': query,\n",
    "        'limit': limit\n",
    "    }\n",
    "\n",
    "    # using exception handling \n",
    "    try:\n",
    "        response = requests.get(url, params=params)\n",
    "        if response.status_code == 200:\n",
    "            data = response.json()\n",
    "            return data\n",
    "        else:\n",
    "            print(\"Failed to fetch GIFs. Status code:\", response.status_code)\n",
    "            return None\n",
    "    except requests.exceptions.RequestException as e:\n",
    "        print(\"Request failed:\", e)\n",
    "        return None\n",
    "\n",
    "# calling\n",
    "query = 'cat'  # The search query\n",
    "limit = 5  # The number of GIFs to fetch (default is 10)\n",
    "\n",
    "response_data = search_gifs(query, API_KEY, limit)\n",
    "if response_data:\n",
    "    for gif in response_data['data']:\n",
    "        # Print the URL of each GIF\n",
    "        print(gif['images']['original']['url'])\n"
   ]
  },
  {
   "cell_type": "markdown",
   "metadata": {},
   "source": [
    "### News API"
   ]
  },
  {
   "cell_type": "code",
   "execution_count": 46,
   "metadata": {},
   "outputs": [
    {
     "name": "stdout",
     "output_type": "stream",
     "text": [
      "Apple doesn’t understand why you use technology\n",
      "https://www.theverge.com/2024/5/9/24152987/apple-crush-ad-piano-ipad\n",
      "\n",
      "The One Thing Holding Back Heat Pumps\n",
      "https://www.wired.com/story/heat-pump-worker-shortage/\n",
      "\n",
      "OpenAI Is ‘Exploring’ How to Responsibly Generate AI Porn\n",
      "https://www.wired.com/story/openai-is-exploring-how-to-responsibly-generate-ai-porn/\n",
      "\n",
      "Kylie Robison Joins The Verge as Senior AI Reporter\n",
      "https://www.theverge.com/2024/4/30/24145248/kylie-robison-joins-the-verge-as-senior-ai-reporter\n",
      "\n",
      "Senators Want TSA to Pump the Brakes on Facial Recognition at Airports\n",
      "https://gizmodo.com/senators-tsa-pump-brakes-facial-recognition-airports-1851454943\n",
      "\n"
     ]
    }
   ],
   "source": [
    "# importing modules\n",
    "import requests\n",
    "\n",
    "# api key assigning\n",
    "API_KEY = 'API_KEY'\n",
    "\n",
    "\n",
    "# Funcgtion to fetch new from news api.\n",
    "def fetch_news(api_key, query, language='en', page_size=5):\n",
    "    url = 'https://newsapi.org/v2/everything'\n",
    "\n",
    "    # parameters to search news\n",
    "    params = {\n",
    "        'apiKey': api_key,\n",
    "        'q': query,\n",
    "        'language': language,\n",
    "        'pageSize': page_size\n",
    "    }\n",
    "\n",
    "    try:\n",
    "        response = requests.get(url, params=params)\n",
    "        if response.status_code == 200:\n",
    "            data = response.json()\n",
    "            return data\n",
    "        else:\n",
    "            print(\"Failed to fetch news. Status code:\", response.status_code)\n",
    "            return None\n",
    "    except requests.exceptions.RequestException as e:\n",
    "        print(\"Request failed:\", e)\n",
    "        return None\n",
    "\n",
    "# calling function\n",
    "query = 'technology'  # The search query\n",
    "language = 'en'  # Language of the articles (default is English)\n",
    "page_size = 5  # Number of articles to fetch (default is 5)\n",
    "\n",
    "response_data = fetch_news(API_KEY, query, language, page_size)\n",
    "if response_data:\n",
    "    for article in response_data['articles']:\n",
    "        # printing title and url of news\n",
    "        print(article['title'])\n",
    "        print(article['url'])\n",
    "        print()\n"
   ]
  }
 ],
 "metadata": {
  "kernelspec": {
   "display_name": "Python 3",
   "language": "python",
   "name": "python3"
  },
  "language_info": {
   "codemirror_mode": {
    "name": "ipython",
    "version": 3
   },
   "file_extension": ".py",
   "mimetype": "text/x-python",
   "name": "python",
   "nbconvert_exporter": "python",
   "pygments_lexer": "ipython3",
   "version": "3.10.3"
  }
 },
 "nbformat": 4,
 "nbformat_minor": 2
}
