{
 "cells": [
  {
   "cell_type": "markdown",
   "id": "cc5880e8",
   "metadata": {},
   "source": [
    "# Day 11 \n",
    "\n",
    "## Practicing Python from basics"
   ]
  },
  {
   "cell_type": "markdown",
   "id": "ba5b756c",
   "metadata": {},
   "source": [
    "## PyPDF2\n",
    "\n",
    "**Working with PDFs using python's PyPDF2 module**"
   ]
  },
  {
   "cell_type": "code",
   "execution_count": 16,
   "id": "56e23fc3",
   "metadata": {},
   "outputs": [
    {
     "name": "stdout",
     "output_type": "stream",
     "text": [
      "Requirement already satisfied: pypdf in c:\\users\\nitin\\anaconda3\\lib\\site-packages (4.2.0)\n"
     ]
    }
   ],
   "source": [
    "# installing pypdf module\n",
    "!pip install pypdf"
   ]
  },
  {
   "cell_type": "markdown",
   "id": "710edafc",
   "metadata": {},
   "source": [
    "### **Importing the module**"
   ]
  },
  {
   "cell_type": "code",
   "execution_count": 7,
   "id": "32092922",
   "metadata": {},
   "outputs": [],
   "source": [
    "import pypdf\n",
    "from pypdf import PdfReader"
   ]
  },
  {
   "cell_type": "markdown",
   "id": "28f47cef",
   "metadata": {},
   "source": [
    "### 1. Extracting text from pdf."
   ]
  },
  {
   "cell_type": "code",
   "execution_count": 8,
   "id": "5a3d380b",
   "metadata": {},
   "outputs": [
    {
     "name": "stdout",
     "output_type": "stream",
     "text": [
      "Day_9\n",
      "May 10, 2024\n",
      "1 Day 9\n",
      "1.1 Revising Day 1 to Day 8\n",
      "Introduction to Python and Installation\n",
      "Python\n"
     ]
    }
   ],
   "source": [
    "# creating object \n",
    "reader = PdfReader(\"Day_9.pdf\")\n",
    "\n",
    "# gating all pages from pdf\n",
    "pages = reader.pages\n",
    "\n",
    "# extracting text from page 1\n",
    "page1 = pages[0].extract_text() # returns extracted text as string\n",
    "\n",
    "# printing only 1st 101 characters.\n",
    "print(page1[:101])"
   ]
  },
  {
   "cell_type": "markdown",
   "id": "6440d5b2",
   "metadata": {},
   "source": [
    "### 2. Extracting images from pages"
   ]
  },
  {
   "cell_type": "code",
   "execution_count": 2,
   "id": "c264e67e",
   "metadata": {},
   "outputs": [
    {
     "name": "stdout",
     "output_type": "stream",
     "text": [
      "Extracte Image : 1Im0.jpg\n"
     ]
    }
   ],
   "source": [
    "import pypdf\n",
    "from pypdf import PdfReader\n",
    "\n",
    "# reading pdf\n",
    "reader1 = PdfReader(\"image-pdf-sample.pdf\")\n",
    "page = reader1.pages[0]\n",
    "\n",
    "# creating a variable to count\n",
    "count = 0\n",
    "\n",
    "# getting 10 images from 1st page \n",
    "for image_file_object in page.images:\n",
    "    \n",
    "    # writing images / saving images in directory\n",
    "    with open(f\"extracted_images/{str(count) + image_file_object.name}\", \"wb\") as fp:\n",
    "        fp.write(image_file_object.data)\n",
    "        count += 1\n",
    "    print(f\"Extracte Image : {str(count) + image_file_object.name}\")\n",
    "    if count == 10:\n",
    "        break"
   ]
  },
  {
   "cell_type": "markdown",
   "id": "ea3372f6",
   "metadata": {},
   "source": [
    "### 3. Merging pdfs"
   ]
  },
  {
   "cell_type": "code",
   "execution_count": 19,
   "id": "4ad82332",
   "metadata": {},
   "outputs": [
    {
     "name": "stdout",
     "output_type": "stream",
     "text": [
      "pdf merged successfully.\n"
     ]
    }
   ],
   "source": [
    "from pypdf import PdfWriter\n",
    "\n",
    "merger = PdfWriter()\n",
    "\n",
    "input1 = open(\"Day_9.pdf\", \"rb\")\n",
    "input2 = open(\"Day_9_1.pdf\", \"rb\")\n",
    "\n",
    "# adding the first 3 pages of input1 document to output\n",
    "merger.append(fileobj=input1, pages=(0, 3))\n",
    "\n",
    "# inserting the first page of input2 into the output beginning after the second page\n",
    "merger.merge(position=2, fileobj=input2, pages=(0, 1))\n",
    "\n",
    "# Writing to an output PDF document\n",
    "output = open(\"output/document-output.pdf\", \"wb\")\n",
    "merger.write(output)\n",
    "\n",
    "# message\n",
    "print(\"pdf merged successfully.\")\n",
    "\n",
    "# Close File Descriptors\n",
    "merger.close()\n",
    "output.close()"
   ]
  },
  {
   "cell_type": "markdown",
   "id": "0a99e0d4",
   "metadata": {},
   "source": [
    "### 4. Rotating page"
   ]
  },
  {
   "cell_type": "code",
   "execution_count": 20,
   "id": "273b6be6",
   "metadata": {},
   "outputs": [],
   "source": [
    "# importing module\n",
    "from pypdf import PdfWriter, PdfReader\n",
    "\n",
    "# creating objects\n",
    "reader = PdfReader(\"Day_9.pdf\")\n",
    "writer = PdfWriter()\n",
    "\n",
    "# rotating page\n",
    "writer.add_page(reader.pages[0])\n",
    "writer.pages[0].rotate(90)\n",
    "\n",
    "# writing page to new filel\n",
    "with open(\"output/Day_9_rotated.pdf\", \"wb\") as fp:\n",
    "    writer.write(fp)"
   ]
  },
  {
   "cell_type": "markdown",
   "id": "f309327a",
   "metadata": {},
   "source": [
    "5. Removing pages"
   ]
  },
  {
   "cell_type": "code",
   "execution_count": 24,
   "id": "a5577863",
   "metadata": {},
   "outputs": [
    {
     "name": "stdout",
     "output_type": "stream",
     "text": [
      "Removed Page 2\n",
      "Removed Page 4\n"
     ]
    }
   ],
   "source": [
    "from pypdf import PdfWriter, PdfReader\n",
    "\n",
    "# reading pdf\n",
    "reader = PdfReader(\"Day_9.pdf\")\n",
    "\n",
    "# creating writer object\n",
    "writer = PdfWriter()\n",
    "\n",
    "# pages to remove\n",
    "pages_to_remove = [2,4]\n",
    "\n",
    "# reading page numbers\n",
    "for page_num in range(len(reader.pages)):\n",
    "    if page_num+1 in pages_to_remove:\n",
    "        print(f\"Removed Page {page_num+1}\")\n",
    "        continue\n",
    "    writer.add_page(reader.pages[page_num])\n",
    "\n",
    "# writing pdf after removing pages\n",
    "with open(\"output/removed_pages_day_9.pdf\",\"wb\") as pd:\n",
    "    writer.write(pd)"
   ]
  }
 ],
 "metadata": {
  "kernelspec": {
   "display_name": "Python 3 (ipykernel)",
   "language": "python",
   "name": "python3"
  },
  "language_info": {
   "codemirror_mode": {
    "name": "ipython",
    "version": 3
   },
   "file_extension": ".py",
   "mimetype": "text/x-python",
   "name": "python",
   "nbconvert_exporter": "python",
   "pygments_lexer": "ipython3",
   "version": "3.11.7"
  }
 },
 "nbformat": 4,
 "nbformat_minor": 5
}
