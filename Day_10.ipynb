{
 "cells": [
  {
   "cell_type": "markdown",
   "id": "df908774",
   "metadata": {},
   "source": [
    "# Day 10 (Regex)\n",
    "\n",
    "## Practicing python from Basics"
   ]
  },
  {
   "cell_type": "markdown",
   "id": "61ba1388",
   "metadata": {},
   "source": [
    "1. **Introduction to Regular Expressions:**\n",
    "\n",
    "   Write a Python program that prompts the user to enter a string and a regular expression pattern. The program should then use the `re` module to check if the entered string matches the pattern and print whether it's a match or not."
   ]
  },
  {
   "cell_type": "code",
   "execution_count": 8,
   "id": "aca1fa6e",
   "metadata": {},
   "outputs": [
    {
     "name": "stdout",
     "output_type": "stream",
     "text": [
      "Enter a string to match :: nsk123\n",
      "Enter a regular expression pattern :: \\w\n",
      "String matches the pattern\n"
     ]
    }
   ],
   "source": [
    "import re \n",
    "\n",
    "strn = input(\"Enter a string to match :: \")\n",
    "reg = input(\"Enter a regular expression pattern :: \")\n",
    "\n",
    "rg = re.match(reg, strn)\n",
    "\n",
    "if rg:\n",
    "    print(\"String matches the pattern\")\n",
    "    \n",
    "else:\n",
    "    print(\"String does not match the pattern\")"
   ]
  },
  {
   "cell_type": "markdown",
   "id": "5068bcd2",
   "metadata": {},
   "source": [
    "2. **Using `re` Module:**\n",
    "\n",
    "   Create a function called `count_vowels` that takes a string as input and uses regular expressions to count the number of vowels (a, e, i, o, u) in the string. Test this function with different strings and print the results."
   ]
  },
  {
   "cell_type": "code",
   "execution_count": 9,
   "id": "720a3225",
   "metadata": {},
   "outputs": [
    {
     "name": "stdout",
     "output_type": "stream",
     "text": [
      "Enter a string :: nk is the good boy for others\n",
      "count of vowels in given string :: 8\n"
     ]
    }
   ],
   "source": [
    "def count_vowels(strn):\n",
    "    reg = r\"[aeiou]\"\n",
    "    result = re.findall(reg,strn,flags=re.IGNORECASE)\n",
    "    return len(result)\n",
    "\n",
    "strn1 = input(\"Enter a string :: \")\n",
    "counts = count_vowels(strn1)\n",
    "\n",
    "print(f\"count of vowels in given string :: {counts}\")"
   ]
  },
  {
   "cell_type": "markdown",
   "id": "c0ac9b7e",
   "metadata": {},
   "source": [
    "3. **Pattern Matching and Substitution:**\n",
    "\n",
    "   Write a program that reads a text file containing sentences and replaces all occurrences of \"cat\" with \"dog\" using regular expressions. The modified sentences should be written to a new file. Test this program with a sample text file."
   ]
  },
  {
   "cell_type": "code",
   "execution_count": 10,
   "id": "b2a4e791",
   "metadata": {},
   "outputs": [
    {
     "name": "stdout",
     "output_type": "stream",
     "text": [
      "data written successfully\n",
      "1. The dog sat on the mat.\n",
      "2. I have a black dog named Luna.\n",
      "3. dogs are amazing pets.\n",
      "4. My dog loves to play with yarn.\n",
      "5. She adopted a stray dog from the shelter.\n",
      "6. There's a funny video of a dog chasing its tail.\n",
      "7. The dog's purring can be very soothing.\n",
      "8. Have you seen the new dog cafe downtown?\n",
      "9. The dog's meow woke me up early this morning.\n",
      "10. The neighbor's dog always visits our backyard.\n"
     ]
    }
   ],
   "source": [
    "import re\n",
    "\n",
    "# reading a file\n",
    "cd = open(\"cats_dogs.txt\", 'r')\n",
    "content =cd.read()\n",
    "#     print(content)\n",
    "reg = r\"(cat)\"\n",
    "rep_content = re.sub(reg,'dog',content,flags=re.IGNORECASE)\n",
    "cd.close()\n",
    "\n",
    "# print(rep_content)\n",
    "\n",
    "# writing to new file\n",
    "dd = open(\"dogs.txt\",'w')\n",
    "dd.write(rep_content)\n",
    "print(\"data written successfully\")\n",
    "dd.close()\n",
    "\n",
    "# reading new file\n",
    "drd = open(\"dogs.txt\",'r')\n",
    "dcont = drd.read()\n",
    "print(dcont)\n",
    "drd.close()"
   ]
  },
  {
   "cell_type": "markdown",
   "id": "189efd83",
   "metadata": {},
   "source": [
    "4. **Advanced Pattern Matching:**\n",
    "\n",
    "   Create a Python script that reads text and extracts only the valid email addresses using regular expressions. You can assume a simple pattern for valid email addresses (e.g., `username@example.com`)."
   ]
  },
  {
   "cell_type": "code",
   "execution_count": 11,
   "id": "8164c229",
   "metadata": {},
   "outputs": [
    {
     "name": "stdout",
     "output_type": "stream",
     "text": [
      "Valid Email addresses are :: \n",
      "john.doe@example.com\n",
      "alice_123@gmail.com\n",
      "another_user@example.com\n",
      "user123@yahoo.co.uk\n"
     ]
    }
   ],
   "source": [
    "import re\n",
    "reg_pattern = r\"\\b[A-Za-z0-9._%+-]+@[a-zA-Z0-9.-]+\\.[A-Za-z]{2,}\"\n",
    "text = \\\n",
    "\"\"\"\n",
    "john.doe@example.com \n",
    "alice_123@gmail.com\n",
    "invalid.email \n",
    "another_user@example.com\n",
    "notvalid.com test@test\n",
    "user123@yahoo.co.uk\n",
    "\n",
    "\"\"\"\n",
    "\n",
    "# finding all emails\n",
    "emails = re.findall(reg_pattern,text,flags=re.IGNORECASE)\n",
    "\n",
    "# printing \n",
    "print(\"Valid Email addresses are :: \")\n",
    "for email in emails:\n",
    "    print(email)"
   ]
  },
  {
   "cell_type": "markdown",
   "id": "e68fed47",
   "metadata": {},
   "source": [
    "5. **Password Strength Checker:**\n",
    "\n",
    "   Develop a program that checks the strength of a password entered by the user. The password should follow these rules:\n",
    "   - At least 8 characters long.\n",
    "   - Contains at least one uppercase letter, one lowercase letter, one digit, and one special character.\n",
    "   \n",
    "   Use regular expressions to validate the password against these rules and provide appropriate feedback to the user."
   ]
  },
  {
   "cell_type": "code",
   "execution_count": 12,
   "id": "41b1409e",
   "metadata": {},
   "outputs": [
    {
     "name": "stdout",
     "output_type": "stream",
     "text": [
      "Enter Password: qsDt@423\n",
      "Password is Strong!.\n"
     ]
    }
   ],
   "source": [
    "import re\n",
    "\n",
    "def pass_check(password):\n",
    "    pass_length_reg = r\".{8,}\"\n",
    "    upper_reg = r\"[A-Z]\"\n",
    "    lower_reg = r\"[a-z]\"\n",
    "    special_reg = r\"[^a-zA-Z\\d]\"\n",
    "    digit_reg = r\"\\d\"\n",
    "    \n",
    "    #checking using rules\n",
    "    if not re.search(pass_length_reg,password):\n",
    "        return \"Password must be atleast 8 character long.\"\n",
    "        \n",
    "    if not re.search(upper_reg,password):\n",
    "        return \"Password must contain atleast one uppercase character.\"\n",
    "    \n",
    "    if not re.search(lower_reg, password):\n",
    "        return \"Password must contain atleast one lowercase character.\"\n",
    "    \n",
    "    if not re.search(special_reg,password):\n",
    "        return \"Password must contain atleast one special character.\"\n",
    "    \n",
    "    if not re.search(digit_reg, password):\n",
    "        return \"Password must contain atleast one digit.\"\n",
    "    \n",
    "    \n",
    "    return \"Password is Strong!.\"\n",
    "\n",
    "\n",
    "\n",
    "password = input(\"Enter Password: \")\n",
    "result = pass_check(password)\n",
    "print(result)"
   ]
  },
  {
   "cell_type": "markdown",
   "id": "f5a4346a",
   "metadata": {},
   "source": [
    "6. **URL Extractor:**\n",
    "\n",
    "   Write a Python function that extracts all the URLs from a given text using regular expressions. The function should return a list of URLs found in the text. Test the function with different texts containing URLs."
   ]
  },
  {
   "cell_type": "code",
   "execution_count": 13,
   "id": "d15cad69",
   "metadata": {},
   "outputs": [
    {
     "name": "stdout",
     "output_type": "stream",
     "text": [
      "Urls find in text are :: \n",
      "https://example.com\n",
      "http://example.org\n",
      "www.example.net\n",
      "https://example.com?id=123&name=John\n",
      "https://example.org/search?q=python\n",
      "http://www.example.net/page?lang=en&category=tech\n",
      "https://example.com\n",
      "http://www.example.org\n"
     ]
    }
   ],
   "source": [
    "import re\n",
    "\n",
    "text = \"\"\"\n",
    "\n",
    "Here is a sample text with a URL: https://example.com. \n",
    "This text also contains another URL: http://example.org. \n",
    "Additionally, there is a URL without a scheme: www.example.net. \n",
    "Furthermore, this text includes URLs with query parameters: https://example.com?id=123&name=John, \n",
    "https://example.org/search?q=python, and http://www.example.net/page?lang=en&category=tech. \n",
    "Finally, this text has URLs enclosed within parentheses: (https://example.com) and (http://www.example.org).\n",
    "\n",
    "\"\"\"\n",
    "\n",
    "reg_patt = r\"\\b(?:https?://|www\\.)\\S+\\b\"\n",
    "\n",
    "urls = re.findall(reg_patt,text)\n",
    "\n",
    "print(\"Urls find in text are :: \")\n",
    "for url in urls:\n",
    "    print(url)"
   ]
  },
  {
   "cell_type": "markdown",
   "id": "c12c1abf",
   "metadata": {},
   "source": [
    "7. **HTML Tag Remover:**\n",
    "\n",
    "   Create a function that takes an HTML string as input and removes all HTML tags using regular expressions. The function should return the text content without any HTML tags. Test the function with various HTML strings."
   ]
  },
  {
   "cell_type": "code",
   "execution_count": 14,
   "id": "0e10e99f",
   "metadata": {},
   "outputs": [
    {
     "name": "stdout",
     "output_type": "stream",
     "text": [
      "\n",
      "\n",
      "\n",
      "\n",
      "\n",
      "    \n",
      "    \n",
      "    Hello, World!\n",
      "\n",
      "\n",
      "    Hello, World!\n",
      "    This is a sample HTML webpage.\n",
      "\n",
      "\n",
      "\n",
      "\n"
     ]
    }
   ],
   "source": [
    "import re\n",
    "\n",
    "html = \"\"\"\n",
    "\n",
    "<!DOCTYPE html>\n",
    "<html lang=\"en\">\n",
    "<head>\n",
    "    <meta charset=\"UTF-8\">\n",
    "    <meta name=\"viewport\" content=\"width=device-width, initial-scale=1.0\">\n",
    "    <title>Hello, World!</title>\n",
    "</head>\n",
    "<body>\n",
    "    <h1>Hello, World!</h1>\n",
    "    <p>This is a sample HTML webpage.</p>\n",
    "</body>\n",
    "</html>\n",
    "\n",
    "\"\"\"\n",
    "\n",
    "reg_patt = r\"<[^>]*>\"\n",
    "\n",
    "result = re.sub(reg_patt,'',html)\n",
    "\n",
    "print(result)"
   ]
  }
 ],
 "metadata": {
  "kernelspec": {
   "display_name": "Python 3 (ipykernel)",
   "language": "python",
   "name": "python3"
  },
  "language_info": {
   "codemirror_mode": {
    "name": "ipython",
    "version": 3
   },
   "file_extension": ".py",
   "mimetype": "text/x-python",
   "name": "python",
   "nbconvert_exporter": "python",
   "pygments_lexer": "ipython3",
   "version": "3.11.7"
  }
 },
 "nbformat": 4,
 "nbformat_minor": 5
}
