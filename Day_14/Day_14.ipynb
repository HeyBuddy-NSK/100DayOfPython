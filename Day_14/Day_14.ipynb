{
 "cells": [
  {
   "cell_type": "markdown",
   "id": "92a72b8c",
   "metadata": {},
   "source": [
    "# Day 14 (Database)\n",
    "\n",
    "## Practicing python from Basics"
   ]
  },
  {
   "cell_type": "markdown",
   "id": "9c644642",
   "metadata": {},
   "source": [
    "### Installing mysql python connector module"
   ]
  },
  {
   "cell_type": "code",
   "execution_count": 30,
   "id": "a8facc6e",
   "metadata": {},
   "outputs": [],
   "source": [
    "# !pip install mysql-connector-python"
   ]
  },
  {
   "cell_type": "markdown",
   "id": "0cd89488",
   "metadata": {},
   "source": [
    "### Importing mysql connector"
   ]
  },
  {
   "cell_type": "code",
   "execution_count": 31,
   "id": "467046c0",
   "metadata": {},
   "outputs": [],
   "source": [
    "import mysql.connector"
   ]
  },
  {
   "cell_type": "markdown",
   "id": "8e1539f5",
   "metadata": {},
   "source": [
    "### Creating connection to the database"
   ]
  },
  {
   "cell_type": "code",
   "execution_count": 32,
   "id": "e2d1dc23",
   "metadata": {},
   "outputs": [],
   "source": [
    "new_db = mysql.connector.connect(\n",
    "    host = 'localhost',\n",
    "    user = 'root',\n",
    "    password = 'nk@python26'\n",
    ")"
   ]
  },
  {
   "cell_type": "code",
   "execution_count": 33,
   "id": "13d59f5b",
   "metadata": {},
   "outputs": [
    {
     "name": "stdout",
     "output_type": "stream",
     "text": [
      "Connection successfull!.\n"
     ]
    }
   ],
   "source": [
    "if new_db:\n",
    "    print(\"Connection successfull!.\")"
   ]
  },
  {
   "cell_type": "markdown",
   "id": "2139e89b",
   "metadata": {},
   "source": [
    "### Creating Cursor"
   ]
  },
  {
   "cell_type": "code",
   "execution_count": 34,
   "id": "4436e8ca",
   "metadata": {},
   "outputs": [],
   "source": [
    "# creating cursor object to run sql queries\n",
    "new_cursor = new_db.cursor()"
   ]
  },
  {
   "cell_type": "markdown",
   "id": "4e130cf4",
   "metadata": {},
   "source": [
    "### Creating Database"
   ]
  },
  {
   "cell_type": "code",
   "execution_count": 35,
   "id": "c0544f6f",
   "metadata": {},
   "outputs": [],
   "source": [
    "# executing sql query to create database\n",
    "new_cursor.execute(\"CREATE DATABASE 100DayOfCode\")"
   ]
  },
  {
   "cell_type": "markdown",
   "id": "b6692709",
   "metadata": {},
   "source": [
    "### Getting all databases "
   ]
  },
  {
   "cell_type": "code",
   "execution_count": 36,
   "id": "5dad8a25",
   "metadata": {},
   "outputs": [
    {
     "name": "stdout",
     "output_type": "stream",
     "text": [
      "('100dayofcode',)\n",
      "('information_schema',)\n",
      "('mysql',)\n",
      "('performance_schema',)\n",
      "('phpmyadmin',)\n",
      "('test',)\n"
     ]
    }
   ],
   "source": [
    "# Executing sql query to get databases\n",
    "new_cursor.execute(\"SHOW DATABASES\")\n",
    "\n",
    "# printing all available databases one by one\n",
    "for database in new_cursor:\n",
    "    print(database)"
   ]
  },
  {
   "cell_type": "markdown",
   "id": "1daf8b8f",
   "metadata": {},
   "source": [
    "### Selecting database"
   ]
  },
  {
   "cell_type": "code",
   "execution_count": 37,
   "id": "a418616b",
   "metadata": {},
   "outputs": [],
   "source": [
    "# Executing sql query to select 100dayofcode database\n",
    "new_cursor.execute(\"USE 100dayofcode\")"
   ]
  },
  {
   "cell_type": "markdown",
   "id": "e0039ad9",
   "metadata": {},
   "source": [
    "### Creating Table"
   ]
  },
  {
   "cell_type": "code",
   "execution_count": 38,
   "id": "a417886a",
   "metadata": {},
   "outputs": [],
   "source": [
    "# Executing sql query to create table\n",
    "new_cursor.execute(\"CREATE TABLE progress (day VARCHAR(255), goal_complete VARCHAR(255))\")"
   ]
  },
  {
   "cell_type": "markdown",
   "id": "389a0d6a",
   "metadata": {},
   "source": [
    "### Checking for Table"
   ]
  },
  {
   "cell_type": "code",
   "execution_count": 39,
   "id": "f55d4eb2",
   "metadata": {},
   "outputs": [
    {
     "name": "stdout",
     "output_type": "stream",
     "text": [
      "('progress',)\n"
     ]
    }
   ],
   "source": [
    "# Executing sql query\n",
    "new_cursor.execute(\"SHOW TABLES\")\n",
    "\n",
    "# Printing tables one by one\n",
    "for table in new_cursor:\n",
    "    print(table)"
   ]
  },
  {
   "cell_type": "markdown",
   "id": "d000c6e8",
   "metadata": {},
   "source": [
    "### Creating Primary Key"
   ]
  },
  {
   "cell_type": "code",
   "execution_count": 40,
   "id": "d13b03a4",
   "metadata": {},
   "outputs": [],
   "source": [
    "# Executing ALTER TABLE sql command to add primary key\n",
    "new_cursor.execute(\"ALTER TABLE progress ADD COLUMN id INT AUTO_INCREMENT PRIMARY KEY\")"
   ]
  },
  {
   "cell_type": "markdown",
   "id": "aeb0d562",
   "metadata": {},
   "source": [
    "### Inserting values in table"
   ]
  },
  {
   "cell_type": "markdown",
   "id": "2ecf9da9",
   "metadata": {},
   "source": [
    "#### One row"
   ]
  },
  {
   "cell_type": "code",
   "execution_count": 41,
   "id": "db11a125",
   "metadata": {},
   "outputs": [
    {
     "name": "stdout",
     "output_type": "stream",
     "text": [
      "1 record inserted.\n"
     ]
    }
   ],
   "source": [
    "# query to insert\n",
    "sql = \"INSERT INTO progress (day, goal_complete) VALUES (%s, %s)\"\n",
    "val = ('day 13','yes')\n",
    "\n",
    "# now executing sql\n",
    "new_cursor.execute(sql,val)\n",
    "\n",
    "# commiting the changes to database\n",
    "new_db.commit()\n",
    "\n",
    "# printing number of rows inserted\n",
    "print(new_cursor.rowcount, \"record inserted.\")"
   ]
  },
  {
   "cell_type": "markdown",
   "id": "1d242451",
   "metadata": {},
   "source": [
    "#### Inserting multiple rows"
   ]
  },
  {
   "cell_type": "code",
   "execution_count": 42,
   "id": "ad3b94a8",
   "metadata": {},
   "outputs": [
    {
     "name": "stdout",
     "output_type": "stream",
     "text": [
      "12 was inserted.\n"
     ]
    }
   ],
   "source": [
    "# sql query and values\n",
    "sql = sql = \"INSERT INTO progress (day, goal_complete) VALUES (%s, %s)\"\n",
    "vals = [\n",
    "    \n",
    "    ('day 1','yes'),\n",
    "    ('day 2','yes'),\n",
    "    \n",
    "    ('day 3','yes'),\n",
    "    ('day 4','yes'),\n",
    "    \n",
    "    ('day 5','yes'),\n",
    "    ('day 6','yes'),\n",
    "    \n",
    "    ('day 7','yes'),\n",
    "    ('day 8','yes'),\n",
    "    \n",
    "    ('day 9','yes'),\n",
    "    ('day 10','yes'),\n",
    "    \n",
    "    ('day 11','yes'),\n",
    "    ('day 12','yes')\n",
    "]\n",
    "\n",
    "# executing sql query\n",
    "new_cursor.executemany(sql,vals)\n",
    "\n",
    "# commiting changes\n",
    "new_db.commit()\n",
    "\n",
    "# printing inserted row count\n",
    "print(new_cursor.rowcount,'was inserted.')"
   ]
  },
  {
   "cell_type": "code",
   "execution_count": 43,
   "id": "db290bfb",
   "metadata": {},
   "outputs": [
    {
     "name": "stdout",
     "output_type": "stream",
     "text": [
      "id of last row inserted :  2\n"
     ]
    }
   ],
   "source": [
    "# id of last row inserted\n",
    "print(\"id of last row inserted : \",new_cursor.lastrowid)"
   ]
  },
  {
   "cell_type": "markdown",
   "id": "8db121ed",
   "metadata": {},
   "source": [
    "## Fetching data from table"
   ]
  },
  {
   "cell_type": "markdown",
   "id": "1f6fd52e",
   "metadata": {},
   "source": [
    "### Fetching all values from table"
   ]
  },
  {
   "cell_type": "code",
   "execution_count": 44,
   "id": "9dc3b1c1",
   "metadata": {},
   "outputs": [
    {
     "name": "stdout",
     "output_type": "stream",
     "text": [
      "('day 13', 'yes', 1)\n",
      "('day 1', 'yes', 2)\n",
      "('day 2', 'yes', 3)\n",
      "('day 3', 'yes', 4)\n",
      "('day 4', 'yes', 5)\n",
      "('day 5', 'yes', 6)\n",
      "('day 6', 'yes', 7)\n",
      "('day 7', 'yes', 8)\n",
      "('day 8', 'yes', 9)\n",
      "('day 9', 'yes', 10)\n",
      "('day 10', 'yes', 11)\n",
      "('day 11', 'yes', 12)\n",
      "('day 12', 'yes', 13)\n"
     ]
    }
   ],
   "source": [
    "# sql query\n",
    "q = \"SELECT * FROM progress\"\n",
    "\n",
    "# executing query\n",
    "new_cursor.execute(q)\n",
    "\n",
    "# fetching values\n",
    "result = new_cursor.fetchall()\n",
    "\n",
    "# printing one by one\n",
    "for row in result:\n",
    "    print(row)"
   ]
  },
  {
   "cell_type": "markdown",
   "id": "d61a8440",
   "metadata": {},
   "source": [
    "### To select specific columns from table"
   ]
  },
  {
   "cell_type": "code",
   "execution_count": 45,
   "id": "ed37d66f",
   "metadata": {},
   "outputs": [
    {
     "name": "stdout",
     "output_type": "stream",
     "text": [
      "('day 13', 'yes')\n",
      "('day 1', 'yes')\n",
      "('day 2', 'yes')\n",
      "('day 3', 'yes')\n",
      "('day 4', 'yes')\n",
      "('day 5', 'yes')\n",
      "('day 6', 'yes')\n",
      "('day 7', 'yes')\n",
      "('day 8', 'yes')\n",
      "('day 9', 'yes')\n",
      "('day 10', 'yes')\n",
      "('day 11', 'yes')\n",
      "('day 12', 'yes')\n"
     ]
    }
   ],
   "source": [
    "# query\n",
    "q = \"SELECT day, goal_complete FROM progress\"\n",
    "\n",
    "# executing query\n",
    "new_cursor.execute(q)\n",
    "\n",
    "# fetching\n",
    "result = new_cursor.fetchall()\n",
    "\n",
    "# printing\n",
    "for row in result:\n",
    "    print(row)"
   ]
  },
  {
   "cell_type": "markdown",
   "id": "5ac95219",
   "metadata": {},
   "source": [
    "### fetching one row from result"
   ]
  },
  {
   "cell_type": "code",
   "execution_count": 46,
   "id": "b1fd395f",
   "metadata": {},
   "outputs": [
    {
     "name": "stdout",
     "output_type": "stream",
     "text": [
      "('day 13', 'yes', 1)\n"
     ]
    }
   ],
   "source": [
    "# query\n",
    "q = \"SELECT * FROM progress\"\n",
    "\n",
    "# executing\n",
    "new_cursor.execute(q)\n",
    "\n",
    "# fetching only one row\n",
    "result = new_cursor.fetchone() # this method return first row from the result\n",
    "\n",
    "# printing\n",
    "print(result)"
   ]
  },
  {
   "cell_type": "markdown",
   "id": "06803735",
   "metadata": {},
   "source": [
    "### clearing cursor"
   ]
  },
  {
   "cell_type": "code",
   "execution_count": 47,
   "id": "e0cb473f",
   "metadata": {},
   "outputs": [
    {
     "data": {
      "text/plain": [
       "[('day 1', 'yes', 2),\n",
       " ('day 2', 'yes', 3),\n",
       " ('day 3', 'yes', 4),\n",
       " ('day 4', 'yes', 5),\n",
       " ('day 5', 'yes', 6),\n",
       " ('day 6', 'yes', 7),\n",
       " ('day 7', 'yes', 8),\n",
       " ('day 8', 'yes', 9),\n",
       " ('day 9', 'yes', 10),\n",
       " ('day 10', 'yes', 11),\n",
       " ('day 11', 'yes', 12),\n",
       " ('day 12', 'yes', 13)]"
      ]
     },
     "execution_count": 47,
     "metadata": {},
     "output_type": "execute_result"
    }
   ],
   "source": [
    "new_cursor.fetchall()"
   ]
  },
  {
   "cell_type": "markdown",
   "id": "f072a031",
   "metadata": {},
   "source": [
    "### Using where clause in query "
   ]
  },
  {
   "cell_type": "code",
   "execution_count": 48,
   "id": "8d59dcd2",
   "metadata": {},
   "outputs": [
    {
     "name": "stdout",
     "output_type": "stream",
     "text": [
      "('day 7', 'yes', 8)\n"
     ]
    }
   ],
   "source": [
    "# query \n",
    "q = \"select * from progress where day='day 7'\"\n",
    "\n",
    "# execute query\n",
    "new_cursor.execute(q)\n",
    "\n",
    "# fetching all where condition meets\n",
    "result = new_cursor.fetchall()\n",
    "\n",
    "# printing\n",
    "for row in result:\n",
    "    print(row)"
   ]
  },
  {
   "cell_type": "markdown",
   "id": "2a7e2c5d",
   "metadata": {},
   "source": [
    "### Wildcard characters\n",
    "\n",
    "We can select a record that starts, include or ends with a give phrase in %__%"
   ]
  },
  {
   "cell_type": "code",
   "execution_count": 49,
   "id": "d76c1016",
   "metadata": {},
   "outputs": [
    {
     "name": "stdout",
     "output_type": "stream",
     "text": [
      "('day 13', 'yes', 1)\n",
      "('day 1', 'yes', 2)\n",
      "('day 10', 'yes', 11)\n",
      "('day 11', 'yes', 12)\n",
      "('day 12', 'yes', 13)\n"
     ]
    }
   ],
   "source": [
    "#query\n",
    "qry = \"select * from progress where day like '%1%'\" # this query selects data where day column contains 1 in it\n",
    "\n",
    "# execute\n",
    "new_cursor.execute(qry)\n",
    "\n",
    "# fetching data\n",
    "result = new_cursor.fetchall()\n",
    "\n",
    "# printing\n",
    "for row in result:\n",
    "    print(row)"
   ]
  },
  {
   "cell_type": "markdown",
   "id": "1842ef35",
   "metadata": {},
   "source": [
    "### Preventing sql injection\n",
    "\n",
    "(sql injection is common hacking technique)"
   ]
  },
  {
   "cell_type": "code",
   "execution_count": 50,
   "id": "9071c9b4",
   "metadata": {},
   "outputs": [
    {
     "name": "stdout",
     "output_type": "stream",
     "text": [
      "('day 5', 'yes', 6)\n"
     ]
    }
   ],
   "source": [
    "# to prevent sql injection we can use parameters instead of giving directly value.\n",
    "q = \"SELECT * FROM progress WHERE day=%s\"\n",
    "d = ('day 5',)\n",
    "\n",
    "# executing\n",
    "new_cursor.execute(q,d)\n",
    "\n",
    "# fetching data\n",
    "result = new_cursor.fetchall()\n",
    "\n",
    "# printing\n",
    "for row in result:\n",
    "    print(row)"
   ]
  },
  {
   "cell_type": "markdown",
   "id": "87c84c0d",
   "metadata": {},
   "source": [
    "## Sorting the result using ORDER BY"
   ]
  },
  {
   "cell_type": "markdown",
   "id": "b3b75b34",
   "metadata": {},
   "source": [
    "### Ascending"
   ]
  },
  {
   "cell_type": "code",
   "execution_count": 51,
   "id": "11e1d3ed",
   "metadata": {},
   "outputs": [
    {
     "name": "stdout",
     "output_type": "stream",
     "text": [
      "('day 1', 'yes', 2)\n",
      "('day 10', 'yes', 11)\n",
      "('day 11', 'yes', 12)\n",
      "('day 12', 'yes', 13)\n",
      "('day 13', 'yes', 1)\n",
      "('day 2', 'yes', 3)\n",
      "('day 3', 'yes', 4)\n",
      "('day 4', 'yes', 5)\n",
      "('day 5', 'yes', 6)\n",
      "('day 6', 'yes', 7)\n",
      "('day 7', 'yes', 8)\n",
      "('day 8', 'yes', 9)\n",
      "('day 9', 'yes', 10)\n"
     ]
    }
   ],
   "source": [
    "# query\n",
    "qr = \"SELECT * FROM progress ORDER BY day\"\n",
    "\n",
    "# executing\n",
    "new_cursor.execute(qr)\n",
    "\n",
    "# fetching data\n",
    "result = new_cursor.fetchall()\n",
    "\n",
    "# printing \n",
    "for row in result:\n",
    "    print(row)"
   ]
  },
  {
   "cell_type": "markdown",
   "id": "36f212b6",
   "metadata": {},
   "source": [
    "### Descending\n",
    "\n",
    "Using DESC keyword we can sort data in descending order"
   ]
  },
  {
   "cell_type": "code",
   "execution_count": 52,
   "id": "126dfbc7",
   "metadata": {},
   "outputs": [
    {
     "name": "stdout",
     "output_type": "stream",
     "text": [
      "('day 9', 'yes', 10)\n",
      "('day 8', 'yes', 9)\n",
      "('day 7', 'yes', 8)\n",
      "('day 6', 'yes', 7)\n",
      "('day 5', 'yes', 6)\n",
      "('day 4', 'yes', 5)\n",
      "('day 3', 'yes', 4)\n",
      "('day 2', 'yes', 3)\n",
      "('day 13', 'yes', 1)\n",
      "('day 12', 'yes', 13)\n",
      "('day 11', 'yes', 12)\n",
      "('day 10', 'yes', 11)\n",
      "('day 1', 'yes', 2)\n"
     ]
    }
   ],
   "source": [
    "# query\n",
    "qr = \"SELECT * FROM progress ORDER BY day DESC\"\n",
    "\n",
    "# executing\n",
    "new_cursor.execute(qr)\n",
    "\n",
    "# fetching data\n",
    "result = new_cursor.fetchall()\n",
    "\n",
    "# printing \n",
    "for row in result:\n",
    "    print(row)"
   ]
  },
  {
   "cell_type": "markdown",
   "id": "c2af374f",
   "metadata": {},
   "source": [
    "### Deleting Records from Table\n",
    "\n",
    "Using DELETE FROM command"
   ]
  },
  {
   "cell_type": "code",
   "execution_count": 53,
   "id": "d91ca442",
   "metadata": {},
   "outputs": [
    {
     "name": "stdout",
     "output_type": "stream",
     "text": [
      "1 Records deleted\n"
     ]
    }
   ],
   "source": [
    "# Query\n",
    "qr = \"DELETE FROM progress WHERE day = 'day 13'\"\n",
    "\n",
    "# executing\n",
    "new_cursor.execute(qr)\n",
    "\n",
    "# commiting the changes\n",
    "new_db.commit()\n",
    "\n",
    "# printing row deleted\n",
    "print(new_cursor.rowcount, \"Records deleted\")"
   ]
  },
  {
   "cell_type": "markdown",
   "id": "35224298",
   "metadata": {},
   "source": [
    "Escaping the values from query to prevent sql injection (sql injection is common hacking technique)"
   ]
  },
  {
   "cell_type": "code",
   "execution_count": 54,
   "id": "e99d50ac",
   "metadata": {},
   "outputs": [
    {
     "name": "stdout",
     "output_type": "stream",
     "text": [
      "1 Records deleted\n"
     ]
    }
   ],
   "source": [
    "# Query\n",
    "qr = \"DELETE FROM progress WHERE day = %s\"\n",
    "day = ('day 12',)\n",
    "\n",
    "# executing\n",
    "new_cursor.execute(qr,day)\n",
    "\n",
    "# commiting the changes\n",
    "new_db.commit()\n",
    "\n",
    "# printing row deleted\n",
    "print(new_cursor.rowcount, \"Records deleted\")"
   ]
  },
  {
   "cell_type": "markdown",
   "id": "60e3d4db",
   "metadata": {},
   "source": [
    "### Updating Table "
   ]
  },
  {
   "cell_type": "code",
   "execution_count": 55,
   "id": "eb8213fa",
   "metadata": {},
   "outputs": [
    {
     "name": "stdout",
     "output_type": "stream",
     "text": [
      "1 record updated\n"
     ]
    }
   ],
   "source": [
    "## query\n",
    "qr = \"UPDATE progress SET day = %s WHERE day = %s\"\n",
    "day = ('day_11','day 11')\n",
    "\n",
    "# executing query\n",
    "new_cursor.execute(qr,day)\n",
    "\n",
    "# commiting \n",
    "new_db.commit()\n",
    "\n",
    "# message\n",
    "print(new_cursor.rowcount,\"record updated\")"
   ]
  },
  {
   "cell_type": "code",
   "execution_count": 56,
   "id": "f96e1ca7",
   "metadata": {},
   "outputs": [
    {
     "name": "stdout",
     "output_type": "stream",
     "text": [
      "('day 1', 'yes', 2)\n",
      "('day 2', 'yes', 3)\n",
      "('day 3', 'yes', 4)\n",
      "('day 4', 'yes', 5)\n",
      "('day 5', 'yes', 6)\n",
      "('day 6', 'yes', 7)\n",
      "('day 7', 'yes', 8)\n",
      "('day 8', 'yes', 9)\n",
      "('day 9', 'yes', 10)\n",
      "('day 10', 'yes', 11)\n",
      "('day_11', 'yes', 12)\n"
     ]
    }
   ],
   "source": [
    "# checking updated values\n",
    "qr = \"select * from progress\"\n",
    "\n",
    "# executing\n",
    "new_cursor.execute(qr)\n",
    "\n",
    "# fetching\n",
    "result = new_cursor.fetchall()\n",
    "\n",
    "# print\n",
    "for row in result:\n",
    "    print(row)"
   ]
  },
  {
   "cell_type": "markdown",
   "id": "0c0eca2b",
   "metadata": {},
   "source": [
    "### Limit\n",
    "\n",
    "Limiting number of records while fetching using LIMIT keywod."
   ]
  },
  {
   "cell_type": "code",
   "execution_count": 57,
   "id": "9641c78b",
   "metadata": {},
   "outputs": [
    {
     "name": "stdout",
     "output_type": "stream",
     "text": [
      "('day 1', 'yes', 2)\n",
      "('day 2', 'yes', 3)\n",
      "('day 3', 'yes', 4)\n",
      "('day 4', 'yes', 5)\n",
      "('day 5', 'yes', 6)\n"
     ]
    }
   ],
   "source": [
    "# query\n",
    "qr = \"SELECT * FROM progress LIMIT 5\"\n",
    "\n",
    "# executing\n",
    "new_cursor.execute(qr)\n",
    "\n",
    "# fetching\n",
    "result = new_cursor.fetchall()\n",
    "\n",
    "# printing\n",
    "for row in result:\n",
    "    print(row)"
   ]
  },
  {
   "cell_type": "markdown",
   "id": "55beeab3",
   "metadata": {},
   "source": [
    "#### OFFSET \n",
    "\n",
    "Using offset to skip the rows"
   ]
  },
  {
   "cell_type": "code",
   "execution_count": 58,
   "id": "5727485f",
   "metadata": {},
   "outputs": [
    {
     "name": "stdout",
     "output_type": "stream",
     "text": [
      "('day 4', 'yes', 5)\n",
      "('day 5', 'yes', 6)\n",
      "('day 6', 'yes', 7)\n",
      "('day 7', 'yes', 8)\n",
      "('day 8', 'yes', 9)\n"
     ]
    }
   ],
   "source": [
    "# query\n",
    "qr = \"SELECT * FROM progress LIMIT 5 OFFSET 3\" # this will skip first 3 rows\n",
    "\n",
    "# executing\n",
    "new_cursor.execute(qr)\n",
    "\n",
    "# fetching\n",
    "result = new_cursor.fetchall()\n",
    "\n",
    "# printing\n",
    "for row in result:\n",
    "    print(row)"
   ]
  },
  {
   "cell_type": "markdown",
   "id": "b5183083",
   "metadata": {},
   "source": [
    "## JOINS"
   ]
  },
  {
   "cell_type": "markdown",
   "id": "ae4d0e55",
   "metadata": {},
   "source": [
    "#### Creating another table to use join"
   ]
  },
  {
   "cell_type": "code",
   "execution_count": 59,
   "id": "22361ff5",
   "metadata": {},
   "outputs": [],
   "source": [
    "# query\n",
    "qr = \"CREATE TABLE learning (day VARCHAR(255), learned VARCHAR(255))\"\n",
    "\n",
    "# Executing sql query to create table\n",
    "new_cursor.execute(qr)"
   ]
  },
  {
   "cell_type": "code",
   "execution_count": 60,
   "id": "9351467f",
   "metadata": {},
   "outputs": [
    {
     "name": "stdout",
     "output_type": "stream",
     "text": [
      "('learning',)\n",
      "('progress',)\n"
     ]
    }
   ],
   "source": [
    "# checking tables\n",
    "new_cursor.execute(\"show tables\")\n",
    "\n",
    "# print\n",
    "for table in new_cursor:\n",
    "    print(table)"
   ]
  },
  {
   "cell_type": "markdown",
   "id": "d25715cf",
   "metadata": {},
   "source": [
    "#### Inserting values"
   ]
  },
  {
   "cell_type": "code",
   "execution_count": 61,
   "id": "27e97368",
   "metadata": {},
   "outputs": [
    {
     "name": "stdout",
     "output_type": "stream",
     "text": [
      "7 was inserted.\n"
     ]
    }
   ],
   "source": [
    "# sql query and values\n",
    "sql = sql = \"INSERT INTO learning (day, learned) VALUES (%s, %s)\"\n",
    "vals = [\n",
    "    \n",
    "    ('day 1','syntax, data types, io, conditionals'),\n",
    "    ('day 2','loops'),\n",
    "    \n",
    "    ('day 3','modules, lists'),\n",
    "    ('day 4','dictionary, set'),\n",
    "    \n",
    "    ('day 5','oop concepts'),\n",
    "    ('day 6','oop concepts'),\n",
    "    \n",
    "    ('day 7','exceptions')\n",
    "]\n",
    "\n",
    "# executing sql query\n",
    "new_cursor.executemany(sql,vals)\n",
    "\n",
    "# commiting changes\n",
    "new_db.commit()\n",
    "\n",
    "# printing inserted row count\n",
    "print(new_cursor.rowcount,'was inserted.')"
   ]
  },
  {
   "cell_type": "markdown",
   "id": "e49721e2",
   "metadata": {},
   "source": [
    "### Inner JOIN"
   ]
  },
  {
   "cell_type": "code",
   "execution_count": 62,
   "id": "eb4ee998",
   "metadata": {},
   "outputs": [
    {
     "name": "stdout",
     "output_type": "stream",
     "text": [
      "('yes', 'syntax, data types, io, conditionals')\n",
      "('yes', 'loops')\n",
      "('yes', 'modules, lists')\n",
      "('yes', 'dictionary, set')\n",
      "('yes', 'oop concepts')\n",
      "('yes', 'oop concepts')\n",
      "('yes', 'exceptions')\n"
     ]
    }
   ],
   "source": [
    "\"\"\"\n",
    " on column day we can perform join\n",
    "\"\"\"\n",
    "\n",
    "# query\n",
    "qr = \"SELECT progress.goal_complete as complete, \\\n",
    "      learning.learned as completed \\\n",
    "      FROM progress \\\n",
    "      INNER JOIN learning ON progress.day = learning.day\"\n",
    "\n",
    "# executing\n",
    "new_cursor.execute(qr)\n",
    "\n",
    "# fetching\n",
    "result = new_cursor.fetchall()\n",
    "\n",
    "# printing\n",
    "for row in result:\n",
    "    print(row)"
   ]
  },
  {
   "cell_type": "markdown",
   "id": "754b47ec",
   "metadata": {},
   "source": [
    "### LEFT JOIN\n",
    "\n",
    "It will show all records from first table"
   ]
  },
  {
   "cell_type": "code",
   "execution_count": 63,
   "id": "41691195",
   "metadata": {},
   "outputs": [
    {
     "name": "stdout",
     "output_type": "stream",
     "text": [
      "('yes', 'syntax, data types, io, conditionals')\n",
      "('yes', 'loops')\n",
      "('yes', 'modules, lists')\n",
      "('yes', 'dictionary, set')\n",
      "('yes', 'oop concepts')\n",
      "('yes', 'oop concepts')\n",
      "('yes', 'exceptions')\n",
      "('yes', None)\n",
      "('yes', None)\n",
      "('yes', None)\n",
      "('yes', None)\n"
     ]
    }
   ],
   "source": [
    "# query\n",
    "qr = \"SELECT progress.goal_complete as complete, \\\n",
    "      learning.learned as completed \\\n",
    "      FROM progress \\\n",
    "      LEFT JOIN learning ON progress.day = learning.day\"\n",
    "\n",
    "# executing\n",
    "new_cursor.execute(qr)\n",
    "\n",
    "# fetching\n",
    "result = new_cursor.fetchall()\n",
    "\n",
    "# printing\n",
    "for row in result:\n",
    "    print(row)"
   ]
  },
  {
   "cell_type": "markdown",
   "id": "ddeac56c",
   "metadata": {},
   "source": [
    "### RIGHT JOIN\n",
    "\n",
    "It will show all records from second table where join performed"
   ]
  },
  {
   "cell_type": "code",
   "execution_count": 64,
   "id": "f774c37f",
   "metadata": {},
   "outputs": [
    {
     "name": "stdout",
     "output_type": "stream",
     "text": [
      "('yes', 'syntax, data types, io, conditionals')\n",
      "('yes', 'loops')\n",
      "('yes', 'modules, lists')\n",
      "('yes', 'dictionary, set')\n",
      "('yes', 'oop concepts')\n",
      "('yes', 'oop concepts')\n",
      "('yes', 'exceptions')\n"
     ]
    }
   ],
   "source": [
    "# query\n",
    "qr = \"SELECT progress.goal_complete as complete, \\\n",
    "      learning.learned as completed \\\n",
    "      FROM progress \\\n",
    "      RIGHT JOIN learning ON progress.day = learning.day\"\n",
    "\n",
    "# executing\n",
    "new_cursor.execute(qr)\n",
    "\n",
    "# fetching\n",
    "result = new_cursor.fetchall()\n",
    "\n",
    "# printing\n",
    "for row in result:\n",
    "    print(row)"
   ]
  },
  {
   "cell_type": "markdown",
   "id": "c5c31962",
   "metadata": {},
   "source": [
    "## Deleting a table from database"
   ]
  },
  {
   "cell_type": "code",
   "execution_count": 65,
   "id": "4730c2cd",
   "metadata": {},
   "outputs": [],
   "source": [
    "# query if table exists\n",
    "qr = 'DROP TABLE IF EXISTS progress, learning'\n",
    "\n",
    "# executing\n",
    "new_cursor.execute(qr)"
   ]
  },
  {
   "cell_type": "code",
   "execution_count": 66,
   "id": "af898497",
   "metadata": {},
   "outputs": [
    {
     "name": "stdout",
     "output_type": "stream",
     "text": [
      "deletedd tables\n"
     ]
    }
   ],
   "source": [
    "# checking\n",
    "new_cursor.execute(\"SHOW TABLES\")\n",
    "\n",
    "# print\n",
    "for table in new_cursor:\n",
    "    print(table)\n",
    "    \n",
    "print(\"deletedd tables\")"
   ]
  },
  {
   "cell_type": "markdown",
   "id": "2b1aff77",
   "metadata": {},
   "source": [
    "### Deleting database"
   ]
  },
  {
   "cell_type": "code",
   "execution_count": 67,
   "id": "fb046f51",
   "metadata": {},
   "outputs": [],
   "source": [
    "# query \n",
    "qr = \"DROP DATABASE 100dayofcode\"\n",
    "\n",
    "# executing\n",
    "new_cursor.execute(qr)"
   ]
  },
  {
   "cell_type": "code",
   "execution_count": 68,
   "id": "fc1f7c28",
   "metadata": {},
   "outputs": [
    {
     "name": "stdout",
     "output_type": "stream",
     "text": [
      "('information_schema',)\n",
      "('mysql',)\n",
      "('performance_schema',)\n",
      "('phpmyadmin',)\n",
      "('test',)\n"
     ]
    }
   ],
   "source": [
    "# Checking\n",
    "new_cursor.execute(\"SHOW DATABASES\")\n",
    "\n",
    "# PRINT\n",
    "for db in new_cursor:\n",
    "    print(db)"
   ]
  }
 ],
 "metadata": {
  "kernelspec": {
   "display_name": "Python 3 (ipykernel)",
   "language": "python",
   "name": "python3"
  },
  "language_info": {
   "codemirror_mode": {
    "name": "ipython",
    "version": 3
   },
   "file_extension": ".py",
   "mimetype": "text/x-python",
   "name": "python",
   "nbconvert_exporter": "python",
   "pygments_lexer": "ipython3",
   "version": "3.11.7"
  }
 },
 "nbformat": 4,
 "nbformat_minor": 5
}
