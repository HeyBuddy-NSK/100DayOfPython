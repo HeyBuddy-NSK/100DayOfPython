{
 "cells": [
  {
   "cell_type": "markdown",
   "id": "5acd1c54-1c0f-4d84-b9b9-9afaed4515e6",
   "metadata": {},
   "source": [
    "# Day 36\n",
    "**Practicing Python From Basics**"
   ]
  },
  {
   "cell_type": "markdown",
   "id": "242f286c-b257-4ffd-828c-08651e1eaf22",
   "metadata": {},
   "source": [
    "# Insertion sort\n",
    "\n",
    "Insertion Sort builds the final sorted array one item at a time. It takes each element from the input and inserts it into the correct position within the already sorted part of the array.\n",
    "\n",
    "- **Complexity**: \n",
    "  - Average and worst-case: \\(O(n^2)\\)\n",
    "  - Best-case: \\(O(n)\\) (when the array is already sorted)\n",
    "- **Best for**: Small datasets or nearly sorted data.\n",
    "- **Pros**: \n",
    "  - Simple to implement.\n",
    "  - Efficient for small datasets.\n",
    "  - Adaptive (efficient for data that is already substantially sorted).\n",
    "  - Stable sort (maintains the relative order of equal elements).\n",
    "- **Cons**: Inefficient on large lists due to its quadratic time complexity.\n"
   ]
  },
  {
   "cell_type": "markdown",
   "id": "3ced00a2-558f-4944-abce-403cdecd6645",
   "metadata": {},
   "source": [
    "## Implementation"
   ]
  },
  {
   "cell_type": "code",
   "execution_count": 1,
   "id": "fb8817d6-7842-40dd-a9fa-6e9ff5606676",
   "metadata": {},
   "outputs": [],
   "source": [
    "def insertion_sort(arr):\n",
    "    for i in range(1, len(arr)):\n",
    "        key = arr[i]\n",
    "        j = i-1\n",
    "        \n",
    "        # moving elements or arr[0 to i-1] that are greater than key, to one position ahead of their current position.\n",
    "        while j>=0 and arr[j]>key:\n",
    "            arr[j+1] = arr[j]\n",
    "            j -= 1\n",
    "\n",
    "        arr[j+1] = key\n",
    "    return arr"
   ]
  },
  {
   "cell_type": "markdown",
   "id": "caa28c6b-3738-4a42-8ee8-b728aa8e1bcc",
   "metadata": {},
   "source": [
    "## Calling insertion_sort() to sort example list"
   ]
  },
  {
   "cell_type": "code",
   "execution_count": 3,
   "id": "cef27c8a-753c-4e1a-a1e7-ab06d616bbd4",
   "metadata": {},
   "outputs": [
    {
     "name": "stdout",
     "output_type": "stream",
     "text": [
      "Sorted List : [5, 6, 11, 12, 13]\n"
     ]
    }
   ],
   "source": [
    "ex_list = [12, 11, 13, 5, 6]\n",
    "sorted_list = insertion_sort(ex_list)\n",
    "print(f\"Sorted List : {sorted_list}\")"
   ]
  },
  {
   "cell_type": "markdown",
   "id": "e2418416-10fe-4e1b-9362-b3dac96340b3",
   "metadata": {},
   "source": [
    "## To get how much time needed we can use `%%time`"
   ]
  },
  {
   "cell_type": "code",
   "execution_count": 7,
   "id": "08c8fb7f-3606-4108-819f-6394de6e8f98",
   "metadata": {},
   "outputs": [
    {
     "name": "stdout",
     "output_type": "stream",
     "text": [
      "sorted list : [5, 6, 11, 12, 13]\n",
      "CPU times: total: 0 ns\n",
      "Wall time: 0 ns\n"
     ]
    }
   ],
   "source": [
    "%%time\n",
    "sorted_list = insertion_sort(ex_list)\n",
    "print(F\"sorted list : {sorted_list}\")"
   ]
  },
  {
   "cell_type": "markdown",
   "id": "a285704e-a895-43e5-8056-286d7a78851e",
   "metadata": {},
   "source": [
    "# Merge Sort\n",
    "\n",
    "Merge Sort is a divide-and-conquer algorithm that splits the array into two halves, recursively sorts each half, and then merges the sorted halves to produce the final sorted array.\n",
    "\n",
    "- **Complexity**: O(n log n) for both average and worst-case.\n",
    "- **Best for**: Large datasets.\n",
    "- **Pros**: \n",
    "  - Consistent performance.\n",
    "  - Stable sort.\n",
    "  - Can handle large datasets efficiently.\n",
    "- **Cons**: \n",
    "  - Requires additional space proportional to the size of the array (not in-place).\n",
    "  - More complex to implement than simple algorithms like Bubble Sort and Insertion Sort.\n"
   ]
  },
  {
   "cell_type": "markdown",
   "id": "c26b645a-103d-453b-bb7f-1b4973ddf116",
   "metadata": {},
   "source": [
    "## Implementation"
   ]
  },
  {
   "cell_type": "code",
   "execution_count": 4,
   "id": "9c475ff4-bf67-45cc-8ead-8979d88e7bd8",
   "metadata": {},
   "outputs": [],
   "source": [
    "def merge_sort(arr):\n",
    "    if len(arr)>1:\n",
    "        mid = len(arr)//2\n",
    "        left = arr[:mid]\n",
    "        right = arr[mid:]\n",
    "\n",
    "        # Sorting left and right\n",
    "        merge_sort(left)\n",
    "        merge_sort(right)\n",
    "\n",
    "        # Merging\n",
    "        i = j = k = 0\n",
    "        while i<len(left) and j<len(right):\n",
    "            if left[i] <= right[j]:\n",
    "                arr[k] = left[i]\n",
    "                i +=1\n",
    "            else:\n",
    "                arr[k] = right[j]\n",
    "                j += 1\n",
    "                \n",
    "            k += 1\n",
    "\n",
    "        # checking if any element left\n",
    "        while i<len(left):\n",
    "            arr[k]= left[i]\n",
    "            i+=1\n",
    "            k+=1\n",
    "\n",
    "        while j<len(right):\n",
    "            arr[k] = right[j]\n",
    "            j += 1\n",
    "            k += 1\n",
    "            \n",
    "    return arr    "
   ]
  },
  {
   "cell_type": "markdown",
   "id": "86909e84-7679-4612-ac8d-a346557815d3",
   "metadata": {},
   "source": [
    "## Calling merge_sort() to sort example list"
   ]
  },
  {
   "cell_type": "code",
   "execution_count": 5,
   "id": "284c1b58-d3af-49ac-aa6d-642006ece09b",
   "metadata": {},
   "outputs": [
    {
     "name": "stdout",
     "output_type": "stream",
     "text": [
      "Sorted List : [8, 11, 12, 42, 45, 82]\n"
     ]
    }
   ],
   "source": [
    "ex_list1 = [45,11,42,82,12,8]\n",
    "sorted_list1 = merge_sort(ex_list1)\n",
    "print(f\"Sorted List : {sorted_list1}\")"
   ]
  },
  {
   "cell_type": "markdown",
   "id": "2bb16ddd-b187-47b4-a4e1-e636a89e8fc1",
   "metadata": {},
   "source": [
    "## To get how much time needed we can use `%%time`"
   ]
  },
  {
   "cell_type": "code",
   "execution_count": 6,
   "id": "fe2e910c-6c03-4989-9366-c9ad5b92849e",
   "metadata": {},
   "outputs": [
    {
     "name": "stdout",
     "output_type": "stream",
     "text": [
      "sorted list : [5, 6, 11, 12, 13]\n",
      "CPU times: total: 0 ns\n",
      "Wall time: 0 ns\n"
     ]
    }
   ],
   "source": [
    "%%time\n",
    "sorted_list = merge_sort(ex_list)\n",
    "print(F\"sorted list : {sorted_list}\")"
   ]
  }
 ],
 "metadata": {
  "kernelspec": {
   "display_name": "Python 3 (ipykernel)",
   "language": "python",
   "name": "python3"
  },
  "language_info": {
   "codemirror_mode": {
    "name": "ipython",
    "version": 3
   },
   "file_extension": ".py",
   "mimetype": "text/x-python",
   "name": "python",
   "nbconvert_exporter": "python",
   "pygments_lexer": "ipython3",
   "version": "3.10.3"
  }
 },
 "nbformat": 4,
 "nbformat_minor": 5
}
