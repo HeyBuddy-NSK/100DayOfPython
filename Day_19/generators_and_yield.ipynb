{
 "cells": [
  {
   "cell_type": "markdown",
   "id": "21c7499e",
   "metadata": {},
   "source": [
    "# Day 19\n",
    "\n",
    "**Practicing Python from Basics**"
   ]
  },
  {
   "cell_type": "markdown",
   "id": "fe77deef",
   "metadata": {},
   "source": [
    "# Generators and yield"
   ]
  },
  {
   "cell_type": "markdown",
   "id": "19212601",
   "metadata": {},
   "source": [
    "Generators and the `yield` keyword are powerful features in Python for creating iterators. They allow you to iterate over a sequence of data without creating the entire sequence in memory at once, making them memory-efficient and often faster than traditional iteration methods."
   ]
  },
  {
   "cell_type": "markdown",
   "id": "9a9fc09b",
   "metadata": {},
   "source": [
    "## Exercises"
   ]
  },
  {
   "cell_type": "markdown",
   "id": "71a5ea08",
   "metadata": {},
   "source": [
    "### 1. Simple Generator :\n",
    "\n",
    "Write a generator function that yields numbers from 1 to N."
   ]
  },
  {
   "cell_type": "code",
   "execution_count": 1,
   "id": "7f27f682",
   "metadata": {},
   "outputs": [
    {
     "name": "stdout",
     "output_type": "stream",
     "text": [
      "1\n",
      "2\n",
      "3\n",
      "4\n",
      "5\n"
     ]
    }
   ],
   "source": [
    "# Function to generate a number\n",
    "def number_generator(n):\n",
    "    for i in range(1,n+1):\n",
    "        yield i\n",
    "\n",
    "# variables\n",
    "n = 5\n",
    "\n",
    "# calling function to generate numbers\n",
    "result = number_generator(n)\n",
    "\n",
    "# printing numbers \n",
    "for number in result:\n",
    "    print(number)"
   ]
  },
  {
   "cell_type": "markdown",
   "id": "6ccab633",
   "metadata": {},
   "source": [
    "- **The `yield` keyword is used to return a value from the generator function while pausing its execution state. When the function is called again, it resumes from where it left off.**\n",
    "- **Generators are iterables, but unlike lists or tuples, they generate values on-the-fly, so they don't store the entire sequence in memory.**"
   ]
  },
  {
   "cell_type": "markdown",
   "id": "8c819c1d",
   "metadata": {},
   "source": [
    "### 2. Fibonacci Sequence Generator:\n",
    "Write a generator function to generate the Fibonacci sequence up to a certain limit. "
   ]
  },
  {
   "cell_type": "code",
   "execution_count": 3,
   "id": "b17fbb31",
   "metadata": {},
   "outputs": [
    {
     "name": "stdout",
     "output_type": "stream",
     "text": [
      "0\n",
      "1\n",
      "1\n",
      "2\n",
      "3\n",
      "5\n",
      "8\n"
     ]
    }
   ],
   "source": [
    "# defining function to generate fibonacci sequence.\n",
    "def fibonacci_sequence(limit):\n",
    "    first_value, second_value = 0, 1\n",
    "    \n",
    "    while first_value<limit:\n",
    "        yield first_value\n",
    "        first_value, second_value = second_value, first_value+second_value\n",
    "        \n",
    "# variable\n",
    "limit = 9\n",
    "\n",
    "# calling fibonacci_sequence() function to generate fibonacci\n",
    "result = fibonacci_sequence(limit)\n",
    "\n",
    "# printing values from fibonacci sequence upto limit given.\n",
    "for value in result:\n",
    "    print(value)"
   ]
  },
  {
   "cell_type": "markdown",
   "id": "6674554f",
   "metadata": {},
   "source": [
    "- **Generators can maintain their state between successive calls, allowing them to generate sequences indefinitely.**\n",
    "- **The Fibonacci sequence is generated using a simple while loop, updating the values of first_value and second_value in each iteration.**"
   ]
  },
  {
   "cell_type": "markdown",
   "id": "8e1fd346",
   "metadata": {},
   "source": [
    "### 3. File Reader Generator:\n",
    "\n",
    "Write a generator function to read a large file line by line."
   ]
  },
  {
   "cell_type": "code",
   "execution_count": 6,
   "id": "3e820ee8",
   "metadata": {},
   "outputs": [
    {
     "name": "stdout",
     "output_type": "stream",
     "text": [
      "Day 19 of 100DaysOfCode Python - Generators and Yield\n",
      "Day 19 of 100DaysOfCode Python - Generators and Yield\n",
      "Day 19 of 100DaysOfCode Python - Generators and Yield\n",
      "Day 19 of 100DaysOfCode Python - Generators and Yield\n",
      "Day 19 of 100DaysOfCode Python - Generators and Yield\n",
      "Day 19 of 100DaysOfCode Python - Generators and Yield\n",
      "Day 19 of 100DaysOfCode Python - Generators and Yield\n",
      "Day 19 of 100DaysOfCode Python - Generators and Yield\n",
      "Day 19 of 100DaysOfCode Python - Generators and Yield\n",
      "Day 19 of 100DaysOfCode Python - Generators and Yield\n",
      "Day 19 of 100DaysOfCode Python - Generators and Yield\n"
     ]
    }
   ],
   "source": [
    "# defining the function read a file.\n",
    "def read_file(filename):\n",
    "    with open(filename,'r') as large_file:\n",
    "        for line in large_file:\n",
    "            yield line.strip()\n",
    "            \n",
    "# variable for filename\n",
    "filename = 'data/use_text.txt'\n",
    "\n",
    "# calling read_file() function to read the file line by line\n",
    "result = read_file(filename)\n",
    "\n",
    "# printing lines read from file.\n",
    "for line in result:\n",
    "    print(line)"
   ]
  },
  {
   "cell_type": "markdown",
   "id": "95a46424",
   "metadata": {},
   "source": [
    "- **Generators are particularly useful when dealing with large datasets or files since they only load one item into memory at a time, minimizing memory usage.**\n",
    "- **In this example, the generator yields each line of the file one at a time, without loading the entire file into memory.**"
   ]
  },
  {
   "cell_type": "markdown",
   "id": "0d721f22",
   "metadata": {},
   "source": [
    "### 4. Custom Range Generator:\n",
    "Write a generator function that mimics the behavior of Python's `range()` function."
   ]
  },
  {
   "cell_type": "code",
   "execution_count": 8,
   "id": "73c6ecdb",
   "metadata": {},
   "outputs": [
    {
     "name": "stdout",
     "output_type": "stream",
     "text": [
      "1\n",
      "3\n",
      "5\n",
      "7\n",
      "9\n"
     ]
    }
   ],
   "source": [
    "# defining function to mimic inbuilt range() function\n",
    "def mimic_range(start, end, step=1):\n",
    "    while start<end:\n",
    "        yield start\n",
    "        start = start+step\n",
    "\n",
    "# variables\n",
    "start = 1\n",
    "end = 10\n",
    "step = 2\n",
    "\n",
    "# calling mimic_range() function to generate.\n",
    "result = mimic_range(start,end,step)\n",
    "\n",
    "# printing the numbers.\n",
    "for number in result:\n",
    "    print(number)"
   ]
  },
  {
   "cell_type": "markdown",
   "id": "7dfc48c3",
   "metadata": {},
   "source": [
    "- **Generators are flexible and can accept parameters, allowing you to customize their behavior dynamically.**\n",
    "- **This generator function behaves similarly to Python's built-in `range()` function but generates values lazily.**"
   ]
  }
 ],
 "metadata": {
  "kernelspec": {
   "display_name": "Python 3 (ipykernel)",
   "language": "python",
   "name": "python3"
  },
  "language_info": {
   "codemirror_mode": {
    "name": "ipython",
    "version": 3
   },
   "file_extension": ".py",
   "mimetype": "text/x-python",
   "name": "python",
   "nbconvert_exporter": "python",
   "pygments_lexer": "ipython3",
   "version": "3.11.7"
  }
 },
 "nbformat": 4,
 "nbformat_minor": 5
}
