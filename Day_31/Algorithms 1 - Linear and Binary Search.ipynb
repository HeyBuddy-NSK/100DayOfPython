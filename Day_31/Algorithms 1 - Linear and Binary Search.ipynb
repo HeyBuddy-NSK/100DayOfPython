{
 "cells": [
  {
   "cell_type": "markdown",
   "id": "b7e9772f",
   "metadata": {},
   "source": [
    "# Day 31\n",
    "\n",
    "**Practicing Python From Basics**"
   ]
  },
  {
   "cell_type": "markdown",
   "id": "bbadb745",
   "metadata": {},
   "source": [
    "## Linear Search:\n",
    "\n",
    "- Linear search, also known as sequential search, checks each element in a collection one by one until the target element is found or the end of the collection is reached.\n",
    "- It's a simple but inefficient algorithm, especially for large datasets, as it has a **time complexity of O(n)** in the worst case.\n",
    "- Linear search is applicable to both sorted and unsorted collections."
   ]
  },
  {
   "cell_type": "markdown",
   "id": "a49269a2",
   "metadata": {},
   "source": [
    "### Implementation"
   ]
  },
  {
   "cell_type": "code",
   "execution_count": 6,
   "id": "1569f2c4",
   "metadata": {},
   "outputs": [],
   "source": [
    "def linear_search(key,arr):\n",
    "    for index in range(len(arr)):\n",
    "        if arr[index] == key:\n",
    "            return index\n",
    "    \n",
    "    return 0"
   ]
  },
  {
   "cell_type": "markdown",
   "id": "d5985876",
   "metadata": {},
   "source": [
    "### Calling function"
   ]
  },
  {
   "cell_type": "code",
   "execution_count": 7,
   "id": "ce7a6d9c",
   "metadata": {},
   "outputs": [],
   "source": [
    "arr = [5,8,2,10,3,6]\n",
    "key = 3\n",
    "result = linear_search(key,arr)"
   ]
  },
  {
   "cell_type": "code",
   "execution_count": 8,
   "id": "7821fc6d",
   "metadata": {},
   "outputs": [
    {
     "name": "stdout",
     "output_type": "stream",
     "text": [
      "Element 3 found at index 4\n"
     ]
    }
   ],
   "source": [
    "if result:\n",
    "    print(f'Element {key} found at index {result}')\n",
    "    \n",
    "else:\n",
    "    print(\"Element not found\")"
   ]
  },
  {
   "cell_type": "markdown",
   "id": "7ee3a693",
   "metadata": {},
   "source": [
    "### 2nd calling"
   ]
  },
  {
   "cell_type": "code",
   "execution_count": 9,
   "id": "b8b147c8",
   "metadata": {},
   "outputs": [],
   "source": [
    "key1 = 7\n",
    "result1 = linear_search(key1,arr)"
   ]
  },
  {
   "cell_type": "code",
   "execution_count": 11,
   "id": "99f22c9d",
   "metadata": {},
   "outputs": [
    {
     "name": "stdout",
     "output_type": "stream",
     "text": [
      "Element not found\n"
     ]
    }
   ],
   "source": [
    "if result1:\n",
    "    print(f'Element {key1} found at index {result1}')\n",
    "    \n",
    "else:\n",
    "    print(\"Element not found\")"
   ]
  },
  {
   "cell_type": "markdown",
   "id": "cb8b230e",
   "metadata": {},
   "source": [
    "- The `linear_search` function takes a list `arr` and a target value `key`.\n",
    "- It iterates through each element of the list using a for loop.\n",
    "- For each element, it checks if it matches the target value.\n",
    "- If a match is found, it returns the index of the element. If not found, it returns 0."
   ]
  },
  {
   "cell_type": "markdown",
   "id": "46a2dceb",
   "metadata": {},
   "source": [
    "## Binary Search"
   ]
  },
  {
   "cell_type": "markdown",
   "id": "da11b098",
   "metadata": {},
   "source": [
    "- Binary search is a more efficient algorithm for finding a target value within a sorted array.\n",
    "- It repeatedly divides the search interval in half until the target is found or the interval is empty.\n",
    "- Binary search has a **time complexity of O(log n)**, making it significantly faster than linear search for large datasets.\n",
    "- **It requires the array to be sorted beforehand.**\n"
   ]
  },
  {
   "cell_type": "markdown",
   "id": "c6d6f750",
   "metadata": {},
   "source": [
    "### Implementation"
   ]
  },
  {
   "cell_type": "code",
   "execution_count": 12,
   "id": "69f0515b",
   "metadata": {},
   "outputs": [],
   "source": [
    "def binary_search(key,arr):\n",
    "    start, end = 0, len(arr)-1\n",
    "    \n",
    "    while start<=end:\n",
    "        mid = (start+end)//2\n",
    "        \n",
    "        if arr[mid] == key:\n",
    "            return mid\n",
    "        \n",
    "        elif arr[mid]<key:\n",
    "            start = mid+1\n",
    "            \n",
    "        else:\n",
    "            end = mid-1\n",
    "            \n",
    "    return 0"
   ]
  },
  {
   "cell_type": "markdown",
   "id": "6eaec9ca",
   "metadata": {},
   "source": [
    "### Calling Binary search"
   ]
  },
  {
   "cell_type": "code",
   "execution_count": 13,
   "id": "7cdf3235",
   "metadata": {},
   "outputs": [],
   "source": [
    "arr = [2, 4, 6, 8, 10, 12, 14, 16]\n",
    "key = 12\n",
    "result = binary_search(key,arr)"
   ]
  },
  {
   "cell_type": "code",
   "execution_count": 14,
   "id": "5d49562a",
   "metadata": {},
   "outputs": [
    {
     "name": "stdout",
     "output_type": "stream",
     "text": [
      "Element 12 found at index 5\n"
     ]
    }
   ],
   "source": [
    "if result:\n",
    "    print(f'Element {key} found at index {result}')\n",
    "    \n",
    "else:\n",
    "    print(\"Element not found\")"
   ]
  },
  {
   "cell_type": "markdown",
   "id": "dd5a2041",
   "metadata": {},
   "source": [
    "### 2nd Calling"
   ]
  },
  {
   "cell_type": "code",
   "execution_count": 15,
   "id": "2053f7db",
   "metadata": {},
   "outputs": [],
   "source": [
    "key = 1\n",
    "result = binary_search(key,arr)"
   ]
  },
  {
   "cell_type": "code",
   "execution_count": 16,
   "id": "879cbb41",
   "metadata": {},
   "outputs": [
    {
     "name": "stdout",
     "output_type": "stream",
     "text": [
      "Element not found\n"
     ]
    }
   ],
   "source": [
    "if result:\n",
    "    print(f'Element {key} found at index {result}')\n",
    "    \n",
    "else:\n",
    "    print(\"Element not found\")"
   ]
  },
  {
   "cell_type": "markdown",
   "id": "52e60e21",
   "metadata": {},
   "source": [
    "- The `binary_search` function takes a sorted array `arr` and a target value `key`.\n",
    "- It initializes `start` and `end` pointers to the start and end of the array, respectively.\n",
    "- It repeatedly calculates the `mid` index and compares the element at `mid` with the `key`.\n",
    "- Based on the comparison, it updates `start` or `end` pointers to narrow down the search interval.\n",
    "- It continues until the target is found or the search interval is empty, returning the index of the target or 0 if not found."
   ]
  }
 ],
 "metadata": {
  "kernelspec": {
   "display_name": "Python 3 (ipykernel)",
   "language": "python",
   "name": "python3"
  },
  "language_info": {
   "codemirror_mode": {
    "name": "ipython",
    "version": 3
   },
   "file_extension": ".py",
   "mimetype": "text/x-python",
   "name": "python",
   "nbconvert_exporter": "python",
   "pygments_lexer": "ipython3",
   "version": "3.11.7"
  }
 },
 "nbformat": 4,
 "nbformat_minor": 5
}
