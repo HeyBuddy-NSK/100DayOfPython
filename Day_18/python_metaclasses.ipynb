{
 "cells": [
  {
   "cell_type": "markdown",
   "id": "8dd679f2",
   "metadata": {},
   "source": [
    "# Day 18\n",
    "\n",
    "**Practicing Python from Basics**"
   ]
  },
  {
   "cell_type": "markdown",
   "id": "14152fa7",
   "metadata": {},
   "source": [
    "# Python Metaclasses\n",
    "\n",
    "Metaclasses in Python are a powerful but advanced feature of the language, used to customize the behavior of classes themselves. A metaclass is a class of a class that defines how a class behaves. In essence, a class is an instance of a metaclass, just as an object is an instance of a class. By using metaclasses, you can:\n",
    "\n",
    "1. **Modify Class Attributes**: Change or enforce the presence of class attributes at the time of class creation.\n",
    "2. **Validate Class Structure**: Ensure that classes meet certain criteria, such as having specific methods or attributes.\n",
    "3. **Add Functionality**: Automatically modify or wrap methods of a class to add additional behavior, such as logging or validation.\n",
    "\n",
    "Metaclasses are defined by inheriting from type and overriding its methods like `__new__` or `__init__`. They are specified in a class by using the `metaclass` keyword."
   ]
  },
  {
   "cell_type": "code",
   "execution_count": 2,
   "id": "7e9dab44",
   "metadata": {},
   "outputs": [
    {
     "name": "stdout",
     "output_type": "stream",
     "text": [
      "Creating class new_cls\n"
     ]
    }
   ],
   "source": [
    "class meta_cls(type):\n",
    "    def __new__(cls,name,bases,dct):\n",
    "        print(f\"Creating class {name}\")\n",
    "        return super().__new__(cls,name,bases,dct)\n",
    "    \n",
    "class new_cls(metaclass=meta_cls):\n",
    "    pass"
   ]
  },
  {
   "cell_type": "markdown",
   "id": "b60239eb",
   "metadata": {},
   "source": [
    "- In above example, `meta_cls` is a metaclass that prints a message whenever a new class is created using it. \n",
    "- `new_cls` is defined to use `meta_cls` as its metaclass, so when `new_cls` is created, the message is printed.\n",
    "- Sure, here are the explanations for each parameter:\n",
    "\n",
    "- **cls**: The metaclass itself, typically passed as the first argument to `__new__` and `__init__` methods of the metaclass.\n",
    "- **name**: The name of the class being created, represented as a string.\n",
    "- **bases**: A tuple containing the base classes from which the new class inherits.\n",
    "- **dct**: A dictionary containing the class's attributes and methods."
   ]
  },
  {
   "cell_type": "markdown",
   "id": "2395f191",
   "metadata": {},
   "source": [
    "## Exercises"
   ]
  },
  {
   "cell_type": "markdown",
   "id": "0f5b65ae",
   "metadata": {},
   "source": [
    "### Exercise 1: Creating a Simple Metaclass\n",
    "\n",
    "**Objective:** Understand the basics of metaclasses by creating a simple one.\n",
    "\n",
    "**Instructions:**\n",
    "\n",
    "1. Create a metaclass called `UpperAttrMetaclass` that converts all attribute names to uppercase.\n",
    "2. Create a class `Foo` that uses `UpperAttrMetaclass`.\n",
    "3. Add some attributes to `Foo` and check if their names are converted to uppercase."
   ]
  },
  {
   "cell_type": "code",
   "execution_count": 17,
   "id": "fdfc8584",
   "metadata": {},
   "outputs": [
    {
     "name": "stdout",
     "output_type": "stream",
     "text": [
      "False\n",
      "False\n",
      "True\n",
      "nsk\n"
     ]
    }
   ],
   "source": [
    "# creating metaclass to convert attributes name in uppercase.\n",
    "class UpperAttrMetaClass(type):\n",
    "    \n",
    "    # dunder method\n",
    "    def __new__(cls,name,bases,dct):\n",
    "        \n",
    "        # dictionary to store uppercased attributes.\n",
    "        upper_case = {}\n",
    "        \n",
    "        # converting names to uppercase\n",
    "        for attr_name,attr_val in dct.items():\n",
    "            if not attr_name.startswith('__'):\n",
    "                upper_case[attr_name.upper()] = attr_val\n",
    "            else:\n",
    "                upper_case[attr_name] = attr_val\n",
    "        \n",
    "        return super().__new__(cls,name,bases,upper_case)\n",
    "    \n",
    "# class using above metaclass\n",
    "class Foo(metaclass=UpperAttrMetaClass):\n",
    "    name = 'nsk'\n",
    "    place = 'BLR'\n",
    "    \n",
    "print(hasattr(Foo,'name')) # returns false becase attribute name converted to uppercase\n",
    "print(hasattr(Foo,'place'))\n",
    "\n",
    "print(hasattr(Foo,'NAME')) # returns True\n",
    "print(Foo.NAME)"
   ]
  },
  {
   "cell_type": "markdown",
   "id": "081e36e5",
   "metadata": {},
   "source": [
    "### Exercise 2: Customizing Class Creation\n",
    "\n",
    "**Objective:** Use metaclasses to enforce certain class attributes.\n",
    "\n",
    "**Instructions:**\n",
    "\n",
    "1. Create a metaclass `AttributeValidatorMetaclass` that ensures a class has a `required_attrs` attribute containing a list of strings.\n",
    "2. If a class using this metaclass does not have the `required_attrs` attribute, raise an exception during class creation.\n",
    "3. Create a class `MyClass` using this metaclass and test it with and without the `required_attrs` attribute."
   ]
  },
  {
   "cell_type": "code",
   "execution_count": 12,
   "id": "3f125363",
   "metadata": {},
   "outputs": [
    {
     "name": "stdout",
     "output_type": "stream",
     "text": [
      "Error ::  Class do not have required attribute.\n",
      "Class Created Successfully!.\n"
     ]
    }
   ],
   "source": [
    "# creating meta class\n",
    "class AttributeValidatorMetaclass(type):\n",
    "    \n",
    "    # class attribute\n",
    "    required_attrs = ['akt','tks','tws','rcb']\n",
    "    def __new__(cls,name,bases,dct):\n",
    "        if 'required_attrs' not in dct:\n",
    "            # raising error\n",
    "            raise TypeError(\"Class do not have required attribute.\")\n",
    "        return super().__new__(cls,name,bases,dct)\n",
    "    \n",
    "# creating class using above metaclass\n",
    "class MyClass(metaclass=AttributeValidatorMetaclass):\n",
    "    required_attrs = ['arg1','arg2']\n",
    "    \n",
    "# creating another class using metaclass to check if rasing error working or not.    \n",
    "try:\n",
    "    class Trying(metaclass=AttributeValidatorMetaclass):\n",
    "        pass\n",
    "except TypeError as e:\n",
    "    print(\"Error :: \",e)\n",
    "    \n",
    "\n",
    "# Correct class\n",
    "mc = MyClass()\n",
    "print(\"Class Created Successfully!.\")"
   ]
  }
 ],
 "metadata": {
  "kernelspec": {
   "display_name": "Python 3 (ipykernel)",
   "language": "python",
   "name": "python3"
  },
  "language_info": {
   "codemirror_mode": {
    "name": "ipython",
    "version": 3
   },
   "file_extension": ".py",
   "mimetype": "text/x-python",
   "name": "python",
   "nbconvert_exporter": "python",
   "pygments_lexer": "ipython3",
   "version": "3.11.7"
  }
 },
 "nbformat": 4,
 "nbformat_minor": 5
}
