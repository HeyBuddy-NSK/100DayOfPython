{
 "cells": [
  {
   "cell_type": "markdown",
   "id": "7af7c0b1-80a4-49eb-9c19-ebb30a41823f",
   "metadata": {},
   "source": [
    "# Day 29\n",
    "**Practicing Python from Basics**"
   ]
  },
  {
   "cell_type": "markdown",
   "id": "ca5af2f5-ba74-47a3-a59b-d0b5184448ff",
   "metadata": {},
   "source": [
    "# Hash Tables"
   ]
  },
  {
   "cell_type": "markdown",
   "id": "3db9693f-9567-4185-abeb-779ef4332bf0",
   "metadata": {},
   "source": [
    "A hash table is a data structure that maps keys to values using a hash function to compute an index into an array of buckets or slots."
   ]
  },
  {
   "cell_type": "markdown",
   "id": "2e1112f0-2ce5-4ea5-ac90-d313c674c7ed",
   "metadata": {},
   "source": [
    "**Key Components:**\n",
    "- **Hash Function:** A function that converts a given key into a smaller integer (the hash code), which is used as the index in the array.\n",
    "- **Buckets:** Array slots where values are stored. Each bucket can store multiple key-value pairs to handle collisions.\n"
   ]
  },
  {
   "cell_type": "markdown",
   "id": "29ceadbd-c9f2-426c-97bb-2cdeac68fd24",
   "metadata": {},
   "source": [
    "**Operations:**\n",
    "1. **Insertion:** Place the key-value pair into the hash table at the index provided by the hash function.\n",
    "2. **Deletion:** Remove the key-value pair from the hash table by locating it using the hash function.\n",
    "3. **Search:** Retrieve the value associated with a given key by looking it up using the hash function."
   ]
  },
  {
   "cell_type": "markdown",
   "id": "007a92c4-ff58-493f-893b-cf3fd2cc388b",
   "metadata": {},
   "source": [
    "**Collision Handling:**\n",
    "Collisions occur when multiple keys hash to the same index. Common techniques for handling collisions include:\n",
    "- **Separate Chaining:** Store multiple elements in the same index using a linked list or another secondary data structure.\n",
    "- **Open Addressing:** Find another open slot within the array. This can be done using techniques such as linear probing, quadratic probing, or double hashing."
   ]
  },
  {
   "cell_type": "markdown",
   "id": "0fa67a88-b0f9-43df-bfa4-1b5c86e2094e",
   "metadata": {},
   "source": [
    "**Advantages:**\n",
    "- **Fast Access:** Provides average-case O(1) time complexity for search, insert, and delete operations.\n",
    "- **Efficient Memory Usage:** Can dynamically grow to accommodate more entries."
   ]
  },
  {
   "cell_type": "markdown",
   "id": "fa00d1fc-062e-41a0-a64b-67776b9c8d2e",
   "metadata": {},
   "source": [
    "## Hash Table in Python"
   ]
  },
  {
   "cell_type": "markdown",
   "id": "64262109-3238-4ec2-bd3b-9b5cc342cab7",
   "metadata": {},
   "source": [
    "Python's built-in dictionary is an implementation of a hash table.\n"
   ]
  },
  {
   "cell_type": "markdown",
   "id": "116aba45-21f3-4144-9053-e96a5ab23adf",
   "metadata": {},
   "source": [
    "### Hash table using python dictionary"
   ]
  },
  {
   "cell_type": "markdown",
   "id": "ae49c275-f91c-49d4-9b8b-db1d89cce3ad",
   "metadata": {},
   "source": [
    "#### Creating hash table"
   ]
  },
  {
   "cell_type": "code",
   "execution_count": 9,
   "id": "13ddb408-8488-42c7-83f4-e6b9808500b1",
   "metadata": {},
   "outputs": [],
   "source": [
    "hash_table = {}"
   ]
  },
  {
   "cell_type": "markdown",
   "id": "20b7be3f-28a7-4464-a518-a89fc134dbef",
   "metadata": {},
   "source": [
    "#### Inserting elements"
   ]
  },
  {
   "cell_type": "code",
   "execution_count": 10,
   "id": "be717594-7a51-44f6-8e64-01098d6db4a6",
   "metadata": {},
   "outputs": [],
   "source": [
    "hash_table['key1'] = 'value1'\n",
    "hash_table['key2'] = 'value2'"
   ]
  },
  {
   "cell_type": "markdown",
   "id": "7c3176e3-1597-49d8-813e-c91d8b5e2cf1",
   "metadata": {},
   "source": [
    "#### Accessing elements"
   ]
  },
  {
   "cell_type": "code",
   "execution_count": 11,
   "id": "b882cb19-f1fe-4f12-8a08-2e54867b8fb5",
   "metadata": {},
   "outputs": [
    {
     "data": {
      "text/plain": [
       "'value1'"
      ]
     },
     "execution_count": 11,
     "metadata": {},
     "output_type": "execute_result"
    }
   ],
   "source": [
    "hash_table['key1']"
   ]
  },
  {
   "cell_type": "markdown",
   "id": "01124ca0-fca1-4305-8cdb-cb77dfae11ac",
   "metadata": {},
   "source": [
    "#### Deleting element"
   ]
  },
  {
   "cell_type": "code",
   "execution_count": 12,
   "id": "11ea3b76-3f90-444b-88c7-36910dcd5572",
   "metadata": {},
   "outputs": [],
   "source": [
    "del hash_table['key1']"
   ]
  },
  {
   "cell_type": "markdown",
   "id": "00b14f91-fc35-4aae-84c8-23bf68a8991c",
   "metadata": {},
   "source": [
    "#### Printing"
   ]
  },
  {
   "cell_type": "code",
   "execution_count": 13,
   "id": "99f7dd3b-d72c-4330-a520-64b1cfc3492f",
   "metadata": {},
   "outputs": [
    {
     "data": {
      "text/plain": [
       "{'key2': 'value2'}"
      ]
     },
     "execution_count": 13,
     "metadata": {},
     "output_type": "execute_result"
    }
   ],
   "source": [
    "hash_table"
   ]
  },
  {
   "cell_type": "markdown",
   "id": "5cfeb754-e9c1-4dcc-908c-e4c9a016e886",
   "metadata": {},
   "source": [
    "#### Checking if key exists"
   ]
  },
  {
   "cell_type": "code",
   "execution_count": 18,
   "id": "2ae4c56f-69ee-49e3-9faf-7aa02395d014",
   "metadata": {},
   "outputs": [],
   "source": [
    "def check_key(key):\n",
    "    if key in hash_table:\n",
    "        print('key exists')\n",
    "    else:\n",
    "        print('key does not exists')"
   ]
  },
  {
   "cell_type": "code",
   "execution_count": 19,
   "id": "751cfa8f-77b2-4844-b378-55b0205929d7",
   "metadata": {},
   "outputs": [
    {
     "name": "stdout",
     "output_type": "stream",
     "text": [
      "key exists\n"
     ]
    }
   ],
   "source": [
    "check_key('key2')"
   ]
  },
  {
   "cell_type": "code",
   "execution_count": 20,
   "id": "9a8f4a24-18bb-4eb1-982c-5e44888b2e27",
   "metadata": {},
   "outputs": [
    {
     "name": "stdout",
     "output_type": "stream",
     "text": [
      "key does not exists\n"
     ]
    }
   ],
   "source": [
    "check_key('key1')"
   ]
  },
  {
   "cell_type": "markdown",
   "id": "35847db8-1f03-4ea3-92fd-bf35bdd80886",
   "metadata": {},
   "source": [
    "#### Handling Collisions\n",
    "Python's dictionary handles collisions internally using a combination of open addressing and chaining. "
   ]
  },
  {
   "cell_type": "markdown",
   "id": "4e11a7c3-6937-4af1-bd8b-09eb5ea75951",
   "metadata": {},
   "source": [
    "## Custom Hash table implementation using chaining"
   ]
  },
  {
   "cell_type": "markdown",
   "id": "d9b9de15-2540-4827-bdff-0c03eabffea7",
   "metadata": {},
   "source": [
    "### Python Implementation"
   ]
  },
  {
   "cell_type": "code",
   "execution_count": 32,
   "id": "7abfe7bd-fa28-4b3a-8370-30ea60b04da3",
   "metadata": {},
   "outputs": [],
   "source": [
    "class HashTable:\n",
    "    def __init__(self, size=10):\n",
    "        self.size = size\n",
    "        self.table = [[] for _ in range(size)]\n",
    "    def _hash(self,key):\n",
    "        \"\"\"Generate Hash Index for given value\"\"\"\n",
    "        return hash(key) % self.size\n",
    "\n",
    "    def insert(self,value):\n",
    "        \"\"\"Inserts Hash value in the table.\"\"\"\n",
    "        index = self._hash(value)\n",
    "\n",
    "        if value not in self.table[index]:\n",
    "            self.table[index].append(value)\n",
    "\n",
    "    def search(self,value):\n",
    "        \"\"\"This function searches for the value in table.\"\"\"\n",
    "        index = self._hash(value)\n",
    "\n",
    "        if value in self.table[index]:\n",
    "            return f'Found the value {value} at index {index} .'\n",
    "        else:\n",
    "            return f\"value {value} not found in the table.\"\n",
    "\n",
    "    def delete(self,value):\n",
    "        \"\"\"This function deletes value from the function.\"\"\"\n",
    "        index = self._hash(value)\n",
    "        if value in self.table[index]:\n",
    "            self.table[index].remove(value)\n",
    "            return f\"Value {value} deleted from the table.\"\n",
    "\n",
    "        else:\n",
    "            return f\"Value {value} not fount in the table.\"\n",
    "\n",
    "    def print_table(self):\n",
    "        \"\"\"This function prints whole table contents.\"\"\"\n",
    "        for index, bucket in enumerate(self.table):\n",
    "            print(f\"{index} : {bucket}\")\n",
    "    "
   ]
  },
  {
   "cell_type": "markdown",
   "id": "11af2ad2-363b-4545-bbc8-336b81dd68c8",
   "metadata": {},
   "source": [
    "### Creating object for the HashTable class"
   ]
  },
  {
   "cell_type": "code",
   "execution_count": 33,
   "id": "8dea4c08-e00f-4d16-b2a9-4844e53e9322",
   "metadata": {},
   "outputs": [],
   "source": [
    "ht = HashTable()"
   ]
  },
  {
   "cell_type": "markdown",
   "id": "9b1ce2ad-9532-4b36-b3d3-25f60833a6c9",
   "metadata": {},
   "source": [
    "### Inserting values in table"
   ]
  },
  {
   "cell_type": "code",
   "execution_count": 34,
   "id": "0a401d60-8ee9-4326-a295-60955957424e",
   "metadata": {},
   "outputs": [],
   "source": [
    "ht.insert(10)\n",
    "ht.insert(20)\n",
    "ht.insert(30)"
   ]
  },
  {
   "cell_type": "markdown",
   "id": "bef2aaee-0922-4af1-8232-5fe25b4856f6",
   "metadata": {},
   "source": [
    "### Printing the table"
   ]
  },
  {
   "cell_type": "code",
   "execution_count": 35,
   "id": "cdaefe95-4e1f-49bd-a770-c6167e6b770a",
   "metadata": {},
   "outputs": [
    {
     "name": "stdout",
     "output_type": "stream",
     "text": [
      "0 : [10, 20, 30]\n",
      "1 : []\n",
      "2 : []\n",
      "3 : []\n",
      "4 : []\n",
      "5 : []\n",
      "6 : []\n",
      "7 : []\n",
      "8 : []\n",
      "9 : []\n"
     ]
    }
   ],
   "source": [
    "ht.print_table()"
   ]
  },
  {
   "cell_type": "markdown",
   "id": "8c13158e-19e8-45e0-96ce-6b3041c897e7",
   "metadata": {},
   "source": [
    "### Inserting More Values"
   ]
  },
  {
   "cell_type": "code",
   "execution_count": 36,
   "id": "b213c7c7-1701-4c01-95bb-92f567b8615c",
   "metadata": {},
   "outputs": [
    {
     "name": "stdout",
     "output_type": "stream",
     "text": [
      "All Values Inserted\n"
     ]
    }
   ],
   "source": [
    "values = [12,51,27,31,90,32,75,81,63,29,47,79]\n",
    "for value in values:\n",
    "    ht.insert(value)\n",
    "\n",
    "print(\"All Values Inserted\")"
   ]
  },
  {
   "cell_type": "markdown",
   "id": "9c078db0-6475-408e-a723-d52a673b4273",
   "metadata": {},
   "source": [
    "### Printing "
   ]
  },
  {
   "cell_type": "code",
   "execution_count": 37,
   "id": "01d7425c-ec30-4fdc-824d-a9a3dbf0053b",
   "metadata": {},
   "outputs": [
    {
     "name": "stdout",
     "output_type": "stream",
     "text": [
      "0 : [10, 20, 30, 90]\n",
      "1 : [51, 31, 81]\n",
      "2 : [12, 32]\n",
      "3 : [63]\n",
      "4 : []\n",
      "5 : [75]\n",
      "6 : []\n",
      "7 : [27, 47]\n",
      "8 : []\n",
      "9 : [29, 79]\n"
     ]
    }
   ],
   "source": [
    "ht.print_table()"
   ]
  },
  {
   "cell_type": "markdown",
   "id": "727b1aea-5c8c-48b6-ac80-2f6597ef64b7",
   "metadata": {},
   "source": [
    "### Deleting"
   ]
  },
  {
   "cell_type": "code",
   "execution_count": 38,
   "id": "acad6716-8300-48fc-8553-72b023a31e37",
   "metadata": {},
   "outputs": [
    {
     "data": {
      "text/plain": [
       "'Value 81 deleted from the table.'"
      ]
     },
     "execution_count": 38,
     "metadata": {},
     "output_type": "execute_result"
    }
   ],
   "source": [
    "ht.delete(81)"
   ]
  },
  {
   "cell_type": "markdown",
   "id": "eec085bc-97e8-4f33-b6af-3819f9b3e91d",
   "metadata": {},
   "source": [
    "### Printing after deleting"
   ]
  },
  {
   "cell_type": "code",
   "execution_count": 39,
   "id": "9771e58b-f3e6-4491-8e97-00e2f46b24fc",
   "metadata": {},
   "outputs": [
    {
     "name": "stdout",
     "output_type": "stream",
     "text": [
      "0 : [10, 20, 30, 90]\n",
      "1 : [51, 31]\n",
      "2 : [12, 32]\n",
      "3 : [63]\n",
      "4 : []\n",
      "5 : [75]\n",
      "6 : []\n",
      "7 : [27, 47]\n",
      "8 : []\n",
      "9 : [29, 79]\n"
     ]
    }
   ],
   "source": [
    "ht.print_table()"
   ]
  },
  {
   "cell_type": "markdown",
   "id": "90f73a92-d128-4f14-99d9-840e20e3ba2d",
   "metadata": {},
   "source": [
    "### using `%%time` to check execution time for delete function\n",
    "\n",
    "- `%%time` is jupyter notebook feature."
   ]
  },
  {
   "cell_type": "code",
   "execution_count": 40,
   "id": "b6a8b99c-14a0-4802-8475-ca22503886ba",
   "metadata": {},
   "outputs": [
    {
     "name": "stdout",
     "output_type": "stream",
     "text": [
      "CPU times: total: 0 ns\n",
      "Wall time: 0 ns\n"
     ]
    },
    {
     "data": {
      "text/plain": [
       "'Value 79 deleted from the table.'"
      ]
     },
     "execution_count": 40,
     "metadata": {},
     "output_type": "execute_result"
    }
   ],
   "source": [
    "%%time\n",
    "ht.delete(79)"
   ]
  },
  {
   "cell_type": "markdown",
   "id": "88ea76ce-f93c-4345-9217-c79250a5a4d7",
   "metadata": {},
   "source": [
    "### Using `%%time` to check execution time for print function"
   ]
  },
  {
   "cell_type": "code",
   "execution_count": 41,
   "id": "4f59e14b-b6a2-4c34-80d6-eb4b1b339650",
   "metadata": {},
   "outputs": [
    {
     "name": "stdout",
     "output_type": "stream",
     "text": [
      "0 : [10, 20, 30, 90]\n",
      "1 : [51, 31]\n",
      "2 : [12, 32]\n",
      "3 : [63]\n",
      "4 : []\n",
      "5 : [75]\n",
      "6 : []\n",
      "7 : [27, 47]\n",
      "8 : []\n",
      "9 : [29]\n",
      "CPU times: total: 0 ns\n",
      "Wall time: 945 µs\n"
     ]
    }
   ],
   "source": [
    "%%time\n",
    "ht.print_table()"
   ]
  },
  {
   "cell_type": "markdown",
   "id": "28504fa5-8eda-4580-8abe-cf9c82581ac6",
   "metadata": {},
   "source": [
    "## Detailed Article"
   ]
  },
  {
   "cell_type": "markdown",
   "id": "1e4f76c3-598e-45b7-8b77-6ec7c734f512",
   "metadata": {},
   "source": [
    "**For detailed article with explaination and code visit GFG here - https://www.geeksforgeeks.org/hash-table-data-structure/**"
   ]
  }
 ],
 "metadata": {
  "kernelspec": {
   "display_name": "Python 3 (ipykernel)",
   "language": "python",
   "name": "python3"
  },
  "language_info": {
   "codemirror_mode": {
    "name": "ipython",
    "version": 3
   },
   "file_extension": ".py",
   "mimetype": "text/x-python",
   "name": "python",
   "nbconvert_exporter": "python",
   "pygments_lexer": "ipython3",
   "version": "3.10.3"
  }
 },
 "nbformat": 4,
 "nbformat_minor": 5
}
