{
 "cells": [
  {
   "cell_type": "markdown",
   "id": "1f277125",
   "metadata": {},
   "source": [
    "## Practicing python from Basics"
   ]
  },
  {
   "cell_type": "markdown",
   "id": "6d46bc99",
   "metadata": {},
   "source": [
    "### Basic Syntax:"
   ]
  },
  {
   "cell_type": "markdown",
   "id": "d7ddd431",
   "metadata": {},
   "source": [
    "1. Write a Python program to print \"Hello, World!\"."
   ]
  },
  {
   "cell_type": "code",
   "execution_count": 1,
   "id": "9e702ec3",
   "metadata": {},
   "outputs": [
    {
     "name": "stdout",
     "output_type": "stream",
     "text": [
      "Hello, World!\n"
     ]
    }
   ],
   "source": [
    "print(\"Hello, World!\")"
   ]
  },
  {
   "cell_type": "markdown",
   "id": "94eae1d5",
   "metadata": {},
   "source": [
    "2. Write a Python program to add two numbers."
   ]
  },
  {
   "cell_type": "code",
   "execution_count": 2,
   "id": "10ce0bc7",
   "metadata": {},
   "outputs": [
    {
     "name": "stdout",
     "output_type": "stream",
     "text": [
      "Addition of given two numbers is ::  109142471859170\n"
     ]
    }
   ],
   "source": [
    "number_1 = 19373846682857\n",
    "number_2 = 89768625176313\n",
    "\n",
    "addition = number_1 + number_2\n",
    "print(\"Addition of given two numbers is :: \", addition)"
   ]
  },
  {
   "cell_type": "markdown",
   "id": "9069b5a2",
   "metadata": {},
   "source": [
    "3. Write a Python program to calculate the area of a rectangle."
   ]
  },
  {
   "cell_type": "code",
   "execution_count": 3,
   "id": "2727e195",
   "metadata": {},
   "outputs": [
    {
     "name": "stdout",
     "output_type": "stream",
     "text": [
      "Area of rectangle from given l and b is ::  276\n"
     ]
    }
   ],
   "source": [
    "length = 23\n",
    "breadth = 12\n",
    "\n",
    "area = length*breadth\n",
    "\n",
    "print(\"Area of rectangle from given l and b is :: \",area)"
   ]
  },
  {
   "cell_type": "markdown",
   "id": "5e23958c",
   "metadata": {},
   "source": [
    "4. Write a Python program to find the factorial of a number."
   ]
  },
  {
   "cell_type": "code",
   "execution_count": 5,
   "id": "e46f7740",
   "metadata": {},
   "outputs": [
    {
     "name": "stdout",
     "output_type": "stream",
     "text": [
      "factorial of 5 is :: 120\n"
     ]
    }
   ],
   "source": [
    "n = 5 # number to find factorial of\n",
    "\n",
    "# simple for loop approach\n",
    "result = 1\n",
    "for i in range(2,n+1):\n",
    "    result = result*i\n",
    "    \n",
    "print(f\"factorial of {n} is :: {result}\")"
   ]
  },
  {
   "cell_type": "code",
   "execution_count": 12,
   "id": "ff3d56cb",
   "metadata": {},
   "outputs": [
    {
     "name": "stdout",
     "output_type": "stream",
     "text": [
      "factorial of 5 is :: 120\n"
     ]
    }
   ],
   "source": [
    "# and simple shorthand if you understand\n",
    "\n",
    "def fact(num):\n",
    "    return 1 if (num==1 or num==0) else num*fact(num-1)\n",
    "\n",
    "res = fact(n)\n",
    "print(f\"factorial of {n} is :: {res}\")"
   ]
  },
  {
   "cell_type": "markdown",
   "id": "f77b67ce",
   "metadata": {},
   "source": [
    "5. Write a Python program to check whether a given number is even or odd."
   ]
  },
  {
   "cell_type": "code",
   "execution_count": 16,
   "id": "8b5e8595",
   "metadata": {},
   "outputs": [
    {
     "name": "stdout",
     "output_type": "stream",
     "text": [
      "Given number is even\n"
     ]
    }
   ],
   "source": [
    "num = 12\n",
    "\n",
    "if num%2 == 0:\n",
    "    print(\"Given number is even\")\n",
    "else:\n",
    "    print(\"Given number is odd\")"
   ]
  },
  {
   "cell_type": "markdown",
   "id": "7749f0a0",
   "metadata": {},
   "source": [
    "### Variables and Data Types:"
   ]
  },
  {
   "cell_type": "markdown",
   "id": "9e221380",
   "metadata": {},
   "source": [
    "1. Write a Python program to create variables of different data types (integer, float, string, boolean) and print their values."
   ]
  },
  {
   "cell_type": "code",
   "execution_count": 22,
   "id": "bdc53802",
   "metadata": {},
   "outputs": [
    {
     "name": "stdout",
     "output_type": "stream",
     "text": [
      "integer ::  5\n",
      "string ::  nk\n",
      "float ::  3.56\n",
      "boolean ::  True\n"
     ]
    }
   ],
   "source": [
    "\"\"\"\n",
    "In python there is no need to decalre any variable, \n",
    "you can directly assign any value to the variable, \n",
    "and python will automatically understand the type of given variable, \n",
    "thats why it is called dynamically typed language.\n",
    "\"\"\"\n",
    "\n",
    "n = 5 # Integer\n",
    "print(\"integer :: \",n)\n",
    "\n",
    "c = 'nk' # string \n",
    "print(\"string :: \",c)\n",
    "\n",
    "f = 3.56 # float\n",
    "print(\"float :: \",f)\n",
    "\n",
    "b = True # boolean\n",
    "print(\"boolean :: \",b)"
   ]
  },
  {
   "cell_type": "markdown",
   "id": "a1948cc8",
   "metadata": {},
   "source": [
    "2. Write a Python program to swap the values of two variables."
   ]
  },
  {
   "cell_type": "code",
   "execution_count": 23,
   "id": "e89e345e",
   "metadata": {},
   "outputs": [
    {
     "name": "stdout",
     "output_type": "stream",
     "text": [
      "var1 after swapping ::  nk\n",
      "var2 after swapping ::  5\n"
     ]
    }
   ],
   "source": [
    "# In python swapping the values of two variables is very easy.\n",
    "var1 = 5\n",
    "var2 = 'nk'\n",
    "\n",
    "var1, var2 = var2, var1\n",
    "\n",
    "print(\"var1 after swapping :: \",var1)\n",
    "print(\"var2 after swapping :: \",var2)\n"
   ]
  },
  {
   "cell_type": "markdown",
   "id": "5ec2eeac",
   "metadata": {},
   "source": [
    "3. Write a Python program to concatenate two strings."
   ]
  },
  {
   "cell_type": "code",
   "execution_count": 24,
   "id": "c9a4b8dc",
   "metadata": {},
   "outputs": [
    {
     "name": "stdout",
     "output_type": "stream",
     "text": [
      "concatenated string ::  nKendre\n"
     ]
    }
   ],
   "source": [
    "str1 = 'n'\n",
    "str2 = 'Kendre'\n",
    "\n",
    "conc = str1+str2\n",
    "print(\"concatenated string :: \", conc)"
   ]
  },
  {
   "cell_type": "markdown",
   "id": "e1750c17",
   "metadata": {},
   "source": [
    "4. Write a Python program to convert temperature from Celsius to Fahrenheit."
   ]
  },
  {
   "cell_type": "code",
   "execution_count": 25,
   "id": "52bccaa5",
   "metadata": {},
   "outputs": [
    {
     "name": "stdout",
     "output_type": "stream",
     "text": [
      "Temperature in fahrenheit for 37 is :: 98.60000000000001\n"
     ]
    }
   ],
   "source": [
    "# formula to convert celsius to fahrenheit is f = cel * (9/5) + 32\n",
    "\n",
    "cel_temp = 37\n",
    "\n",
    "fah_temp = (cel_temp *(9/5) ) + 32\n",
    "\n",
    "print(f\"Temperature in fahrenheit for {cel_temp} is :: {fah_temp}\")"
   ]
  },
  {
   "cell_type": "markdown",
   "id": "1ee15fb8",
   "metadata": {},
   "source": [
    "5. Write a Python program to check the type of a variable."
   ]
  },
  {
   "cell_type": "code",
   "execution_count": 32,
   "id": "3b5db826",
   "metadata": {},
   "outputs": [
    {
     "name": "stdout",
     "output_type": "stream",
     "text": [
      "types of variable as follow :: \n",
      "var1 ::  <class 'int'>\n",
      "var2 ::  <class 'str'>\n",
      "var3 ::  <class 'float'>\n"
     ]
    }
   ],
   "source": [
    "var1 = 5\n",
    "var2 = \"nsk\"\n",
    "var3 = 3.5\n",
    "print(\"types of variable as follow :: \")\n",
    "print(\"var1 :: \",type(var1))\n",
    "print(\"var2 :: \",type(var2))\n",
    "print(\"var3 :: \",type(var3))"
   ]
  },
  {
   "cell_type": "markdown",
   "id": "f2ea54d8",
   "metadata": {},
   "source": [
    "### Basic Input/Output:"
   ]
  },
  {
   "cell_type": "markdown",
   "id": "b1516b75",
   "metadata": {},
   "source": [
    "1. Write a Python program to take a name as input from the user and print a greeting message."
   ]
  },
  {
   "cell_type": "code",
   "execution_count": 35,
   "id": "c42370ab",
   "metadata": {},
   "outputs": [
    {
     "name": "stdout",
     "output_type": "stream",
     "text": [
      "Enter your Name :: Nitin\n",
      "Hi, Good Evening Nitin\n"
     ]
    }
   ],
   "source": [
    "name = input(\"Enter your Name :: \")\n",
    "\n",
    "print(\"Hi, Good Evening\",name)"
   ]
  },
  {
   "cell_type": "markdown",
   "id": "7a6877a3",
   "metadata": {},
   "source": [
    "2. Write a Python program to take two numbers as input from the user and print their sum, difference, product, and quotient."
   ]
  },
  {
   "cell_type": "code",
   "execution_count": 39,
   "id": "ae7d7676",
   "metadata": {},
   "outputs": [
    {
     "name": "stdout",
     "output_type": "stream",
     "text": [
      "Enter number 1 :: 5\n",
      "Enter number 2 :: 3\n",
      "\n",
      "-----------------RESULT-----------------\n",
      "Sum of given number is ::  8\n",
      "Difference of given numbers is ::  2\n",
      "Product of given numbers is ::  15\n",
      "quotient of given numbers is ::  1.6666666666666667\n"
     ]
    }
   ],
   "source": [
    "num1 = int(input(\"Enter number 1 :: \"))\n",
    "num2 = int(input(\"Enter number 2 :: \"))\n",
    "\n",
    "print(\"\\n-----------------RESULT-----------------\")\n",
    "print(\"Sum of given number is :: \",num1+num2)\n",
    "print(\"Difference of given numbers is :: \", num1-num2)\n",
    "print(\"Product of given numbers is :: \", num1*num2)\n",
    "print(\"quotient of given numbers is :: \",num1/num2)"
   ]
  },
  {
   "cell_type": "markdown",
   "id": "11d44862",
   "metadata": {},
   "source": [
    "3. Write a Python program to take a sentence as input from the user and count the number of vowels in it."
   ]
  },
  {
   "cell_type": "code",
   "execution_count": 43,
   "id": "0ed78149",
   "metadata": {},
   "outputs": [
    {
     "name": "stdout",
     "output_type": "stream",
     "text": [
      "Enter a sentence :: 3. Write a Python program to take a sentence as input from the user and count the number of vowels in it.\n",
      "\n",
      " ------------------- RESULT -----------------------\n",
      "count by first method ::  31\n",
      "count by second method ::  31\n"
     ]
    }
   ],
   "source": [
    "vowels = 'aeiouAEIOU'\n",
    "senten = input(\"Enter a sentence :: \")\n",
    "count = 0\n",
    "\n",
    "print(\"\\n ------------------- RESULT -----------------------\")\n",
    "## first method\n",
    "for ch in senten:\n",
    "    if ch in vowels:\n",
    "        count = count+1\n",
    "        \n",
    "print(\"count by first method :: \",count)\n",
    "count = 0\n",
    "## We will use count() function of python to count the number of types vowel accurs\n",
    "for vow in vowels:\n",
    "    count = count + senten.count(vow)\n",
    "print(\"count by second method :: \",count)"
   ]
  },
  {
   "cell_type": "markdown",
   "id": "ff6fa122",
   "metadata": {},
   "source": [
    "### Conditional Statements (if, elif, else):"
   ]
  },
  {
   "cell_type": "markdown",
   "id": "d1743201",
   "metadata": {},
   "source": [
    "1. Write a Python program to check whether a number entered by the user is positive, negative, or zero."
   ]
  },
  {
   "cell_type": "code",
   "execution_count": 48,
   "id": "3b5791fa",
   "metadata": {},
   "outputs": [
    {
     "name": "stdout",
     "output_type": "stream",
     "text": [
      "234\n",
      "Given Number is Positive\n"
     ]
    }
   ],
   "source": [
    "num = int(input())\n",
    "\n",
    "if num > 0:\n",
    "    print(\"Given Number is Positive\")\n",
    "elif num < 0:\n",
    "    print(\"Given Number is Negative\")\n",
    "else:\n",
    "    print(\"Given Number is Zero\")"
   ]
  },
  {
   "cell_type": "markdown",
   "id": "104d170f",
   "metadata": {},
   "source": [
    "2. Write a Python program to check whether a year entered by the user is a leap year or not."
   ]
  },
  {
   "cell_type": "code",
   "execution_count": 52,
   "id": "6ad27401",
   "metadata": {},
   "outputs": [
    {
     "name": "stdout",
     "output_type": "stream",
     "text": [
      "Enter a year :: 2028\n",
      "Given year is a leap year\n"
     ]
    }
   ],
   "source": [
    "# To check the leap year first check if it is multiple of 4 or 400 and not multiple of 100\n",
    "year = int(input(\"Enter a year :: \"))\n",
    "\n",
    "if (year % 400 == 0) or (year % 100 != 0) and (year % 4 == 0):\n",
    "    print(\"Given year is a leap year\")\n",
    "else:\n",
    "    print(\"Given year is not a leap year\")"
   ]
  },
  {
   "cell_type": "markdown",
   "id": "62fedb13",
   "metadata": {},
   "source": [
    "3. Write a Python program to find the largest of three numbers entered by the user."
   ]
  },
  {
   "cell_type": "code",
   "execution_count": 59,
   "id": "99962079",
   "metadata": {},
   "outputs": [
    {
     "name": "stdout",
     "output_type": "stream",
     "text": [
      "Enter number 1 :: 4\n",
      "Enter 2nd number :: 0\n",
      "Enter 3rd number :: 1\n",
      "Largest number from given numbers is ::  4\n"
     ]
    }
   ],
   "source": [
    "num1 = int(input(\"Enter number 1 :: \"))\n",
    "num2 = int(input(\"Enter 2nd number :: \"))\n",
    "num3 = int(input(\"Enter 3rd number :: \"))\n",
    "\n",
    "if num1 > num3 and num1 > num2:\n",
    "    largest = num1\n",
    "elif num2 > num1 and num2 > num3:\n",
    "    largest = num2\n",
    "elif num3 > num1 and num3 > num2:\n",
    "    largest = num3\n",
    "\n",
    "else:\n",
    "    print(\"Sorry!\")\n",
    "    \n",
    "print(\"Largest number from given numbers is :: \",largest)"
   ]
  },
  {
   "cell_type": "markdown",
   "id": "fa109409",
   "metadata": {},
   "source": [
    "4. Write a Python program to check whether a character entered by the user is a vowel or a consonant."
   ]
  },
  {
   "cell_type": "code",
   "execution_count": 64,
   "id": "07503978",
   "metadata": {},
   "outputs": [
    {
     "name": "stdout",
     "output_type": "stream",
     "text": [
      "Enter a Character :: k\n",
      "\n",
      "---------------------- RESULT ----------------------------\n",
      "\n",
      "Given character is a consonant\n"
     ]
    }
   ],
   "source": [
    "vowels = 'aeiouAEIOU'\n",
    "\n",
    "char = input(\"Enter a Character :: \") \n",
    "\n",
    "print(\"\\n---------------------- RESULT ----------------------------\\n\")\n",
    "\n",
    "if char in vowels:\n",
    "    print(\"Given character is a vowel\")\n",
    "else :\n",
    "    print(\"Given character is a consonant\")"
   ]
  },
  {
   "cell_type": "markdown",
   "id": "0f8b5d4f",
   "metadata": {},
   "source": [
    "5. Write a Python program to determine the grade of a student based on their marks entered by the user."
   ]
  },
  {
   "cell_type": "code",
   "execution_count": 68,
   "id": "9291ddaa",
   "metadata": {},
   "outputs": [
    {
     "name": "stdout",
     "output_type": "stream",
     "text": [
      "Enter marks of the student :: 67.89\n",
      "\n",
      "---------------------- RESULT ----------------------------\n",
      "\n",
      "First class\n"
     ]
    }
   ],
   "source": [
    "marks = float(input(\"Enter marks of the student :: \"))\n",
    "\n",
    "print(\"\\n---------------------- RESULT ----------------------------\\n\")\n",
    "\n",
    "if marks >= 80 and marks <= 100:\n",
    "    print(\"First class with Distinction\")\n",
    "    \n",
    "elif marks >=60 and marks <= 80:\n",
    "    print(\"First class\")\n",
    "    \n",
    "elif marks >= 40 and marks <= 60:\n",
    "    print(\"Second Class\")\n",
    "\n",
    "else:\n",
    "    print('All the Best!')"
   ]
  }
 ],
 "metadata": {
  "kernelspec": {
   "display_name": "Python 3 (ipykernel)",
   "language": "python",
   "name": "python3"
  },
  "language_info": {
   "codemirror_mode": {
    "name": "ipython",
    "version": 3
   },
   "file_extension": ".py",
   "mimetype": "text/x-python",
   "name": "python",
   "nbconvert_exporter": "python",
   "pygments_lexer": "ipython3",
   "version": "3.11.4"
  }
 },
 "nbformat": 4,
 "nbformat_minor": 5
}
