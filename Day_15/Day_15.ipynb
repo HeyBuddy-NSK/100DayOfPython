{
 "cells": [
  {
   "cell_type": "markdown",
   "id": "3f1a18ca",
   "metadata": {},
   "source": [
    "# Day 15 (MongoDB Basics)\n",
    "\n",
    "## Practicing python from Basics"
   ]
  },
  {
   "cell_type": "markdown",
   "id": "5f0f8689",
   "metadata": {},
   "source": [
    "## MongoDB Basics"
   ]
  },
  {
   "cell_type": "markdown",
   "id": "4bcf53e4",
   "metadata": {},
   "source": [
    "### Installing PyMongo"
   ]
  },
  {
   "cell_type": "code",
   "execution_count": 48,
   "id": "5d2ecb6b",
   "metadata": {},
   "outputs": [],
   "source": [
    "# !python -m pip install \"pymongo[srv]\"==3.6"
   ]
  },
  {
   "cell_type": "markdown",
   "id": "083b4a49",
   "metadata": {},
   "source": [
    "### Importing PyMongo"
   ]
  },
  {
   "cell_type": "code",
   "execution_count": 1,
   "id": "e362d4b1",
   "metadata": {},
   "outputs": [],
   "source": [
    "import pymongo"
   ]
  },
  {
   "cell_type": "markdown",
   "id": "0edae834",
   "metadata": {},
   "source": [
    "### connecting to mongodb"
   ]
  },
  {
   "cell_type": "code",
   "execution_count": 2,
   "id": "fa47a81c",
   "metadata": {},
   "outputs": [],
   "source": [
    "import sys\n",
    "# connection string/url for mongodb cloud\n",
    "con_str = \"mongodb+srv://<username>:<password>@cluster0.brei1xq.mongodb.net/?retryWrites=true&w=majority\"\n",
    "\n",
    "try:\n",
    "  client = pymongo.MongoClient(con_str)\n",
    "  \n",
    "# return a friendly error if a URI error is thrown \n",
    "except pymongo.errors.ConfigurationError:\n",
    "  print(\"An Invalid URI host error was received. Is your Atlas host name correct in your connection string?\")\n",
    "  sys.exit(1)"
   ]
  },
  {
   "cell_type": "markdown",
   "id": "d0a9e396",
   "metadata": {},
   "source": [
    "### Listing present databases in mongodb"
   ]
  },
  {
   "cell_type": "code",
   "execution_count": 3,
   "id": "5e98540e",
   "metadata": {},
   "outputs": [
    {
     "data": {
      "text/plain": [
       "['admin', 'local']"
      ]
     },
     "execution_count": 3,
     "metadata": {},
     "output_type": "execute_result"
    }
   ],
   "source": [
    "client.list_database_names()"
   ]
  },
  {
   "cell_type": "markdown",
   "id": "685baea7",
   "metadata": {},
   "source": [
    "### creating database"
   ]
  },
  {
   "cell_type": "code",
   "execution_count": 4,
   "id": "63a77679",
   "metadata": {},
   "outputs": [],
   "source": [
    "new_db = client['100dayofpython']"
   ]
  },
  {
   "cell_type": "markdown",
   "id": "90963caf",
   "metadata": {},
   "source": [
    "### Creating collection"
   ]
  },
  {
   "cell_type": "code",
   "execution_count": 5,
   "id": "f7c94227",
   "metadata": {},
   "outputs": [],
   "source": [
    "new_coll = new_db['progress']"
   ]
  },
  {
   "cell_type": "markdown",
   "id": "da7f5b6f",
   "metadata": {},
   "source": [
    "### Adding data to Collection"
   ]
  },
  {
   "cell_type": "code",
   "execution_count": 6,
   "id": "92a56835",
   "metadata": {},
   "outputs": [
    {
     "data": {
      "text/plain": [
       "InsertOneResult(ObjectId('6645cfc403d21ee249bd3ba9'), acknowledged=True)"
      ]
     },
     "execution_count": 6,
     "metadata": {},
     "output_type": "execute_result"
    }
   ],
   "source": [
    "document = {\"day\":\"day_1\",\"goal_complete\":\"yes\"}\n",
    "new_coll.insert_one(document)"
   ]
  },
  {
   "cell_type": "markdown",
   "id": "24435b43",
   "metadata": {},
   "source": [
    "### Checking databases"
   ]
  },
  {
   "cell_type": "code",
   "execution_count": 7,
   "id": "a7db63f5",
   "metadata": {},
   "outputs": [
    {
     "data": {
      "text/plain": [
       "['100dayofpython', 'admin', 'local']"
      ]
     },
     "execution_count": 7,
     "metadata": {},
     "output_type": "execute_result"
    }
   ],
   "source": [
    "# getting databases\n",
    "client.list_database_names()"
   ]
  },
  {
   "cell_type": "markdown",
   "id": "9312e193",
   "metadata": {},
   "source": [
    "### Checking collection"
   ]
  },
  {
   "cell_type": "code",
   "execution_count": 8,
   "id": "c48ad26c",
   "metadata": {},
   "outputs": [
    {
     "name": "stdout",
     "output_type": "stream",
     "text": [
      "The collection exists.\n"
     ]
    }
   ],
   "source": [
    "coll_list = new_db.list_collection_names()\n",
    "if \"progress\" in coll_list:\n",
    "    print(\"The collection exists.\")"
   ]
  },
  {
   "cell_type": "markdown",
   "id": "f7cec0bf",
   "metadata": {},
   "source": [
    "### Inserting Multiple Documents"
   ]
  },
  {
   "cell_type": "code",
   "execution_count": 9,
   "id": "39429745",
   "metadata": {},
   "outputs": [
    {
     "name": "stdout",
     "output_type": "stream",
     "text": [
      "[ObjectId('6645cfd303d21ee249bd3baa'), ObjectId('6645cfd303d21ee249bd3bab'), ObjectId('6645cfd303d21ee249bd3bac'), ObjectId('6645cfd303d21ee249bd3bad'), ObjectId('6645cfd303d21ee249bd3bae'), ObjectId('6645cfd303d21ee249bd3baf'), ObjectId('6645cfd303d21ee249bd3bb0'), ObjectId('6645cfd303d21ee249bd3bb1'), ObjectId('6645cfd303d21ee249bd3bb2'), ObjectId('6645cfd303d21ee249bd3bb3'), ObjectId('6645cfd303d21ee249bd3bb4'), ObjectId('6645cfd303d21ee249bd3bb5'), ObjectId('6645cfd303d21ee249bd3bb6'), ObjectId('6645cfd303d21ee249bd3bb7'), ObjectId('6645cfd303d21ee249bd3bb8')]\n"
     ]
    }
   ],
   "source": [
    "# list of documents\n",
    "multi_docs = [\n",
    "    \n",
    "    {'day':'day_2','goal_complete':'yes'},\n",
    "    {'day':'day_3','goal_complete':'yes'},\n",
    "    {'day':'day_4','goal_complete':'yes'},\n",
    "    {'day':'day_5','goal_complete':'yes'},\n",
    "    {'day':'day_6','goal_complete':'yes'},\n",
    "    {'day':'day_7','goal_complete':'yes'},\n",
    "    {'day':'day_12','goal_complete':'yes'},\n",
    "    {'day':'day_15','goal_complete':'no'},\n",
    "    {'day':'day_16','goal_complete':'no'},\n",
    "    {'day':'day_17','goal_complete':'no'},\n",
    "    {'day':'day_18','goal_complete':'no'},\n",
    "    {'day':'day_9','goal_complete':'yes'},\n",
    "    {'day':'day_11','goal_complete':'yes'},\n",
    "    {'day':'day_10','goal_complete':'yes'},\n",
    "    {'day':'day_8','goal_complete':'yes'}\n",
    "    \n",
    "]\n",
    "\n",
    "# Inserting all at once.\n",
    "res = new_coll.insert_many(multi_docs)\n",
    "\n",
    "# printing list of _id values of inserted documents\n",
    "print(res.inserted_ids)"
   ]
  },
  {
   "cell_type": "markdown",
   "id": "1a9e1ce6",
   "metadata": {},
   "source": [
    "### Inserting multiple documents with specified ids."
   ]
  },
  {
   "cell_type": "code",
   "execution_count": 10,
   "id": "6ab327eb",
   "metadata": {},
   "outputs": [
    {
     "name": "stdout",
     "output_type": "stream",
     "text": [
      "[11, 21, 19, 18, 13, 16, 17, 15]\n"
     ]
    }
   ],
   "source": [
    "# list of documents\n",
    "multi_docs = [\n",
    "    \n",
    "    {\"_id\": 11,'day':'day_19','goal_complete':'no'},\n",
    "    {\"_id\": 21,'day':'day_20','goal_complete':'no'},\n",
    "    {\"_id\": 19,'day':'day_24','goal_complete':'no'},\n",
    "    {\"_id\": 18,'day':'day_29','goal_complete':'no'},\n",
    "    {\"_id\": 13,'day':'day_32','goal_complete':'no'},\n",
    "    {\"_id\": 16,'day':'day_39','goal_complete':'no'},\n",
    "    {\"_id\": 17,'day':'day_41','goal_complete':'no'},\n",
    "    {\"_id\": 15,'day':'day_30','goal_complete':'no'}\n",
    "    \n",
    "]\n",
    "\n",
    "# inserting many at once\n",
    "res = new_coll.insert_many(multi_docs)\n",
    "\n",
    "# printingids\n",
    "print(res.inserted_ids)"
   ]
  },
  {
   "cell_type": "markdown",
   "id": "99cb2dc1",
   "metadata": {},
   "source": [
    "### Getting data from Collections"
   ]
  },
  {
   "cell_type": "markdown",
   "id": "48d6cfd0",
   "metadata": {},
   "source": [
    "#### find_one() method\n",
    "\n",
    "find_one() method returns the first occurrence from the collection."
   ]
  },
  {
   "cell_type": "code",
   "execution_count": 11,
   "id": "2876a01a",
   "metadata": {},
   "outputs": [
    {
     "name": "stdout",
     "output_type": "stream",
     "text": [
      "{'_id': ObjectId('6645cfc403d21ee249bd3ba9'), 'day': 'day_1', 'goal_complete': 'yes'}\n"
     ]
    }
   ],
   "source": [
    "# getting data\n",
    "result = new_coll.find_one()\n",
    "\n",
    "# printing\n",
    "print(result)"
   ]
  },
  {
   "cell_type": "markdown",
   "id": "5f73ecee",
   "metadata": {},
   "source": [
    "#### find() method\n",
    "\n",
    "find() method returns all occurances from the collection if nothing is provided."
   ]
  },
  {
   "cell_type": "code",
   "execution_count": 12,
   "id": "6e40cde1",
   "metadata": {},
   "outputs": [
    {
     "name": "stdout",
     "output_type": "stream",
     "text": [
      "{'_id': ObjectId('6645cfc403d21ee249bd3ba9'), 'day': 'day_1', 'goal_complete': 'yes'}\n",
      "{'_id': ObjectId('6645cfd303d21ee249bd3baa'), 'day': 'day_2', 'goal_complete': 'yes'}\n",
      "{'_id': ObjectId('6645cfd303d21ee249bd3bab'), 'day': 'day_3', 'goal_complete': 'yes'}\n",
      "{'_id': ObjectId('6645cfd303d21ee249bd3bac'), 'day': 'day_4', 'goal_complete': 'yes'}\n",
      "{'_id': ObjectId('6645cfd303d21ee249bd3bad'), 'day': 'day_5', 'goal_complete': 'yes'}\n",
      "{'_id': ObjectId('6645cfd303d21ee249bd3bae'), 'day': 'day_6', 'goal_complete': 'yes'}\n",
      "{'_id': ObjectId('6645cfd303d21ee249bd3baf'), 'day': 'day_7', 'goal_complete': 'yes'}\n",
      "{'_id': ObjectId('6645cfd303d21ee249bd3bb0'), 'day': 'day_12', 'goal_complete': 'yes'}\n",
      "{'_id': ObjectId('6645cfd303d21ee249bd3bb1'), 'day': 'day_15', 'goal_complete': 'no'}\n",
      "{'_id': ObjectId('6645cfd303d21ee249bd3bb2'), 'day': 'day_16', 'goal_complete': 'no'}\n",
      "{'_id': ObjectId('6645cfd303d21ee249bd3bb3'), 'day': 'day_17', 'goal_complete': 'no'}\n",
      "{'_id': ObjectId('6645cfd303d21ee249bd3bb4'), 'day': 'day_18', 'goal_complete': 'no'}\n",
      "{'_id': ObjectId('6645cfd303d21ee249bd3bb5'), 'day': 'day_9', 'goal_complete': 'yes'}\n",
      "{'_id': ObjectId('6645cfd303d21ee249bd3bb6'), 'day': 'day_11', 'goal_complete': 'yes'}\n",
      "{'_id': ObjectId('6645cfd303d21ee249bd3bb7'), 'day': 'day_10', 'goal_complete': 'yes'}\n",
      "{'_id': ObjectId('6645cfd303d21ee249bd3bb8'), 'day': 'day_8', 'goal_complete': 'yes'}\n",
      "{'_id': 11, 'day': 'day_19', 'goal_complete': 'no'}\n",
      "{'_id': 21, 'day': 'day_20', 'goal_complete': 'no'}\n",
      "{'_id': 19, 'day': 'day_24', 'goal_complete': 'no'}\n",
      "{'_id': 18, 'day': 'day_29', 'goal_complete': 'no'}\n",
      "{'_id': 13, 'day': 'day_32', 'goal_complete': 'no'}\n",
      "{'_id': 16, 'day': 'day_39', 'goal_complete': 'no'}\n",
      "{'_id': 17, 'day': 'day_41', 'goal_complete': 'no'}\n",
      "{'_id': 15, 'day': 'day_30', 'goal_complete': 'no'}\n"
     ]
    }
   ],
   "source": [
    "# getting data \n",
    "result = new_coll.find()\n",
    "\n",
    "# printing\n",
    "for doc in result:\n",
    "    print(doc)"
   ]
  },
  {
   "cell_type": "markdown",
   "id": "59ec9c2d",
   "metadata": {},
   "source": [
    "#### Getting few fields from collection"
   ]
  },
  {
   "cell_type": "code",
   "execution_count": 13,
   "id": "b7b1a4e8",
   "metadata": {},
   "outputs": [
    {
     "name": "stdout",
     "output_type": "stream",
     "text": [
      "{'day': 'day_1', 'goal_complete': 'yes'}\n",
      "{'day': 'day_2', 'goal_complete': 'yes'}\n",
      "{'day': 'day_3', 'goal_complete': 'yes'}\n",
      "{'day': 'day_4', 'goal_complete': 'yes'}\n",
      "{'day': 'day_5', 'goal_complete': 'yes'}\n",
      "{'day': 'day_6', 'goal_complete': 'yes'}\n",
      "{'day': 'day_7', 'goal_complete': 'yes'}\n",
      "{'day': 'day_12', 'goal_complete': 'yes'}\n",
      "{'day': 'day_15', 'goal_complete': 'no'}\n",
      "{'day': 'day_16', 'goal_complete': 'no'}\n",
      "{'day': 'day_17', 'goal_complete': 'no'}\n",
      "{'day': 'day_18', 'goal_complete': 'no'}\n",
      "{'day': 'day_9', 'goal_complete': 'yes'}\n",
      "{'day': 'day_11', 'goal_complete': 'yes'}\n",
      "{'day': 'day_10', 'goal_complete': 'yes'}\n",
      "{'day': 'day_8', 'goal_complete': 'yes'}\n",
      "{'day': 'day_19', 'goal_complete': 'no'}\n",
      "{'day': 'day_20', 'goal_complete': 'no'}\n",
      "{'day': 'day_24', 'goal_complete': 'no'}\n",
      "{'day': 'day_29', 'goal_complete': 'no'}\n",
      "{'day': 'day_32', 'goal_complete': 'no'}\n",
      "{'day': 'day_39', 'goal_complete': 'no'}\n",
      "{'day': 'day_41', 'goal_complete': 'no'}\n",
      "{'day': 'day_30', 'goal_complete': 'no'}\n"
     ]
    }
   ],
   "source": [
    "# getting data\n",
    "result = new_coll.find({},{'_id':0, 'day':1, \"goal_complete\": 1})\n",
    "\n",
    "# printing\n",
    "for doc in result:\n",
    "    print(doc)"
   ]
  },
  {
   "cell_type": "markdown",
   "id": "735b1c45",
   "metadata": {},
   "source": [
    "### Getting only one column"
   ]
  },
  {
   "cell_type": "code",
   "execution_count": 16,
   "id": "998cc200",
   "metadata": {},
   "outputs": [
    {
     "name": "stdout",
     "output_type": "stream",
     "text": [
      "{'_id': ObjectId('6645cfc403d21ee249bd3ba9'), 'day': 'day_1'}\n",
      "{'_id': ObjectId('6645cfd303d21ee249bd3baa'), 'day': 'day_2'}\n",
      "{'_id': ObjectId('6645cfd303d21ee249bd3bab'), 'day': 'day_3'}\n",
      "{'_id': ObjectId('6645cfd303d21ee249bd3bac'), 'day': 'day_4'}\n",
      "{'_id': ObjectId('6645cfd303d21ee249bd3bad'), 'day': 'day_5'}\n",
      "{'_id': ObjectId('6645cfd303d21ee249bd3bae'), 'day': 'day_6'}\n",
      "{'_id': ObjectId('6645cfd303d21ee249bd3baf'), 'day': 'day_7'}\n",
      "{'_id': ObjectId('6645cfd303d21ee249bd3bb0'), 'day': 'day_12'}\n",
      "{'_id': ObjectId('6645cfd303d21ee249bd3bb1'), 'day': 'day_15'}\n",
      "{'_id': ObjectId('6645cfd303d21ee249bd3bb2'), 'day': 'day_16'}\n",
      "{'_id': ObjectId('6645cfd303d21ee249bd3bb3'), 'day': 'day_17'}\n",
      "{'_id': ObjectId('6645cfd303d21ee249bd3bb4'), 'day': 'day_18'}\n",
      "{'_id': ObjectId('6645cfd303d21ee249bd3bb5'), 'day': 'day_9'}\n",
      "{'_id': ObjectId('6645cfd303d21ee249bd3bb6'), 'day': 'day_11'}\n",
      "{'_id': ObjectId('6645cfd303d21ee249bd3bb7'), 'day': 'day_10'}\n",
      "{'_id': ObjectId('6645cfd303d21ee249bd3bb8'), 'day': 'day_8'}\n",
      "{'_id': 11, 'day': 'day_19'}\n",
      "{'_id': 21, 'day': 'day_20'}\n",
      "{'_id': 19, 'day': 'day_24'}\n",
      "{'_id': 18, 'day': 'day_29'}\n",
      "{'_id': 13, 'day': 'day_32'}\n",
      "{'_id': 16, 'day': 'day_39'}\n",
      "{'_id': 17, 'day': 'day_41'}\n",
      "{'_id': 15, 'day': 'day_30'}\n"
     ]
    }
   ],
   "source": [
    "# getting data\n",
    "result = new_coll.find({},{'day':1})\n",
    "\n",
    "# printing\n",
    "for doc in result:\n",
    "    print(doc)"
   ]
  },
  {
   "cell_type": "markdown",
   "id": "0819e708",
   "metadata": {},
   "source": [
    "### Sorting the result"
   ]
  },
  {
   "cell_type": "markdown",
   "id": "b04a822d",
   "metadata": {},
   "source": [
    "#### Ascending"
   ]
  },
  {
   "cell_type": "code",
   "execution_count": 19,
   "id": "b7751557",
   "metadata": {},
   "outputs": [
    {
     "name": "stdout",
     "output_type": "stream",
     "text": [
      "day_1 :: yes\n",
      "day_10 :: yes\n",
      "day_11 :: yes\n",
      "day_12 :: yes\n",
      "day_15 :: no\n",
      "day_16 :: no\n",
      "day_17 :: no\n",
      "day_18 :: no\n",
      "day_19 :: no\n",
      "day_2 :: yes\n",
      "day_20 :: no\n",
      "day_24 :: no\n",
      "day_29 :: no\n",
      "day_3 :: yes\n",
      "day_30 :: no\n",
      "day_32 :: no\n",
      "day_39 :: no\n",
      "day_4 :: yes\n",
      "day_41 :: no\n",
      "day_5 :: yes\n",
      "day_6 :: yes\n",
      "day_7 :: yes\n",
      "day_8 :: yes\n",
      "day_9 :: yes\n"
     ]
    }
   ],
   "source": [
    "# getting all \n",
    "docs = new_coll.find()\n",
    "\n",
    "# sorting\n",
    "docs_sorted = docs.sort('day')\n",
    "\n",
    "# printing\n",
    "for doc in docs_sorted:\n",
    "    print(f\"{doc['day']} :: {doc['goal_complete']}\")"
   ]
  },
  {
   "cell_type": "markdown",
   "id": "847d4e27",
   "metadata": {},
   "source": [
    "#### Descending"
   ]
  },
  {
   "cell_type": "code",
   "execution_count": 24,
   "id": "08e83cac",
   "metadata": {},
   "outputs": [
    {
     "name": "stdout",
     "output_type": "stream",
     "text": [
      "day_9 :: yes\n",
      "day_8 :: yes\n",
      "day_7 :: yes\n",
      "day_6 :: yes\n",
      "day_5 :: yes\n",
      "day_41 :: no\n",
      "day_4 :: yes\n",
      "day_39 :: no\n",
      "day_32 :: no\n",
      "day_30 :: no\n",
      "day_3 :: yes\n",
      "day_29 :: no\n",
      "day_24 :: no\n",
      "day_20 :: no\n",
      "day_2 :: yes\n",
      "day_19 :: no\n",
      "day_18 :: no\n",
      "day_17 :: no\n",
      "day_16 :: no\n",
      "day_15 :: no\n",
      "day_12 :: yes\n",
      "day_11 :: yes\n",
      "day_10 :: yes\n",
      "day_1 :: yes\n"
     ]
    }
   ],
   "source": [
    "# docs\n",
    "docs = new_coll.find()\n",
    "\n",
    "# sorting in descending order\n",
    "docs_desc = docs.sort('day',-1)\n",
    "\n",
    "# printing \n",
    "for doc in docs_desc:\n",
    "    print(f\"{doc['day']} :: {doc['goal_complete']}\")"
   ]
  },
  {
   "cell_type": "markdown",
   "id": "570248c5",
   "metadata": {},
   "source": [
    "### Filtering the result\n",
    "\n",
    "The first argument of the find() method is a query object, and is used to limit the search.\n",
    "\n"
   ]
  },
  {
   "cell_type": "code",
   "execution_count": 25,
   "id": "d934ed15",
   "metadata": {},
   "outputs": [
    {
     "name": "stdout",
     "output_type": "stream",
     "text": [
      "{'_id': ObjectId('6645cfd303d21ee249bd3bb1'), 'day': 'day_15', 'goal_complete': 'no'}\n",
      "{'_id': ObjectId('6645cfd303d21ee249bd3bb2'), 'day': 'day_16', 'goal_complete': 'no'}\n",
      "{'_id': ObjectId('6645cfd303d21ee249bd3bb3'), 'day': 'day_17', 'goal_complete': 'no'}\n",
      "{'_id': ObjectId('6645cfd303d21ee249bd3bb4'), 'day': 'day_18', 'goal_complete': 'no'}\n",
      "{'_id': 11, 'day': 'day_19', 'goal_complete': 'no'}\n",
      "{'_id': 21, 'day': 'day_20', 'goal_complete': 'no'}\n",
      "{'_id': 19, 'day': 'day_24', 'goal_complete': 'no'}\n",
      "{'_id': 18, 'day': 'day_29', 'goal_complete': 'no'}\n",
      "{'_id': 13, 'day': 'day_32', 'goal_complete': 'no'}\n",
      "{'_id': 16, 'day': 'day_39', 'goal_complete': 'no'}\n",
      "{'_id': 17, 'day': 'day_41', 'goal_complete': 'no'}\n",
      "{'_id': 15, 'day': 'day_30', 'goal_complete': 'no'}\n"
     ]
    }
   ],
   "source": [
    "# query\n",
    "qr = {'goal_complete':'no'}\n",
    "\n",
    "# finding\n",
    "docs = new_coll.find(qr)\n",
    "\n",
    "# printing\n",
    "for doc in docs:\n",
    "    print(doc)"
   ]
  },
  {
   "cell_type": "markdown",
   "id": "0ffd1c60",
   "metadata": {},
   "source": [
    "#### filtering"
   ]
  },
  {
   "cell_type": "code",
   "execution_count": 27,
   "id": "232cd945",
   "metadata": {},
   "outputs": [
    {
     "name": "stdout",
     "output_type": "stream",
     "text": [
      "{'_id': ObjectId('6645cfc403d21ee249bd3ba9'), 'day': 'day_1', 'goal_complete': 'yes'}\n",
      "{'_id': ObjectId('6645cfd303d21ee249bd3baa'), 'day': 'day_2', 'goal_complete': 'yes'}\n",
      "{'_id': ObjectId('6645cfd303d21ee249bd3bab'), 'day': 'day_3', 'goal_complete': 'yes'}\n",
      "{'_id': ObjectId('6645cfd303d21ee249bd3bac'), 'day': 'day_4', 'goal_complete': 'yes'}\n",
      "{'_id': ObjectId('6645cfd303d21ee249bd3bad'), 'day': 'day_5', 'goal_complete': 'yes'}\n",
      "{'_id': ObjectId('6645cfd303d21ee249bd3bae'), 'day': 'day_6', 'goal_complete': 'yes'}\n",
      "{'_id': ObjectId('6645cfd303d21ee249bd3baf'), 'day': 'day_7', 'goal_complete': 'yes'}\n",
      "{'_id': ObjectId('6645cfd303d21ee249bd3bb0'), 'day': 'day_12', 'goal_complete': 'yes'}\n",
      "{'_id': ObjectId('6645cfd303d21ee249bd3bb5'), 'day': 'day_9', 'goal_complete': 'yes'}\n",
      "{'_id': ObjectId('6645cfd303d21ee249bd3bb6'), 'day': 'day_11', 'goal_complete': 'yes'}\n",
      "{'_id': ObjectId('6645cfd303d21ee249bd3bb7'), 'day': 'day_10', 'goal_complete': 'yes'}\n",
      "{'_id': ObjectId('6645cfd303d21ee249bd3bb8'), 'day': 'day_8', 'goal_complete': 'yes'}\n"
     ]
    }
   ],
   "source": [
    "# using $gt represents greater than in query \n",
    "qr = {'goal_complete': {'$gt':'p'}} # we can use regular expressions also\n",
    "\n",
    "# finding docs\n",
    "docs = new_coll.find(qr)\n",
    "\n",
    "# printing\n",
    "for doc in docs:\n",
    "    print(doc)"
   ]
  },
  {
   "cell_type": "markdown",
   "id": "3cd30d17",
   "metadata": {},
   "source": [
    "### Updating document"
   ]
  },
  {
   "cell_type": "code",
   "execution_count": 28,
   "id": "e2df8ce0",
   "metadata": {},
   "outputs": [
    {
     "name": "stdout",
     "output_type": "stream",
     "text": [
      "{'_id': ObjectId('6645cfc403d21ee249bd3ba9'), 'day': 'day_1', 'goal_complete': 'yes'}\n",
      "{'_id': ObjectId('6645cfd303d21ee249bd3baa'), 'day': 'day_2', 'goal_complete': 'yes'}\n",
      "{'_id': ObjectId('6645cfd303d21ee249bd3bab'), 'day': 'day_3', 'goal_complete': 'yes'}\n",
      "{'_id': ObjectId('6645cfd303d21ee249bd3bac'), 'day': 'day_4', 'goal_complete': 'yes'}\n",
      "{'_id': ObjectId('6645cfd303d21ee249bd3bad'), 'day': 'day_5', 'goal_complete': 'yes'}\n",
      "{'_id': ObjectId('6645cfd303d21ee249bd3bae'), 'day': 'day_6', 'goal_complete': 'yes'}\n",
      "{'_id': ObjectId('6645cfd303d21ee249bd3baf'), 'day': 'day_7', 'goal_complete': 'yes'}\n",
      "{'_id': ObjectId('6645cfd303d21ee249bd3bb0'), 'day': 'day_12', 'goal_complete': 'yes'}\n",
      "{'_id': ObjectId('6645cfd303d21ee249bd3bb1'), 'day': 'day_15', 'goal_complete': 'yes'}\n",
      "{'_id': ObjectId('6645cfd303d21ee249bd3bb2'), 'day': 'day_16', 'goal_complete': 'no'}\n",
      "{'_id': ObjectId('6645cfd303d21ee249bd3bb3'), 'day': 'day_17', 'goal_complete': 'no'}\n",
      "{'_id': ObjectId('6645cfd303d21ee249bd3bb4'), 'day': 'day_18', 'goal_complete': 'no'}\n",
      "{'_id': ObjectId('6645cfd303d21ee249bd3bb5'), 'day': 'day_9', 'goal_complete': 'yes'}\n",
      "{'_id': ObjectId('6645cfd303d21ee249bd3bb6'), 'day': 'day_11', 'goal_complete': 'yes'}\n",
      "{'_id': ObjectId('6645cfd303d21ee249bd3bb7'), 'day': 'day_10', 'goal_complete': 'yes'}\n",
      "{'_id': ObjectId('6645cfd303d21ee249bd3bb8'), 'day': 'day_8', 'goal_complete': 'yes'}\n",
      "{'_id': 11, 'day': 'day_19', 'goal_complete': 'no'}\n",
      "{'_id': 21, 'day': 'day_20', 'goal_complete': 'no'}\n",
      "{'_id': 19, 'day': 'day_24', 'goal_complete': 'no'}\n",
      "{'_id': 18, 'day': 'day_29', 'goal_complete': 'no'}\n",
      "{'_id': 13, 'day': 'day_32', 'goal_complete': 'no'}\n",
      "{'_id': 16, 'day': 'day_39', 'goal_complete': 'no'}\n",
      "{'_id': 17, 'day': 'day_41', 'goal_complete': 'no'}\n",
      "{'_id': 15, 'day': 'day_30', 'goal_complete': 'no'}\n"
     ]
    }
   ],
   "source": [
    "# query to find specific documents\n",
    "qr = {'day':'day_15'}\n",
    "\n",
    "# new values\n",
    "vals = {'$set' : {'goal_complete':'yes'}}\n",
    "\n",
    "# updating\n",
    "new_coll.update_one(qr,vals)\n",
    "\n",
    "# printing results\n",
    "for doc in new_coll.find():\n",
    "    print(doc)"
   ]
  },
  {
   "cell_type": "markdown",
   "id": "774a58e6",
   "metadata": {},
   "source": [
    "### Updating many"
   ]
  },
  {
   "cell_type": "code",
   "execution_count": 29,
   "id": "80e81161",
   "metadata": {},
   "outputs": [
    {
     "name": "stdout",
     "output_type": "stream",
     "text": [
      "11 documents updated.\n"
     ]
    }
   ],
   "source": [
    "# query\n",
    "qr = {'goal_complete':'no'}\n",
    "\n",
    "# new values\n",
    "vals = {'$set':{'goal_complete':'yes'}}\n",
    "\n",
    "# updating\n",
    "result = new_coll.update_many(qr, vals)\n",
    "\n",
    "# message\n",
    "print(result.modified_count,\"documents updated.\")"
   ]
  },
  {
   "cell_type": "markdown",
   "id": "4f5c9adc",
   "metadata": {},
   "source": [
    "### Limit() method"
   ]
  },
  {
   "cell_type": "code",
   "execution_count": 30,
   "id": "e422cc79",
   "metadata": {},
   "outputs": [
    {
     "name": "stdout",
     "output_type": "stream",
     "text": [
      "{'_id': ObjectId('6645cfc403d21ee249bd3ba9'), 'day': 'day_1', 'goal_complete': 'yes'}\n",
      "{'_id': ObjectId('6645cfd303d21ee249bd3baa'), 'day': 'day_2', 'goal_complete': 'yes'}\n",
      "{'_id': ObjectId('6645cfd303d21ee249bd3bab'), 'day': 'day_3', 'goal_complete': 'yes'}\n",
      "{'_id': ObjectId('6645cfd303d21ee249bd3bac'), 'day': 'day_4', 'goal_complete': 'yes'}\n",
      "{'_id': ObjectId('6645cfd303d21ee249bd3bad'), 'day': 'day_5', 'goal_complete': 'yes'}\n"
     ]
    }
   ],
   "source": [
    "# finding and limiting search upto 5 docs\n",
    "docs = new_coll.find().limit(5)\n",
    "\n",
    "# printing results\n",
    "for doc in docs:\n",
    "    print(doc)"
   ]
  },
  {
   "cell_type": "markdown",
   "id": "2c7e54e8",
   "metadata": {},
   "source": [
    "### Deleting"
   ]
  },
  {
   "cell_type": "markdown",
   "id": "5cf2b652",
   "metadata": {},
   "source": [
    "#### Deleting one document"
   ]
  },
  {
   "cell_type": "code",
   "execution_count": 31,
   "id": "834a7863",
   "metadata": {},
   "outputs": [],
   "source": [
    "# query to delete\n",
    "qr = {'day':'day_41'}\n",
    "\n",
    "# deleting document from query\n",
    "dt = new_coll.delete_one(qr)"
   ]
  },
  {
   "cell_type": "markdown",
   "id": "e751cd81",
   "metadata": {},
   "source": [
    "#### Deleting all Documnets\n",
    "\n",
    "To delete all documents, passing {} empty query."
   ]
  },
  {
   "cell_type": "code",
   "execution_count": 37,
   "id": "6db9de4f",
   "metadata": {},
   "outputs": [
    {
     "name": "stdout",
     "output_type": "stream",
     "text": [
      "23  documents deleted.\n"
     ]
    }
   ],
   "source": [
    "# deleting\n",
    "res = new_coll.delete_many({})\n",
    "\n",
    "# message\n",
    "print(res.deleted_count,\" documents deleted.\")"
   ]
  },
  {
   "cell_type": "markdown",
   "id": "a5239fb5",
   "metadata": {},
   "source": [
    "### Deleting Collection"
   ]
  },
  {
   "cell_type": "code",
   "execution_count": 42,
   "id": "746c82e8",
   "metadata": {},
   "outputs": [],
   "source": [
    "# deleting\n",
    "x = new_coll.drop()"
   ]
  },
  {
   "cell_type": "code",
   "execution_count": 46,
   "id": "ba4dc9fa",
   "metadata": {},
   "outputs": [
    {
     "name": "stdout",
     "output_type": "stream",
     "text": [
      "Deletion successfull!.\n"
     ]
    }
   ],
   "source": [
    "if x:\n",
    "    print('Deletion Unsuccessfull!.')\n",
    "else:\n",
    "    print('Deletion successfull!.')"
   ]
  }
 ],
 "metadata": {
  "kernelspec": {
   "display_name": "Python 3 (ipykernel)",
   "language": "python",
   "name": "python3"
  },
  "language_info": {
   "codemirror_mode": {
    "name": "ipython",
    "version": 3
   },
   "file_extension": ".py",
   "mimetype": "text/x-python",
   "name": "python",
   "nbconvert_exporter": "python",
   "pygments_lexer": "ipython3",
   "version": "3.10.3"
  }
 },
 "nbformat": 4,
 "nbformat_minor": 5
}
