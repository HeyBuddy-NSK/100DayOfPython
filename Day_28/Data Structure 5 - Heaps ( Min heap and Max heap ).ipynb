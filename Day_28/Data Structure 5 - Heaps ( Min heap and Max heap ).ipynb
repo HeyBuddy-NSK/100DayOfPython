{
 "cells": [
  {
   "cell_type": "markdown",
   "id": "7426bdb9",
   "metadata": {},
   "source": [
    "# Day 28\n",
    "\n",
    "**Practicing Python From Basics**"
   ]
  },
  {
   "cell_type": "markdown",
   "id": "f80b993b",
   "metadata": {},
   "source": [
    "# Heaps"
   ]
  },
  {
   "cell_type": "markdown",
   "id": "eff04d62",
   "metadata": {},
   "source": [
    "1. **Definition**:\n",
    "    - A heap is a special tree-based data structure that maintains a specific order among its elements.\n",
    "    \n",
    "2. **Implementation**:\n",
    "    - Heaps are usually implemented using arrays for efficient storage and access."
   ]
  },
  {
   "cell_type": "markdown",
   "id": "89818225",
   "metadata": {},
   "source": [
    "## **Types of Heaps**:"
   ]
  },
  {
   "cell_type": "markdown",
   "id": "0e8d7686",
   "metadata": {},
   "source": [
    "### **Max-Heap**:\n",
    "   - The value of each parent node is greater than or equal to the values of its children.\n",
    "   - The maximum value is at the root.\n"
   ]
  },
  {
   "cell_type": "markdown",
   "id": "eed5d2a2",
   "metadata": {},
   "source": [
    "A max Heap is a Complete Binary Tree. A max heap is typically represented as an array. The root element will be at Arr[0]. Below table shows indexes of other nodes for the ith node, i.e., Arr[i]: \n",
    "\n",
    "- Arr[(i-1)/2] Returns the parent node. \n",
    "- Arr[(2*i)+1] Returns the left child node. \n",
    "- Arr[(2*i)+2] Returns the right child node."
   ]
  },
  {
   "cell_type": "markdown",
   "id": "6c93b0c8",
   "metadata": {},
   "source": [
    "**What is the bubble-up algorithm in the heap?**\n",
    "\n",
    "To insert a new element in a heap, the algorithm bubble up is used. It is to put the new item in the first vacant cell of the array. Then move it up in the heap based on its value compared to its parent. In a max-heap, it should be below a node with a larger value and above one or two child nodes with smaller values.\n",
    "\n",
    "**What is the bubble-down algorithm in the heap?**\n",
    "\n",
    "Bubble-down is an algorithm used in heap deletion. It is to compare the parent node with child nodes in a subtree. In a max-heap, if the parent node’s value is smaller, you should switch the parent element with a child node that has a larger value."
   ]
  },
  {
   "cell_type": "markdown",
   "id": "57061ed9",
   "metadata": {},
   "source": [
    "_Detailed Explanation of Max-Heap - https://www.lavivienpost.net/max-heap-implementation/_ or https://geeksforgeeks.org/max-heap-in-python/?ref=ml_lbp"
   ]
  },
  {
   "cell_type": "markdown",
   "id": "6de7c6f6",
   "metadata": {},
   "source": [
    "#### Implementation (Max heap)"
   ]
  },
  {
   "cell_type": "code",
   "execution_count": 1,
   "id": "37c28ac3",
   "metadata": {},
   "outputs": [],
   "source": [
    "class MaxHeap:\n",
    "    def __init__(self):\n",
    "        self.heap = []\n",
    "        \n",
    "    def _parent(self,index):\n",
    "        return (index-1)//2\n",
    "    \n",
    "    def _left_child(self,index):\n",
    "        return 2*index+1\n",
    "    \n",
    "    def _right_child(self,index):\n",
    "        return 2*index+2\n",
    "    \n",
    "    def insert(self,data):\n",
    "        self.heap.append(data)\n",
    "        index = len(self.heap)-1\n",
    "        \n",
    "        # Bubble Up\n",
    "        while index>0:\n",
    "            parent = self._parent(index)\n",
    "            if self.heap[index]>self.heap[parent]:\n",
    "                self.heap[index], self.heap[parent] = self.heap[parent], self.heap[index]\n",
    "                index = parent\n",
    "            else:\n",
    "                break\n",
    "                \n",
    "    def delete_node(self,data):\n",
    "        try:\n",
    "            index = self.heap.index(data)\n",
    "            self.heap[index] = self.heap[-1]\n",
    "            self.heap.pop()\n",
    "            \n",
    "            # Bubble down\n",
    "            if index < len(self.heap):\n",
    "                \n",
    "                while True:\n",
    "                    left = self._left_child(index)\n",
    "                    right = self._right_child(index)\n",
    "                    largest = index\n",
    "                    \n",
    "                    if left<len(self.heap) and self.heap[left] > self.heap[largest]:\n",
    "                        largest = left\n",
    "                        \n",
    "                    if right<len(self.heap) and self.heap[right]>self.heap[largest]:\n",
    "                        largest = right\n",
    "                    if largest!=index:\n",
    "                        self.heap[index], self.heap[largest] = self.heap[largest], self.heap[index]\n",
    "                        index = largest\n",
    "                        \n",
    "                    else:\n",
    "                        break\n",
    "                    \n",
    "                # Bubble up\n",
    "                while index > 0:\n",
    "                    parent = self._parent(index)\n",
    "                    if self.heap[index]>self.heap[parent]:\n",
    "                        self.heap[index],self.heap[parent] = self.heap[parent],self.heap[index]\n",
    "                        index = parent\n",
    "                        \n",
    "                    else:\n",
    "                        break\n",
    "                        \n",
    "        except ValueError:\n",
    "            print(f\"Value {data} not found in the heap\")\n",
    "            \n",
    "    def get_max(self):\n",
    "        return self.heap[0] if self.heap else \"Heap is Empty\"\n",
    "    \n",
    "    def print_all(self):\n",
    "        print(self.heap)"
   ]
  },
  {
   "cell_type": "markdown",
   "id": "fdae22da",
   "metadata": {},
   "source": [
    "#### Creating object for MaxHeap Class"
   ]
  },
  {
   "cell_type": "code",
   "execution_count": 2,
   "id": "dab90d03",
   "metadata": {},
   "outputs": [],
   "source": [
    "heap = MaxHeap()"
   ]
  },
  {
   "cell_type": "markdown",
   "id": "6f728db2",
   "metadata": {},
   "source": [
    "#### Adding data to heap"
   ]
  },
  {
   "cell_type": "code",
   "execution_count": 3,
   "id": "a196ea29",
   "metadata": {},
   "outputs": [],
   "source": [
    "heap.insert(10)\n",
    "heap.insert(15)\n",
    "heap.insert(20)\n",
    "heap.insert(17)\n",
    "heap.insert(8)"
   ]
  },
  {
   "cell_type": "markdown",
   "id": "7e3953d4",
   "metadata": {},
   "source": [
    "#### Printing heap"
   ]
  },
  {
   "cell_type": "code",
   "execution_count": 4,
   "id": "b80e6a8d",
   "metadata": {},
   "outputs": [
    {
     "name": "stdout",
     "output_type": "stream",
     "text": [
      "[20, 17, 15, 10, 8]\n"
     ]
    }
   ],
   "source": [
    "heap.print_all()"
   ]
  },
  {
   "cell_type": "markdown",
   "id": "db662a52",
   "metadata": {},
   "source": [
    "#### Deleting 17 from heap"
   ]
  },
  {
   "cell_type": "code",
   "execution_count": 5,
   "id": "d45cf616",
   "metadata": {},
   "outputs": [],
   "source": [
    "heap.delete_node(17)"
   ]
  },
  {
   "cell_type": "markdown",
   "id": "5b48c6c9",
   "metadata": {},
   "source": [
    "#### Printing"
   ]
  },
  {
   "cell_type": "code",
   "execution_count": 7,
   "id": "6584dff5",
   "metadata": {},
   "outputs": [
    {
     "name": "stdout",
     "output_type": "stream",
     "text": [
      "[20, 10, 15, 8]\n"
     ]
    }
   ],
   "source": [
    "heap.print_all()"
   ]
  },
  {
   "cell_type": "markdown",
   "id": "7bbd09f6",
   "metadata": {},
   "source": [
    "#### Getting max value from heap"
   ]
  },
  {
   "cell_type": "code",
   "execution_count": 8,
   "id": "dcd1a775",
   "metadata": {},
   "outputs": [
    {
     "data": {
      "text/plain": [
       "20"
      ]
     },
     "execution_count": 8,
     "metadata": {},
     "output_type": "execute_result"
    }
   ],
   "source": [
    "heap.get_max()"
   ]
  },
  {
   "cell_type": "markdown",
   "id": "83448235",
   "metadata": {},
   "source": [
    "### **Min-Heap**:\n",
    " - The value of each parent node is less than or equal to the values of its children.\n",
    " - The minimum value is at the root."
   ]
  },
  {
   "cell_type": "markdown",
   "id": "99f223aa",
   "metadata": {},
   "source": [
    "A Min Heap is a Complete Binary Tree. A Min heap is typically represented as an array. The root element will be at Arr[0]. For any ith node, i.e., Arr[i]:\n",
    "\n",
    "- Arr[(i -1) / 2] returns its parent node.\n",
    "- Arr[(2 * i) + 1] returns its left child node.\n",
    "- Arr[(2 * i) + 2] returns its right child node."
   ]
  },
  {
   "cell_type": "markdown",
   "id": "f5d4ba01",
   "metadata": {},
   "source": [
    "_For detailed min heap explanation : https://www.lavivienpost.net/min-heap-implementation/ or https://www.geeksforgeeks.org/min-heap-in-python/?ref=ml_lbp_"
   ]
  },
  {
   "cell_type": "markdown",
   "id": "b5d77281",
   "metadata": {},
   "source": [
    "#### Implementation (Min Heap)"
   ]
  },
  {
   "cell_type": "code",
   "execution_count": 9,
   "id": "cf1cebe2",
   "metadata": {},
   "outputs": [],
   "source": [
    "class MinHeap:\n",
    "    def __init__(self):\n",
    "        self.heap = []\n",
    "        \n",
    "    def _parent(self,index):\n",
    "        return (index-1)//2\n",
    "    \n",
    "    def _left_child(self,index):\n",
    "        return 2*index+1\n",
    "    \n",
    "    def _right_child(self,index):\n",
    "        return 2*index+2\n",
    "    \n",
    "    def insert(self,data):\n",
    "        self.heap.append(data)\n",
    "        index = len(self.heap)-1\n",
    "        \n",
    "        # Bubble up\n",
    "        while index>0:\n",
    "            parent = self._parent(index)\n",
    "            if self.heap[index]<self.heap[parent]:\n",
    "                self.heap[index], self.heap[parent] = self.heap[parent], self.heap[index]\n",
    "                index = parent\n",
    "                \n",
    "            else:\n",
    "                break\n",
    "                \n",
    "    def delete_node(self,data):\n",
    "        try:\n",
    "            index = self.heap.index(data)\n",
    "            self.heap[index] = self.heap[-1]\n",
    "            self.heap.pop()\n",
    "            \n",
    "            if index<len(self.heap):\n",
    "                \n",
    "                # Bubble down\n",
    "                while True:\n",
    "                    left = self._left_child(index)\n",
    "                    right = self._right_child(index)\n",
    "                    smallest = index\n",
    "                    \n",
    "                    if left<len(self.heap) and self.heap[left]<self.heap[smallest]:\n",
    "                        smallest = left\n",
    "                    if right<len(self.heap) and self.heap[right]<self.heap[smallest]:\n",
    "                        smallest = right\n",
    "                        \n",
    "                    if smallest!=index:\n",
    "                        self.heap[index], self.heap[smallest] = self.heap[smallest], self.heap[index]\n",
    "                        index = smallest\n",
    "                    else:\n",
    "                        break\n",
    "                        \n",
    "                \n",
    "                # Bubble Up\n",
    "                while index>0:\n",
    "                    parent = self._parent(index)\n",
    "                    \n",
    "                    if self.heap[index]<self.heap[parent]:\n",
    "                        self.heap[index], self.heap[parent] = self.heap[parent], self.heap[index]\n",
    "                        index = parent\n",
    "                        \n",
    "                    else:\n",
    "                        break\n",
    "        \n",
    "        except ValueError:\n",
    "            print(f\"Value {data} not found in the heap.\")\n",
    "            \n",
    "    \n",
    "    def get_min(self):\n",
    "        return self.heap[0] if self.heap else \"Heap is empty.\"\n",
    "    \n",
    "    def print_all(self):\n",
    "        print(self.heap)\n",
    "    "
   ]
  },
  {
   "cell_type": "markdown",
   "id": "0f591800",
   "metadata": {},
   "source": [
    "#### Creating object for MinHeap Class"
   ]
  },
  {
   "cell_type": "code",
   "execution_count": 10,
   "id": "0c2d6314",
   "metadata": {},
   "outputs": [],
   "source": [
    "heap = MinHeap()"
   ]
  },
  {
   "cell_type": "markdown",
   "id": "cf993081",
   "metadata": {},
   "source": [
    "#### Adding data in heap"
   ]
  },
  {
   "cell_type": "code",
   "execution_count": 11,
   "id": "aa4b2b1a",
   "metadata": {},
   "outputs": [],
   "source": [
    "heap.insert(10)\n",
    "heap.insert(15)\n",
    "heap.insert(5)\n",
    "heap.insert(17)\n",
    "heap.insert(8)"
   ]
  },
  {
   "cell_type": "markdown",
   "id": "11eccb47",
   "metadata": {},
   "source": [
    "#### Printing heap"
   ]
  },
  {
   "cell_type": "code",
   "execution_count": 12,
   "id": "c051ab0a",
   "metadata": {},
   "outputs": [
    {
     "name": "stdout",
     "output_type": "stream",
     "text": [
      "[5, 8, 10, 17, 15]\n"
     ]
    }
   ],
   "source": [
    "heap.print_all()"
   ]
  },
  {
   "cell_type": "markdown",
   "id": "cce06174",
   "metadata": {},
   "source": [
    "#### Deleting 10 from heap"
   ]
  },
  {
   "cell_type": "code",
   "execution_count": 13,
   "id": "c881ad8a",
   "metadata": {},
   "outputs": [],
   "source": [
    "heap.delete_node(10)"
   ]
  },
  {
   "cell_type": "markdown",
   "id": "acdf130e",
   "metadata": {},
   "source": [
    "#### Printing "
   ]
  },
  {
   "cell_type": "code",
   "execution_count": 14,
   "id": "61c46597",
   "metadata": {},
   "outputs": [
    {
     "name": "stdout",
     "output_type": "stream",
     "text": [
      "[5, 8, 15, 17]\n"
     ]
    }
   ],
   "source": [
    "heap.print_all()"
   ]
  },
  {
   "cell_type": "markdown",
   "id": "ea20be26",
   "metadata": {},
   "source": [
    "#### Getting minimum value"
   ]
  },
  {
   "cell_type": "code",
   "execution_count": 15,
   "id": "821d930a",
   "metadata": {},
   "outputs": [
    {
     "data": {
      "text/plain": [
       "5"
      ]
     },
     "execution_count": 15,
     "metadata": {},
     "output_type": "execute_result"
    }
   ],
   "source": [
    "heap.get_min()"
   ]
  },
  {
   "cell_type": "markdown",
   "id": "fce72814",
   "metadata": {},
   "source": [
    "## **Common Uses**:\n",
    "  - Heaps are often used to implement priority queues, where elements are processed based on their priority."
   ]
  },
  {
   "cell_type": "markdown",
   "id": "e78e2393",
   "metadata": {},
   "source": [
    "## **Operation Efficiency**:\n",
    "   - Insertion and deletion operations in heaps generally have a time complexity of \\(O(\\log n)\\), making them efficient for dynamic data management."
   ]
  }
 ],
 "metadata": {
  "kernelspec": {
   "display_name": "Python 3 (ipykernel)",
   "language": "python",
   "name": "python3"
  },
  "language_info": {
   "codemirror_mode": {
    "name": "ipython",
    "version": 3
   },
   "file_extension": ".py",
   "mimetype": "text/x-python",
   "name": "python",
   "nbconvert_exporter": "python",
   "pygments_lexer": "ipython3",
   "version": "3.11.7"
  }
 },
 "nbformat": 4,
 "nbformat_minor": 5
}
