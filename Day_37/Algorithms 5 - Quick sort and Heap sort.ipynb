{
 "cells": [
  {
   "cell_type": "markdown",
   "id": "3e70658e",
   "metadata": {},
   "source": [
    "# Day 37\n",
    "**Practicing python from basics**"
   ]
  },
  {
   "cell_type": "markdown",
   "id": "34517077",
   "metadata": {},
   "source": [
    "# Quick sort\n",
    "\n",
    "Quick Sort is a divide-and-conquer algorithm that selects a 'pivot' element from the array and partitions the other elements into two sub-arrays, according to whether they are less than or greater than the pivot. The sub-arrays are then sorted recursively.\n",
    "\n",
    "- **Complexity**:\n",
    "\n",
    "  - Average-case: O(n log n)\n",
    "  \n",
    "  - Worst-case: O(n^2) (when the pivot selection is poor, e.g., always the smallest or largest element)\n",
    "  \n",
    "- **Best for**: Large datasets.\n",
    "\n",
    "- **Pros**: \n",
    "\n",
    "  - Typically faster than other O(n log n) algorithms.\n",
    "  \n",
    "  - In-place sort (requires only a small, constant amount of additional storage).\n",
    "  \n",
    "- **Cons**: \n",
    "\n",
    "  - Not stable (does not preserve the relative order of equal elements).\n",
    "  \n",
    "  - Worst-case performance can be poor without careful pivot selection."
   ]
  },
  {
   "cell_type": "markdown",
   "id": "387b303b",
   "metadata": {},
   "source": [
    "## Implementation"
   ]
  },
  {
   "cell_type": "code",
   "execution_count": 3,
   "id": "7e748917",
   "metadata": {},
   "outputs": [],
   "source": [
    "def quick_sort(arr):\n",
    "    if len(arr)<=0:\n",
    "        return arr\n",
    "    \n",
    "    else:\n",
    "        pivot = arr[len(arr)//2]\n",
    "        \n",
    "        left_arr = [x for x in arr if x<pivot]\n",
    "        middle_arr = [x for x in arr if x==pivot]\n",
    "        right_arr = [x for x in arr if x>pivot]\n",
    "        \n",
    "        return quick_sort(left_arr)+middle_arr+quick_sort(right_arr)"
   ]
  },
  {
   "cell_type": "markdown",
   "id": "2516a6d1",
   "metadata": {},
   "source": [
    "## Calling quick_sort() to sort example list"
   ]
  },
  {
   "cell_type": "code",
   "execution_count": 4,
   "id": "ada2cbb9",
   "metadata": {},
   "outputs": [
    {
     "name": "stdout",
     "output_type": "stream",
     "text": [
      "sorted list : [1, 5, 7, 8, 9, 10]\n"
     ]
    }
   ],
   "source": [
    "ex_list = [10, 7, 8, 9, 1, 5]\n",
    "sorted_list = quick_sort(ex_list)\n",
    "print(F\"sorted list : {sorted_list}\")"
   ]
  },
  {
   "cell_type": "markdown",
   "id": "e9b6dbc2",
   "metadata": {},
   "source": [
    "## using `%%time` to check how much time it takes"
   ]
  },
  {
   "cell_type": "code",
   "execution_count": 5,
   "id": "a2a2e9cc",
   "metadata": {},
   "outputs": [
    {
     "name": "stdout",
     "output_type": "stream",
     "text": [
      "sorted list : [1, 5, 7, 8, 9, 10]\n",
      "CPU times: total: 0 ns\n",
      "Wall time: 0 ns\n"
     ]
    }
   ],
   "source": [
    "%%time\n",
    "ex_list = [10, 7, 8, 9, 1, 5]\n",
    "sorted_list = quick_sort(ex_list)\n",
    "print(F\"sorted list : {sorted_list}\")"
   ]
  },
  {
   "cell_type": "code",
   "execution_count": 6,
   "id": "94acf7a0",
   "metadata": {},
   "outputs": [
    {
     "name": "stdout",
     "output_type": "stream",
     "text": [
      "sorted list : [1, 2, 3, 4, 5, 6, 7, 8, 9, 10, 11, 12, 13, 14, 15, 16, 17, 18, 19, 20, 21, 22, 23, 24, 25, 26, 27, 28, 29, 30, 31, 32, 33, 34, 35, 36, 37, 38, 39, 40, 41, 42, 43, 44, 45, 46, 47, 48, 49, 50, 51, 52, 53, 54, 55, 56, 57, 58, 59, 60, 61, 62, 63, 64, 65, 66, 67, 68, 69, 70, 71, 72, 73, 74, 75, 76, 77, 78, 79, 80, 81, 82, 83, 84, 85, 86, 87, 88, 89, 90, 91, 92, 93, 94, 95, 96, 97, 98, 99]\n",
      "CPU times: total: 0 ns\n",
      "Wall time: 0 ns\n"
     ]
    }
   ],
   "source": [
    "%%time \n",
    "ex_list = [\n",
    "    53, 29, 77, 12, 34, 85, 42, 66, 23, 90, 55, 31, 48, 62, 75, 3, 9, 21, 39, 78, \n",
    "    49, 14, 28, 44, 50, 70, 82, 94, 18, 24, 67, 81, 2, 35, 61, 47, 8, 91, 40, 72, \n",
    "    99, 19, 38, 51, 63, 76, 88, 5, 13, 30, 59, 79, 93, 7, 26, 41, 69, 80, 54, 1, \n",
    "    32, 56, 74, 86, 92, 16, 36, 46, 68, 84, 95, 6, 27, 45, 52, 60, 73, 87, 98, 10, \n",
    "    20, 33, 64, 71, 83, 96, 15, 25, 37, 43, 57, 65, 89, 97, 4, 17, 22, 11, 58\n",
    "]\n",
    "\n",
    "sorted_list = quick_sort(ex_list)\n",
    "print(F\"sorted list : {sorted_list}\")"
   ]
  },
  {
   "cell_type": "markdown",
   "id": "331c4b11",
   "metadata": {},
   "source": [
    "**_for detailed explanation visit : https://www.geeksforgeeks.org/quick-sort/_**"
   ]
  },
  {
   "cell_type": "markdown",
   "id": "75bd4b35",
   "metadata": {},
   "source": [
    "# Heap sort\n",
    "\n",
    "Heap Sort involves building a binary heap from the array and then repeatedly extracting the maximum element from the heap and rebuilding the heap until all elements are sorted.\n",
    "\n",
    "- **Complexity**: O(n log n) for both average and worst-case.\n",
    "\n",
    "- **Best for**: Large datasets.\n",
    "\n",
    "- **Pros**: \n",
    "\n",
    "  - Consistent O(n log n) performance.\n",
    "  \n",
    "  - In-place sort (no extra memory is required beyond the original array).\n",
    "  \n",
    "- **Cons**: \n",
    "\n",
    "  - Not stable.\n",
    "  \n",
    "  - Complex to implement compared to simpler algorithms like Insertion Sort or Selection Sort.\n",
    " \n"
   ]
  },
  {
   "cell_type": "markdown",
   "id": "04c85c25",
   "metadata": {},
   "source": [
    "## Implementation"
   ]
  },
  {
   "cell_type": "code",
   "execution_count": 8,
   "id": "828b1f9e",
   "metadata": {},
   "outputs": [],
   "source": [
    "def heapify(arr,n,i):\n",
    "    largest = i\n",
    "    left = 2*i+1\n",
    "    right = 2*i+2\n",
    "    \n",
    "    if left<n and arr[largest]<arr[left]:\n",
    "        largest = left\n",
    "        \n",
    "    if right<n and arr[largest]<arr[right]:\n",
    "        largest = right\n",
    "    \n",
    "    if largest != i:\n",
    "        arr[i], arr[largest] = arr[largest], arr[i]\n",
    "        heapify(arr,n,largest)\n",
    "        \n",
    "\n",
    "def heap_sort(arr):\n",
    "    n = len(arr)\n",
    "    \n",
    "    # building a max heap - This process ensures that the largest element is at the root of the heap.\n",
    "    for i in range(n//2-1,-1,-1): # this range function will give numbers in reverse like 5, 4, 3, 2, 1, 0.\n",
    "        heapify(arr,n,i)\n",
    "        \n",
    "    # sorting the heap\n",
    "    for i in range(n-1, 0, -1):\n",
    "        arr[i], arr[0] = arr[0], arr[i]\n",
    "        heapify(arr,i,0)\n",
    "        \n",
    "    return arr"
   ]
  },
  {
   "cell_type": "markdown",
   "id": "2e501c14",
   "metadata": {},
   "source": [
    "## Calling heap_sort() to sort example list"
   ]
  },
  {
   "cell_type": "code",
   "execution_count": 9,
   "id": "477d1616",
   "metadata": {},
   "outputs": [
    {
     "name": "stdout",
     "output_type": "stream",
     "text": [
      "sorted list : [1, 5, 7, 8, 9, 10]\n"
     ]
    }
   ],
   "source": [
    "ex_list = [10, 7, 8, 9, 1, 5]\n",
    "sorted_list = heap_sort(ex_list)\n",
    "print(F\"sorted list : {sorted_list}\")"
   ]
  },
  {
   "cell_type": "markdown",
   "id": "6a5f37de",
   "metadata": {},
   "source": [
    "## using `%%time` to check how much time it takes"
   ]
  },
  {
   "cell_type": "code",
   "execution_count": 11,
   "id": "e386da76",
   "metadata": {},
   "outputs": [
    {
     "name": "stdout",
     "output_type": "stream",
     "text": [
      "sorted list : [1, 5, 7, 8, 9, 10]\n",
      "CPU times: total: 0 ns\n",
      "Wall time: 1.01 ms\n"
     ]
    }
   ],
   "source": [
    "%%time\n",
    "ex_list = [10, 7, 8, 9, 1, 5]\n",
    "sorted_list = heap_sort(ex_list)\n",
    "print(F\"sorted list : {sorted_list}\")"
   ]
  },
  {
   "cell_type": "code",
   "execution_count": 12,
   "id": "f2827346",
   "metadata": {},
   "outputs": [
    {
     "name": "stdout",
     "output_type": "stream",
     "text": [
      "sorted list : [1, 2, 3, 4, 5, 6, 7, 8, 9, 10, 11, 12, 13, 14, 15, 16, 17, 18, 19, 20, 21, 22, 23, 24, 25, 26, 27, 28, 29, 30, 31, 32, 33, 34, 35, 36, 37, 38, 39, 40, 41, 42, 43, 44, 45, 46, 47, 48, 49, 50, 51, 52, 53, 54, 55, 56, 57, 58, 59, 60, 61, 62, 63, 64, 65, 66, 67, 68, 69, 70, 71, 72, 73, 74, 75, 76, 77, 78, 79, 80, 81, 82, 83, 84, 85, 86, 87, 88, 89, 90, 91, 92, 93, 94, 95, 96, 97, 98, 99]\n",
      "CPU times: total: 0 ns\n",
      "Wall time: 1.01 ms\n"
     ]
    }
   ],
   "source": [
    "%%time \n",
    "ex_list = [\n",
    "    53, 29, 77, 12, 34, 85, 42, 66, 23, 90, 55, 31, 48, 62, 75, 3, 9, 21, 39, 78, \n",
    "    49, 14, 28, 44, 50, 70, 82, 94, 18, 24, 67, 81, 2, 35, 61, 47, 8, 91, 40, 72, \n",
    "    99, 19, 38, 51, 63, 76, 88, 5, 13, 30, 59, 79, 93, 7, 26, 41, 69, 80, 54, 1, \n",
    "    32, 56, 74, 86, 92, 16, 36, 46, 68, 84, 95, 6, 27, 45, 52, 60, 73, 87, 98, 10, \n",
    "    20, 33, 64, 71, 83, 96, 15, 25, 37, 43, 57, 65, 89, 97, 4, 17, 22, 11, 58\n",
    "]\n",
    "\n",
    "sorted_list = heap_sort(ex_list)\n",
    "print(F\"sorted list : {sorted_list}\")"
   ]
  },
  {
   "cell_type": "markdown",
   "id": "0a5fedef",
   "metadata": {},
   "source": [
    "**_for detailed explanation visit : https://www.geeksforgeeks.org/heap-sort/_**"
   ]
  }
 ],
 "metadata": {
  "kernelspec": {
   "display_name": "Python 3 (ipykernel)",
   "language": "python",
   "name": "python3"
  },
  "language_info": {
   "codemirror_mode": {
    "name": "ipython",
    "version": 3
   },
   "file_extension": ".py",
   "mimetype": "text/x-python",
   "name": "python",
   "nbconvert_exporter": "python",
   "pygments_lexer": "ipython3",
   "version": "3.11.7"
  }
 },
 "nbformat": 4,
 "nbformat_minor": 5
}
