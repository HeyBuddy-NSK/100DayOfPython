{
 "cells": [
  {
   "cell_type": "markdown",
   "id": "137a3ad0",
   "metadata": {},
   "source": [
    "# Day 35\n",
    "\n",
    "**Practicing Python From Basics**"
   ]
  },
  {
   "cell_type": "markdown",
   "id": "17f976ac",
   "metadata": {},
   "source": [
    "# Bubble Sort\n",
    "\n",
    "Bubble Sort repeatedly traverse through the list/array, compares adjacent elements, and swaps them if they are in the wrong order. The process repeats until no more swaps are needed, indicating the list is sorted.\n",
    "   - **Complexity**: \\(O(n^2)\\).\n",
    "   \n",
    "   - **Best for**: Small datasets or nearly sorted data.\n",
    "   \n",
    "   - **Pros**: Simple to implement.\n",
    "   \n",
    "   - **Cons**: Inefficient on large lists.\n"
   ]
  },
  {
   "cell_type": "markdown",
   "id": "3ae7e457",
   "metadata": {},
   "source": [
    "## Implementation"
   ]
  },
  {
   "cell_type": "code",
   "execution_count": 2,
   "id": "b5a045a5",
   "metadata": {},
   "outputs": [],
   "source": [
    "def bubble_sort(arr):\n",
    "    n = len(arr)\n",
    "    \n",
    "    for i in range(n):\n",
    "        \n",
    "        # variable to keep track if adjacent swapped or not.\n",
    "        swapped = False\n",
    "        for j in range(0, n-i-1):\n",
    "            if arr[j] > arr[j+1]:\n",
    "                arr[j], arr[j+1] = arr[j+1], arr[j]\n",
    "                swapped = True\n",
    "                \n",
    "        # break if no swaps\n",
    "        if not swapped:\n",
    "            break\n",
    "    \n",
    "    return arr"
   ]
  },
  {
   "cell_type": "markdown",
   "id": "bdbbb68b",
   "metadata": {},
   "source": [
    "## Calling bubble_sort() function to sort example list"
   ]
  },
  {
   "cell_type": "code",
   "execution_count": 5,
   "id": "9470bb96",
   "metadata": {},
   "outputs": [
    {
     "name": "stdout",
     "output_type": "stream",
     "text": [
      "Sorted_list :: [11, 12, 22, 25, 34, 64, 90]\n"
     ]
    }
   ],
   "source": [
    "ex_list = [64, 34, 25, 12, 22, 11, 90]\n",
    "sorted_list = bubble_sort(ex_list)\n",
    "print(f\"Sorted_list :: {sorted_list}\")"
   ]
  },
  {
   "cell_type": "markdown",
   "id": "d841da9b",
   "metadata": {},
   "source": [
    "# Selection Sort\n",
    "\n",
    "Selection Sort divides the list into a sorted and an unsorted region. It repeatedly selects the smallest (or largest) element from the unsorted region and moves it to the sorted region.\n",
    "\n",
    "   - **Complexity**: \\(O(n^2)\\).\n",
    "    \n",
    "   - **Best for**: Small datasets.\n",
    "   \n",
    "   - **Pros**: Simple and easy to understand.\n",
    "    \n",
    "   - **Cons**: Inefficient on large lists.\n",
    "\n",
    "\n",
    "\n",
    "\n",
    "_For detailed article :- https://www.geeksforgeeks.org/selection-sort/ or https://www.tutorchase.com/answers/a-level/computer-science/how-does-the-selection-sort-algorithm-function_"
   ]
  },
  {
   "cell_type": "markdown",
   "id": "a320b81f",
   "metadata": {},
   "source": [
    "## Implementation"
   ]
  },
  {
   "cell_type": "code",
   "execution_count": 6,
   "id": "6da0ed59",
   "metadata": {},
   "outputs": [],
   "source": [
    "def selection_sort(arr):\n",
    "    n = len(arr)\n",
    "    \n",
    "    for i in range(n):\n",
    "        # to find minimum element in the unsorted region\n",
    "        min_index = i\n",
    "        \n",
    "        for j in range(i+1, n):\n",
    "            if arr[j]<arr[min_index]:\n",
    "                min_index = j\n",
    "                \n",
    "        # Swapping the minimum element found with first element\n",
    "        arr[i], arr[min_index] = arr[min_index], arr[i]\n",
    "        \n",
    "        \n",
    "    return arr"
   ]
  },
  {
   "cell_type": "markdown",
   "id": "2a6b715e",
   "metadata": {},
   "source": [
    "## Calling selection_sort() to sort example list"
   ]
  },
  {
   "cell_type": "code",
   "execution_count": 7,
   "id": "d52e6b4e",
   "metadata": {},
   "outputs": [
    {
     "name": "stdout",
     "output_type": "stream",
     "text": [
      "Sorted List :: [11, 12, 22, 25, 64]\n"
     ]
    }
   ],
   "source": [
    "ex_list = [64, 25, 12, 22, 11]\n",
    "sorted_list = selection_sort(ex_list)\n",
    "print(f\"Sorted List :: {sorted_list}\")"
   ]
  }
 ],
 "metadata": {
  "kernelspec": {
   "display_name": "Python 3 (ipykernel)",
   "language": "python",
   "name": "python3"
  },
  "language_info": {
   "codemirror_mode": {
    "name": "ipython",
    "version": 3
   },
   "file_extension": ".py",
   "mimetype": "text/x-python",
   "name": "python",
   "nbconvert_exporter": "python",
   "pygments_lexer": "ipython3",
   "version": "3.11.7"
  }
 },
 "nbformat": 4,
 "nbformat_minor": 5
}
