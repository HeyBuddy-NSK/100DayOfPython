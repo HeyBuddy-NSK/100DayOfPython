{
 "cells": [
  {
   "cell_type": "markdown",
   "id": "8fd84782",
   "metadata": {},
   "source": [
    "# Day 27\n",
    "\n",
    "**Practicing Python From Basics**"
   ]
  },
  {
   "cell_type": "markdown",
   "id": "f18bddca",
   "metadata": {},
   "source": [
    "# Tree"
   ]
  },
  {
   "cell_type": "markdown",
   "id": "1d6dcfb4",
   "metadata": {},
   "source": [
    "- A tree is a hierarchical data structure composed of nodes connected by edges. \n",
    "- It's widely used in computer science and is particularly handy for representing hierarchical relationships, such as organizational structures, file systems, or family trees."
   ]
  },
  {
   "cell_type": "markdown",
   "id": "7f850916",
   "metadata": {},
   "source": [
    "# Binary Tree"
   ]
  },
  {
   "cell_type": "markdown",
   "id": "bc056981",
   "metadata": {},
   "source": [
    "A binary tree is a hierarchical data structure consisting of nodes, where each node has at most two children, referred to as the left child and the right child. Binary trees are commonly used in computer science for organizing and managing data efficiently.\n",
    "\n",
    "Key characteristics of a binary tree:\n",
    "\n",
    "1. **Root Node**: The topmost node in the tree. It serves as the entry point for accessing the tree's elements.\n",
    "\n",
    "2. **Parent Node**: Each node (except the root) has one parent node, which is the node directly above it in the hierarchy.\n",
    "\n",
    "3. **Child Nodes**: Nodes that are directly connected below another node. Each node can have at most two children: a left child and a right child.\n",
    "\n",
    "4. **Leaf Node**: Nodes with no children are called leaf nodes. They are the terminal nodes of the tree.\n",
    "\n",
    "Binary trees are implemented using a node-based structure. Each node contains some data and pointers (references) to its left and right children."
   ]
  },
  {
   "cell_type": "markdown",
   "id": "239ee18e",
   "metadata": {},
   "source": [
    "# Binary Search Trees (BST):\n",
    "\n",
    "- A Binary Search Tree (BST) is a type of tree data structure.\n",
    "- Each node has at most two children: a left child and a right child.\n",
    "- The left child contains a value less than its parent node, and the right child contains a value greater than its parent node.\n",
    "- This structure allows for efficient searching, inserting, and deleting of values.\n",
    "- BSTs are used in many applications like databases and file systems to quickly manage and access data."
   ]
  },
  {
   "cell_type": "markdown",
   "id": "5a7329f5",
   "metadata": {},
   "source": [
    "## Implementation (BST)"
   ]
  },
  {
   "cell_type": "markdown",
   "id": "a8336b95",
   "metadata": {},
   "source": [
    "### Class to create nodes"
   ]
  },
  {
   "cell_type": "code",
   "execution_count": 10,
   "id": "06024577",
   "metadata": {},
   "outputs": [],
   "source": [
    "# class to create nodes\n",
    "class Node:\n",
    "    def __init__(self, data):\n",
    "        self.val = data\n",
    "        self.left = None\n",
    "        self.right = None"
   ]
  },
  {
   "cell_type": "markdown",
   "id": "657d5239",
   "metadata": {},
   "source": [
    "### Method to insert node in tree"
   ]
  },
  {
   "cell_type": "code",
   "execution_count": 11,
   "id": "66f0176f",
   "metadata": {},
   "outputs": [],
   "source": [
    "def insert_node(root, data):\n",
    "    if root is None:\n",
    "        return Node(data)\n",
    "    else:\n",
    "        if data<root.val:\n",
    "            root.left = insert_node(root.left, data)\n",
    "        else:\n",
    "            root.right = insert_node(root.right, data)\n",
    "            \n",
    "    return root "
   ]
  },
  {
   "cell_type": "markdown",
   "id": "2f58f692",
   "metadata": {},
   "source": [
    "### Method for In-order Traversal"
   ]
  },
  {
   "cell_type": "code",
   "execution_count": 20,
   "id": "1e438a6b",
   "metadata": {},
   "outputs": [],
   "source": [
    "def inorder_traversal(root):\n",
    "    if root:\n",
    "        inorder_traversal(root.left)\n",
    "        print(root.val,end= \" \")\n",
    "        inorder_traversal(root.right)"
   ]
  },
  {
   "cell_type": "markdown",
   "id": "297c0203",
   "metadata": {},
   "source": [
    "### Method for Pre-order Traversal"
   ]
  },
  {
   "cell_type": "code",
   "execution_count": 21,
   "id": "02f251df",
   "metadata": {},
   "outputs": [],
   "source": [
    "def preorder_traversal(root):\n",
    "    if root:\n",
    "        print(root.val, end= \" \")\n",
    "        preorder_traversal(root.left)\n",
    "        preorder_traversal(root.right)"
   ]
  },
  {
   "cell_type": "markdown",
   "id": "ae074561",
   "metadata": {},
   "source": [
    "### Method for Post-order Traversal"
   ]
  },
  {
   "cell_type": "code",
   "execution_count": 22,
   "id": "2403fdfe",
   "metadata": {},
   "outputs": [],
   "source": [
    "def postorder_traversal(root):\n",
    "    if root:\n",
    "        postorder_traversal(root.left)\n",
    "        postorder_traversal(root.right)\n",
    "        print(root.val, end= \" \")"
   ]
  },
  {
   "cell_type": "markdown",
   "id": "54a68a19",
   "metadata": {},
   "source": [
    "### Method to print tree"
   ]
  },
  {
   "cell_type": "code",
   "execution_count": 15,
   "id": "68f6fe38",
   "metadata": {},
   "outputs": [],
   "source": [
    "def print_tree(root,level=0,prefix=\"Root:\"):\n",
    "    if root is not None:\n",
    "        print(\" \"*(level*4)+prefix+\" \"+str(root.val))\n",
    "        print_tree(root.left,level+1, \"L:\")\n",
    "        print_tree(root.right,level+1, \"R:\")"
   ]
  },
  {
   "cell_type": "markdown",
   "id": "432a1ab5",
   "metadata": {},
   "source": [
    "### Adding data to tree"
   ]
  },
  {
   "cell_type": "code",
   "execution_count": 16,
   "id": "2e04c543",
   "metadata": {},
   "outputs": [],
   "source": [
    "# Defining variables\n",
    "root = None\n",
    "data_list = [5,3,7,2,4,6,8]"
   ]
  },
  {
   "cell_type": "code",
   "execution_count": 17,
   "id": "63485c44",
   "metadata": {},
   "outputs": [],
   "source": [
    "# Inserting data from data list in tree\n",
    "for data in data_list:\n",
    "    root = insert_node(root,data)"
   ]
  },
  {
   "cell_type": "markdown",
   "id": "fdcd9f69",
   "metadata": {},
   "source": [
    "### Printing Tree Structure"
   ]
  },
  {
   "cell_type": "code",
   "execution_count": 18,
   "id": "23d5aa7d",
   "metadata": {},
   "outputs": [
    {
     "name": "stdout",
     "output_type": "stream",
     "text": [
      "Root: 5\n",
      "    L: 3\n",
      "        L: 2\n",
      "        R: 4\n",
      "    R: 7\n",
      "        L: 6\n",
      "        R: 8\n"
     ]
    }
   ],
   "source": [
    "print_tree(root)"
   ]
  },
  {
   "cell_type": "markdown",
   "id": "18751a3c",
   "metadata": {},
   "source": [
    "### In-order Traversal"
   ]
  },
  {
   "cell_type": "code",
   "execution_count": 23,
   "id": "1e57b2f0",
   "metadata": {},
   "outputs": [
    {
     "name": "stdout",
     "output_type": "stream",
     "text": [
      "2 3 4 5 6 7 8 "
     ]
    }
   ],
   "source": [
    "inorder_traversal(root)"
   ]
  },
  {
   "cell_type": "markdown",
   "id": "d9401255",
   "metadata": {},
   "source": [
    "### Pre-order Traversal"
   ]
  },
  {
   "cell_type": "code",
   "execution_count": 24,
   "id": "3dbe8e99",
   "metadata": {},
   "outputs": [
    {
     "name": "stdout",
     "output_type": "stream",
     "text": [
      "5 3 2 4 7 6 8 "
     ]
    }
   ],
   "source": [
    "preorder_traversal(root)"
   ]
  },
  {
   "cell_type": "markdown",
   "id": "183eca8b",
   "metadata": {},
   "source": [
    "### Post-order Traversal"
   ]
  },
  {
   "cell_type": "code",
   "execution_count": 25,
   "id": "e42f79ed",
   "metadata": {},
   "outputs": [
    {
     "name": "stdout",
     "output_type": "stream",
     "text": [
      "2 4 3 6 8 7 5 "
     ]
    }
   ],
   "source": [
    "postorder_traversal(root)"
   ]
  },
  {
   "cell_type": "markdown",
   "id": "6fd6754d",
   "metadata": {},
   "source": [
    "**In this implementation:**\n",
    "\n",
    "- The `Node` class represents a node in the binary tree. Each node has a value (`val`) and pointers to its left and right children (`left` and `right`).\n",
    "\n",
    "- The `inorder_traversal` function performs an inorder traversal of the binary tree, printing the values of the nodes in sorted order.\n",
    "\n",
    "- Example usage demonstrates the creation of a binary tree and performs an inorder traversal to display its elements.\n"
   ]
  }
 ],
 "metadata": {
  "kernelspec": {
   "display_name": "Python 3 (ipykernel)",
   "language": "python",
   "name": "python3"
  },
  "language_info": {
   "codemirror_mode": {
    "name": "ipython",
    "version": 3
   },
   "file_extension": ".py",
   "mimetype": "text/x-python",
   "name": "python",
   "nbconvert_exporter": "python",
   "pygments_lexer": "ipython3",
   "version": "3.11.7"
  }
 },
 "nbformat": 4,
 "nbformat_minor": 5
}
