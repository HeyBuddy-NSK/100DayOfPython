{
 "cells": [
  {
   "cell_type": "markdown",
   "id": "44cae593",
   "metadata": {},
   "source": [
    "# Day 26 \n",
    "\n",
    "**Practicing Python From Basics**"
   ]
  },
  {
   "cell_type": "markdown",
   "id": "99aaea4a",
   "metadata": {},
   "source": [
    "# Stack"
   ]
  },
  {
   "cell_type": "markdown",
   "id": "34f3704c",
   "metadata": {},
   "source": [
    "## **Definition:**\n",
    "- A stack is a linear data structure that follows the Last In First Out (LIFO) principle.\n",
    "- Elements are added and removed from the top.\n",
    "\n",
    "## **Operations:**\n",
    "1. **Push**: Add an element to the top of the stack.\n",
    "2. **Pop**: Remove an element from the top of the stack.\n",
    "3. **Peek**: Get the top item from the stack without removing it.\n",
    "4. **IsEmpty**: Check if the stack is empty.\n",
    "5. **Size**: Get the number of elements in the stack."
   ]
  },
  {
   "cell_type": "markdown",
   "id": "f3a2b7e0",
   "metadata": {},
   "source": [
    "## Implementation using python List"
   ]
  },
  {
   "cell_type": "code",
   "execution_count": 4,
   "id": "b2c6349f",
   "metadata": {},
   "outputs": [],
   "source": [
    "class Stack:\n",
    "    def __init__(self):\n",
    "        self.stack_items = []\n",
    "        \n",
    "    def push(self,data):\n",
    "        self.stack_items.append(data)\n",
    "        return \"Data Added to stack.\"\n",
    "    \n",
    "    def pop(self):\n",
    "        if self.isEmpty():\n",
    "            return \"Stack is empty.\"\n",
    "        \n",
    "        return f\"Deleted {self.stack_items.pop()} from stack\"\n",
    "    \n",
    "    def isEmpty(self):\n",
    "        return len(self.stack_items) == 0\n",
    "    \n",
    "    def peek(self):\n",
    "        return self.stack_items[-1]\n",
    "    \n",
    "    def size(self):\n",
    "        return f\"Size of stack is : {len(self.stack_items)}\""
   ]
  },
  {
   "cell_type": "markdown",
   "id": "22886ee3",
   "metadata": {},
   "source": [
    "## Creating object for stack"
   ]
  },
  {
   "cell_type": "code",
   "execution_count": 5,
   "id": "1944b36c",
   "metadata": {},
   "outputs": [],
   "source": [
    "stack_obj = Stack()"
   ]
  },
  {
   "cell_type": "markdown",
   "id": "9f26184f",
   "metadata": {},
   "source": [
    "## Checking size of stack"
   ]
  },
  {
   "cell_type": "code",
   "execution_count": 6,
   "id": "cb944581",
   "metadata": {},
   "outputs": [
    {
     "data": {
      "text/plain": [
       "'Size of stack is : 0'"
      ]
     },
     "execution_count": 6,
     "metadata": {},
     "output_type": "execute_result"
    }
   ],
   "source": [
    "stack_obj.size()"
   ]
  },
  {
   "cell_type": "markdown",
   "id": "ecfd5b7c",
   "metadata": {},
   "source": [
    "## Adding data to stack"
   ]
  },
  {
   "cell_type": "code",
   "execution_count": 7,
   "id": "0ffa0107",
   "metadata": {},
   "outputs": [
    {
     "data": {
      "text/plain": [
       "'Data Added to stack.'"
      ]
     },
     "execution_count": 7,
     "metadata": {},
     "output_type": "execute_result"
    }
   ],
   "source": [
    "stack_obj.push(5)"
   ]
  },
  {
   "cell_type": "code",
   "execution_count": 8,
   "id": "7e8e5128",
   "metadata": {},
   "outputs": [
    {
     "data": {
      "text/plain": [
       "'Data Added to stack.'"
      ]
     },
     "execution_count": 8,
     "metadata": {},
     "output_type": "execute_result"
    }
   ],
   "source": [
    "stack_obj.push(1)"
   ]
  },
  {
   "cell_type": "code",
   "execution_count": 9,
   "id": "0048aa44",
   "metadata": {},
   "outputs": [
    {
     "data": {
      "text/plain": [
       "'Data Added to stack.'"
      ]
     },
     "execution_count": 9,
     "metadata": {},
     "output_type": "execute_result"
    }
   ],
   "source": [
    "stack_obj.push(4)"
   ]
  },
  {
   "cell_type": "code",
   "execution_count": 10,
   "id": "602f9723",
   "metadata": {},
   "outputs": [
    {
     "data": {
      "text/plain": [
       "'Data Added to stack.'"
      ]
     },
     "execution_count": 10,
     "metadata": {},
     "output_type": "execute_result"
    }
   ],
   "source": [
    "stack_obj.push(3)"
   ]
  },
  {
   "cell_type": "markdown",
   "id": "fd86d174",
   "metadata": {},
   "source": [
    "## Checking size "
   ]
  },
  {
   "cell_type": "code",
   "execution_count": 11,
   "id": "fdf7a314",
   "metadata": {},
   "outputs": [
    {
     "data": {
      "text/plain": [
       "'Size of stack is : 4'"
      ]
     },
     "execution_count": 11,
     "metadata": {},
     "output_type": "execute_result"
    }
   ],
   "source": [
    "stack_obj.size()"
   ]
  },
  {
   "cell_type": "markdown",
   "id": "d0c7f29b",
   "metadata": {},
   "source": [
    "## Checking value at top of stack"
   ]
  },
  {
   "cell_type": "code",
   "execution_count": 12,
   "id": "bb6e2f59",
   "metadata": {},
   "outputs": [
    {
     "data": {
      "text/plain": [
       "3"
      ]
     },
     "execution_count": 12,
     "metadata": {},
     "output_type": "execute_result"
    }
   ],
   "source": [
    "stack_obj.peek()"
   ]
  },
  {
   "cell_type": "markdown",
   "id": "279468e9",
   "metadata": {},
   "source": [
    "## Deleting data from stack"
   ]
  },
  {
   "cell_type": "code",
   "execution_count": 13,
   "id": "c4f3de86",
   "metadata": {},
   "outputs": [
    {
     "data": {
      "text/plain": [
       "'Deleted 3 from stack'"
      ]
     },
     "execution_count": 13,
     "metadata": {},
     "output_type": "execute_result"
    }
   ],
   "source": [
    "stack_obj.pop()"
   ]
  },
  {
   "cell_type": "code",
   "execution_count": 14,
   "id": "f34bea28",
   "metadata": {},
   "outputs": [
    {
     "name": "stdout",
     "output_type": "stream",
     "text": [
      "top of stack is : 4\n"
     ]
    }
   ],
   "source": [
    "print(f\"top of stack is : {stack_obj.peek()}\")"
   ]
  },
  {
   "cell_type": "code",
   "execution_count": 16,
   "id": "428f7cb4",
   "metadata": {},
   "outputs": [
    {
     "data": {
      "text/plain": [
       "'Size of stack is : 3'"
      ]
     },
     "execution_count": 16,
     "metadata": {},
     "output_type": "execute_result"
    }
   ],
   "source": [
    "stack_obj.size()"
   ]
  },
  {
   "cell_type": "markdown",
   "id": "5e05add1",
   "metadata": {},
   "source": [
    "# Queue"
   ]
  },
  {
   "cell_type": "markdown",
   "id": "748db96f",
   "metadata": {},
   "source": [
    "## **Definition:**\n",
    "- A queue is a linear data structure that follows the First In First Out (FIFO) principle.\n",
    "- Elements are added to the end (rear) and removed from the front.\n",
    "\n",
    "## **Operations:**\n",
    "1. **Enqueue**: Add an element to the rear of the queue.\n",
    "2. **Dequeue**: Remove an element from the front of the queue.\n",
    "3. **Front**: Get the front item from the queue without removing it.\n",
    "4. **Rear**: Get the last item from the queue without removing it.\n",
    "5. **IsEmpty**: Check if the queue is empty.\n",
    "6. **Size**: Get the number of elements in the queue.\n"
   ]
  },
  {
   "cell_type": "code",
   "execution_count": 1,
   "id": "dae5c1d9",
   "metadata": {},
   "outputs": [],
   "source": [
    "class Queue:\n",
    "    def __init__(self):\n",
    "        self.queue_items = []\n",
    "        \n",
    "    def enqueue(self,data):\n",
    "        self.queue_items.append(data)\n",
    "        return f\"Data Added successfully.\"\n",
    "    \n",
    "    def dequeue(self):\n",
    "        if self.isEmpty():\n",
    "            return \"Queue is empty\"\n",
    "        \n",
    "        return f\"Data deleted {self.queue_items.pop(0)}\"\n",
    "    \n",
    "    def front(self):\n",
    "        if self.isEmpty():\n",
    "            return \"Queue is empty\"\n",
    "        return f\"Value at front : {self.queue_items[0]}\"\n",
    "    \n",
    "    def rear(self):\n",
    "        if self.isEmpty():\n",
    "            return \"Queue is empty\"\n",
    "        return f\"Value at Rear : {self.queue_items[-1]}\"\n",
    "    \n",
    "    def isEmpty(self):\n",
    "        return len(self.queue_items)==0\n",
    "    \n",
    "    def size(self):\n",
    "        if self.isEmpty():\n",
    "            return \"Queue is empty.\"\n",
    "        return f\"Size of queue is : {len(self.queue_items)}\""
   ]
  },
  {
   "cell_type": "markdown",
   "id": "b97fa065",
   "metadata": {},
   "source": [
    "## Creating object for queue"
   ]
  },
  {
   "cell_type": "code",
   "execution_count": 2,
   "id": "cc386364",
   "metadata": {},
   "outputs": [],
   "source": [
    "q_obj = Queue()"
   ]
  },
  {
   "cell_type": "markdown",
   "id": "a2273a28",
   "metadata": {},
   "source": [
    "## Checking size of queue"
   ]
  },
  {
   "cell_type": "code",
   "execution_count": 3,
   "id": "c83a4a4f",
   "metadata": {},
   "outputs": [
    {
     "data": {
      "text/plain": [
       "'Queue is empty.'"
      ]
     },
     "execution_count": 3,
     "metadata": {},
     "output_type": "execute_result"
    }
   ],
   "source": [
    "q_obj.size()"
   ]
  },
  {
   "cell_type": "markdown",
   "id": "6f23328b",
   "metadata": {},
   "source": [
    "## Adding data to the queue"
   ]
  },
  {
   "cell_type": "code",
   "execution_count": 4,
   "id": "5b634c9f",
   "metadata": {},
   "outputs": [
    {
     "data": {
      "text/plain": [
       "'Data Added successfully.'"
      ]
     },
     "execution_count": 4,
     "metadata": {},
     "output_type": "execute_result"
    }
   ],
   "source": [
    "q_obj.enqueue(1)\n",
    "q_obj.enqueue(2)\n",
    "q_obj.enqueue(3)\n",
    "q_obj.enqueue(4)\n",
    "q_obj.enqueue(5)"
   ]
  },
  {
   "cell_type": "markdown",
   "id": "89354016",
   "metadata": {},
   "source": [
    "## Checking front and rear of queue"
   ]
  },
  {
   "cell_type": "code",
   "execution_count": 5,
   "id": "28fdda80",
   "metadata": {},
   "outputs": [
    {
     "data": {
      "text/plain": [
       "'Value at front : 1'"
      ]
     },
     "execution_count": 5,
     "metadata": {},
     "output_type": "execute_result"
    }
   ],
   "source": [
    "q_obj.front()"
   ]
  },
  {
   "cell_type": "code",
   "execution_count": 6,
   "id": "1edeccac",
   "metadata": {},
   "outputs": [
    {
     "data": {
      "text/plain": [
       "'Value at Rear : 5'"
      ]
     },
     "execution_count": 6,
     "metadata": {},
     "output_type": "execute_result"
    }
   ],
   "source": [
    "q_obj.rear()"
   ]
  },
  {
   "cell_type": "markdown",
   "id": "03198e6b",
   "metadata": {},
   "source": [
    "## Checking size of queue"
   ]
  },
  {
   "cell_type": "code",
   "execution_count": 7,
   "id": "83ccd64a",
   "metadata": {},
   "outputs": [
    {
     "data": {
      "text/plain": [
       "'Size of queue is : 5'"
      ]
     },
     "execution_count": 7,
     "metadata": {},
     "output_type": "execute_result"
    }
   ],
   "source": [
    "q_obj.size()"
   ]
  },
  {
   "cell_type": "markdown",
   "id": "d5beb9b7",
   "metadata": {},
   "source": [
    "## Deleting from queue"
   ]
  },
  {
   "cell_type": "code",
   "execution_count": 8,
   "id": "d361724b",
   "metadata": {},
   "outputs": [
    {
     "data": {
      "text/plain": [
       "'Data deleted 1'"
      ]
     },
     "execution_count": 8,
     "metadata": {},
     "output_type": "execute_result"
    }
   ],
   "source": [
    "q_obj.dequeue()"
   ]
  },
  {
   "cell_type": "code",
   "execution_count": 9,
   "id": "99496c3d",
   "metadata": {},
   "outputs": [
    {
     "data": {
      "text/plain": [
       "'Data deleted 2'"
      ]
     },
     "execution_count": 9,
     "metadata": {},
     "output_type": "execute_result"
    }
   ],
   "source": [
    "q_obj.dequeue()"
   ]
  },
  {
   "cell_type": "markdown",
   "id": "536b8bfe",
   "metadata": {},
   "source": [
    "## Now size"
   ]
  },
  {
   "cell_type": "code",
   "execution_count": 10,
   "id": "bf3fd2dc",
   "metadata": {},
   "outputs": [
    {
     "data": {
      "text/plain": [
       "'Size of queue is : 3'"
      ]
     },
     "execution_count": 10,
     "metadata": {},
     "output_type": "execute_result"
    }
   ],
   "source": [
    "q_obj.size()"
   ]
  },
  {
   "cell_type": "markdown",
   "id": "d05926c0",
   "metadata": {},
   "source": [
    "<div style=\"text-align: center;\"> <strong> Thank you! </strong> </div>"
   ]
  }
 ],
 "metadata": {
  "kernelspec": {
   "display_name": "Python 3 (ipykernel)",
   "language": "python",
   "name": "python3"
  },
  "language_info": {
   "codemirror_mode": {
    "name": "ipython",
    "version": 3
   },
   "file_extension": ".py",
   "mimetype": "text/x-python",
   "name": "python",
   "nbconvert_exporter": "python",
   "pygments_lexer": "ipython3",
   "version": "3.11.7"
  }
 },
 "nbformat": 4,
 "nbformat_minor": 5
}
