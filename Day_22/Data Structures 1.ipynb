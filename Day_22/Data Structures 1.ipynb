{
 "cells": [
  {
   "cell_type": "markdown",
   "metadata": {
    "vscode": {
     "languageId": "plaintext"
    }
   },
   "source": [
    "# Day 22\n",
    "\n",
    "**Practicing Python from Basics**"
   ]
  },
  {
   "cell_type": "markdown",
   "metadata": {
    "vscode": {
     "languageId": "plaintext"
    }
   },
   "source": [
    "# Arrays"
   ]
  },
  {
   "cell_type": "markdown",
   "metadata": {},
   "source": [
    "## 1. one dimensional array"
   ]
  },
  {
   "cell_type": "code",
   "execution_count": 1,
   "metadata": {},
   "outputs": [],
   "source": [
    "arr = [1, 2, 3, 4, 5]"
   ]
  },
  {
   "cell_type": "code",
   "execution_count": 3,
   "metadata": {},
   "outputs": [
    {
     "name": "stdout",
     "output_type": "stream",
     "text": [
      "1\n"
     ]
    }
   ],
   "source": [
    "first_element = arr[0]\n",
    "print(first_element)"
   ]
  },
  {
   "cell_type": "markdown",
   "metadata": {},
   "source": [
    "## 2. Multidimensional Array"
   ]
  },
  {
   "cell_type": "markdown",
   "metadata": {},
   "source": [
    "- array of array with same length is 2D arrays."
   ]
  },
  {
   "cell_type": "code",
   "execution_count": 4,
   "metadata": {},
   "outputs": [],
   "source": [
    "matrix = [[1, 2, 3], [4, 5, 6], [7, 8, 9]]"
   ]
  },
  {
   "cell_type": "code",
   "execution_count": 5,
   "metadata": {},
   "outputs": [
    {
     "name": "stdout",
     "output_type": "stream",
     "text": [
      "[1, 2, 3]\n"
     ]
    }
   ],
   "source": [
    "first_row = matrix[0]\n",
    "print(first_row)"
   ]
  },
  {
   "cell_type": "code",
   "execution_count": 8,
   "metadata": {},
   "outputs": [
    {
     "name": "stdout",
     "output_type": "stream",
     "text": [
      "[1, 2, 3]\n",
      "[4, 5, 6]\n",
      "[7, 8, 9]\n"
     ]
    }
   ],
   "source": [
    "# all rows\n",
    "for row in matrix:\n",
    "    print(row)"
   ]
  },
  {
   "cell_type": "markdown",
   "metadata": {},
   "source": [
    "## 3. Jagged arrays:"
   ]
  },
  {
   "cell_type": "markdown",
   "metadata": {},
   "source": [
    "- Arrays of arrays where the sub-arrays can have different lengths."
   ]
  },
  {
   "cell_type": "code",
   "execution_count": 6,
   "metadata": {},
   "outputs": [],
   "source": [
    "jagged = [[1, 2], [3, 4, 5], [6]]"
   ]
  },
  {
   "cell_type": "code",
   "execution_count": 7,
   "metadata": {},
   "outputs": [
    {
     "name": "stdout",
     "output_type": "stream",
     "text": [
      "[1, 2]\n",
      "[3, 4, 5]\n",
      "[6]\n"
     ]
    }
   ],
   "source": [
    "# elements from array\n",
    "for element in jagged:\n",
    "    print(element)"
   ]
  },
  {
   "cell_type": "markdown",
   "metadata": {},
   "source": [
    "## Array Exercises"
   ]
  },
  {
   "cell_type": "markdown",
   "metadata": {},
   "source": [
    "1. Create an array of 10 integers and print the array."
   ]
  },
  {
   "cell_type": "code",
   "execution_count": 12,
   "metadata": {},
   "outputs": [
    {
     "name": "stdout",
     "output_type": "stream",
     "text": [
      "Length of array is ::  10\n",
      "[1, 2, 3, 3, 4, 5, 10, 32, 12, 11]\n"
     ]
    }
   ],
   "source": [
    "array = [1,2,3,3,4,5,10,32,12,11]\n",
    "\n",
    "# length of array\n",
    "length = len(array)\n",
    "print('Length of array is :: ',length)\n",
    "\n",
    "# print array\n",
    "print(array)"
   ]
  },
  {
   "cell_type": "markdown",
   "metadata": {},
   "source": [
    "2. Find the maximum and minimum values in an array."
   ]
  },
  {
   "cell_type": "code",
   "execution_count": 13,
   "metadata": {},
   "outputs": [
    {
     "name": "stdout",
     "output_type": "stream",
     "text": [
      "Maximum : 32\n",
      "Minimum : 1\n"
     ]
    }
   ],
   "source": [
    "# maximum value of array\n",
    "maximum = max(array)\n",
    "print('Maximum :',maximum)\n",
    "\n",
    "# minimum value of array\n",
    "minimum = min(array)\n",
    "print('Minimum :',minimum)"
   ]
  },
  {
   "cell_type": "markdown",
   "metadata": {},
   "source": [
    "3. Implement a function to reverse an array."
   ]
  },
  {
   "cell_type": "code",
   "execution_count": 14,
   "metadata": {},
   "outputs": [
    {
     "name": "stdout",
     "output_type": "stream",
     "text": [
      "Original Array :  [1, 2, 3, 3, 4, 5, 10, 32, 12, 11]\n",
      "Reversed Array :  [11, 12, 32, 10, 5, 4, 3, 3, 2, 1]\n"
     ]
    }
   ],
   "source": [
    "def reverse_array(arr):\n",
    "    # using slicing to reverse array\n",
    "    reversed_arr = arr[::-1]\n",
    "    return reversed_arr\n",
    "\n",
    "# original array\n",
    "print(\"Original Array : \",array)\n",
    "\n",
    "# calling function to reverse array\n",
    "print(\"Reversed Array : \",reverse_array(array))"
   ]
  },
  {
   "cell_type": "markdown",
   "metadata": {},
   "source": [
    "# Linked Lists"
   ]
  },
  {
   "cell_type": "markdown",
   "metadata": {},
   "source": [
    "## Definition:\n",
    "- A linked list is a linear data structure where elements are stored in nodes.\n",
    "- Each node contains the data and a reference (link) to the next node in the sequence."
   ]
  },
  {
   "cell_type": "markdown",
   "metadata": {},
   "source": [
    "## Implementation"
   ]
  },
  {
   "cell_type": "code",
   "execution_count": 39,
   "metadata": {},
   "outputs": [],
   "source": [
    "# creating node class to hold linked list node value and next reference.\n",
    "class Node:\n",
    "    def __init__(self,data):\n",
    "        self.data = data\n",
    "        self.next = None\n",
    "\n",
    "class LinkedList:\n",
    "    def __init__(self):\n",
    "        self.head = None\n",
    "\n",
    "    def append(self,data):\n",
    "        # creating object for node\n",
    "        new_node = Node(data)\n",
    "\n",
    "        # checking if head has value of not\n",
    "        if not self.head:\n",
    "            self.head = new_node\n",
    "        \n",
    "        else:\n",
    "            last = self.head\n",
    "            while last.next:\n",
    "                last = last.next\n",
    "\n",
    "            last.next = new_node\n",
    "    \n",
    "    def display(self):\n",
    "        current = self.head\n",
    "        while current:\n",
    "            print(current.data, end='->')\n",
    "            current = current.next\n",
    "        print()"
   ]
  },
  {
   "cell_type": "code",
   "execution_count": 21,
   "metadata": {},
   "outputs": [],
   "source": [
    "# Adding values to linked list\n",
    "ll = LinkedList()\n",
    "\n",
    "ll.append(1)\n",
    "ll.append(2)\n",
    "ll.append(3)\n",
    "ll.append(4)\n",
    "ll.append(5)\n",
    "ll.append(6)\n",
    "ll.append(7)"
   ]
  },
  {
   "cell_type": "code",
   "execution_count": 22,
   "metadata": {},
   "outputs": [
    {
     "name": "stdout",
     "output_type": "stream",
     "text": [
      "1->2->3->4->5->6->7->\n"
     ]
    }
   ],
   "source": [
    "# displaying linked list\n",
    "ll.display()"
   ]
  },
  {
   "cell_type": "markdown",
   "metadata": {},
   "source": [
    "- Above implemention is also known as singly linked list.\n",
    "- Each node points to the next node, and the last node points to `None`.\n"
   ]
  },
  {
   "cell_type": "markdown",
   "metadata": {},
   "source": [
    "## Exercise"
   ]
  },
  {
   "cell_type": "markdown",
   "metadata": {},
   "source": [
    "1. Implement a function to find the length of a singly linked list."
   ]
  },
  {
   "cell_type": "code",
   "execution_count": 27,
   "metadata": {},
   "outputs": [
    {
     "name": "stdout",
     "output_type": "stream",
     "text": [
      "length of given linked list is :: 7\n"
     ]
    }
   ],
   "source": [
    "# definig function for calculating lenght of linked list\n",
    "def len_of_ll(ll_obj):\n",
    "\n",
    "    # creating temporary variable to traverse list.\n",
    "    current = ll_obj.head\n",
    "    length = 0\n",
    "\n",
    "    # while loop to traverse all list.\n",
    "    while current:\n",
    "        current = current.next\n",
    "        length += 1\n",
    "    return length\n",
    "\n",
    "# calling function with previously created object\n",
    "length = len_of_ll(ll)\n",
    "\n",
    "# printing result\n",
    "print(f\"length of given linked list is :: {length}\")"
   ]
  },
  {
   "cell_type": "markdown",
   "metadata": {},
   "source": [
    "2. Write a function to search a value linked list."
   ]
  },
  {
   "cell_type": "code",
   "execution_count": 34,
   "metadata": {},
   "outputs": [
    {
     "name": "stdout",
     "output_type": "stream",
     "text": [
      "search successful, Found at position 4\n"
     ]
    }
   ],
   "source": [
    "# defining function to search for given value in linked list\n",
    "def search_ll(ll_obj, data):\n",
    "    # temporary variable to traverse list\n",
    "    current = ll_obj.head\n",
    "    position = 0\n",
    "\n",
    "    # checking if data is at head node.\n",
    "    if current.data == data:\n",
    "        return f\"search successful, Found at position {position+1}\"\n",
    "    else:\n",
    "        while current:\n",
    "            position += 1\n",
    "            if current.data == data:\n",
    "                return f\"search successful, Found at position {position}\"\n",
    "            current = current.next\n",
    "\n",
    "\n",
    "#value to search\n",
    "search = 4\n",
    "\n",
    "# calling \n",
    "print(search_ll(ll,search))\n"
   ]
  },
  {
   "cell_type": "markdown",
   "metadata": {},
   "source": [
    "3. Create a function to delete a node from linked list."
   ]
  },
  {
   "cell_type": "code",
   "execution_count": 41,
   "metadata": {},
   "outputs": [],
   "source": [
    "def delete_node(ll_obj, data):\n",
    "    # creating temporary variable to hold head\n",
    "    temp = ll_obj.head\n",
    "    # message\n",
    "    msg = None\n",
    "\n",
    "    if temp.data == data:\n",
    "        ll_obj.head = temp.next\n",
    "        temp = None\n",
    "        return msg\n",
    "    \n",
    "    else:\n",
    "        # variable to hold previos node\n",
    "        prev = None\n",
    "\n",
    "        # searching the node \n",
    "        while temp:\n",
    "            if temp.data == data:\n",
    "                msg = \"Node Deleted Successfully.\"\n",
    "                break\n",
    "            prev = temp\n",
    "            temp = temp.next\n",
    "\n",
    "    # node not found\n",
    "    if temp is None:\n",
    "        return \"Node Not found!.\"\n",
    "    \n",
    "    # now deleting/ unlinking the node\n",
    "    prev.next = temp.next\n",
    "\n",
    "    # deleting temp\n",
    "    temp = None\n",
    "\n",
    "    # msg\n",
    "    return msg"
   ]
  },
  {
   "cell_type": "markdown",
   "metadata": {},
   "source": [
    "**Deletting**"
   ]
  },
  {
   "cell_type": "code",
   "execution_count": 38,
   "metadata": {},
   "outputs": [
    {
     "name": "stdout",
     "output_type": "stream",
     "text": [
      "Node Not found!.\n",
      "1->2->3->5->6->7->\n"
     ]
    }
   ],
   "source": [
    "# value of node to be deleted\n",
    "node_data = 4\n",
    "\n",
    "# calling to delete\n",
    "msg = delete_node(ll,node_data) # here ll is a previously created object of linked list class\n",
    "\n",
    "# message\n",
    "print(msg)\n",
    "\n",
    "# printing list to see\n",
    "ll.display()"
   ]
  },
  {
   "cell_type": "code",
   "execution_count": 40,
   "metadata": {},
   "outputs": [
    {
     "name": "stdout",
     "output_type": "stream",
     "text": [
      "None\n",
      "1->2->3->5->7->\n"
     ]
    }
   ],
   "source": [
    "# value of node to be deleted\n",
    "node_data = 6\n",
    "\n",
    "# calling to delete\n",
    "msg = delete_node(ll,node_data) # here ll is a previously created object of linked list class\n",
    "\n",
    "# message\n",
    "print(msg)\n",
    "\n",
    "# printing list to see\n",
    "ll.display()"
   ]
  },
  {
   "cell_type": "code",
   "execution_count": null,
   "metadata": {},
   "outputs": [],
   "source": [
    "# value of node to be deleted\n",
    "node_data = 2\n",
    "\n",
    "# calling to delete\n",
    "msg = delete_node(ll,node_data) # here ll is a previously created object of linked list class\n",
    "\n",
    "# message\n",
    "print(msg)\n",
    "\n",
    "# printing list to see\n",
    "ll.display()"
   ]
  }
 ],
 "metadata": {
  "kernelspec": {
   "display_name": "Python 3 (ipykernel)",
   "language": "python",
   "name": "python3"
  },
  "language_info": {
   "codemirror_mode": {
    "name": "ipython",
    "version": 3
   },
   "file_extension": ".py",
   "mimetype": "text/x-python",
   "name": "python",
   "nbconvert_exporter": "python",
   "pygments_lexer": "ipython3",
   "version": "3.11.7"
  }
 },
 "nbformat": 4,
 "nbformat_minor": 2
}
