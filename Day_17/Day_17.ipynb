{
 "cells": [
  {
   "cell_type": "markdown",
   "id": "940afd18",
   "metadata": {},
   "source": [
    "# Day 17 ( Lambda Function)\n",
    "\n",
    "**Practicing Python from Basics**"
   ]
  },
  {
   "cell_type": "markdown",
   "id": "18b32bf1",
   "metadata": {},
   "source": [
    "## Lambda Function\n",
    "\n",
    "- A lambda function is a small, anonymous function.\n",
    "\n",
    "- We can name lambda as a one line function also in my opinion.\n",
    "\n",
    "- A lambda function can accept any number of parameters but has only one expression."
   ]
  },
  {
   "cell_type": "markdown",
   "id": "6d4138fb",
   "metadata": {},
   "source": [
    "### Adding two numbers using lambda\n",
    "\n",
    "- Also there is no need to give `return` keyword. It automatically returns result of expression."
   ]
  },
  {
   "cell_type": "code",
   "execution_count": 1,
   "id": "505c75df",
   "metadata": {},
   "outputs": [
    {
     "name": "stdout",
     "output_type": "stream",
     "text": [
      "11\n"
     ]
    }
   ],
   "source": [
    "# defining lambda function to add\n",
    "add = lambda num1, num2: num1+num2\n",
    "\n",
    "# calling function\n",
    "res = add(5,6)\n",
    "\n",
    "# printing\n",
    "print(res)"
   ]
  },
  {
   "cell_type": "markdown",
   "id": "b4115fb1",
   "metadata": {},
   "source": [
    "### Adding a number to given argument"
   ]
  },
  {
   "cell_type": "code",
   "execution_count": 2,
   "id": "de664b86",
   "metadata": {},
   "outputs": [
    {
     "name": "stdout",
     "output_type": "stream",
     "text": [
      "18\n"
     ]
    }
   ],
   "source": [
    "# defining lambda function\n",
    "new_add = lambda arg: arg+10\n",
    "\n",
    "# calling function\n",
    "res = new_add(8)\n",
    "\n",
    "# printing\n",
    "print(res)"
   ]
  },
  {
   "cell_type": "markdown",
   "id": "b5ba88d7",
   "metadata": {},
   "source": [
    "### Adding Three numbers"
   ]
  },
  {
   "cell_type": "code",
   "execution_count": 3,
   "id": "14c7f13e",
   "metadata": {},
   "outputs": [
    {
     "name": "stdout",
     "output_type": "stream",
     "text": [
      "10\n"
     ]
    }
   ],
   "source": [
    "# defining lambda function \n",
    "add_three = lambda num1, num2, num3: num1+num2+num3\n",
    "\n",
    "# calling function\n",
    "res = add_three(2,3,5)\n",
    "\n",
    "# printing\n",
    "print(res)"
   ]
  },
  {
   "cell_type": "markdown",
   "id": "40a024d7",
   "metadata": {},
   "source": [
    "### Using Lambda Inside another function\n",
    "\n",
    "- It is the true use of lambda function.\n",
    "- Because it will act like anonymous function inside another function."
   ]
  },
  {
   "cell_type": "markdown",
   "id": "6582f660",
   "metadata": {},
   "source": [
    "#### Creating function which multiply with unknown number"
   ]
  },
  {
   "cell_type": "code",
   "execution_count": 4,
   "id": "8bebe965",
   "metadata": {},
   "outputs": [
    {
     "name": "stdout",
     "output_type": "stream",
     "text": [
      "48\n"
     ]
    }
   ],
   "source": [
    "# creating function\n",
    "def multi_func(n):\n",
    "    return lambda arg : arg*n\n",
    "\n",
    "# creating a function to double the number\n",
    "double = multi_func(2)\n",
    "\n",
    "# calling double function to double any number\n",
    "res = double(24)\n",
    "\n",
    "# printing\n",
    "print(res)"
   ]
  },
  {
   "cell_type": "code",
   "execution_count": 5,
   "id": "e7504765",
   "metadata": {},
   "outputs": [
    {
     "name": "stdout",
     "output_type": "stream",
     "text": [
      "36\n"
     ]
    }
   ],
   "source": [
    "# creating a function to triple the number\n",
    "triple = multi_func(3)\n",
    "\n",
    "# calling tripple function to triple any number\n",
    "res = triple(12)\n",
    "\n",
    "# printing\n",
    "print(res)"
   ]
  },
  {
   "cell_type": "markdown",
   "id": "e9d54bd9",
   "metadata": {},
   "source": [
    "## Using map() with lambda\n",
    "\n",
    "- The map() function executes a specified function for each item in an iterable. The item is sent to the function as a parameter."
   ]
  },
  {
   "cell_type": "markdown",
   "id": "d921d3e7",
   "metadata": {},
   "source": [
    "### Using normal function"
   ]
  },
  {
   "cell_type": "code",
   "execution_count": 6,
   "id": "453e1d9b",
   "metadata": {},
   "outputs": [
    {
     "name": "stdout",
     "output_type": "stream",
     "text": [
      "[2, 4, 6, 8]\n"
     ]
    }
   ],
   "source": [
    "# doubling the numbers in list\n",
    "lst = [1,2,3,4]\n",
    "\n",
    "# defining the function\n",
    "def add_func(x):\n",
    "    return x+x\n",
    "\n",
    "# using map\n",
    "res = list(map(add_func, lst)) # map() returns object so we have to convert it into list\n",
    "\n",
    "# printing\n",
    "print(res) "
   ]
  },
  {
   "cell_type": "markdown",
   "id": "03b477bb",
   "metadata": {},
   "source": [
    "### Using lambda function"
   ]
  },
  {
   "cell_type": "code",
   "execution_count": 7,
   "id": "641fee02",
   "metadata": {},
   "outputs": [
    {
     "name": "stdout",
     "output_type": "stream",
     "text": [
      "[2, 4, 6, 8]\n"
     ]
    }
   ],
   "source": [
    "# list\n",
    "lst = [1,2,3,4]\n",
    "\n",
    "# direct result\n",
    "res = list(map(lambda x:x+x, lst))\n",
    "\n",
    "# printing\n",
    "print(res)"
   ]
  },
  {
   "cell_type": "markdown",
   "id": "3f7df47d",
   "metadata": {},
   "source": [
    "### Adding numbers from two list using map() and lambda"
   ]
  },
  {
   "cell_type": "code",
   "execution_count": 8,
   "id": "5af4b6fc",
   "metadata": {},
   "outputs": [
    {
     "name": "stdout",
     "output_type": "stream",
     "text": [
      "[5, 5, 5, 5]\n"
     ]
    }
   ],
   "source": [
    "# lists\n",
    "lst1 = [1,2,3,4]\n",
    "lst2 = [4,3,2,1]\n",
    "\n",
    "# using map() and lambda\n",
    "res = map(lambda x, y: x+y, lst1, lst2)\n",
    "\n",
    "# printing\n",
    "print(list(res))"
   ]
  },
  {
   "cell_type": "markdown",
   "id": "b19f4460",
   "metadata": {},
   "source": [
    "## using filter() with lambda\n",
    "- filter() method returns iterable after applying function to given iterable (list, tuple, etc.)"
   ]
  },
  {
   "cell_type": "markdown",
   "id": "5ba88f51",
   "metadata": {},
   "source": [
    "### Function to filter out even numbers from list"
   ]
  },
  {
   "cell_type": "code",
   "execution_count": 9,
   "id": "1d1e004e",
   "metadata": {},
   "outputs": [
    {
     "name": "stdout",
     "output_type": "stream",
     "text": [
      "[1, 3, 5, 7, 9, 11]\n"
     ]
    }
   ],
   "source": [
    "# list\n",
    "lst = [1,2,3,4,5,6,7,8,9,10,11,12]\n",
    "\n",
    "# creating lambda function for even\n",
    "odd = lambda arg: arg%2!=0\n",
    "\n",
    "# using filter()\n",
    "odds = filter(odd,lst) # it returns filter object so we have to convert it into list\n",
    "\n",
    "# printing\n",
    "print(list(odds))"
   ]
  },
  {
   "cell_type": "markdown",
   "id": "06fd4cfa",
   "metadata": {},
   "source": [
    "## Sorting using lambda"
   ]
  },
  {
   "cell_type": "code",
   "execution_count": 10,
   "id": "5d262c57",
   "metadata": {},
   "outputs": [
    {
     "name": "stdout",
     "output_type": "stream",
     "text": [
      "Original : [('Engineer', 3), ('Doctor', 2), ('Teacher', 1), ('Actor', 5), ('Sportsman', 4)]\n",
      "Sorted : [('Teacher', 1), ('Doctor', 2), ('Engineer', 3), ('Sportsman', 4), ('Actor', 5)]\n"
     ]
    }
   ],
   "source": [
    "# list\n",
    "lst = [('Engineer',3),('Doctor',2),('Teacher',1),('Actor',5),('Sportsman',4)]\n",
    "\n",
    "# sort above list on the basis of second elemnt from tuple inside list\n",
    "\n",
    "# sorting\n",
    "sorted_list = sorted(lst, key = lambda tup:tup[1])\n",
    "\n",
    "# original list\n",
    "print(f\"Original : {lst}\")\n",
    "\n",
    "# sorted list\n",
    "print(f\"Sorted : {sorted_list}\")"
   ]
  },
  {
   "cell_type": "markdown",
   "id": "53356366",
   "metadata": {},
   "source": [
    "## Conditionals in lambda"
   ]
  },
  {
   "cell_type": "code",
   "execution_count": 11,
   "id": "c1906f4b",
   "metadata": {},
   "outputs": [
    {
     "name": "stdout",
     "output_type": "stream",
     "text": [
      "Result 1 : 54\n",
      "Result 2 : 43\n"
     ]
    }
   ],
   "source": [
    "# lambda function for maximum value using conditionals\n",
    "max_value = lambda val1, val2: val1 if val1>val2 else val2\n",
    "\n",
    "# calling\n",
    "res1 = max_value(54,23)\n",
    "res2 = max_value(34,43)\n",
    "\n",
    "# printing\n",
    "print(f\"Result 1 : {res1}\")\n",
    "print(f\"Result 2 : {res2}\")"
   ]
  },
  {
   "cell_type": "markdown",
   "id": "2bc0c2dc",
   "metadata": {},
   "source": [
    "## Nested lambda function\n",
    "- we can use lambda function inside lambda."
   ]
  },
  {
   "cell_type": "code",
   "execution_count": 12,
   "id": "20ae903c",
   "metadata": {},
   "outputs": [
    {
     "name": "stdout",
     "output_type": "stream",
     "text": [
      "20\n"
     ]
    }
   ],
   "source": [
    "# creating function to multiplyt with any\n",
    "multi = lambda arg: lambda in_arg: in_arg*arg\n",
    "\n",
    "# function to multiply by 5\n",
    "multi_5 = multi(5)\n",
    "\n",
    "# calling multi_5() it can multiply any number with 5\n",
    "result = multi_5(4)\n",
    "\n",
    "# printing\n",
    "print(result)"
   ]
  },
  {
   "cell_type": "markdown",
   "id": "b692a130",
   "metadata": {},
   "source": [
    "## Passing lambda as an argument to another function"
   ]
  },
  {
   "cell_type": "code",
   "execution_count": 13,
   "id": "235d9eac",
   "metadata": {},
   "outputs": [
    {
     "name": "stdout",
     "output_type": "stream",
     "text": [
      "[1, 8, 27, 64, 125]\n"
     ]
    }
   ],
   "source": [
    "# defining function to apply lambda to list\n",
    "def apply_any(func, iterable):\n",
    "    # using list comprehension to use lambda on list\n",
    "    it1 = [func(x) for x in iterable]\n",
    "    return it1\n",
    "\n",
    "# list\n",
    "lst = [1,2,3,4,5]\n",
    "\n",
    "# applying function\n",
    "result = apply_any(lambda x: x**3, lst) # this lambda calculates cube of any number given to it\n",
    "\n",
    "# printing\n",
    "print(result)"
   ]
  }
 ],
 "metadata": {
  "kernelspec": {
   "display_name": "Python 3 (ipykernel)",
   "language": "python",
   "name": "python3"
  },
  "language_info": {
   "codemirror_mode": {
    "name": "ipython",
    "version": 3
   },
   "file_extension": ".py",
   "mimetype": "text/x-python",
   "name": "python",
   "nbconvert_exporter": "python",
   "pygments_lexer": "ipython3",
   "version": "3.11.7"
  }
 },
 "nbformat": 4,
 "nbformat_minor": 5
}
